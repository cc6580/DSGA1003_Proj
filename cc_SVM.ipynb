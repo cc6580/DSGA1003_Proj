{
  "nbformat": 4,
  "nbformat_minor": 0,
  "metadata": {
    "kernelspec": {
      "display_name": "Python 3",
      "language": "python",
      "name": "python3"
    },
    "language_info": {
      "codemirror_mode": {
        "name": "ipython",
        "version": 3
      },
      "file_extension": ".py",
      "mimetype": "text/x-python",
      "name": "python",
      "nbconvert_exporter": "python",
      "pygments_lexer": "ipython3",
      "version": "3.7.4"
    },
    "colab": {
      "name": "cc_SVM.ipynb",
      "provenance": [],
      "collapsed_sections": [],
      "toc_visible": true
    }
  },
  "cells": [
    {
      "cell_type": "code",
      "metadata": {
        "id": "aVgpIdSR4mge",
        "colab_type": "code",
        "outputId": "9f18e66d-8768-49c6-f844-76763fd8aed3",
        "colab": {
          "base_uri": "https://localhost:8080/",
          "height": 122
        }
      },
      "source": [
        "from google.colab import drive\n",
        "drive.mount('/content/drive')"
      ],
      "execution_count": 1,
      "outputs": [
        {
          "output_type": "stream",
          "text": [
            "Go to this URL in a browser: https://accounts.google.com/o/oauth2/auth?client_id=947318989803-6bn6qk8qdgf4n4g3pfee6491hc0brc4i.apps.googleusercontent.com&redirect_uri=urn%3aietf%3awg%3aoauth%3a2.0%3aoob&response_type=code&scope=email%20https%3a%2f%2fwww.googleapis.com%2fauth%2fdocs.test%20https%3a%2f%2fwww.googleapis.com%2fauth%2fdrive%20https%3a%2f%2fwww.googleapis.com%2fauth%2fdrive.photos.readonly%20https%3a%2f%2fwww.googleapis.com%2fauth%2fpeopleapi.readonly\n",
            "\n",
            "Enter your authorization code:\n",
            "··········\n",
            "Mounted at /content/drive\n"
          ],
          "name": "stdout"
        }
      ]
    },
    {
      "cell_type": "code",
      "metadata": {
        "id": "himCzV8M4kiM",
        "colab_type": "code",
        "colab": {}
      },
      "source": [
        "import os.path\n",
        "import numpy as np\n",
        "import pandas as pd\n",
        "import matplotlib.pyplot as plt\n",
        "from scipy import sparse"
      ],
      "execution_count": 0,
      "outputs": []
    },
    {
      "cell_type": "markdown",
      "metadata": {
        "id": "jnB6odKe4kic",
        "colab_type": "text"
      },
      "source": [
        "# load preprocessed data"
      ]
    },
    {
      "cell_type": "code",
      "metadata": {
        "id": "jr5yfBo34kie",
        "colab_type": "code",
        "colab": {}
      },
      "source": [
        "# load pre-processed data\n",
        "# replace with local file-path if you're running on local python shell\n",
        "train_X= pd.read_csv('/content/drive/My Drive/1003 project/train_X.csv')\n",
        "train_y= pd.read_csv('/content/drive/My Drive/1003 project/train_y.csv')\n",
        "val_X = pd.read_csv('/content/drive/My Drive/1003 project/val_X.csv')\n",
        "val_y = pd.read_csv('/content/drive/My Drive/1003 project/val_y.csv')"
      ],
      "execution_count": 0,
      "outputs": []
    },
    {
      "cell_type": "code",
      "metadata": {
        "id": "EMcJCc4N4kip",
        "colab_type": "code",
        "outputId": "c62e2b42-c282-4a4e-8fde-3314d3888853",
        "colab": {
          "base_uri": "https://localhost:8080/",
          "height": 204
        }
      },
      "source": [
        "train_X.head()"
      ],
      "execution_count": 4,
      "outputs": [
        {
          "output_type": "execute_result",
          "data": {
            "text/html": [
              "<div>\n",
              "<style scoped>\n",
              "    .dataframe tbody tr th:only-of-type {\n",
              "        vertical-align: middle;\n",
              "    }\n",
              "\n",
              "    .dataframe tbody tr th {\n",
              "        vertical-align: top;\n",
              "    }\n",
              "\n",
              "    .dataframe thead th {\n",
              "        text-align: right;\n",
              "    }\n",
              "</style>\n",
              "<table border=\"1\" class=\"dataframe\">\n",
              "  <thead>\n",
              "    <tr style=\"text-align: right;\">\n",
              "      <th></th>\n",
              "      <th>ex_id</th>\n",
              "      <th>user_id</th>\n",
              "      <th>prod_id</th>\n",
              "      <th>rating</th>\n",
              "      <th>date</th>\n",
              "      <th>review</th>\n",
              "      <th>cleaned review</th>\n",
              "    </tr>\n",
              "  </thead>\n",
              "  <tbody>\n",
              "    <tr>\n",
              "      <th>0</th>\n",
              "      <td>0</td>\n",
              "      <td>923</td>\n",
              "      <td>0</td>\n",
              "      <td>3.0</td>\n",
              "      <td>2014-12-08</td>\n",
              "      <td>The food at snack is a selection of popular Gr...</td>\n",
              "      <td>b'the food snack select popular greek dish the...</td>\n",
              "    </tr>\n",
              "    <tr>\n",
              "      <th>1</th>\n",
              "      <td>1</td>\n",
              "      <td>924</td>\n",
              "      <td>0</td>\n",
              "      <td>3.0</td>\n",
              "      <td>2013-05-16</td>\n",
              "      <td>This little place in Soho is wonderful. I had ...</td>\n",
              "      <td>b'this littl place soho wonder lamb sandwich g...</td>\n",
              "    </tr>\n",
              "    <tr>\n",
              "      <th>2</th>\n",
              "      <td>2</td>\n",
              "      <td>925</td>\n",
              "      <td>0</td>\n",
              "      <td>4.0</td>\n",
              "      <td>2013-07-01</td>\n",
              "      <td>ordered lunch for 15 from Snack last Friday.  ...</td>\n",
              "      <td>b'order lunch snack last friday time noth miss...</td>\n",
              "    </tr>\n",
              "    <tr>\n",
              "      <th>3</th>\n",
              "      <td>3</td>\n",
              "      <td>926</td>\n",
              "      <td>0</td>\n",
              "      <td>4.0</td>\n",
              "      <td>2011-07-28</td>\n",
              "      <td>This is a beautiful quaint little restaurant o...</td>\n",
              "      <td>b'this beauti quaint littl restaur pretti stre...</td>\n",
              "    </tr>\n",
              "    <tr>\n",
              "      <th>4</th>\n",
              "      <td>4</td>\n",
              "      <td>927</td>\n",
              "      <td>0</td>\n",
              "      <td>4.0</td>\n",
              "      <td>2010-11-01</td>\n",
              "      <td>Snack is great place for a  casual sit down lu...</td>\n",
              "      <td>b'snack great place casual sit especi cold win...</td>\n",
              "    </tr>\n",
              "  </tbody>\n",
              "</table>\n",
              "</div>"
            ],
            "text/plain": [
              "   ex_id  ...                                     cleaned review\n",
              "0      0  ...  b'the food snack select popular greek dish the...\n",
              "1      1  ...  b'this littl place soho wonder lamb sandwich g...\n",
              "2      2  ...  b'order lunch snack last friday time noth miss...\n",
              "3      3  ...  b'this beauti quaint littl restaur pretti stre...\n",
              "4      4  ...  b'snack great place casual sit especi cold win...\n",
              "\n",
              "[5 rows x 7 columns]"
            ]
          },
          "metadata": {
            "tags": []
          },
          "execution_count": 4
        }
      ]
    },
    {
      "cell_type": "markdown",
      "metadata": {
        "id": "r1gJ6d4_4kiw",
        "colab_type": "raw"
      },
      "source": [
        "Note that right now, the cleaned reviews are byte strings instead of normal strings, hence the b' ' enclosing the string."
      ]
    },
    {
      "cell_type": "code",
      "metadata": {
        "id": "3bFd6yZr4kix",
        "colab_type": "code",
        "colab": {}
      },
      "source": [
        "#add new features: text length and word length. These are probably be useful\n",
        "train_X['text length'] = train_X['review'].apply(len)\n",
        "train_X['word length'] = train_X['review'].apply(lambda x: len(x.split(\" \"))) \n",
        "\n",
        "val_X['text length'] = val_X['review'].apply(len)\n",
        "val_X['word length'] = val_X['review'].apply(lambda x: len(x.split(\" \")))\n",
        "\n",
        "# text length: the number of characters (including white spaces) in the string\n",
        "# word length: the number of words in the string"
      ],
      "execution_count": 0,
      "outputs": []
    },
    {
      "cell_type": "code",
      "metadata": {
        "id": "rrN-w8uT5Dpq",
        "colab_type": "code",
        "outputId": "9e4b50e3-fc20-4b1f-d838-36cf44306d3e",
        "colab": {
          "base_uri": "https://localhost:8080/",
          "height": 306
        }
      },
      "source": [
        "train_X.head()"
      ],
      "execution_count": 6,
      "outputs": [
        {
          "output_type": "execute_result",
          "data": {
            "text/html": [
              "<div>\n",
              "<style scoped>\n",
              "    .dataframe tbody tr th:only-of-type {\n",
              "        vertical-align: middle;\n",
              "    }\n",
              "\n",
              "    .dataframe tbody tr th {\n",
              "        vertical-align: top;\n",
              "    }\n",
              "\n",
              "    .dataframe thead th {\n",
              "        text-align: right;\n",
              "    }\n",
              "</style>\n",
              "<table border=\"1\" class=\"dataframe\">\n",
              "  <thead>\n",
              "    <tr style=\"text-align: right;\">\n",
              "      <th></th>\n",
              "      <th>ex_id</th>\n",
              "      <th>user_id</th>\n",
              "      <th>prod_id</th>\n",
              "      <th>rating</th>\n",
              "      <th>date</th>\n",
              "      <th>review</th>\n",
              "      <th>cleaned review</th>\n",
              "      <th>text length</th>\n",
              "      <th>word length</th>\n",
              "    </tr>\n",
              "  </thead>\n",
              "  <tbody>\n",
              "    <tr>\n",
              "      <th>0</th>\n",
              "      <td>0</td>\n",
              "      <td>923</td>\n",
              "      <td>0</td>\n",
              "      <td>3.0</td>\n",
              "      <td>2014-12-08</td>\n",
              "      <td>The food at snack is a selection of popular Gr...</td>\n",
              "      <td>b'the food snack select popular greek dish the...</td>\n",
              "      <td>215</td>\n",
              "      <td>40</td>\n",
              "    </tr>\n",
              "    <tr>\n",
              "      <th>1</th>\n",
              "      <td>1</td>\n",
              "      <td>924</td>\n",
              "      <td>0</td>\n",
              "      <td>3.0</td>\n",
              "      <td>2013-05-16</td>\n",
              "      <td>This little place in Soho is wonderful. I had ...</td>\n",
              "      <td>b'this littl place soho wonder lamb sandwich g...</td>\n",
              "      <td>269</td>\n",
              "      <td>52</td>\n",
              "    </tr>\n",
              "    <tr>\n",
              "      <th>2</th>\n",
              "      <td>2</td>\n",
              "      <td>925</td>\n",
              "      <td>0</td>\n",
              "      <td>4.0</td>\n",
              "      <td>2013-07-01</td>\n",
              "      <td>ordered lunch for 15 from Snack last Friday.  ...</td>\n",
              "      <td>b'order lunch snack last friday time noth miss...</td>\n",
              "      <td>178</td>\n",
              "      <td>32</td>\n",
              "    </tr>\n",
              "    <tr>\n",
              "      <th>3</th>\n",
              "      <td>3</td>\n",
              "      <td>926</td>\n",
              "      <td>0</td>\n",
              "      <td>4.0</td>\n",
              "      <td>2011-07-28</td>\n",
              "      <td>This is a beautiful quaint little restaurant o...</td>\n",
              "      <td>b'this beauti quaint littl restaur pretti stre...</td>\n",
              "      <td>491</td>\n",
              "      <td>90</td>\n",
              "    </tr>\n",
              "    <tr>\n",
              "      <th>4</th>\n",
              "      <td>4</td>\n",
              "      <td>927</td>\n",
              "      <td>0</td>\n",
              "      <td>4.0</td>\n",
              "      <td>2010-11-01</td>\n",
              "      <td>Snack is great place for a  casual sit down lu...</td>\n",
              "      <td>b'snack great place casual sit especi cold win...</td>\n",
              "      <td>596</td>\n",
              "      <td>102</td>\n",
              "    </tr>\n",
              "  </tbody>\n",
              "</table>\n",
              "</div>"
            ],
            "text/plain": [
              "   ex_id  user_id  ...  text length  word length\n",
              "0      0      923  ...          215           40\n",
              "1      1      924  ...          269           52\n",
              "2      2      925  ...          178           32\n",
              "3      3      926  ...          491           90\n",
              "4      4      927  ...          596          102\n",
              "\n",
              "[5 rows x 9 columns]"
            ]
          },
          "metadata": {
            "tags": []
          },
          "execution_count": 6
        }
      ]
    },
    {
      "cell_type": "code",
      "metadata": {
        "id": "rXVBARaiAoe9",
        "colab_type": "code",
        "outputId": "1f6c844e-6b00-435f-c271-e92f74715feb",
        "colab": {
          "base_uri": "https://localhost:8080/",
          "height": 34
        }
      },
      "source": [
        "val_X.shape"
      ],
      "execution_count": 7,
      "outputs": [
        {
          "output_type": "execute_result",
          "data": {
            "text/plain": [
              "(35918, 9)"
            ]
          },
          "metadata": {
            "tags": []
          },
          "execution_count": 7
        }
      ]
    },
    {
      "cell_type": "markdown",
      "metadata": {
        "id": "TjwstAFs4ki4",
        "colab_type": "text"
      },
      "source": [
        "# upsample fake reviews to deal with class imbalance and improve model learning accuracy"
      ]
    },
    {
      "cell_type": "code",
      "metadata": {
        "id": "X40hmA-O4ki_",
        "colab_type": "code",
        "outputId": "a1d10186-831e-41ee-e974-ee2f4935051a",
        "colab": {
          "base_uri": "https://localhost:8080/",
          "height": 105
        }
      },
      "source": [
        "from imblearn.over_sampling import RandomOverSampler"
      ],
      "execution_count": 8,
      "outputs": [
        {
          "output_type": "stream",
          "text": [
            "/usr/local/lib/python3.6/dist-packages/sklearn/externals/six.py:31: FutureWarning: The module is deprecated in version 0.21 and will be removed in version 0.23 since we've dropped support for Python 2.7. Please rely on the official version of six (https://pypi.org/project/six/).\n",
            "  \"(https://pypi.org/project/six/).\", FutureWarning)\n",
            "/usr/local/lib/python3.6/dist-packages/sklearn/utils/deprecation.py:144: FutureWarning: The sklearn.neighbors.base module is  deprecated in version 0.22 and will be removed in version 0.24. The corresponding classes / functions should instead be imported from sklearn.neighbors. Anything that cannot be imported from sklearn.neighbors is now part of the private API.\n",
            "  warnings.warn(message, FutureWarning)\n"
          ],
          "name": "stderr"
        }
      ]
    },
    {
      "cell_type": "code",
      "metadata": {
        "id": "fV5PuJ0S5MRm",
        "colab_type": "code",
        "colab": {}
      },
      "source": [
        "# create a raondom sampler object from the class\n",
        "ros = RandomOverSampler()"
      ],
      "execution_count": 0,
      "outputs": []
    },
    {
      "cell_type": "code",
      "metadata": {
        "id": "Sqw4RzX35wD6",
        "colab_type": "code",
        "outputId": "3548610b-d7b1-4d79-f95c-1c263f299b10",
        "colab": {
          "base_uri": "https://localhost:8080/",
          "height": 105
        }
      },
      "source": [
        "# create re-sampled data from the original data\n",
        "# The augmented data set should be used instead of the original data set to train a classifier\n",
        "train_X_ros, train_y_ros = ros.fit_sample(train_X, train_y)"
      ],
      "execution_count": 10,
      "outputs": [
        {
          "output_type": "stream",
          "text": [
            "/usr/local/lib/python3.6/dist-packages/sklearn/utils/validation.py:760: DataConversionWarning: A column-vector y was passed when a 1d array was expected. Please change the shape of y to (n_samples, ), for example using ravel().\n",
            "  y = column_or_1d(y, warn=True)\n",
            "/usr/local/lib/python3.6/dist-packages/sklearn/utils/deprecation.py:87: FutureWarning: Function safe_indexing is deprecated; safe_indexing is deprecated in version 0.22 and will be removed in version 0.24.\n",
            "  warnings.warn(msg, category=FutureWarning)\n"
          ],
          "name": "stderr"
        }
      ]
    },
    {
      "cell_type": "code",
      "metadata": {
        "id": "zMlwxuG06iNu",
        "colab_type": "code",
        "colab": {}
      },
      "source": [
        "# on local python shell, the trian_X_ros after oversampling is still DataFrame\n",
        "# But on colab version it turned to array, so we need to change it back to a pd.df\n",
        "train_X_ros = pd.DataFrame(train_X_ros, columns = ['ex_id','user_id','prod_id','rating','date','review','cleaned review','text length','word length'])\n",
        "train_y_ros = pd.DataFrame(train_y_ros, columns = ['label'])"
      ],
      "execution_count": 0,
      "outputs": []
    },
    {
      "cell_type": "code",
      "metadata": {
        "id": "z4G-GQwi6OdO",
        "colab_type": "code",
        "outputId": "246ee92b-01c2-4479-bfbf-ce527e18c250",
        "colab": {
          "base_uri": "https://localhost:8080/",
          "height": 102
        }
      },
      "source": [
        "print('pre-upsampling genuine cases: ',train_y[train_y['label'] == 0].shape[0])\n",
        "print('post-upsampling genuine cases: ',train_y_ros[train_y_ros['label'] == 0].shape[0])\n",
        "print()\n",
        "print('pre-upsampling fake cases: ',train_y[train_y['label'] == 1].shape[0])\n",
        "print('post-upsampling fake cases: ',train_y_ros[train_y_ros['label'] == 1].shape[0])"
      ],
      "execution_count": 12,
      "outputs": [
        {
          "output_type": "stream",
          "text": [
            "pre-upsampling genuine cases:  225055\n",
            "post-upsampling genuine cases:  225055\n",
            "\n",
            "pre-upsampling fake cases:  25819\n",
            "post-upsampling fake cases:  225055\n"
          ],
          "name": "stdout"
        }
      ]
    },
    {
      "cell_type": "markdown",
      "metadata": {
        "id": "DC6Ii70j6Ry9",
        "colab_type": "text"
      },
      "source": [
        "now, the number of fake reviews is the same as the number of genuine reviews. We have fixed the class-imbalance issue."
      ]
    },
    {
      "cell_type": "markdown",
      "metadata": {
        "id": "qJh0e-9e7esx",
        "colab_type": "text"
      },
      "source": [
        "# Text to vector conversion"
      ]
    },
    {
      "cell_type": "markdown",
      "metadata": {
        "id": "8938KbERCAEj",
        "colab_type": "text"
      },
      "source": [
        "## bag of words"
      ]
    },
    {
      "cell_type": "markdown",
      "metadata": {
        "id": "fO0aZPJu7qjM",
        "colab_type": "text"
      },
      "source": [
        "Bag of Words basically creates a dictionary of `d` words (this is not a python dictionary) where `d` is the number of unique words in our text corpus. It then creates `d` dimensional vectors (consider it an array of length `d`) for each document (review) in our corpus (total set of reviews) and each dimension (cell) has value equal to number of times the corresponding word has occurred in that particular document (review)."
      ]
    },
    {
      "cell_type": "code",
      "metadata": {
        "id": "w9yerwe28DmZ",
        "colab_type": "code",
        "colab": {}
      },
      "source": [
        "from sklearn.feature_extraction.text import CountVectorizer"
      ],
      "execution_count": 0,
      "outputs": []
    },
    {
      "cell_type": "code",
      "metadata": {
        "id": "byoOKgic8uLk",
        "colab_type": "code",
        "colab": {}
      },
      "source": [
        "# create an object from class\n",
        "# by default, CountVectorizer uses ’utf-8’ as the encoding to decode byte texts, which is the encoding used in our processed text\n",
        "count_vect = CountVectorizer()\n",
        "\n",
        "# learn (fit) the vocab dictionry and vetorize (transform) each review\n",
        "BoW_train_X = count_vect.fit_transform(train_X_ros['cleaned review'])\n",
        "# this returns a sparse matrix where each row represent a review\n",
        "# this is no longer a dataframe!"
      ],
      "execution_count": 0,
      "outputs": []
    },
    {
      "cell_type": "code",
      "metadata": {
        "id": "5YqnQjdh-mjk",
        "colab_type": "code",
        "outputId": "42cb5d58-91fb-4fd8-dc38-b698efabf904",
        "colab": {
          "base_uri": "https://localhost:8080/",
          "height": 51
        }
      },
      "source": [
        "BoW_train_X"
      ],
      "execution_count": 26,
      "outputs": [
        {
          "output_type": "execute_result",
          "data": {
            "text/plain": [
              "<450110x73944 sparse matrix of type '<class 'numpy.int64'>'\n",
              "\twith 19946148 stored elements in Compressed Sparse Row format>"
            ]
          },
          "metadata": {
            "tags": []
          },
          "execution_count": 26
        }
      ]
    },
    {
      "cell_type": "markdown",
      "metadata": {
        "id": "fSFX6Ra78xl7",
        "colab_type": "text"
      },
      "source": [
        "We can see that the matrix has the number of reviews as rows and 73944 unique words in all reviews"
      ]
    },
    {
      "cell_type": "markdown",
      "metadata": {
        "id": "ZzH_tcXj_Hq3",
        "colab_type": "text"
      },
      "source": [
        "we also have to trasnform our validation set\n",
        "but be careful, we cannot train the vectorizer on the validation set, because after training, our model only knows how to classify inputs that has the same # of features. So if we had fit our vectorizer on the validation set, it might result in a matrix with different numbers of features."
      ]
    },
    {
      "cell_type": "code",
      "metadata": {
        "id": "SSIIsLMk_0an",
        "colab_type": "code",
        "colab": {}
      },
      "source": [
        "BoW_val_X = count_vect.transform(val_X['cleaned review'])"
      ],
      "execution_count": 0,
      "outputs": []
    },
    {
      "cell_type": "code",
      "metadata": {
        "id": "d0qtdmJjAZJH",
        "colab_type": "code",
        "outputId": "86f8fd13-0e2c-4ede-9501-567e2c2f5f30",
        "colab": {
          "base_uri": "https://localhost:8080/",
          "height": 51
        }
      },
      "source": [
        "BoW_val_X"
      ],
      "execution_count": 17,
      "outputs": [
        {
          "output_type": "execute_result",
          "data": {
            "text/plain": [
              "<35918x73944 sparse matrix of type '<class 'numpy.int64'>'\n",
              "\twith 1814781 stored elements in Compressed Sparse Row format>"
            ]
          },
          "metadata": {
            "tags": []
          },
          "execution_count": 17
        }
      ]
    },
    {
      "cell_type": "markdown",
      "metadata": {
        "id": "AenQpmaGAb7Q",
        "colab_type": "text"
      },
      "source": [
        "Note how that although the number of rows changed (to equal to the same number of reviews in the validation set), the number of columns is the same as our training BoW set!"
      ]
    },
    {
      "cell_type": "markdown",
      "metadata": {
        "id": "krqhSOZRAkGu",
        "colab_type": "text"
      },
      "source": [
        "First, we can just use the BoW matrix, i.e., the unique-word features as our only features and start training the model. But later, we can also add in features such as rating, and text length to see if it betters our result! But if we add these other features, make sure to normalize them as they can be quite large numbers"
      ]
    },
    {
      "cell_type": "code",
      "metadata": {
        "id": "OVptceIhd2BG",
        "colab_type": "code",
        "colab": {}
      },
      "source": [
        "# let's add the additional features to the training matrix\n",
        "train_extra = np.array(train_X_ros[['text length','word length','rating']], dtype=float)\n",
        "\n",
        "# normalize the extra features\n",
        "train_extra_min = train_extra.min(axis = 0) # get the min value for each column\n",
        "train_extra_max = train_extra.max(axis = 0) # get the max value for each column\n",
        "train_extra = (train_extra - train_extra_min)/(train_extra_max-train_extra_min) # normalize each column to be between 0~1\n",
        "\n",
        "# add these columns to our BoW matrix, remember to keep the sparse format\n",
        "BoW_train_X_extra = sparse.hstack((BoW_train_X, train_extra))"
      ],
      "execution_count": 0,
      "outputs": []
    },
    {
      "cell_type": "code",
      "metadata": {
        "id": "ZhH2EDXEpdcJ",
        "colab_type": "code",
        "colab": {
          "base_uri": "https://localhost:8080/",
          "height": 34
        },
        "outputId": "73425178-0294-45e0-b0dd-5fd155ee5000"
      },
      "source": [
        "train_extra.shape"
      ],
      "execution_count": 32,
      "outputs": [
        {
          "output_type": "execute_result",
          "data": {
            "text/plain": [
              "(450110, 3)"
            ]
          },
          "metadata": {
            "tags": []
          },
          "execution_count": 32
        }
      ]
    },
    {
      "cell_type": "code",
      "metadata": {
        "id": "U_5-2WuDhCvj",
        "colab_type": "code",
        "colab": {}
      },
      "source": [
        "# do the same for the validation X data\n",
        "\n",
        "# let's add the additional features to the validation matrix\n",
        "val_extra = np.array(val_X[['text length','word length','rating']], dtype=float)\n",
        "\n",
        "# normalize the extra features\n",
        "val_extra_min = val_extra.min(axis = 0) # get the min value for each column\n",
        "val_extra_max = val_extra.max(axis = 0) # get the max value for each column\n",
        "val_extra = (val_extra - val_extra_min)/(val_extra_max-val_extra_min) # normalize each column to be between 0~1\n",
        "\n",
        "# add these columns to our BoW matrix, remember to keep the sparse format\n",
        "BoW_val_X_extra = sparse.hstack((BoW_val_X, val_extra))"
      ],
      "execution_count": 0,
      "outputs": []
    },
    {
      "cell_type": "code",
      "metadata": {
        "id": "oe6J-uP4phBt",
        "colab_type": "code",
        "colab": {
          "base_uri": "https://localhost:8080/",
          "height": 34
        },
        "outputId": "9c01f414-1ee7-4596-fd53-cabadcb0aac7"
      },
      "source": [
        "val_extra.shape"
      ],
      "execution_count": 33,
      "outputs": [
        {
          "output_type": "execute_result",
          "data": {
            "text/plain": [
              "(35918, 3)"
            ]
          },
          "metadata": {
            "tags": []
          },
          "execution_count": 33
        }
      ]
    },
    {
      "cell_type": "markdown",
      "metadata": {
        "id": "klJl21buxqD7",
        "colab_type": "text"
      },
      "source": [
        "## TF-IDF"
      ]
    },
    {
      "cell_type": "markdown",
      "metadata": {
        "id": "gCTVUO0FiUjI",
        "colab_type": "text"
      },
      "source": [
        "From the linear SVM implementation below, we can see that our `au_roc` score is very poor, almost the same as our Naive Bayes baseline model. We can guess that is because our word-vectors are not linearly separable in their 70000+ dimension space. Can we try to use TF-IDF and present them as vectors in a different way that makes the vectors more separable? This is why we want to try to use TF-IDF to represent our text. "
      ]
    },
    {
      "cell_type": "markdown",
      "metadata": {
        "id": "Hmisl-nkivpq",
        "colab_type": "text"
      },
      "source": [
        "TF-IDF is an acronym than stands for “Term Frequency — Inverse Document” Frequency which are the components of the resulting scores assigned to each word. \n",
        "\n",
        "Term Frequency: This summarizes how often a given word appears within a document.\n",
        "\n",
        "Inverse Document Frequency: This down scales words that appear a lot across documents."
      ]
    },
    {
      "cell_type": "code",
      "metadata": {
        "id": "-koVuewBmhJj",
        "colab_type": "code",
        "colab": {}
      },
      "source": [
        "from sklearn.feature_extraction.text import TfidfVectorizer"
      ],
      "execution_count": 0,
      "outputs": []
    },
    {
      "cell_type": "code",
      "metadata": {
        "id": "GEe-zguXlmcm",
        "colab_type": "code",
        "colab": {}
      },
      "source": [
        "# create an object from class\n",
        "# by default, TfidfVectorizer uses ’utf-8’ as the encoding to decode byte texts, which is the encoding used in our processed text\n",
        "tfidf_vect = TfidfVectorizer()"
      ],
      "execution_count": 0,
      "outputs": []
    },
    {
      "cell_type": "code",
      "metadata": {
        "id": "8NteSDG2wGBz",
        "colab_type": "code",
        "colab": {}
      },
      "source": [
        "# # learn (fit) the vocab dictionry from the entire data! not just the train!\n",
        "# tfidf_vect.fit(pd.concat([train_X_ros['cleaned review'], val_X['cleaned review']]))"
      ],
      "execution_count": 0,
      "outputs": []
    },
    {
      "cell_type": "code",
      "metadata": {
        "id": "eyRjxPMqmsQX",
        "colab_type": "code",
        "colab": {}
      },
      "source": [
        "# learn (fit) the vocab dictionry and vetorize (transform) each review\n",
        "tfidf_train_X = tfidf_vect.fit_transform(train_X_ros['cleaned review'])\n",
        "# this returns a sparse matrix where each row represent a review\n",
        "# this is no longer a dataframe!"
      ],
      "execution_count": 0,
      "outputs": []
    },
    {
      "cell_type": "code",
      "metadata": {
        "id": "3YapQrqRnlP1",
        "colab_type": "code",
        "colab": {
          "base_uri": "https://localhost:8080/",
          "height": 51
        },
        "outputId": "8720825a-d899-4f9a-ef11-138691873f46"
      },
      "source": [
        "tfidf_train_X"
      ],
      "execution_count": 72,
      "outputs": [
        {
          "output_type": "execute_result",
          "data": {
            "text/plain": [
              "<450110x73944 sparse matrix of type '<class 'numpy.float64'>'\n",
              "\twith 19946148 stored elements in Compressed Sparse Row format>"
            ]
          },
          "metadata": {
            "tags": []
          },
          "execution_count": 72
        }
      ]
    },
    {
      "cell_type": "markdown",
      "metadata": {
        "id": "7d50V-aMns7r",
        "colab_type": "text"
      },
      "source": [
        "We can see that the matrix has the number of reviews as rows and 73944 unique words in all reviews, same as our BoW of course.\n",
        "\n",
        "we also have to trasnform our validation set but be careful, we cannot train the vectorizer on the validation set, because after training, our model only knows how to classify inputs that has the same # of features. So if we had fit our vectorizer on the validation set, it might result in a matrix with different numbers of features."
      ]
    },
    {
      "cell_type": "code",
      "metadata": {
        "id": "WH_8CWQxn1tt",
        "colab_type": "code",
        "colab": {}
      },
      "source": [
        "tfidf_val_X = tfidf_vect.transform(val_X['cleaned review'])"
      ],
      "execution_count": 0,
      "outputs": []
    },
    {
      "cell_type": "code",
      "metadata": {
        "id": "GoBMZLuFo_er",
        "colab_type": "code",
        "colab": {
          "base_uri": "https://localhost:8080/",
          "height": 51
        },
        "outputId": "cc35051e-87a6-4671-9f5f-1e5932be3b1a"
      },
      "source": [
        "tfidf_val_X"
      ],
      "execution_count": 74,
      "outputs": [
        {
          "output_type": "execute_result",
          "data": {
            "text/plain": [
              "<35918x73944 sparse matrix of type '<class 'numpy.float64'>'\n",
              "\twith 1814781 stored elements in Compressed Sparse Row format>"
            ]
          },
          "metadata": {
            "tags": []
          },
          "execution_count": 74
        }
      ]
    },
    {
      "cell_type": "markdown",
      "metadata": {
        "id": "c0jO7BLvpBU8",
        "colab_type": "text"
      },
      "source": [
        "Similarly, add the 3 additioanl feature columns to the sparse matrix"
      ]
    },
    {
      "cell_type": "code",
      "metadata": {
        "id": "S_MChQCpsCYE",
        "colab_type": "code",
        "colab": {
          "base_uri": "https://localhost:8080/",
          "height": 51
        },
        "outputId": "da6d44eb-6f31-4b34-9cc0-85c22b8d1dde"
      },
      "source": [
        "# add these columns to our tfidf matrix, remember to keep the sparse format\n",
        "tfidf_train_X_extra = sparse.hstack((tfidf_train_X, train_extra))\n",
        "tfidf_train_X_extra"
      ],
      "execution_count": 75,
      "outputs": [
        {
          "output_type": "execute_result",
          "data": {
            "text/plain": [
              "<450110x73947 sparse matrix of type '<class 'numpy.float64'>'\n",
              "\twith 21264980 stored elements in COOrdinate format>"
            ]
          },
          "metadata": {
            "tags": []
          },
          "execution_count": 75
        }
      ]
    },
    {
      "cell_type": "code",
      "metadata": {
        "id": "ItLtF6zmsL4e",
        "colab_type": "code",
        "colab": {
          "base_uri": "https://localhost:8080/",
          "height": 51
        },
        "outputId": "6b59d657-7143-4756-e4e1-fbe8bcecd42a"
      },
      "source": [
        "# add these columns to our tfidf matrix, remember to keep the sparse format\n",
        "tfidf_val_X_extra = sparse.hstack((tfidf_val_X, val_extra))\n",
        "tfidf_val_X_extra"
      ],
      "execution_count": 76,
      "outputs": [
        {
          "output_type": "execute_result",
          "data": {
            "text/plain": [
              "<35918x73947 sparse matrix of type '<class 'numpy.float64'>'\n",
              "\twith 1921031 stored elements in COOrdinate format>"
            ]
          },
          "metadata": {
            "tags": []
          },
          "execution_count": 76
        }
      ]
    },
    {
      "cell_type": "markdown",
      "metadata": {
        "id": "dqLhhjIoBffZ",
        "colab_type": "text"
      },
      "source": [
        "# Single model (SVM) trianing"
      ]
    },
    {
      "cell_type": "code",
      "metadata": {
        "id": "PfgqzC5RJP1M",
        "colab_type": "code",
        "colab": {}
      },
      "source": [
        "from sklearn.svm import SVC\n",
        "from sklearn.linear_model import SGDClassifier\n",
        "from sklearn.metrics import roc_curve, auc, roc_auc_score, average_precision_score, confusion_matrix"
      ],
      "execution_count": 0,
      "outputs": []
    },
    {
      "cell_type": "code",
      "metadata": {
        "id": "AQHNqrSBXgHU",
        "colab_type": "code",
        "outputId": "995d2528-ee43-4dc9-e194-bf3b5ddca061",
        "colab": {
          "base_uri": "https://localhost:8080/",
          "height": 51
        }
      },
      "source": [
        "# change the y-labels from dataframe to ndarray of shape (n_samples, ) for model inputs\n",
        "train_y_ros_arr = np.array(train_y_ros['label'])\n",
        "print(train_y_ros_arr.shape)\n",
        "\n",
        "val_y_arr = np.array(val_y['label'])\n",
        "print(val_y_arr.shape)"
      ],
      "execution_count": 61,
      "outputs": [
        {
          "output_type": "stream",
          "text": [
            "(450110,)\n",
            "(35918,)\n"
          ],
          "name": "stdout"
        }
      ]
    },
    {
      "cell_type": "code",
      "metadata": {
        "id": "iCiuZqinn9fr",
        "colab_type": "code",
        "colab": {}
      },
      "source": [
        "# create a function to print all the results in one place\n",
        "\n",
        "def get_results(y_true, y_pred):\n",
        "  '''\n",
        "  Params:\n",
        "  -------------------------------------\n",
        "  y_true: ndarray of shape (n_samples, ) of true class labels \\n\n",
        "  y_pred: ndarray of shape (n_samples, ) of predicted class labels\n",
        "  '''\n",
        "\n",
        "  print('au_roc score:', roc_auc_score(y_true, y_pred))\n",
        "  print('average precision score:', average_precision_score(y_true, y_pred))\n",
        "\n",
        "  plt.plot([0, 1], [0, 1], 'k--')\n",
        "  plt.xlim([0.0, 1.0])\n",
        "  plt.ylim([0.0, 1.0])\n",
        "  plt.xlabel('FPR')\n",
        "  plt.ylabel('TPR')\n",
        "  plt.title('ROC')\n",
        "\n",
        "  fpr, tpr, thresholds = roc_curve(y_true, y_pred)\n",
        "  curve = plt.plot(fpr, tpr, label = 'linear SVM' + ' (AUC = %0.3f)' % roc_auc_score(y_true, y_pred))\n",
        "  plt.legend(loc='center left', bbox_to_anchor=(1, 0.5))\n",
        "\n",
        "  plt.show()\n",
        "\n",
        "  print()\n",
        "  print('Confusion Matrix:')\n",
        "  print(pd.DataFrame(confusion_matrix(y_true, y_pred), index=['actual negative', 'actual positive'], \n",
        "             columns=['predicted negative', 'predicted positive']))\n",
        "  \n",
        "  return"
      ],
      "execution_count": 0,
      "outputs": []
    },
    {
      "cell_type": "markdown",
      "metadata": {
        "id": "Pd8TUvm1JKk4",
        "colab_type": "text"
      },
      "source": [
        "## BoW data"
      ]
    },
    {
      "cell_type": "code",
      "metadata": {
        "id": "mS9kNVqGBjCU",
        "colab_type": "code",
        "colab": {}
      },
      "source": [
        "# create the svc model object\n",
        "svclassifier = SVC(kernel='linear')"
      ],
      "execution_count": 0,
      "outputs": []
    },
    {
      "cell_type": "code",
      "metadata": {
        "id": "RatYoe8SKdJi",
        "colab_type": "code",
        "colab": {}
      },
      "source": [
        "# fit the model to our training data\n",
        "# do not start running this if you're not prepared to wait for 3 hours\n",
        "svclassifier.fit(BoW_train_X, train_y_ros)"
      ],
      "execution_count": 0,
      "outputs": []
    },
    {
      "cell_type": "markdown",
      "metadata": {
        "id": "G_tbvWR2MGdc",
        "colab_type": "text"
      },
      "source": [
        "As stated by the API, `svc` does not handle large datasets (> 10,000 instances) well, and this fit took forever! For large datasets consider using `sklearn.svm.LinearSVC` or `sklearn.linear_model.SGDClassifier` instead. However, those are all linear kernel models and does not offer me the option of choosing kernels such as `sigmoid` or `poly`. Any work around?\n",
        "\n",
        "Look into `sklearn.kernel_approximation.Nystroem` at https://scikit-learn.org/stable/modules/generated/sklearn.kernel_approximation.Nystroem.html#sklearn.kernel_approximation.Nystroem"
      ]
    },
    {
      "cell_type": "code",
      "metadata": {
        "id": "0jcV1MHZOVCc",
        "colab_type": "code",
        "colab": {}
      },
      "source": [
        "# create SGDclassifier object\n",
        "sgd = SGDClassifier()"
      ],
      "execution_count": 0,
      "outputs": []
    },
    {
      "cell_type": "code",
      "metadata": {
        "id": "y62ilBawXUVr",
        "colab_type": "code",
        "outputId": "8c123881-c9d3-4f61-9843-e9e4fc938733",
        "colab": {
          "base_uri": "https://localhost:8080/",
          "height": 119
        }
      },
      "source": [
        "# fit the model to our training data\n",
        "sgd.fit(BoW_train_X, train_y_ros_arr)"
      ],
      "execution_count": 0,
      "outputs": [
        {
          "output_type": "execute_result",
          "data": {
            "text/plain": [
              "SGDClassifier(alpha=0.0001, average=False, class_weight=None,\n",
              "              early_stopping=False, epsilon=0.1, eta0=0.0, fit_intercept=True,\n",
              "              l1_ratio=0.15, learning_rate='optimal', loss='hinge',\n",
              "              max_iter=1000, n_iter_no_change=5, n_jobs=None, penalty='l2',\n",
              "              power_t=0.5, random_state=None, shuffle=True, tol=0.001,\n",
              "              validation_fraction=0.1, verbose=0, warm_start=False)"
            ]
          },
          "metadata": {
            "tags": []
          },
          "execution_count": 26
        }
      ]
    },
    {
      "cell_type": "code",
      "metadata": {
        "id": "eVsta17_XxTD",
        "colab_type": "code",
        "colab": {}
      },
      "source": [
        "# predict the labels for our validation set\n",
        "val_pred = sgd.predict(BoW_val_X)\n",
        "# this returns a ndarray of shape (n_samples, )"
      ],
      "execution_count": 0,
      "outputs": []
    },
    {
      "cell_type": "code",
      "metadata": {
        "id": "4SbZ8nvAYPI0",
        "colab_type": "code",
        "outputId": "a4c24ff9-241b-4d1d-828d-d0afd9e93c28",
        "colab": {
          "base_uri": "https://localhost:8080/",
          "height": 34
        }
      },
      "source": [
        "val_pred.shape"
      ],
      "execution_count": 0,
      "outputs": [
        {
          "output_type": "execute_result",
          "data": {
            "text/plain": [
              "(35918,)"
            ]
          },
          "metadata": {
            "tags": []
          },
          "execution_count": 28
        }
      ]
    },
    {
      "cell_type": "code",
      "metadata": {
        "id": "VyVn1TkmYP6H",
        "colab_type": "code",
        "outputId": "5356b5f4-1460-49b3-d1b5-3116daec4b08",
        "colab": {
          "base_uri": "https://localhost:8080/",
          "height": 34
        }
      },
      "source": [
        "roc_auc_score(val_y_arr, val_pred)"
      ],
      "execution_count": 0,
      "outputs": [
        {
          "output_type": "execute_result",
          "data": {
            "text/plain": [
              "0.6572681024687531"
            ]
          },
          "metadata": {
            "tags": []
          },
          "execution_count": 29
        }
      ]
    },
    {
      "cell_type": "code",
      "metadata": {
        "id": "CZ1f3-kPjnRU",
        "colab_type": "code",
        "outputId": "7bb09358-87f7-44ba-aa47-ede930a094a1",
        "colab": {
          "base_uri": "https://localhost:8080/",
          "height": 34
        }
      },
      "source": [
        "average_precision_score(val_y_arr, val_pred)"
      ],
      "execution_count": 0,
      "outputs": [
        {
          "output_type": "execute_result",
          "data": {
            "text/plain": [
              "0.14619804580348653"
            ]
          },
          "metadata": {
            "tags": []
          },
          "execution_count": 30
        }
      ]
    },
    {
      "cell_type": "code",
      "metadata": {
        "id": "1s6Q9PFobPS9",
        "colab_type": "code",
        "outputId": "6fce5d58-f92b-4d82-d9d2-a530f3d4a7c5",
        "colab": {
          "base_uri": "https://localhost:8080/",
          "height": 295
        }
      },
      "source": [
        "plt.plot([0, 1], [0, 1], 'k--')\n",
        "plt.xlim([0.0, 1.0])\n",
        "plt.ylim([0.0, 1.0])\n",
        "plt.xlabel('FPR')\n",
        "plt.ylabel('TPR')\n",
        "plt.title('ROC')\n",
        "\n",
        "fpr, tpr, thresholds = roc_curve(val_y_arr, val_pred)\n",
        "curve = plt.plot(fpr, tpr, label = 'linear SVM' + ' (AUC = %0.3f)' % roc_auc_score(val_y_arr, val_pred))\n",
        "plt.legend(loc='center left', bbox_to_anchor=(1, 0.5))\n",
        "\n",
        "plt.show()"
      ],
      "execution_count": 0,
      "outputs": [
        {
          "output_type": "display_data",
          "data": {
            "image/png": "[encoded data removed]",
            "text/plain": [
              "<Figure size 432x288 with 1 Axes>"
            ]
          },
          "metadata": {
            "tags": [],
            "needs_background": "light"
          }
        }
      ]
    },
    {
      "cell_type": "code",
      "metadata": {
        "id": "jU7pEJUNb77-",
        "colab_type": "code",
        "outputId": "17f3b399-14b9-47a2-93c2-7eb524a90d56",
        "colab": {
          "base_uri": "https://localhost:8080/",
          "height": 51
        }
      },
      "source": [
        "confusion_matrix(val_y_arr, val_pred)"
      ],
      "execution_count": 0,
      "outputs": [
        {
          "output_type": "execute_result",
          "data": {
            "text/plain": [
              "array([[16873, 15397],\n",
              "       [  760,  2888]])"
            ]
          },
          "metadata": {
            "tags": []
          },
          "execution_count": 32
        }
      ]
    },
    {
      "cell_type": "markdown",
      "metadata": {
        "id": "NZ0i-ztacx5p",
        "colab_type": "text"
      },
      "source": [
        "Thus in binary classification, the count of true negatives is :`C_{0,0}`, false negatives is :`C_{1,0}`, true positives is :`C_{1,1}` and false positives is :`C_{0,1}`."
      ]
    },
    {
      "cell_type": "code",
      "metadata": {
        "id": "lM8AqA8UcWzK",
        "colab_type": "code",
        "outputId": "02241bcb-1070-4fc0-a452-b2291852fa32",
        "colab": {
          "base_uri": "https://localhost:8080/",
          "height": 111
        }
      },
      "source": [
        "pd.DataFrame(confusion_matrix(val_y_arr, val_pred), index=['actual negative', 'actual positive'], \n",
        "             columns=['predicted negative', 'predicted positive'])"
      ],
      "execution_count": 0,
      "outputs": [
        {
          "output_type": "execute_result",
          "data": {
            "text/html": [
              "<div>\n",
              "<style scoped>\n",
              "    .dataframe tbody tr th:only-of-type {\n",
              "        vertical-align: middle;\n",
              "    }\n",
              "\n",
              "    .dataframe tbody tr th {\n",
              "        vertical-align: top;\n",
              "    }\n",
              "\n",
              "    .dataframe thead th {\n",
              "        text-align: right;\n",
              "    }\n",
              "</style>\n",
              "<table border=\"1\" class=\"dataframe\">\n",
              "  <thead>\n",
              "    <tr style=\"text-align: right;\">\n",
              "      <th></th>\n",
              "      <th>predicted negative</th>\n",
              "      <th>predicted positive</th>\n",
              "    </tr>\n",
              "  </thead>\n",
              "  <tbody>\n",
              "    <tr>\n",
              "      <th>actual negative</th>\n",
              "      <td>16873</td>\n",
              "      <td>15397</td>\n",
              "    </tr>\n",
              "    <tr>\n",
              "      <th>actual positive</th>\n",
              "      <td>760</td>\n",
              "      <td>2888</td>\n",
              "    </tr>\n",
              "  </tbody>\n",
              "</table>\n",
              "</div>"
            ],
            "text/plain": [
              "                 predicted negative  predicted positive\n",
              "actual negative               16873               15397\n",
              "actual positive                 760                2888"
            ]
          },
          "metadata": {
            "tags": []
          },
          "execution_count": 33
        }
      ]
    },
    {
      "cell_type": "markdown",
      "metadata": {
        "id": "QQV5n5UIdaBg",
        "colab_type": "text"
      },
      "source": [
        "## BoW_extra data"
      ]
    },
    {
      "cell_type": "code",
      "metadata": {
        "id": "nr7H8CUAh-5v",
        "colab_type": "code",
        "colab": {}
      },
      "source": [
        "# create SGDclassifier object\n",
        "sgd = SGDClassifier()"
      ],
      "execution_count": 0,
      "outputs": []
    },
    {
      "cell_type": "code",
      "metadata": {
        "id": "028EhuKviDqL",
        "colab_type": "code",
        "outputId": "fe522ccf-9b99-48da-b4c7-239be60d5582",
        "colab": {
          "base_uri": "https://localhost:8080/",
          "height": 119
        }
      },
      "source": [
        "# fit the model to our training data with extra features\n",
        "sgd.fit(BoW_train_X_extra, train_y_ros_arr)"
      ],
      "execution_count": 0,
      "outputs": [
        {
          "output_type": "execute_result",
          "data": {
            "text/plain": [
              "SGDClassifier(alpha=0.0001, average=False, class_weight=None,\n",
              "              early_stopping=False, epsilon=0.1, eta0=0.0, fit_intercept=True,\n",
              "              l1_ratio=0.15, learning_rate='optimal', loss='hinge',\n",
              "              max_iter=1000, n_iter_no_change=5, n_jobs=None, penalty='l2',\n",
              "              power_t=0.5, random_state=None, shuffle=True, tol=0.001,\n",
              "              validation_fraction=0.1, verbose=0, warm_start=False)"
            ]
          },
          "metadata": {
            "tags": []
          },
          "execution_count": 35
        }
      ]
    },
    {
      "cell_type": "code",
      "metadata": {
        "id": "b_eAeqiJiJcg",
        "colab_type": "code",
        "colab": {}
      },
      "source": [
        "# predict the labels for our validation set\n",
        "val_pred = sgd.predict(BoW_val_X_extra)\n",
        "# this returns a ndarray of shape (n_samples, )"
      ],
      "execution_count": 0,
      "outputs": []
    },
    {
      "cell_type": "code",
      "metadata": {
        "id": "aFh204NDiPSW",
        "colab_type": "code",
        "outputId": "d4a825f5-3695-4b0e-f78a-3df27f9f4de3",
        "colab": {
          "base_uri": "https://localhost:8080/",
          "height": 34
        }
      },
      "source": [
        "roc_auc_score(val_y_arr, val_pred)"
      ],
      "execution_count": 0,
      "outputs": [
        {
          "output_type": "execute_result",
          "data": {
            "text/plain": [
              "0.6587193393597877"
            ]
          },
          "metadata": {
            "tags": []
          },
          "execution_count": 37
        }
      ]
    },
    {
      "cell_type": "code",
      "metadata": {
        "id": "gNUGfEzTjLNK",
        "colab_type": "code",
        "outputId": "2870090d-9123-4aa6-fa46-e425a15e31b7",
        "colab": {
          "base_uri": "https://localhost:8080/",
          "height": 34
        }
      },
      "source": [
        "average_precision_score(val_y_arr, val_pred)"
      ],
      "execution_count": 0,
      "outputs": [
        {
          "output_type": "execute_result",
          "data": {
            "text/plain": [
              "0.14910364605554677"
            ]
          },
          "metadata": {
            "tags": []
          },
          "execution_count": 38
        }
      ]
    },
    {
      "cell_type": "markdown",
      "metadata": {
        "id": "Z4qi09pbiYaV",
        "colab_type": "text"
      },
      "source": [
        "Well, both metrics are a tiny bit better. So we will use the matrix that inludes these extra features from now on."
      ]
    },
    {
      "cell_type": "code",
      "metadata": {
        "id": "0NZYfrdFiTE1",
        "colab_type": "code",
        "outputId": "ee18e2fb-cc77-4739-d8a3-9dcb6f5b8036",
        "colab": {
          "base_uri": "https://localhost:8080/",
          "height": 295
        }
      },
      "source": [
        "plt.plot([0, 1], [0, 1], 'k--')\n",
        "plt.xlim([0.0, 1.0])\n",
        "plt.ylim([0.0, 1.0])\n",
        "plt.xlabel('FPR')\n",
        "plt.ylabel('TPR')\n",
        "plt.title('ROC')\n",
        "\n",
        "fpr, tpr, thresholds = roc_curve(val_y_arr, val_pred)\n",
        "curve = plt.plot(fpr, tpr, label = 'linear SVM' + ' (AUC = %0.3f)' % roc_auc_score(val_y_arr, val_pred))\n",
        "plt.legend(loc='center left', bbox_to_anchor=(1, 0.5))\n",
        "\n",
        "plt.show()"
      ],
      "execution_count": 0,
      "outputs": [
        {
          "output_type": "display_data",
          "data": {
            "image/png": "[encoded data removed]",
            "text/plain": [
              "<Figure size 432x288 with 1 Axes>"
            ]
          },
          "metadata": {
            "tags": [],
            "needs_background": "light"
          }
        }
      ]
    },
    {
      "cell_type": "code",
      "metadata": {
        "id": "eFTlvjHJiXPu",
        "colab_type": "code",
        "outputId": "7ac1f41c-2bae-4c56-ec90-c7a34bb0da12",
        "colab": {
          "base_uri": "https://localhost:8080/",
          "height": 111
        }
      },
      "source": [
        "pd.DataFrame(confusion_matrix(val_y_arr, val_pred), index=['actual negative', 'actual positive'], \n",
        "             columns=['predicted negative', 'predicted positive'])"
      ],
      "execution_count": 0,
      "outputs": [
        {
          "output_type": "execute_result",
          "data": {
            "text/html": [
              "<div>\n",
              "<style scoped>\n",
              "    .dataframe tbody tr th:only-of-type {\n",
              "        vertical-align: middle;\n",
              "    }\n",
              "\n",
              "    .dataframe tbody tr th {\n",
              "        vertical-align: top;\n",
              "    }\n",
              "\n",
              "    .dataframe thead th {\n",
              "        text-align: right;\n",
              "    }\n",
              "</style>\n",
              "<table border=\"1\" class=\"dataframe\">\n",
              "  <thead>\n",
              "    <tr style=\"text-align: right;\">\n",
              "      <th></th>\n",
              "      <th>predicted negative</th>\n",
              "      <th>predicted positive</th>\n",
              "    </tr>\n",
              "  </thead>\n",
              "  <tbody>\n",
              "    <tr>\n",
              "      <th>actual negative</th>\n",
              "      <td>18957</td>\n",
              "      <td>13313</td>\n",
              "    </tr>\n",
              "    <tr>\n",
              "      <th>actual positive</th>\n",
              "      <td>985</td>\n",
              "      <td>2663</td>\n",
              "    </tr>\n",
              "  </tbody>\n",
              "</table>\n",
              "</div>"
            ],
            "text/plain": [
              "                 predicted negative  predicted positive\n",
              "actual negative               18957               13313\n",
              "actual positive                 985                2663"
            ]
          },
          "metadata": {
            "tags": []
          },
          "execution_count": 40
        }
      ]
    },
    {
      "cell_type": "markdown",
      "metadata": {
        "id": "Qk8Qor7DilXe",
        "colab_type": "text"
      },
      "source": [
        "Although we have have less true negatives, we do now have more true positives."
      ]
    },
    {
      "cell_type": "markdown",
      "metadata": {
        "id": "XGMl44w9ufIm",
        "colab_type": "text"
      },
      "source": [
        "## tfidf_extra data"
      ]
    },
    {
      "cell_type": "code",
      "metadata": {
        "colab_type": "code",
        "id": "NzAuNmIyutTA",
        "colab": {}
      },
      "source": [
        "# create SGDclassifier object\n",
        "sgd = SGDClassifier()"
      ],
      "execution_count": 0,
      "outputs": []
    },
    {
      "cell_type": "code",
      "metadata": {
        "colab_type": "code",
        "outputId": "f303ad7f-befe-41ce-a35d-eae4d4e47c1f",
        "id": "W-mY0JMSutTE",
        "colab": {
          "base_uri": "https://localhost:8080/",
          "height": 119
        }
      },
      "source": [
        "# fit the model to our training data\n",
        "sgd.fit(tfidf_train_X_extra, train_y_ros_arr)"
      ],
      "execution_count": 78,
      "outputs": [
        {
          "output_type": "execute_result",
          "data": {
            "text/plain": [
              "SGDClassifier(alpha=0.0001, average=False, class_weight=None,\n",
              "              early_stopping=False, epsilon=0.1, eta0=0.0, fit_intercept=True,\n",
              "              l1_ratio=0.15, learning_rate='optimal', loss='hinge',\n",
              "              max_iter=1000, n_iter_no_change=5, n_jobs=None, penalty='l2',\n",
              "              power_t=0.5, random_state=None, shuffle=True, tol=0.001,\n",
              "              validation_fraction=0.1, verbose=0, warm_start=False)"
            ]
          },
          "metadata": {
            "tags": []
          },
          "execution_count": 78
        }
      ]
    },
    {
      "cell_type": "code",
      "metadata": {
        "colab_type": "code",
        "id": "W6TMllCYutTH",
        "colab": {}
      },
      "source": [
        "# predict the labels for our validation set\n",
        "val_pred = sgd.predict(tfidf_val_X_extra)\n",
        "# this returns a ndarray of shape (n_samples, )"
      ],
      "execution_count": 0,
      "outputs": []
    },
    {
      "cell_type": "code",
      "metadata": {
        "colab_type": "code",
        "outputId": "66d7360e-30f5-443c-c36a-c3762c97c401",
        "id": "pbrDWo74utTK",
        "colab": {
          "base_uri": "https://localhost:8080/",
          "height": 34
        }
      },
      "source": [
        "val_pred.shape"
      ],
      "execution_count": 80,
      "outputs": [
        {
          "output_type": "execute_result",
          "data": {
            "text/plain": [
              "(35918,)"
            ]
          },
          "metadata": {
            "tags": []
          },
          "execution_count": 80
        }
      ]
    },
    {
      "cell_type": "code",
      "metadata": {
        "id": "KcA4sFYBvGHm",
        "colab_type": "code",
        "colab": {
          "base_uri": "https://localhost:8080/",
          "height": 414
        },
        "outputId": "38d4b997-31bb-4ac3-b42f-344fa8d5c7cb"
      },
      "source": [
        "get_results(val_y_arr, val_pred)"
      ],
      "execution_count": 81,
      "outputs": [
        {
          "output_type": "stream",
          "text": [
            "au_roc score: 0.6685711788283073\n",
            "average precision score: 0.15360105056306184\n"
          ],
          "name": "stdout"
        },
        {
          "output_type": "display_data",
          "data": {
            "image/png": "[encoded data removed]",
            "text/plain": [
              "<Figure size 432x288 with 1 Axes>"
            ]
          },
          "metadata": {
            "tags": [],
            "needs_background": "light"
          }
        },
        {
          "output_type": "stream",
          "text": [
            "\n",
            "Confusion Matrix:\n",
            "                 predicted negative  predicted positive\n",
            "actual negative               19239               13031\n",
            "actual positive                 945                2703\n"
          ],
          "name": "stdout"
        }
      ]
    },
    {
      "cell_type": "markdown",
      "metadata": {
        "id": "rGIluWigvibg",
        "colab_type": "text"
      },
      "source": [
        "From this single implementation, it doesn't seem like that TF-IDF does any better than BoW. This means that the only options we have left to try are n-grams and possible different kernels.\n",
        "Let's try kernels first"
      ]
    },
    {
      "cell_type": "markdown",
      "metadata": {
        "id": "qMJsBDwEixPG",
        "colab_type": "text"
      },
      "source": [
        "# Grid Search"
      ]
    },
    {
      "cell_type": "code",
      "metadata": {
        "id": "5OLl9-Msi-aq",
        "colab_type": "code",
        "colab": {}
      },
      "source": [
        "from sklearn.model_selection import GridSearchCV"
      ],
      "execution_count": 0,
      "outputs": []
    },
    {
      "cell_type": "markdown",
      "metadata": {
        "id": "4F_J0Pjyk6MK",
        "colab_type": "text"
      },
      "source": [
        "## linear SVM with BoW_extra data"
      ]
    },
    {
      "cell_type": "code",
      "metadata": {
        "id": "hvoFrFoTkzTo",
        "colab_type": "code",
        "colab": {}
      },
      "source": [
        "# create SGDclassifier object\n",
        "sgd = SGDClassifier()\n",
        "\n",
        "# create a dict where keys are param names and values are a list of values to try for that param\n",
        "grid_values = {'loss':['hinge', 'log'], \n",
        "               'penalty':['l2', 'l1', 'elasticnet'],\n",
        "               'alpha':[10**(-i) for i in range(6)],\n",
        "               'tol':[10**(-i) for i in range(2,5)],\n",
        "               'early_stopping':[True]\n",
        "               }\n",
        "\n",
        "# create gridSearch object specifying model, params to search over, the scoring metric\n",
        "grid_sgd = GridSearchCV(sgd, param_grid = grid_values, scoring = 'roc_auc')\n",
        "\n",
        "# fit on data\n",
        "grid_sgd.fit(BoW_train_X_extra, train_y_ros_arr)"
      ],
      "execution_count": 0,
      "outputs": []
    },
    {
      "cell_type": "code",
      "metadata": {
        "id": "6bw2j9DuPTzw",
        "colab_type": "code",
        "outputId": "35d630bd-a95c-4b47-aa5e-b3d5531dd647",
        "colab": {
          "base_uri": "https://localhost:8080/",
          "height": 102
        }
      },
      "source": [
        "grid_sgd.best_params_"
      ],
      "execution_count": 0,
      "outputs": [
        {
          "output_type": "execute_result",
          "data": {
            "text/plain": [
              "{'alpha': 0.01,\n",
              " 'early_stopping': True,\n",
              " 'loss': 'log',\n",
              " 'penalty': 'l2',\n",
              " 'tol': 0.01}"
            ]
          },
          "metadata": {
            "tags": []
          },
          "execution_count": 45
        }
      ]
    },
    {
      "cell_type": "code",
      "metadata": {
        "id": "OCOQVHpwTxdk",
        "colab_type": "code",
        "outputId": "ee554852-4f7d-4b5a-eac7-b82061ee7eeb",
        "colab": {
          "base_uri": "https://localhost:8080/",
          "height": 34
        }
      },
      "source": [
        "grid_sgd.best_score_"
      ],
      "execution_count": 0,
      "outputs": [
        {
          "output_type": "execute_result",
          "data": {
            "text/plain": [
              "0.6915213426650267"
            ]
          },
          "metadata": {
            "tags": []
          },
          "execution_count": 46
        }
      ]
    },
    {
      "cell_type": "code",
      "metadata": {
        "id": "pOX2T6I18heA",
        "colab_type": "code",
        "colab": {}
      },
      "source": [
        "# evalute the best model on the actual validation set\n",
        "val_pred = grid_sgd.predict(BoW_val_X_extra)\n",
        "# this returns a ndarray of shape (n_samples, )"
      ],
      "execution_count": 0,
      "outputs": []
    },
    {
      "cell_type": "code",
      "metadata": {
        "id": "2iKsL1z9H2Cz",
        "colab_type": "code",
        "outputId": "c0495c08-d4dc-47aa-f3ba-2f98d039a28b",
        "colab": {
          "base_uri": "https://localhost:8080/",
          "height": 414
        }
      },
      "source": [
        "get_results(val_y_arr, val_pred)"
      ],
      "execution_count": 0,
      "outputs": [
        {
          "output_type": "stream",
          "text": [
            "au_roc score: 0.6638813597850375\n",
            "average precision score: 0.15187493506328248\n"
          ],
          "name": "stdout"
        },
        {
          "output_type": "display_data",
          "data": {
            "image/png": "[encoded data removed]",
            "text/plain": [
              "<Figure size 432x288 with 1 Axes>"
            ]
          },
          "metadata": {
            "tags": [],
            "needs_background": "light"
          }
        },
        {
          "output_type": "stream",
          "text": [
            "\n",
            "Confusion Matrix:\n",
            "                 predicted negative  predicted positive\n",
            "actual negative               19414               12856\n",
            "actual positive                 999                2649\n"
          ],
          "name": "stdout"
        }
      ]
    },
    {
      "cell_type": "code",
      "metadata": {
        "id": "8QaZMR_FIYkr",
        "colab_type": "code",
        "colab": {}
      },
      "source": [
        ""
      ],
      "execution_count": 0,
      "outputs": []
    }
  ]
}