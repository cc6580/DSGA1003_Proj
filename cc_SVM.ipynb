{
  "nbformat": 4,
  "nbformat_minor": 0,
  "metadata": {
    "kernelspec": {
      "display_name": "Python 3",
      "language": "python",
      "name": "python3"
    },
    "language_info": {
      "codemirror_mode": {
        "name": "ipython",
        "version": 3
      },
      "file_extension": ".py",
      "mimetype": "text/x-python",
      "name": "python",
      "nbconvert_exporter": "python",
      "pygments_lexer": "ipython3",
      "version": "3.7.4"
    },
    "colab": {
      "name": "cc_SVM.ipynb",
      "provenance": [],
      "collapsed_sections": [],
      "toc_visible": true
    }
  },
  "cells": [
    {
      "cell_type": "code",
      "metadata": {
        "id": "aVgpIdSR4mge",
        "colab_type": "code",
        "outputId": "b4ccf245-b62e-4b21-96f9-f95bf985a9d2",
        "colab": {
          "base_uri": "https://localhost:8080/",
          "height": 122
        }
      },
      "source": [
        "from google.colab import drive\n",
        "drive.mount('/content/drive')"
      ],
      "execution_count": 0,
      "outputs": [
        {
          "output_type": "stream",
          "text": [
            "Go to this URL in a browser: https://accounts.google.com/o/oauth2/auth?client_id=947318989803-6bn6qk8qdgf4n4g3pfee6491hc0brc4i.apps.googleusercontent.com&redirect_uri=urn%3aietf%3awg%3aoauth%3a2.0%3aoob&response_type=code&scope=email%20https%3a%2f%2fwww.googleapis.com%2fauth%2fdocs.test%20https%3a%2f%2fwww.googleapis.com%2fauth%2fdrive%20https%3a%2f%2fwww.googleapis.com%2fauth%2fdrive.photos.readonly%20https%3a%2f%2fwww.googleapis.com%2fauth%2fpeopleapi.readonly\n",
            "\n",
            "Enter your authorization code:\n",
            "··········\n",
            "Mounted at /content/drive\n"
          ],
          "name": "stdout"
        }
      ]
    },
    {
      "cell_type": "code",
      "metadata": {
        "id": "himCzV8M4kiM",
        "colab_type": "code",
        "colab": {}
      },
      "source": [
        "import os.path\n",
        "import numpy as np\n",
        "import pandas as pd\n",
        "import matplotlib.pyplot as plt\n",
        "from scipy import sparse\n",
        "import time"
      ],
      "execution_count": 0,
      "outputs": []
    },
    {
      "cell_type": "markdown",
      "metadata": {
        "id": "jnB6odKe4kic",
        "colab_type": "text"
      },
      "source": [
        "# load preprocessed data"
      ]
    },
    {
      "cell_type": "code",
      "metadata": {
        "id": "jr5yfBo34kie",
        "colab_type": "code",
        "colab": {}
      },
      "source": [
        "# load pre-processed data\n",
        "# replace with local file-path if you're running on local python shell\n",
        "train_X= pd.read_csv('/content/drive/My Drive/1003 project/train_X.csv')\n",
        "train_y= pd.read_csv('/content/drive/My Drive/1003 project/train_y.csv')\n",
        "val_X = pd.read_csv('/content/drive/My Drive/1003 project/val_X.csv')\n",
        "val_y = pd.read_csv('/content/drive/My Drive/1003 project/val_y.csv')"
      ],
      "execution_count": 0,
      "outputs": []
    },
    {
      "cell_type": "code",
      "metadata": {
        "id": "EMcJCc4N4kip",
        "colab_type": "code",
        "outputId": "aa3c9be6-682a-4ea3-ff5a-f15e382931e4",
        "colab": {
          "base_uri": "https://localhost:8080/",
          "height": 204
        }
      },
      "source": [
        "train_X.head()"
      ],
      "execution_count": 3,
      "outputs": [
        {
          "output_type": "execute_result",
          "data": {
            "text/html": [
              "<div>\n",
              "<style scoped>\n",
              "    .dataframe tbody tr th:only-of-type {\n",
              "        vertical-align: middle;\n",
              "    }\n",
              "\n",
              "    .dataframe tbody tr th {\n",
              "        vertical-align: top;\n",
              "    }\n",
              "\n",
              "    .dataframe thead th {\n",
              "        text-align: right;\n",
              "    }\n",
              "</style>\n",
              "<table border=\"1\" class=\"dataframe\">\n",
              "  <thead>\n",
              "    <tr style=\"text-align: right;\">\n",
              "      <th></th>\n",
              "      <th>ex_id</th>\n",
              "      <th>user_id</th>\n",
              "      <th>prod_id</th>\n",
              "      <th>rating</th>\n",
              "      <th>date</th>\n",
              "      <th>review</th>\n",
              "      <th>cleaned review</th>\n",
              "    </tr>\n",
              "  </thead>\n",
              "  <tbody>\n",
              "    <tr>\n",
              "      <th>0</th>\n",
              "      <td>0</td>\n",
              "      <td>923</td>\n",
              "      <td>0</td>\n",
              "      <td>3.0</td>\n",
              "      <td>2014-12-08</td>\n",
              "      <td>The food at snack is a selection of popular Gr...</td>\n",
              "      <td>b'the food snack select popular greek dish the...</td>\n",
              "    </tr>\n",
              "    <tr>\n",
              "      <th>1</th>\n",
              "      <td>1</td>\n",
              "      <td>924</td>\n",
              "      <td>0</td>\n",
              "      <td>3.0</td>\n",
              "      <td>2013-05-16</td>\n",
              "      <td>This little place in Soho is wonderful. I had ...</td>\n",
              "      <td>b'this littl place soho wonder lamb sandwich g...</td>\n",
              "    </tr>\n",
              "    <tr>\n",
              "      <th>2</th>\n",
              "      <td>2</td>\n",
              "      <td>925</td>\n",
              "      <td>0</td>\n",
              "      <td>4.0</td>\n",
              "      <td>2013-07-01</td>\n",
              "      <td>ordered lunch for 15 from Snack last Friday.  ...</td>\n",
              "      <td>b'order lunch snack last friday time noth miss...</td>\n",
              "    </tr>\n",
              "    <tr>\n",
              "      <th>3</th>\n",
              "      <td>3</td>\n",
              "      <td>926</td>\n",
              "      <td>0</td>\n",
              "      <td>4.0</td>\n",
              "      <td>2011-07-28</td>\n",
              "      <td>This is a beautiful quaint little restaurant o...</td>\n",
              "      <td>b'this beauti quaint littl restaur pretti stre...</td>\n",
              "    </tr>\n",
              "    <tr>\n",
              "      <th>4</th>\n",
              "      <td>4</td>\n",
              "      <td>927</td>\n",
              "      <td>0</td>\n",
              "      <td>4.0</td>\n",
              "      <td>2010-11-01</td>\n",
              "      <td>Snack is great place for a  casual sit down lu...</td>\n",
              "      <td>b'snack great place casual sit especi cold win...</td>\n",
              "    </tr>\n",
              "  </tbody>\n",
              "</table>\n",
              "</div>"
            ],
            "text/plain": [
              "   ex_id  ...                                     cleaned review\n",
              "0      0  ...  b'the food snack select popular greek dish the...\n",
              "1      1  ...  b'this littl place soho wonder lamb sandwich g...\n",
              "2      2  ...  b'order lunch snack last friday time noth miss...\n",
              "3      3  ...  b'this beauti quaint littl restaur pretti stre...\n",
              "4      4  ...  b'snack great place casual sit especi cold win...\n",
              "\n",
              "[5 rows x 7 columns]"
            ]
          },
          "metadata": {
            "tags": []
          },
          "execution_count": 3
        }
      ]
    },
    {
      "cell_type": "markdown",
      "metadata": {
        "id": "TgeP5qC1CBoC",
        "colab_type": "text"
      },
      "source": [
        "Note that right now, the cleaned reviews are byte strings instead of normal strings, hence the `b' '` enclosing the string.\n"
      ]
    },
    {
      "cell_type": "code",
      "metadata": {
        "id": "3bFd6yZr4kix",
        "colab_type": "code",
        "colab": {}
      },
      "source": [
        "#add 2 new features: text length and word length. These are probably be useful\n",
        "train_X['text length'] = train_X['review'].apply(len)\n",
        "train_X['word length'] = train_X['review'].apply(lambda x: len(x.split(\" \"))) \n",
        "\n",
        "val_X['text length'] = val_X['review'].apply(len)\n",
        "val_X['word length'] = val_X['review'].apply(lambda x: len(x.split(\" \")))\n",
        "\n",
        "# text length: the number of characters (including white spaces) in the string\n",
        "# word length: the number of words in the string"
      ],
      "execution_count": 0,
      "outputs": []
    },
    {
      "cell_type": "code",
      "metadata": {
        "id": "rrN-w8uT5Dpq",
        "colab_type": "code",
        "outputId": "0bfb7a31-2701-4a49-ee1c-6ed9bb135841",
        "colab": {
          "base_uri": "https://localhost:8080/",
          "height": 306
        }
      },
      "source": [
        "train_X.head()"
      ],
      "execution_count": 5,
      "outputs": [
        {
          "output_type": "execute_result",
          "data": {
            "text/html": [
              "<div>\n",
              "<style scoped>\n",
              "    .dataframe tbody tr th:only-of-type {\n",
              "        vertical-align: middle;\n",
              "    }\n",
              "\n",
              "    .dataframe tbody tr th {\n",
              "        vertical-align: top;\n",
              "    }\n",
              "\n",
              "    .dataframe thead th {\n",
              "        text-align: right;\n",
              "    }\n",
              "</style>\n",
              "<table border=\"1\" class=\"dataframe\">\n",
              "  <thead>\n",
              "    <tr style=\"text-align: right;\">\n",
              "      <th></th>\n",
              "      <th>ex_id</th>\n",
              "      <th>user_id</th>\n",
              "      <th>prod_id</th>\n",
              "      <th>rating</th>\n",
              "      <th>date</th>\n",
              "      <th>review</th>\n",
              "      <th>cleaned review</th>\n",
              "      <th>text length</th>\n",
              "      <th>word length</th>\n",
              "    </tr>\n",
              "  </thead>\n",
              "  <tbody>\n",
              "    <tr>\n",
              "      <th>0</th>\n",
              "      <td>0</td>\n",
              "      <td>923</td>\n",
              "      <td>0</td>\n",
              "      <td>3.0</td>\n",
              "      <td>2014-12-08</td>\n",
              "      <td>The food at snack is a selection of popular Gr...</td>\n",
              "      <td>b'the food snack select popular greek dish the...</td>\n",
              "      <td>215</td>\n",
              "      <td>40</td>\n",
              "    </tr>\n",
              "    <tr>\n",
              "      <th>1</th>\n",
              "      <td>1</td>\n",
              "      <td>924</td>\n",
              "      <td>0</td>\n",
              "      <td>3.0</td>\n",
              "      <td>2013-05-16</td>\n",
              "      <td>This little place in Soho is wonderful. I had ...</td>\n",
              "      <td>b'this littl place soho wonder lamb sandwich g...</td>\n",
              "      <td>269</td>\n",
              "      <td>52</td>\n",
              "    </tr>\n",
              "    <tr>\n",
              "      <th>2</th>\n",
              "      <td>2</td>\n",
              "      <td>925</td>\n",
              "      <td>0</td>\n",
              "      <td>4.0</td>\n",
              "      <td>2013-07-01</td>\n",
              "      <td>ordered lunch for 15 from Snack last Friday.  ...</td>\n",
              "      <td>b'order lunch snack last friday time noth miss...</td>\n",
              "      <td>178</td>\n",
              "      <td>32</td>\n",
              "    </tr>\n",
              "    <tr>\n",
              "      <th>3</th>\n",
              "      <td>3</td>\n",
              "      <td>926</td>\n",
              "      <td>0</td>\n",
              "      <td>4.0</td>\n",
              "      <td>2011-07-28</td>\n",
              "      <td>This is a beautiful quaint little restaurant o...</td>\n",
              "      <td>b'this beauti quaint littl restaur pretti stre...</td>\n",
              "      <td>491</td>\n",
              "      <td>90</td>\n",
              "    </tr>\n",
              "    <tr>\n",
              "      <th>4</th>\n",
              "      <td>4</td>\n",
              "      <td>927</td>\n",
              "      <td>0</td>\n",
              "      <td>4.0</td>\n",
              "      <td>2010-11-01</td>\n",
              "      <td>Snack is great place for a  casual sit down lu...</td>\n",
              "      <td>b'snack great place casual sit especi cold win...</td>\n",
              "      <td>596</td>\n",
              "      <td>102</td>\n",
              "    </tr>\n",
              "  </tbody>\n",
              "</table>\n",
              "</div>"
            ],
            "text/plain": [
              "   ex_id  user_id  ...  text length  word length\n",
              "0      0      923  ...          215           40\n",
              "1      1      924  ...          269           52\n",
              "2      2      925  ...          178           32\n",
              "3      3      926  ...          491           90\n",
              "4      4      927  ...          596          102\n",
              "\n",
              "[5 rows x 9 columns]"
            ]
          },
          "metadata": {
            "tags": []
          },
          "execution_count": 5
        }
      ]
    },
    {
      "cell_type": "code",
      "metadata": {
        "id": "rXVBARaiAoe9",
        "colab_type": "code",
        "outputId": "9b14301f-2241-47bf-ede9-9677fcad2f00",
        "colab": {
          "base_uri": "https://localhost:8080/",
          "height": 34
        }
      },
      "source": [
        "val_X.shape"
      ],
      "execution_count": 6,
      "outputs": [
        {
          "output_type": "execute_result",
          "data": {
            "text/plain": [
              "(35918, 9)"
            ]
          },
          "metadata": {
            "tags": []
          },
          "execution_count": 6
        }
      ]
    },
    {
      "cell_type": "markdown",
      "metadata": {
        "id": "TjwstAFs4ki4",
        "colab_type": "text"
      },
      "source": [
        "# upsample fake reviews to deal with class imbalance and improve model learning accuracy"
      ]
    },
    {
      "cell_type": "code",
      "metadata": {
        "id": "X40hmA-O4ki_",
        "colab_type": "code",
        "outputId": "578f7508-5e21-4180-b8c0-0e6695afeda7",
        "colab": {
          "base_uri": "https://localhost:8080/",
          "height": 105
        }
      },
      "source": [
        "from imblearn.over_sampling import RandomOverSampler"
      ],
      "execution_count": 7,
      "outputs": [
        {
          "output_type": "stream",
          "text": [
            "/usr/local/lib/python3.6/dist-packages/sklearn/externals/six.py:31: FutureWarning: The module is deprecated in version 0.21 and will be removed in version 0.23 since we've dropped support for Python 2.7. Please rely on the official version of six (https://pypi.org/project/six/).\n",
            "  \"(https://pypi.org/project/six/).\", FutureWarning)\n",
            "/usr/local/lib/python3.6/dist-packages/sklearn/utils/deprecation.py:144: FutureWarning: The sklearn.neighbors.base module is  deprecated in version 0.22 and will be removed in version 0.24. The corresponding classes / functions should instead be imported from sklearn.neighbors. Anything that cannot be imported from sklearn.neighbors is now part of the private API.\n",
            "  warnings.warn(message, FutureWarning)\n"
          ],
          "name": "stderr"
        }
      ]
    },
    {
      "cell_type": "code",
      "metadata": {
        "id": "fV5PuJ0S5MRm",
        "colab_type": "code",
        "colab": {}
      },
      "source": [
        "# create a raondom sampler object from the class\n",
        "ros = RandomOverSampler()"
      ],
      "execution_count": 0,
      "outputs": []
    },
    {
      "cell_type": "code",
      "metadata": {
        "id": "Sqw4RzX35wD6",
        "colab_type": "code",
        "outputId": "b465b7f2-6963-4c2c-f3da-2343f5165b60",
        "colab": {
          "base_uri": "https://localhost:8080/",
          "height": 105
        }
      },
      "source": [
        "# create re-sampled data from the original data\n",
        "# The augmented data set should be used instead of the original data set to train a classifier\n",
        "train_X_ros, train_y_ros = ros.fit_sample(train_X, train_y)"
      ],
      "execution_count": 9,
      "outputs": [
        {
          "output_type": "stream",
          "text": [
            "/usr/local/lib/python3.6/dist-packages/sklearn/utils/validation.py:760: DataConversionWarning: A column-vector y was passed when a 1d array was expected. Please change the shape of y to (n_samples, ), for example using ravel().\n",
            "  y = column_or_1d(y, warn=True)\n",
            "/usr/local/lib/python3.6/dist-packages/sklearn/utils/deprecation.py:87: FutureWarning: Function safe_indexing is deprecated; safe_indexing is deprecated in version 0.22 and will be removed in version 0.24.\n",
            "  warnings.warn(msg, category=FutureWarning)\n"
          ],
          "name": "stderr"
        }
      ]
    },
    {
      "cell_type": "code",
      "metadata": {
        "id": "zMlwxuG06iNu",
        "colab_type": "code",
        "colab": {}
      },
      "source": [
        "# on local python shell, the trian_X_ros after oversampling is still DataFrame\n",
        "# But on colab version it turned to array, so we need to change it back to a pd.df\n",
        "train_X_ros = pd.DataFrame(train_X_ros, columns = ['ex_id','user_id','prod_id','rating','date','review','cleaned review','text length','word length'])\n",
        "train_y_ros = pd.DataFrame(train_y_ros, columns = ['label'])"
      ],
      "execution_count": 0,
      "outputs": []
    },
    {
      "cell_type": "code",
      "metadata": {
        "id": "z4G-GQwi6OdO",
        "colab_type": "code",
        "outputId": "6df8f3b8-b437-4b40-b30f-8eeae3678975",
        "colab": {
          "base_uri": "https://localhost:8080/",
          "height": 102
        }
      },
      "source": [
        "print('pre-upsampling genuine cases: ',train_y[train_y['label'] == 0].shape[0])\n",
        "print('post-upsampling genuine cases: ',train_y_ros[train_y_ros['label'] == 0].shape[0])\n",
        "print()\n",
        "print('pre-upsampling fake cases: ',train_y[train_y['label'] == 1].shape[0])\n",
        "print('post-upsampling fake cases: ',train_y_ros[train_y_ros['label'] == 1].shape[0])"
      ],
      "execution_count": 11,
      "outputs": [
        {
          "output_type": "stream",
          "text": [
            "pre-upsampling genuine cases:  225055\n",
            "post-upsampling genuine cases:  225055\n",
            "\n",
            "pre-upsampling fake cases:  25819\n",
            "post-upsampling fake cases:  225055\n"
          ],
          "name": "stdout"
        }
      ]
    },
    {
      "cell_type": "markdown",
      "metadata": {
        "id": "DC6Ii70j6Ry9",
        "colab_type": "text"
      },
      "source": [
        "now, the number of fake reviews is the same as the number of genuine reviews. We have fixed the class-imbalance issue."
      ]
    },
    {
      "cell_type": "markdown",
      "metadata": {
        "id": "qJh0e-9e7esx",
        "colab_type": "text"
      },
      "source": [
        "# Text to vector conversion"
      ]
    },
    {
      "cell_type": "markdown",
      "metadata": {
        "id": "8938KbERCAEj",
        "colab_type": "text"
      },
      "source": [
        "## bag of words"
      ]
    },
    {
      "cell_type": "markdown",
      "metadata": {
        "id": "fO0aZPJu7qjM",
        "colab_type": "text"
      },
      "source": [
        "Bag of Words basically creates a dictionary of `d` words (this is not a python dictionary) where `d` is the number of unique words in our text corpus. It then creates `d` dimensional vectors (consider it an array of length `d`) for each document (review) in our corpus (total set of reviews) and each dimension (cell) has value equal to number of times the corresponding word has occurred in that particular document (review)."
      ]
    },
    {
      "cell_type": "code",
      "metadata": {
        "id": "w9yerwe28DmZ",
        "colab_type": "code",
        "colab": {}
      },
      "source": [
        "from sklearn.feature_extraction.text import CountVectorizer"
      ],
      "execution_count": 0,
      "outputs": []
    },
    {
      "cell_type": "code",
      "metadata": {
        "id": "byoOKgic8uLk",
        "colab_type": "code",
        "colab": {}
      },
      "source": [
        "# create an object from class\n",
        "# by default, CountVectorizer uses ’utf-8’ as the encoding to decode byte texts, which is the encoding used in our processed text\n",
        "count_vect = CountVectorizer()\n",
        "\n",
        "# learn (fit) the vocab dictionry and vetorize (transform) each review\n",
        "BoW_train_X = count_vect.fit_transform(train_X_ros['cleaned review'])\n",
        "# this returns a sparse matrix where each row represent a review\n",
        "# this is no longer a dataframe!"
      ],
      "execution_count": 0,
      "outputs": []
    },
    {
      "cell_type": "code",
      "metadata": {
        "id": "5YqnQjdh-mjk",
        "colab_type": "code",
        "outputId": "8823313f-bbc7-4e53-ed71-b910ab712f86",
        "colab": {
          "base_uri": "https://localhost:8080/",
          "height": 51
        }
      },
      "source": [
        "BoW_train_X"
      ],
      "execution_count": 14,
      "outputs": [
        {
          "output_type": "execute_result",
          "data": {
            "text/plain": [
              "<450110x73944 sparse matrix of type '<class 'numpy.int64'>'\n",
              "\twith 19953612 stored elements in Compressed Sparse Row format>"
            ]
          },
          "metadata": {
            "tags": []
          },
          "execution_count": 14
        }
      ]
    },
    {
      "cell_type": "markdown",
      "metadata": {
        "id": "fSFX6Ra78xl7",
        "colab_type": "text"
      },
      "source": [
        "We can see that the matrix has the number of reviews as rows and 73944 unique words in all reviews"
      ]
    },
    {
      "cell_type": "markdown",
      "metadata": {
        "id": "ZzH_tcXj_Hq3",
        "colab_type": "text"
      },
      "source": [
        "we also have to trasnform our validation set\n",
        "but be careful, we cannot train the vectorizer on the validation set, because after training, our model only knows how to classify inputs that has the same # of features. So if we had fit our vectorizer on the validation set, it might result in a matrix with different numbers of features."
      ]
    },
    {
      "cell_type": "code",
      "metadata": {
        "id": "SSIIsLMk_0an",
        "colab_type": "code",
        "colab": {}
      },
      "source": [
        "BoW_val_X = count_vect.transform(val_X['cleaned review'])"
      ],
      "execution_count": 0,
      "outputs": []
    },
    {
      "cell_type": "code",
      "metadata": {
        "id": "d0qtdmJjAZJH",
        "colab_type": "code",
        "outputId": "2ddebf30-4959-4bea-8714-29da8a82f9f0",
        "colab": {
          "base_uri": "https://localhost:8080/",
          "height": 51
        }
      },
      "source": [
        "BoW_val_X"
      ],
      "execution_count": 16,
      "outputs": [
        {
          "output_type": "execute_result",
          "data": {
            "text/plain": [
              "<35918x73944 sparse matrix of type '<class 'numpy.int64'>'\n",
              "\twith 1814781 stored elements in Compressed Sparse Row format>"
            ]
          },
          "metadata": {
            "tags": []
          },
          "execution_count": 16
        }
      ]
    },
    {
      "cell_type": "markdown",
      "metadata": {
        "id": "AenQpmaGAb7Q",
        "colab_type": "text"
      },
      "source": [
        "Note how that although the number of rows changed (to equal to the same number of reviews in the validation set), the number of columns is the same as our training BoW set!"
      ]
    },
    {
      "cell_type": "markdown",
      "metadata": {
        "id": "krqhSOZRAkGu",
        "colab_type": "text"
      },
      "source": [
        "First, we can just use the BoW matrix, i.e., the unique-word features as our only features and start training the model. But later, we can also add in features such as rating, and text length to see if it betters our result! But if we add these other features, make sure to normalize them as they can be quite large numbers"
      ]
    },
    {
      "cell_type": "code",
      "metadata": {
        "id": "OVptceIhd2BG",
        "colab_type": "code",
        "colab": {}
      },
      "source": [
        "# let's add the additional features to the training matrix\n",
        "train_extra = np.array(train_X_ros[['text length','word length','rating']], dtype=float)\n",
        "\n",
        "# normalize the extra features\n",
        "train_extra_min = train_extra.min(axis = 0) # get the min value for each column\n",
        "train_extra_max = train_extra.max(axis = 0) # get the max value for each column\n",
        "train_extra = (train_extra - train_extra_min)/(train_extra_max-train_extra_min) # normalize each column to be between 0~1\n",
        "\n",
        "# add these columns to our BoW matrix, remember to keep the sparse format\n",
        "BoW_train_X_extra = sparse.hstack((BoW_train_X, train_extra))"
      ],
      "execution_count": 0,
      "outputs": []
    },
    {
      "cell_type": "code",
      "metadata": {
        "id": "ZhH2EDXEpdcJ",
        "colab_type": "code",
        "outputId": "69867000-36b5-476e-efd5-c2ee3d28d2d7",
        "colab": {
          "base_uri": "https://localhost:8080/",
          "height": 34
        }
      },
      "source": [
        "train_extra.shape"
      ],
      "execution_count": 18,
      "outputs": [
        {
          "output_type": "execute_result",
          "data": {
            "text/plain": [
              "(450110, 3)"
            ]
          },
          "metadata": {
            "tags": []
          },
          "execution_count": 18
        }
      ]
    },
    {
      "cell_type": "code",
      "metadata": {
        "id": "U_5-2WuDhCvj",
        "colab_type": "code",
        "colab": {}
      },
      "source": [
        "# do the same for the validation X data\n",
        "\n",
        "# let's add the additional features to the validation matrix\n",
        "val_extra = np.array(val_X[['text length','word length','rating']], dtype=float)\n",
        "\n",
        "# normalize the extra features\n",
        "val_extra_min = val_extra.min(axis = 0) # get the min value for each column\n",
        "val_extra_max = val_extra.max(axis = 0) # get the max value for each column\n",
        "val_extra = (val_extra - val_extra_min)/(val_extra_max-val_extra_min) # normalize each column to be between 0~1\n",
        "\n",
        "# add these columns to our BoW matrix, remember to keep the sparse format\n",
        "BoW_val_X_extra = sparse.hstack((BoW_val_X, val_extra))"
      ],
      "execution_count": 0,
      "outputs": []
    },
    {
      "cell_type": "code",
      "metadata": {
        "id": "oe6J-uP4phBt",
        "colab_type": "code",
        "outputId": "ae029386-8aaf-4609-ddb8-a2f1bd739193",
        "colab": {
          "base_uri": "https://localhost:8080/",
          "height": 34
        }
      },
      "source": [
        "val_extra.shape"
      ],
      "execution_count": 20,
      "outputs": [
        {
          "output_type": "execute_result",
          "data": {
            "text/plain": [
              "(35918, 3)"
            ]
          },
          "metadata": {
            "tags": []
          },
          "execution_count": 20
        }
      ]
    },
    {
      "cell_type": "markdown",
      "metadata": {
        "id": "klJl21buxqD7",
        "colab_type": "text"
      },
      "source": [
        "## TF-IDF"
      ]
    },
    {
      "cell_type": "markdown",
      "metadata": {
        "id": "gCTVUO0FiUjI",
        "colab_type": "text"
      },
      "source": [
        "From the linear SVM implementation below, we can see that our `au_roc` score is very poor, almost the same as our Naive Bayes baseline model. We can guess that is because our word-vectors are not linearly separable in their 70000+ dimension space. Can we try to use TF-IDF and present them as vectors in a different way that makes the vectors more separable? This is why we want to try to use TF-IDF to represent our text. "
      ]
    },
    {
      "cell_type": "markdown",
      "metadata": {
        "id": "Hmisl-nkivpq",
        "colab_type": "text"
      },
      "source": [
        "TF-IDF is an acronym than stands for “Term Frequency — Inverse Document” Frequency which are the components of the resulting scores assigned to each word. \n",
        "\n",
        "Term Frequency: This summarizes how often a given word appears within a document.\n",
        "\n",
        "Inverse Document Frequency: This down scales words that appear a lot across documents."
      ]
    },
    {
      "cell_type": "code",
      "metadata": {
        "id": "-koVuewBmhJj",
        "colab_type": "code",
        "colab": {}
      },
      "source": [
        "from sklearn.feature_extraction.text import TfidfVectorizer"
      ],
      "execution_count": 0,
      "outputs": []
    },
    {
      "cell_type": "code",
      "metadata": {
        "id": "GEe-zguXlmcm",
        "colab_type": "code",
        "colab": {}
      },
      "source": [
        "# create an object from class\n",
        "# by default, TfidfVectorizer uses ’utf-8’ as the encoding to decode byte texts, which is the encoding used in our processed text\n",
        "tfidf_vect = TfidfVectorizer()"
      ],
      "execution_count": 0,
      "outputs": []
    },
    {
      "cell_type": "code",
      "metadata": {
        "id": "8NteSDG2wGBz",
        "colab_type": "code",
        "colab": {}
      },
      "source": [
        "# # learn (fit) the vocab dictionry from the entire data! not just the train!\n",
        "# tfidf_vect.fit(pd.concat([train_X_ros['cleaned review'], val_X['cleaned review']]))"
      ],
      "execution_count": 0,
      "outputs": []
    },
    {
      "cell_type": "code",
      "metadata": {
        "id": "eyRjxPMqmsQX",
        "colab_type": "code",
        "colab": {}
      },
      "source": [
        "# learn (fit) the vocab dictionry and vetorize (transform) each review\n",
        "tfidf_train_X = tfidf_vect.fit_transform(train_X_ros['cleaned review'])\n",
        "# this returns a sparse matrix where each row represent a review\n",
        "# this is no longer a dataframe!"
      ],
      "execution_count": 0,
      "outputs": []
    },
    {
      "cell_type": "code",
      "metadata": {
        "id": "3YapQrqRnlP1",
        "colab_type": "code",
        "outputId": "461cb399-801b-4c90-a232-837583e09025",
        "colab": {
          "base_uri": "https://localhost:8080/",
          "height": 51
        }
      },
      "source": [
        "tfidf_train_X"
      ],
      "execution_count": 25,
      "outputs": [
        {
          "output_type": "execute_result",
          "data": {
            "text/plain": [
              "<450110x73944 sparse matrix of type '<class 'numpy.float64'>'\n",
              "\twith 19953612 stored elements in Compressed Sparse Row format>"
            ]
          },
          "metadata": {
            "tags": []
          },
          "execution_count": 25
        }
      ]
    },
    {
      "cell_type": "markdown",
      "metadata": {
        "id": "7d50V-aMns7r",
        "colab_type": "text"
      },
      "source": [
        "We can see that the matrix has the number of reviews as rows and 73944 unique words in all reviews, same as our BoW of course.\n",
        "\n",
        "we also have to trasnform our validation set but be careful, we cannot train the vectorizer on the validation set, because after training, our model only knows how to classify inputs that has the same # of features. So if we had fit our vectorizer on the validation set, it might result in a matrix with different numbers of features."
      ]
    },
    {
      "cell_type": "code",
      "metadata": {
        "id": "WH_8CWQxn1tt",
        "colab_type": "code",
        "colab": {}
      },
      "source": [
        "tfidf_val_X = tfidf_vect.transform(val_X['cleaned review'])"
      ],
      "execution_count": 0,
      "outputs": []
    },
    {
      "cell_type": "code",
      "metadata": {
        "id": "GoBMZLuFo_er",
        "colab_type": "code",
        "outputId": "8bb2777c-e754-4acb-a82f-72785c7bc206",
        "colab": {
          "base_uri": "https://localhost:8080/",
          "height": 51
        }
      },
      "source": [
        "tfidf_val_X"
      ],
      "execution_count": 27,
      "outputs": [
        {
          "output_type": "execute_result",
          "data": {
            "text/plain": [
              "<35918x73944 sparse matrix of type '<class 'numpy.float64'>'\n",
              "\twith 1814781 stored elements in Compressed Sparse Row format>"
            ]
          },
          "metadata": {
            "tags": []
          },
          "execution_count": 27
        }
      ]
    },
    {
      "cell_type": "markdown",
      "metadata": {
        "id": "c0jO7BLvpBU8",
        "colab_type": "text"
      },
      "source": [
        "Similarly, add the 3 additioanl feature columns to the sparse matrix for both train and validation input."
      ]
    },
    {
      "cell_type": "code",
      "metadata": {
        "id": "S_MChQCpsCYE",
        "colab_type": "code",
        "outputId": "231b5226-c22b-4da2-c15f-02cc92efc0f0",
        "colab": {
          "base_uri": "https://localhost:8080/",
          "height": 51
        }
      },
      "source": [
        "# add these columns to our tfidf matrix, remember to keep the sparse format\n",
        "tfidf_train_X_extra = sparse.hstack((tfidf_train_X, train_extra))\n",
        "tfidf_train_X_extra"
      ],
      "execution_count": 28,
      "outputs": [
        {
          "output_type": "execute_result",
          "data": {
            "text/plain": [
              "<450110x73947 sparse matrix of type '<class 'numpy.float64'>'\n",
              "\twith 21272676 stored elements in COOrdinate format>"
            ]
          },
          "metadata": {
            "tags": []
          },
          "execution_count": 28
        }
      ]
    },
    {
      "cell_type": "code",
      "metadata": {
        "id": "ItLtF6zmsL4e",
        "colab_type": "code",
        "outputId": "6622bbfd-6781-46a9-be9a-f3621507bf71",
        "colab": {
          "base_uri": "https://localhost:8080/",
          "height": 51
        }
      },
      "source": [
        "# add these columns to our tfidf matrix, remember to keep the sparse format\n",
        "tfidf_val_X_extra = sparse.hstack((tfidf_val_X, val_extra))\n",
        "tfidf_val_X_extra"
      ],
      "execution_count": 29,
      "outputs": [
        {
          "output_type": "execute_result",
          "data": {
            "text/plain": [
              "<35918x73947 sparse matrix of type '<class 'numpy.float64'>'\n",
              "\twith 1921031 stored elements in COOrdinate format>"
            ]
          },
          "metadata": {
            "tags": []
          },
          "execution_count": 29
        }
      ]
    },
    {
      "cell_type": "markdown",
      "metadata": {
        "id": "dqLhhjIoBffZ",
        "colab_type": "text"
      },
      "source": [
        "# Single linear model (SVM) training"
      ]
    },
    {
      "cell_type": "code",
      "metadata": {
        "id": "PfgqzC5RJP1M",
        "colab_type": "code",
        "colab": {}
      },
      "source": [
        "from sklearn.svm import SVC\n",
        "from sklearn.linear_model import SGDClassifier\n",
        "from sklearn.metrics import roc_curve, auc, roc_auc_score, average_precision_score, confusion_matrix\n",
        "from sklearn.kernel_approximation import Nystroem"
      ],
      "execution_count": 0,
      "outputs": []
    },
    {
      "cell_type": "code",
      "metadata": {
        "id": "AQHNqrSBXgHU",
        "colab_type": "code",
        "outputId": "3968b6b3-b876-4c4b-ffb1-aadb54769798",
        "colab": {
          "base_uri": "https://localhost:8080/",
          "height": 51
        }
      },
      "source": [
        "# change the y-labels from dataframe to ndarray of shape (n_samples, ) for model inputs\n",
        "train_y_ros_arr = np.array(train_y_ros['label'])\n",
        "print(train_y_ros_arr.shape)\n",
        "\n",
        "val_y_arr = np.array(val_y['label'])\n",
        "print(val_y_arr.shape)"
      ],
      "execution_count": 31,
      "outputs": [
        {
          "output_type": "stream",
          "text": [
            "(450110,)\n",
            "(35918,)\n"
          ],
          "name": "stdout"
        }
      ]
    },
    {
      "cell_type": "code",
      "metadata": {
        "id": "iCiuZqinn9fr",
        "colab_type": "code",
        "colab": {}
      },
      "source": [
        "# create a function to print all the results in one place\n",
        "\n",
        "def get_results(y_true, y_pred):\n",
        "  '''\n",
        "  Params:\n",
        "  -------------------------------------\n",
        "  y_true: ndarray of shape (n_samples, ) of true class labels \\n\n",
        "  y_pred: ndarray of shape (n_samples, ) of predicted class labels\n",
        "  '''\n",
        "\n",
        "  print('au_roc score:', roc_auc_score(y_true, y_pred))\n",
        "  print('average precision score:', average_precision_score(y_true, y_pred))\n",
        "\n",
        "  plt.plot([0, 1], [0, 1], 'k--')\n",
        "  plt.xlim([0.0, 1.0])\n",
        "  plt.ylim([0.0, 1.0])\n",
        "  plt.xlabel('FPR')\n",
        "  plt.ylabel('TPR')\n",
        "  plt.title('ROC')\n",
        "\n",
        "  fpr, tpr, thresholds = roc_curve(y_true, y_pred)\n",
        "  curve = plt.plot(fpr, tpr, label = 'SVM' + ' (AUC = %0.3f)' % roc_auc_score(y_true, y_pred))\n",
        "  plt.legend(loc='center left', bbox_to_anchor=(1, 0.5))\n",
        "\n",
        "  plt.show()\n",
        "\n",
        "  print()\n",
        "  print('Confusion Matrix:')\n",
        "  print(pd.DataFrame(confusion_matrix(y_true, y_pred), index=['actual negative', 'actual positive'], \n",
        "             columns=['predicted negative', 'predicted positive']))\n",
        "  \n",
        "  return"
      ],
      "execution_count": 0,
      "outputs": []
    },
    {
      "cell_type": "markdown",
      "metadata": {
        "id": "Pd8TUvm1JKk4",
        "colab_type": "text"
      },
      "source": [
        "## linear SVM with BoW data"
      ]
    },
    {
      "cell_type": "code",
      "metadata": {
        "id": "mS9kNVqGBjCU",
        "colab_type": "code",
        "colab": {}
      },
      "source": [
        "# create the svc model object\n",
        "svclassifier = SVC(kernel='linear')"
      ],
      "execution_count": 0,
      "outputs": []
    },
    {
      "cell_type": "code",
      "metadata": {
        "id": "RatYoe8SKdJi",
        "colab_type": "code",
        "colab": {}
      },
      "source": [
        "# fit the model to our training data\n",
        "# do not start running this if you're not prepared to wait for 3 hours\n",
        "svclassifier.fit(BoW_train_X, train_y_ros)"
      ],
      "execution_count": 0,
      "outputs": []
    },
    {
      "cell_type": "markdown",
      "metadata": {
        "id": "G_tbvWR2MGdc",
        "colab_type": "text"
      },
      "source": [
        "As stated by the API, `svc` does not handle large datasets (> 10,000 instances) well, and this fit took forever! For large datasets consider using `sklearn.svm.LinearSVC` or `sklearn.linear_model.SGDClassifier` instead. However, those are all linear kernel models and does not offer me the option of choosing kernels such as `sigmoid` or `poly`. Any work around?\n",
        "\n",
        "Look into [`sklearn.kernel_approximation.Nystroem`](https://scikit-learn.org/stable/modules/generated/sklearn.kernel_approximation.Nystroem.html#sklearn.kernel_approximation.Nystroem)"
      ]
    },
    {
      "cell_type": "code",
      "metadata": {
        "id": "0jcV1MHZOVCc",
        "colab_type": "code",
        "colab": {}
      },
      "source": [
        "# create SGDclassifier object\n",
        "sgd = SGDClassifier()"
      ],
      "execution_count": 0,
      "outputs": []
    },
    {
      "cell_type": "code",
      "metadata": {
        "id": "y62ilBawXUVr",
        "colab_type": "code",
        "outputId": "8c123881-c9d3-4f61-9843-e9e4fc938733",
        "colab": {
          "base_uri": "https://localhost:8080/",
          "height": 119
        }
      },
      "source": [
        "# fit the model to our training data\n",
        "sgd.fit(BoW_train_X, train_y_ros_arr)"
      ],
      "execution_count": 0,
      "outputs": [
        {
          "output_type": "execute_result",
          "data": {
            "text/plain": [
              "SGDClassifier(alpha=0.0001, average=False, class_weight=None,\n",
              "              early_stopping=False, epsilon=0.1, eta0=0.0, fit_intercept=True,\n",
              "              l1_ratio=0.15, learning_rate='optimal', loss='hinge',\n",
              "              max_iter=1000, n_iter_no_change=5, n_jobs=None, penalty='l2',\n",
              "              power_t=0.5, random_state=None, shuffle=True, tol=0.001,\n",
              "              validation_fraction=0.1, verbose=0, warm_start=False)"
            ]
          },
          "metadata": {
            "tags": []
          },
          "execution_count": 26
        }
      ]
    },
    {
      "cell_type": "code",
      "metadata": {
        "id": "eVsta17_XxTD",
        "colab_type": "code",
        "colab": {}
      },
      "source": [
        "# predict the labels for our validation set\n",
        "val_pred = sgd.predict(BoW_val_X)\n",
        "# this returns a ndarray of shape (n_samples, )"
      ],
      "execution_count": 0,
      "outputs": []
    },
    {
      "cell_type": "code",
      "metadata": {
        "id": "4SbZ8nvAYPI0",
        "colab_type": "code",
        "outputId": "a4c24ff9-241b-4d1d-828d-d0afd9e93c28",
        "colab": {
          "base_uri": "https://localhost:8080/",
          "height": 34
        }
      },
      "source": [
        "val_pred.shape"
      ],
      "execution_count": 0,
      "outputs": [
        {
          "output_type": "execute_result",
          "data": {
            "text/plain": [
              "(35918,)"
            ]
          },
          "metadata": {
            "tags": []
          },
          "execution_count": 28
        }
      ]
    },
    {
      "cell_type": "code",
      "metadata": {
        "id": "VyVn1TkmYP6H",
        "colab_type": "code",
        "outputId": "5356b5f4-1460-49b3-d1b5-3116daec4b08",
        "colab": {
          "base_uri": "https://localhost:8080/",
          "height": 34
        }
      },
      "source": [
        "roc_auc_score(val_y_arr, val_pred)"
      ],
      "execution_count": 0,
      "outputs": [
        {
          "output_type": "execute_result",
          "data": {
            "text/plain": [
              "0.6572681024687531"
            ]
          },
          "metadata": {
            "tags": []
          },
          "execution_count": 29
        }
      ]
    },
    {
      "cell_type": "code",
      "metadata": {
        "id": "CZ1f3-kPjnRU",
        "colab_type": "code",
        "outputId": "7bb09358-87f7-44ba-aa47-ede930a094a1",
        "colab": {
          "base_uri": "https://localhost:8080/",
          "height": 34
        }
      },
      "source": [
        "average_precision_score(val_y_arr, val_pred)"
      ],
      "execution_count": 0,
      "outputs": [
        {
          "output_type": "execute_result",
          "data": {
            "text/plain": [
              "0.14619804580348653"
            ]
          },
          "metadata": {
            "tags": []
          },
          "execution_count": 30
        }
      ]
    },
    {
      "cell_type": "code",
      "metadata": {
        "id": "1s6Q9PFobPS9",
        "colab_type": "code",
        "outputId": "6fce5d58-f92b-4d82-d9d2-a530f3d4a7c5",
        "colab": {
          "base_uri": "https://localhost:8080/",
          "height": 295
        }
      },
      "source": [
        "plt.plot([0, 1], [0, 1], 'k--')\n",
        "plt.xlim([0.0, 1.0])\n",
        "plt.ylim([0.0, 1.0])\n",
        "plt.xlabel('FPR')\n",
        "plt.ylabel('TPR')\n",
        "plt.title('ROC')\n",
        "\n",
        "fpr, tpr, thresholds = roc_curve(val_y_arr, val_pred)\n",
        "curve = plt.plot(fpr, tpr, label = 'linear SVM' + ' (AUC = %0.3f)' % roc_auc_score(val_y_arr, val_pred))\n",
        "plt.legend(loc='center left', bbox_to_anchor=(1, 0.5))\n",
        "\n",
        "plt.show()"
      ],
      "execution_count": 0,
      "outputs": [
        {
          "output_type": "display_data",
          "data": {
            "image/png": "[encoded data removed]",
            "text/plain": [
              "<Figure size 432x288 with 1 Axes>"
            ]
          },
          "metadata": {
            "tags": [],
            "needs_background": "light"
          }
        }
      ]
    },
    {
      "cell_type": "code",
      "metadata": {
        "id": "jU7pEJUNb77-",
        "colab_type": "code",
        "outputId": "17f3b399-14b9-47a2-93c2-7eb524a90d56",
        "colab": {
          "base_uri": "https://localhost:8080/",
          "height": 51
        }
      },
      "source": [
        "confusion_matrix(val_y_arr, val_pred)"
      ],
      "execution_count": 0,
      "outputs": [
        {
          "output_type": "execute_result",
          "data": {
            "text/plain": [
              "array([[16873, 15397],\n",
              "       [  760,  2888]])"
            ]
          },
          "metadata": {
            "tags": []
          },
          "execution_count": 32
        }
      ]
    },
    {
      "cell_type": "markdown",
      "metadata": {
        "id": "NZ0i-ztacx5p",
        "colab_type": "text"
      },
      "source": [
        "Thus in binary classification, the count of true negatives is :`C_{0,0}`, false negatives is :`C_{1,0}`, true positives is :`C_{1,1}` and false positives is :`C_{0,1}`."
      ]
    },
    {
      "cell_type": "code",
      "metadata": {
        "id": "lM8AqA8UcWzK",
        "colab_type": "code",
        "outputId": "02241bcb-1070-4fc0-a452-b2291852fa32",
        "colab": {
          "base_uri": "https://localhost:8080/",
          "height": 111
        }
      },
      "source": [
        "pd.DataFrame(confusion_matrix(val_y_arr, val_pred), index=['actual negative', 'actual positive'], \n",
        "             columns=['predicted negative', 'predicted positive'])"
      ],
      "execution_count": 0,
      "outputs": [
        {
          "output_type": "execute_result",
          "data": {
            "text/html": [
              "<div>\n",
              "<style scoped>\n",
              "    .dataframe tbody tr th:only-of-type {\n",
              "        vertical-align: middle;\n",
              "    }\n",
              "\n",
              "    .dataframe tbody tr th {\n",
              "        vertical-align: top;\n",
              "    }\n",
              "\n",
              "    .dataframe thead th {\n",
              "        text-align: right;\n",
              "    }\n",
              "</style>\n",
              "<table border=\"1\" class=\"dataframe\">\n",
              "  <thead>\n",
              "    <tr style=\"text-align: right;\">\n",
              "      <th></th>\n",
              "      <th>predicted negative</th>\n",
              "      <th>predicted positive</th>\n",
              "    </tr>\n",
              "  </thead>\n",
              "  <tbody>\n",
              "    <tr>\n",
              "      <th>actual negative</th>\n",
              "      <td>16873</td>\n",
              "      <td>15397</td>\n",
              "    </tr>\n",
              "    <tr>\n",
              "      <th>actual positive</th>\n",
              "      <td>760</td>\n",
              "      <td>2888</td>\n",
              "    </tr>\n",
              "  </tbody>\n",
              "</table>\n",
              "</div>"
            ],
            "text/plain": [
              "                 predicted negative  predicted positive\n",
              "actual negative               16873               15397\n",
              "actual positive                 760                2888"
            ]
          },
          "metadata": {
            "tags": []
          },
          "execution_count": 33
        }
      ]
    },
    {
      "cell_type": "markdown",
      "metadata": {
        "id": "QQV5n5UIdaBg",
        "colab_type": "text"
      },
      "source": [
        "## linear SVM BoW_extra data"
      ]
    },
    {
      "cell_type": "code",
      "metadata": {
        "id": "nr7H8CUAh-5v",
        "colab_type": "code",
        "colab": {}
      },
      "source": [
        "# create SGDclassifier object\n",
        "sgd = SGDClassifier()"
      ],
      "execution_count": 0,
      "outputs": []
    },
    {
      "cell_type": "code",
      "metadata": {
        "id": "028EhuKviDqL",
        "colab_type": "code",
        "outputId": "fe522ccf-9b99-48da-b4c7-239be60d5582",
        "colab": {
          "base_uri": "https://localhost:8080/",
          "height": 119
        }
      },
      "source": [
        "# fit the model to our training data with extra features\n",
        "sgd.fit(BoW_train_X_extra, train_y_ros_arr)"
      ],
      "execution_count": 0,
      "outputs": [
        {
          "output_type": "execute_result",
          "data": {
            "text/plain": [
              "SGDClassifier(alpha=0.0001, average=False, class_weight=None,\n",
              "              early_stopping=False, epsilon=0.1, eta0=0.0, fit_intercept=True,\n",
              "              l1_ratio=0.15, learning_rate='optimal', loss='hinge',\n",
              "              max_iter=1000, n_iter_no_change=5, n_jobs=None, penalty='l2',\n",
              "              power_t=0.5, random_state=None, shuffle=True, tol=0.001,\n",
              "              validation_fraction=0.1, verbose=0, warm_start=False)"
            ]
          },
          "metadata": {
            "tags": []
          },
          "execution_count": 35
        }
      ]
    },
    {
      "cell_type": "code",
      "metadata": {
        "id": "b_eAeqiJiJcg",
        "colab_type": "code",
        "colab": {}
      },
      "source": [
        "# predict the labels for our validation set\n",
        "val_pred = sgd.predict(BoW_val_X_extra)\n",
        "# this returns a ndarray of shape (n_samples, )"
      ],
      "execution_count": 0,
      "outputs": []
    },
    {
      "cell_type": "code",
      "metadata": {
        "id": "aFh204NDiPSW",
        "colab_type": "code",
        "outputId": "d4a825f5-3695-4b0e-f78a-3df27f9f4de3",
        "colab": {
          "base_uri": "https://localhost:8080/",
          "height": 34
        }
      },
      "source": [
        "roc_auc_score(val_y_arr, val_pred)"
      ],
      "execution_count": 0,
      "outputs": [
        {
          "output_type": "execute_result",
          "data": {
            "text/plain": [
              "0.6587193393597877"
            ]
          },
          "metadata": {
            "tags": []
          },
          "execution_count": 37
        }
      ]
    },
    {
      "cell_type": "code",
      "metadata": {
        "id": "gNUGfEzTjLNK",
        "colab_type": "code",
        "outputId": "2870090d-9123-4aa6-fa46-e425a15e31b7",
        "colab": {
          "base_uri": "https://localhost:8080/",
          "height": 34
        }
      },
      "source": [
        "average_precision_score(val_y_arr, val_pred)"
      ],
      "execution_count": 0,
      "outputs": [
        {
          "output_type": "execute_result",
          "data": {
            "text/plain": [
              "0.14910364605554677"
            ]
          },
          "metadata": {
            "tags": []
          },
          "execution_count": 38
        }
      ]
    },
    {
      "cell_type": "markdown",
      "metadata": {
        "id": "Z4qi09pbiYaV",
        "colab_type": "text"
      },
      "source": [
        "Well, both metrics are a tiny bit better. So we will use the matrix that inludes these extra features from now on."
      ]
    },
    {
      "cell_type": "code",
      "metadata": {
        "id": "0NZYfrdFiTE1",
        "colab_type": "code",
        "outputId": "ee18e2fb-cc77-4739-d8a3-9dcb6f5b8036",
        "colab": {
          "base_uri": "https://localhost:8080/",
          "height": 295
        }
      },
      "source": [
        "plt.plot([0, 1], [0, 1], 'k--')\n",
        "plt.xlim([0.0, 1.0])\n",
        "plt.ylim([0.0, 1.0])\n",
        "plt.xlabel('FPR')\n",
        "plt.ylabel('TPR')\n",
        "plt.title('ROC')\n",
        "\n",
        "fpr, tpr, thresholds = roc_curve(val_y_arr, val_pred)\n",
        "curve = plt.plot(fpr, tpr, label = 'linear SVM' + ' (AUC = %0.3f)' % roc_auc_score(val_y_arr, val_pred))\n",
        "plt.legend(loc='center left', bbox_to_anchor=(1, 0.5))\n",
        "\n",
        "plt.show()"
      ],
      "execution_count": 0,
      "outputs": [
        {
          "output_type": "display_data",
          "data": {
            "image/png": "[encoded data removed]",
            "text/plain": [
              "<Figure size 432x288 with 1 Axes>"
            ]
          },
          "metadata": {
            "tags": [],
            "needs_background": "light"
          }
        }
      ]
    },
    {
      "cell_type": "code",
      "metadata": {
        "id": "eFTlvjHJiXPu",
        "colab_type": "code",
        "outputId": "7ac1f41c-2bae-4c56-ec90-c7a34bb0da12",
        "colab": {
          "base_uri": "https://localhost:8080/",
          "height": 111
        }
      },
      "source": [
        "pd.DataFrame(confusion_matrix(val_y_arr, val_pred), index=['actual negative', 'actual positive'], \n",
        "             columns=['predicted negative', 'predicted positive'])"
      ],
      "execution_count": 0,
      "outputs": [
        {
          "output_type": "execute_result",
          "data": {
            "text/html": [
              "<div>\n",
              "<style scoped>\n",
              "    .dataframe tbody tr th:only-of-type {\n",
              "        vertical-align: middle;\n",
              "    }\n",
              "\n",
              "    .dataframe tbody tr th {\n",
              "        vertical-align: top;\n",
              "    }\n",
              "\n",
              "    .dataframe thead th {\n",
              "        text-align: right;\n",
              "    }\n",
              "</style>\n",
              "<table border=\"1\" class=\"dataframe\">\n",
              "  <thead>\n",
              "    <tr style=\"text-align: right;\">\n",
              "      <th></th>\n",
              "      <th>predicted negative</th>\n",
              "      <th>predicted positive</th>\n",
              "    </tr>\n",
              "  </thead>\n",
              "  <tbody>\n",
              "    <tr>\n",
              "      <th>actual negative</th>\n",
              "      <td>18957</td>\n",
              "      <td>13313</td>\n",
              "    </tr>\n",
              "    <tr>\n",
              "      <th>actual positive</th>\n",
              "      <td>985</td>\n",
              "      <td>2663</td>\n",
              "    </tr>\n",
              "  </tbody>\n",
              "</table>\n",
              "</div>"
            ],
            "text/plain": [
              "                 predicted negative  predicted positive\n",
              "actual negative               18957               13313\n",
              "actual positive                 985                2663"
            ]
          },
          "metadata": {
            "tags": []
          },
          "execution_count": 40
        }
      ]
    },
    {
      "cell_type": "markdown",
      "metadata": {
        "id": "Qk8Qor7DilXe",
        "colab_type": "text"
      },
      "source": [
        "Although we have have less true negatives, we do now have more true positives."
      ]
    },
    {
      "cell_type": "markdown",
      "metadata": {
        "id": "XGMl44w9ufIm",
        "colab_type": "text"
      },
      "source": [
        "## linear SVM with tfidf_extra data"
      ]
    },
    {
      "cell_type": "code",
      "metadata": {
        "colab_type": "code",
        "id": "NzAuNmIyutTA",
        "colab": {}
      },
      "source": [
        "# create SGDclassifier object\n",
        "sgd = SGDClassifier()"
      ],
      "execution_count": 0,
      "outputs": []
    },
    {
      "cell_type": "code",
      "metadata": {
        "colab_type": "code",
        "outputId": "f303ad7f-befe-41ce-a35d-eae4d4e47c1f",
        "id": "W-mY0JMSutTE",
        "colab": {
          "base_uri": "https://localhost:8080/",
          "height": 119
        }
      },
      "source": [
        "# fit the model to our training data\n",
        "sgd.fit(tfidf_train_X_extra, train_y_ros_arr)"
      ],
      "execution_count": 0,
      "outputs": [
        {
          "output_type": "execute_result",
          "data": {
            "text/plain": [
              "SGDClassifier(alpha=0.0001, average=False, class_weight=None,\n",
              "              early_stopping=False, epsilon=0.1, eta0=0.0, fit_intercept=True,\n",
              "              l1_ratio=0.15, learning_rate='optimal', loss='hinge',\n",
              "              max_iter=1000, n_iter_no_change=5, n_jobs=None, penalty='l2',\n",
              "              power_t=0.5, random_state=None, shuffle=True, tol=0.001,\n",
              "              validation_fraction=0.1, verbose=0, warm_start=False)"
            ]
          },
          "metadata": {
            "tags": []
          },
          "execution_count": 78
        }
      ]
    },
    {
      "cell_type": "code",
      "metadata": {
        "colab_type": "code",
        "id": "W6TMllCYutTH",
        "colab": {}
      },
      "source": [
        "# predict the labels for our validation set\n",
        "val_pred = sgd.predict(tfidf_val_X_extra)\n",
        "# this returns a ndarray of shape (n_samples, )"
      ],
      "execution_count": 0,
      "outputs": []
    },
    {
      "cell_type": "code",
      "metadata": {
        "colab_type": "code",
        "outputId": "453bb369-d2d1-4ce1-b89b-411c91396aad",
        "id": "pbrDWo74utTK",
        "colab": {
          "base_uri": "https://localhost:8080/",
          "height": 34
        }
      },
      "source": [
        "val_pred.shape"
      ],
      "execution_count": 0,
      "outputs": [
        {
          "output_type": "execute_result",
          "data": {
            "text/plain": [
              "(35918,)"
            ]
          },
          "metadata": {
            "tags": []
          },
          "execution_count": 82
        }
      ]
    },
    {
      "cell_type": "code",
      "metadata": {
        "id": "KcA4sFYBvGHm",
        "colab_type": "code",
        "outputId": "117f2c7c-af56-4f5d-bef5-694cd3a2c001",
        "colab": {
          "base_uri": "https://localhost:8080/",
          "height": 414
        }
      },
      "source": [
        "get_results(val_y_arr, val_pred)"
      ],
      "execution_count": 0,
      "outputs": [
        {
          "output_type": "stream",
          "text": [
            "au_roc score: 0.6685711788283073\n",
            "average precision score: 0.15360105056306184\n"
          ],
          "name": "stdout"
        },
        {
          "output_type": "display_data",
          "data": {
            "image/png": "[encoded data removed]",
            "text/plain": [
              "<Figure size 432x288 with 1 Axes>"
            ]
          },
          "metadata": {
            "tags": [],
            "needs_background": "light"
          }
        },
        {
          "output_type": "stream",
          "text": [
            "\n",
            "Confusion Matrix:\n",
            "                 predicted negative  predicted positive\n",
            "actual negative               19239               13031\n",
            "actual positive                 945                2703\n"
          ],
          "name": "stdout"
        }
      ]
    },
    {
      "cell_type": "markdown",
      "metadata": {
        "id": "rGIluWigvibg",
        "colab_type": "text"
      },
      "source": [
        "From this single implementation, it doesn't seem like that TF-IDF does anything significantly better than BoW. This means that the only options we have left to try are n-grams and possible different kernels.\n",
        "Let's try kernels first with the TF-IDF vectors, since it did a little better."
      ]
    },
    {
      "cell_type": "markdown",
      "metadata": {
        "id": "4oq6_YbEEoYa",
        "colab_type": "text"
      },
      "source": [
        "# Single kernelized model training with TF-IDF_extra data"
      ]
    },
    {
      "cell_type": "markdown",
      "metadata": {
        "id": "oDuO_66bPLLf",
        "colab_type": "text"
      },
      "source": [
        "[some basics about the kernel trick](https://towardsdatascience.com/the-kernel-trick-c98cdbcaeb3f)"
      ]
    },
    {
      "cell_type": "markdown",
      "metadata": {
        "id": "resQ6qCIEs7k",
        "colab_type": "text"
      },
      "source": [
        "Kernel feature functions perform non-linear transformations of the input vectors to 'transform' them into linearly separable data, which can serve as a basis for linear classification or other algorithms.\n",
        "\n"
      ]
    },
    {
      "cell_type": "markdown",
      "metadata": {
        "id": "4A-r12yQHSgR",
        "colab_type": "text"
      },
      "source": [
        "Since there has not been much empirical work using approximate embeddings, it is advisable to compare results against exact kernel methods when possible. However, since it will take about 55 hours to train an exact kernelized `svc` on our training data, we won't be able to compare results."
      ]
    },
    {
      "cell_type": "markdown",
      "metadata": {
        "id": "mTse4p4hHf5e",
        "colab_type": "text"
      },
      "source": [
        "The Nystroem method, as implemented in `Nystroem` is a general method for low-rank approximations of kernels. It achieves this by essentially **subsampling** the data on which the kernel is evaluated. By default `Nystroem` uses the `rbf` kernel, but it can use any kernel function or a precomputed kernel matrix. The number of samples used - which is also the dimensionality of the features computed - is given by the parameter `n_components`."
      ]
    },
    {
      "cell_type": "markdown",
      "metadata": {
        "id": "1SoHtP_ajVRS",
        "colab_type": "text"
      },
      "source": [
        "## rbf kernel approx"
      ]
    },
    {
      "cell_type": "code",
      "metadata": {
        "id": "mMBEa7hxQfKB",
        "colab_type": "code",
        "colab": {}
      },
      "source": [
        "# initialize kernel object for use \n",
        "rbf_kernel = Nystroem(kernel = 'rbf',\n",
        "                      random_state=1,\n",
        "                      gamma = 1,\n",
        "                      n_components=700)"
      ],
      "execution_count": 0,
      "outputs": []
    },
    {
      "cell_type": "code",
      "metadata": {
        "id": "gB2_kG6WQwsd",
        "colab_type": "code",
        "colab": {}
      },
      "source": [
        "# kernel transform our input data, so for both train and validation\n",
        "tfidf_train_X_extra_rbf = rbf_kernel.fit_transform(tfidf_train_X_extra)\n",
        "tfidf_val_X_extra_rbf = rbf_kernel.transform(tfidf_val_X_extra)"
      ],
      "execution_count": 0,
      "outputs": []
    },
    {
      "cell_type": "code",
      "metadata": {
        "id": "rAwWoXSGRWzP",
        "colab_type": "code",
        "outputId": "a7742ed8-2a4c-4bf2-c229-bbcc271ef256",
        "colab": {
          "base_uri": "https://localhost:8080/",
          "height": 34
        }
      },
      "source": [
        "tfidf_train_X_extra_rbf.shape"
      ],
      "execution_count": 37,
      "outputs": [
        {
          "output_type": "execute_result",
          "data": {
            "text/plain": [
              "(450110, 700)"
            ]
          },
          "metadata": {
            "tags": []
          },
          "execution_count": 37
        }
      ]
    },
    {
      "cell_type": "code",
      "metadata": {
        "id": "8xHR9YeARgUn",
        "colab_type": "code",
        "outputId": "5a0d7db5-7306-48cf-c86e-3beb0977773a",
        "colab": {
          "base_uri": "https://localhost:8080/",
          "height": 119
        }
      },
      "source": [
        "# create SGDclassifier object\n",
        "sgd = SGDClassifier()\n",
        "\n",
        "# fit the model to our training data\n",
        "sgd.fit(tfidf_train_X_extra_rbf, train_y_ros_arr)"
      ],
      "execution_count": 38,
      "outputs": [
        {
          "output_type": "execute_result",
          "data": {
            "text/plain": [
              "SGDClassifier(alpha=0.0001, average=False, class_weight=None,\n",
              "              early_stopping=False, epsilon=0.1, eta0=0.0, fit_intercept=True,\n",
              "              l1_ratio=0.15, learning_rate='optimal', loss='hinge',\n",
              "              max_iter=1000, n_iter_no_change=5, n_jobs=None, penalty='l2',\n",
              "              power_t=0.5, random_state=None, shuffle=True, tol=0.001,\n",
              "              validation_fraction=0.1, verbose=0, warm_start=False)"
            ]
          },
          "metadata": {
            "tags": []
          },
          "execution_count": 38
        }
      ]
    },
    {
      "cell_type": "code",
      "metadata": {
        "id": "OA8j3dvvR0F5",
        "colab_type": "code",
        "colab": {}
      },
      "source": [
        "# predict the labels for our validation set\n",
        "val_pred = sgd.predict(tfidf_val_X_extra_rbf)\n",
        "# this returns a ndarray of shape (n_samples, )"
      ],
      "execution_count": 0,
      "outputs": []
    },
    {
      "cell_type": "code",
      "metadata": {
        "id": "P98QUL7BR3yg",
        "colab_type": "code",
        "outputId": "5f9f8cdb-bad9-42ac-cb6e-d96435a0309c",
        "colab": {
          "base_uri": "https://localhost:8080/",
          "height": 34
        }
      },
      "source": [
        "val_pred.shape"
      ],
      "execution_count": 40,
      "outputs": [
        {
          "output_type": "execute_result",
          "data": {
            "text/plain": [
              "(35918,)"
            ]
          },
          "metadata": {
            "tags": []
          },
          "execution_count": 40
        }
      ]
    },
    {
      "cell_type": "code",
      "metadata": {
        "id": "vrZlhhHcR73f",
        "colab_type": "code",
        "outputId": "faa3ceee-bc67-4e37-a0f5-a9e0af309303",
        "colab": {
          "base_uri": "https://localhost:8080/",
          "height": 414
        }
      },
      "source": [
        "get_results(val_y_arr, val_pred)"
      ],
      "execution_count": 43,
      "outputs": [
        {
          "output_type": "stream",
          "text": [
            "au_roc score: 0.6453591696839713\n",
            "average precision score: 0.14157923781019235\n"
          ],
          "name": "stdout"
        },
        {
          "output_type": "display_data",
          "data": {
            "image/png": "[encoded data removed]",
            "text/plain": [
              "<Figure size 432x288 with 1 Axes>"
            ]
          },
          "metadata": {
            "tags": [],
            "needs_background": "light"
          }
        },
        {
          "output_type": "stream",
          "text": [
            "\n",
            "Confusion Matrix:\n",
            "                 predicted negative  predicted positive\n",
            "actual negative               16644               15626\n",
            "actual positive                 821                2827\n"
          ],
          "name": "stdout"
        }
      ]
    },
    {
      "cell_type": "markdown",
      "metadata": {
        "id": "A1Y4sZWrXsRq",
        "colab_type": "text"
      },
      "source": [
        "## sigmoid kernel approx"
      ]
    },
    {
      "cell_type": "code",
      "metadata": {
        "colab_type": "code",
        "id": "ex1IMRONX-QA",
        "colab": {}
      },
      "source": [
        "# initialize kernel object for use \n",
        "sigmoid_kernel = Nystroem(kernel='sigmoid',\n",
        "                          gamma=1,\n",
        "                          random_state=1,\n",
        "                          n_components=570)"
      ],
      "execution_count": 0,
      "outputs": []
    },
    {
      "cell_type": "code",
      "metadata": {
        "colab_type": "code",
        "id": "TxAPdHEoX-QF",
        "colab": {}
      },
      "source": [
        "# kernel transform our input data, so for both train and validation\n",
        "tfidf_train_X_extra_sig = sigmoid_kernel.fit_transform(tfidf_train_X_extra)\n",
        "tfidf_val_X_extra_sig = sigmoid_kernel.transform(tfidf_val_X_extra)"
      ],
      "execution_count": 0,
      "outputs": []
    },
    {
      "cell_type": "code",
      "metadata": {
        "colab_type": "code",
        "outputId": "739b3e8b-1179-4912-cc9a-18369c4748e3",
        "id": "oD80KbzHX-QI",
        "colab": {
          "base_uri": "https://localhost:8080/",
          "height": 34
        }
      },
      "source": [
        "tfidf_train_X_extra_sig.shape"
      ],
      "execution_count": 46,
      "outputs": [
        {
          "output_type": "execute_result",
          "data": {
            "text/plain": [
              "(450110, 570)"
            ]
          },
          "metadata": {
            "tags": []
          },
          "execution_count": 46
        }
      ]
    },
    {
      "cell_type": "code",
      "metadata": {
        "colab_type": "code",
        "outputId": "6c3a5e3f-3583-43e9-a141-1e8113ddd4a5",
        "id": "ZyQ0Q7pLX-QM",
        "colab": {
          "base_uri": "https://localhost:8080/",
          "height": 119
        }
      },
      "source": [
        "# create SGDclassifier object\n",
        "sgd = SGDClassifier()\n",
        "\n",
        "# fit the model to our training data\n",
        "sgd.fit(tfidf_train_X_extra_sig, train_y_ros_arr)"
      ],
      "execution_count": 47,
      "outputs": [
        {
          "output_type": "execute_result",
          "data": {
            "text/plain": [
              "SGDClassifier(alpha=0.0001, average=False, class_weight=None,\n",
              "              early_stopping=False, epsilon=0.1, eta0=0.0, fit_intercept=True,\n",
              "              l1_ratio=0.15, learning_rate='optimal', loss='hinge',\n",
              "              max_iter=1000, n_iter_no_change=5, n_jobs=None, penalty='l2',\n",
              "              power_t=0.5, random_state=None, shuffle=True, tol=0.001,\n",
              "              validation_fraction=0.1, verbose=0, warm_start=False)"
            ]
          },
          "metadata": {
            "tags": []
          },
          "execution_count": 47
        }
      ]
    },
    {
      "cell_type": "code",
      "metadata": {
        "colab_type": "code",
        "id": "J7AWxziIX-QO",
        "colab": {}
      },
      "source": [
        "# predict the labels for our validation set\n",
        "val_pred = sgd.predict(tfidf_val_X_extra_sig)\n",
        "# this returns a ndarray of shape (n_samples, )"
      ],
      "execution_count": 0,
      "outputs": []
    },
    {
      "cell_type": "code",
      "metadata": {
        "colab_type": "code",
        "outputId": "5979464a-863f-41cb-b694-d3fe06202987",
        "id": "EUKBYbW-X-QQ",
        "colab": {
          "base_uri": "https://localhost:8080/",
          "height": 34
        }
      },
      "source": [
        "val_pred.shape"
      ],
      "execution_count": 49,
      "outputs": [
        {
          "output_type": "execute_result",
          "data": {
            "text/plain": [
              "(35918,)"
            ]
          },
          "metadata": {
            "tags": []
          },
          "execution_count": 49
        }
      ]
    },
    {
      "cell_type": "code",
      "metadata": {
        "colab_type": "code",
        "outputId": "04bdb155-a286-452f-c8b5-90a3b5565e55",
        "id": "1I5bwNUtX-QR",
        "colab": {
          "base_uri": "https://localhost:8080/",
          "height": 414
        }
      },
      "source": [
        "get_results(val_y_arr, val_pred)"
      ],
      "execution_count": 50,
      "outputs": [
        {
          "output_type": "stream",
          "text": [
            "au_roc score: 0.6229486235926042\n",
            "average precision score: 0.13170397292507263\n"
          ],
          "name": "stdout"
        },
        {
          "output_type": "display_data",
          "data": {
            "image/png": "[encoded data removed]",
            "text/plain": [
              "<Figure size 432x288 with 1 Axes>"
            ]
          },
          "metadata": {
            "tags": [],
            "needs_background": "light"
          }
        },
        {
          "output_type": "stream",
          "text": [
            "\n",
            "Confusion Matrix:\n",
            "                 predicted negative  predicted positive\n",
            "actual negative               12305               19965\n",
            "actual positive                 494                3154\n"
          ],
          "name": "stdout"
        }
      ]
    },
    {
      "cell_type": "markdown",
      "metadata": {
        "colab_type": "text",
        "id": "nLCfDuIOad9e"
      },
      "source": [
        "## poly kernel approx"
      ]
    },
    {
      "cell_type": "code",
      "metadata": {
        "colab_type": "code",
        "id": "u-SNc02xad9f",
        "colab": {}
      },
      "source": [
        "# initialize kernel object for use \n",
        "poly_kernel = Nystroem(kernel='poly',\n",
        "                       gamma=1,\n",
        "                       degree = 3,\n",
        "                       random_state=1,\n",
        "                       n_components=500)"
      ],
      "execution_count": 0,
      "outputs": []
    },
    {
      "cell_type": "code",
      "metadata": {
        "colab_type": "code",
        "id": "C9gQOF5Dad9i",
        "colab": {}
      },
      "source": [
        "# kernel transform our input data, so for both train and validation\n",
        "tfidf_train_X_extra_poly = poly_kernel.fit_transform(tfidf_train_X_extra)\n",
        "tfidf_val_X_extra_poly = poly_kernel.transform(tfidf_val_X_extra)"
      ],
      "execution_count": 0,
      "outputs": []
    },
    {
      "cell_type": "code",
      "metadata": {
        "colab_type": "code",
        "outputId": "86993ed1-4b47-4f3d-c3ac-01059eb0d46d",
        "id": "YZfCK5p2ad9j",
        "colab": {
          "base_uri": "https://localhost:8080/",
          "height": 34
        }
      },
      "source": [
        "tfidf_train_X_extra_poly.shape"
      ],
      "execution_count": 53,
      "outputs": [
        {
          "output_type": "execute_result",
          "data": {
            "text/plain": [
              "(450110, 500)"
            ]
          },
          "metadata": {
            "tags": []
          },
          "execution_count": 53
        }
      ]
    },
    {
      "cell_type": "code",
      "metadata": {
        "colab_type": "code",
        "outputId": "4793f03e-13af-4a72-944b-c576655e9d3e",
        "id": "GNUlRTarad9m",
        "colab": {
          "base_uri": "https://localhost:8080/",
          "height": 119
        }
      },
      "source": [
        "# create SGDclassifier object\n",
        "sgd = SGDClassifier()\n",
        "\n",
        "# fit the model to our training data\n",
        "sgd.fit(tfidf_train_X_extra_poly, train_y_ros_arr)"
      ],
      "execution_count": 54,
      "outputs": [
        {
          "output_type": "execute_result",
          "data": {
            "text/plain": [
              "SGDClassifier(alpha=0.0001, average=False, class_weight=None,\n",
              "              early_stopping=False, epsilon=0.1, eta0=0.0, fit_intercept=True,\n",
              "              l1_ratio=0.15, learning_rate='optimal', loss='hinge',\n",
              "              max_iter=1000, n_iter_no_change=5, n_jobs=None, penalty='l2',\n",
              "              power_t=0.5, random_state=None, shuffle=True, tol=0.001,\n",
              "              validation_fraction=0.1, verbose=0, warm_start=False)"
            ]
          },
          "metadata": {
            "tags": []
          },
          "execution_count": 54
        }
      ]
    },
    {
      "cell_type": "code",
      "metadata": {
        "colab_type": "code",
        "id": "RydLFmy0ad9n",
        "colab": {}
      },
      "source": [
        "# predict the labels for our validation set\n",
        "val_pred = sgd.predict(tfidf_val_X_extra_poly)\n",
        "# this returns a ndarray of shape (n_samples, )"
      ],
      "execution_count": 0,
      "outputs": []
    },
    {
      "cell_type": "code",
      "metadata": {
        "colab_type": "code",
        "outputId": "b2fe6ba6-f64e-444f-eb2f-8cb93f241a81",
        "id": "m3_iPeBQad9p",
        "colab": {
          "base_uri": "https://localhost:8080/",
          "height": 34
        }
      },
      "source": [
        "val_pred.shape"
      ],
      "execution_count": 56,
      "outputs": [
        {
          "output_type": "execute_result",
          "data": {
            "text/plain": [
              "(35918,)"
            ]
          },
          "metadata": {
            "tags": []
          },
          "execution_count": 56
        }
      ]
    },
    {
      "cell_type": "code",
      "metadata": {
        "colab_type": "code",
        "outputId": "9205bcdd-12cf-4000-fa89-e5585c4c995a",
        "id": "o-pUE8SWad9r",
        "colab": {
          "base_uri": "https://localhost:8080/",
          "height": 414
        }
      },
      "source": [
        "get_results(val_y_arr, val_pred)"
      ],
      "execution_count": 57,
      "outputs": [
        {
          "output_type": "stream",
          "text": [
            "au_roc score: 0.6572081471302987\n",
            "average precision score: 0.14869283865170696\n"
          ],
          "name": "stdout"
        },
        {
          "output_type": "display_data",
          "data": {
            "image/png": "[encoded data removed]",
            "text/plain": [
              "<Figure size 432x288 with 1 Axes>"
            ]
          },
          "metadata": {
            "tags": [],
            "needs_background": "light"
          }
        },
        {
          "output_type": "stream",
          "text": [
            "\n",
            "Confusion Matrix:\n",
            "                 predicted negative  predicted positive\n",
            "actual negative               19116               13154\n",
            "actual positive                1014                2634\n"
          ],
          "name": "stdout"
        }
      ]
    },
    {
      "cell_type": "markdown",
      "metadata": {
        "id": "l-shzqXwjfGo",
        "colab_type": "text"
      },
      "source": [
        "## additive_chi2 kernel approx "
      ]
    },
    {
      "cell_type": "markdown",
      "metadata": {
        "id": "z3r1jX86j8UG",
        "colab_type": "text"
      },
      "source": [
        "`additive_chi2` does not support sparse matrices. But just converting the smaller validation data from sparse back to dense array representation crashed my session and exceeded all of my available RAM. Put a pin in it for now."
      ]
    },
    {
      "cell_type": "code",
      "metadata": {
        "colab_type": "code",
        "id": "72pZ7hTjjfYw",
        "colab": {}
      },
      "source": [
        "# initialize kernel object for use \n",
        "adc2_kernel = Nystroem(kernel = 'additive_chi2',\n",
        "                       random_state=1,\n",
        "                       gamma = 1,\n",
        "                       n_components=530)"
      ],
      "execution_count": 0,
      "outputs": []
    },
    {
      "cell_type": "code",
      "metadata": {
        "colab_type": "code",
        "id": "ZWjmwlY0jfYz",
        "colab": {
          "base_uri": "https://localhost:8080/",
          "height": 341
        },
        "outputId": "ec823dae-59e5-450f-9053-1058adfea3c3"
      },
      "source": [
        "# kernel transform our input data, so for both train and validation\n",
        "tfidf_train_X_extra_adc2 = adc2_kernel.fit_transform(tfidf_train_X_extra)\n",
        "tfidf_val_X_extra_adc2 = adc2_kernel.transform(tfidf_val_X_extra)"
      ],
      "execution_count": 34,
      "outputs": [
        {
          "output_type": "error",
          "ename": "ValueError",
          "evalue": "ignored",
          "traceback": [
            "\u001b[0;31m---------------------------------------------------------------------------\u001b[0m",
            "\u001b[0;31mValueError\u001b[0m                                Traceback (most recent call last)",
            "\u001b[0;32m<ipython-input-34-ff50591e0470>\u001b[0m in \u001b[0;36m<module>\u001b[0;34m()\u001b[0m\n\u001b[1;32m      1\u001b[0m \u001b[0;31m# kernel transform our input data, so for both train and validation\u001b[0m\u001b[0;34m\u001b[0m\u001b[0;34m\u001b[0m\u001b[0;34m\u001b[0m\u001b[0m\n\u001b[0;32m----> 2\u001b[0;31m \u001b[0mtfidf_train_X_extra_adc2\u001b[0m \u001b[0;34m=\u001b[0m \u001b[0madc2_kernel\u001b[0m\u001b[0;34m.\u001b[0m\u001b[0mfit_transform\u001b[0m\u001b[0;34m(\u001b[0m\u001b[0mtfidf_train_X_extra\u001b[0m\u001b[0;34m)\u001b[0m\u001b[0;34m\u001b[0m\u001b[0;34m\u001b[0m\u001b[0m\n\u001b[0m\u001b[1;32m      3\u001b[0m \u001b[0mtfidf_val_X_extra_adc2\u001b[0m \u001b[0;34m=\u001b[0m \u001b[0madc2_kernel\u001b[0m\u001b[0;34m.\u001b[0m\u001b[0mtransform\u001b[0m\u001b[0;34m(\u001b[0m\u001b[0mtfidf_val_X_extra\u001b[0m\u001b[0;34m)\u001b[0m\u001b[0;34m\u001b[0m\u001b[0;34m\u001b[0m\u001b[0m\n",
            "\u001b[0;32m/usr/local/lib/python3.6/dist-packages/sklearn/base.py\u001b[0m in \u001b[0;36mfit_transform\u001b[0;34m(self, X, y, **fit_params)\u001b[0m\n\u001b[1;32m    569\u001b[0m         \u001b[0;32mif\u001b[0m \u001b[0my\u001b[0m \u001b[0;32mis\u001b[0m \u001b[0;32mNone\u001b[0m\u001b[0;34m:\u001b[0m\u001b[0;34m\u001b[0m\u001b[0;34m\u001b[0m\u001b[0m\n\u001b[1;32m    570\u001b[0m             \u001b[0;31m# fit method of arity 1 (unsupervised transformation)\u001b[0m\u001b[0;34m\u001b[0m\u001b[0;34m\u001b[0m\u001b[0;34m\u001b[0m\u001b[0m\n\u001b[0;32m--> 571\u001b[0;31m             \u001b[0;32mreturn\u001b[0m \u001b[0mself\u001b[0m\u001b[0;34m.\u001b[0m\u001b[0mfit\u001b[0m\u001b[0;34m(\u001b[0m\u001b[0mX\u001b[0m\u001b[0;34m,\u001b[0m \u001b[0;34m**\u001b[0m\u001b[0mfit_params\u001b[0m\u001b[0;34m)\u001b[0m\u001b[0;34m.\u001b[0m\u001b[0mtransform\u001b[0m\u001b[0;34m(\u001b[0m\u001b[0mX\u001b[0m\u001b[0;34m)\u001b[0m\u001b[0;34m\u001b[0m\u001b[0;34m\u001b[0m\u001b[0m\n\u001b[0m\u001b[1;32m    572\u001b[0m         \u001b[0;32melse\u001b[0m\u001b[0;34m:\u001b[0m\u001b[0;34m\u001b[0m\u001b[0;34m\u001b[0m\u001b[0m\n\u001b[1;32m    573\u001b[0m             \u001b[0;31m# fit method of arity 2 (supervised transformation)\u001b[0m\u001b[0;34m\u001b[0m\u001b[0;34m\u001b[0m\u001b[0;34m\u001b[0m\u001b[0m\n",
            "\u001b[0;32m/usr/local/lib/python3.6/dist-packages/sklearn/kernel_approximation.py\u001b[0m in \u001b[0;36mfit\u001b[0;34m(self, X, y)\u001b[0m\n\u001b[1;32m    564\u001b[0m         basis_kernel = pairwise_kernels(basis, metric=self.kernel,\n\u001b[1;32m    565\u001b[0m                                         \u001b[0mfilter_params\u001b[0m\u001b[0;34m=\u001b[0m\u001b[0;32mTrue\u001b[0m\u001b[0;34m,\u001b[0m\u001b[0;34m\u001b[0m\u001b[0;34m\u001b[0m\u001b[0m\n\u001b[0;32m--> 566\u001b[0;31m                                         **self._get_kernel_params())\n\u001b[0m\u001b[1;32m    567\u001b[0m \u001b[0;34m\u001b[0m\u001b[0m\n\u001b[1;32m    568\u001b[0m         \u001b[0;31m# sqrt of kernel matrix on basis vectors\u001b[0m\u001b[0;34m\u001b[0m\u001b[0;34m\u001b[0m\u001b[0;34m\u001b[0m\u001b[0m\n",
            "\u001b[0;32m/usr/local/lib/python3.6/dist-packages/sklearn/metrics/pairwise.py\u001b[0m in \u001b[0;36mpairwise_kernels\u001b[0;34m(X, Y, metric, filter_params, n_jobs, **kwds)\u001b[0m\n\u001b[1;32m   1910\u001b[0m         \u001b[0;32mraise\u001b[0m \u001b[0mValueError\u001b[0m\u001b[0;34m(\u001b[0m\u001b[0;34m\"Unknown kernel %r\"\u001b[0m \u001b[0;34m%\u001b[0m \u001b[0mmetric\u001b[0m\u001b[0;34m)\u001b[0m\u001b[0;34m\u001b[0m\u001b[0;34m\u001b[0m\u001b[0m\n\u001b[1;32m   1911\u001b[0m \u001b[0;34m\u001b[0m\u001b[0m\n\u001b[0;32m-> 1912\u001b[0;31m     \u001b[0;32mreturn\u001b[0m \u001b[0m_parallel_pairwise\u001b[0m\u001b[0;34m(\u001b[0m\u001b[0mX\u001b[0m\u001b[0;34m,\u001b[0m \u001b[0mY\u001b[0m\u001b[0;34m,\u001b[0m \u001b[0mfunc\u001b[0m\u001b[0;34m,\u001b[0m \u001b[0mn_jobs\u001b[0m\u001b[0;34m,\u001b[0m \u001b[0;34m**\u001b[0m\u001b[0mkwds\u001b[0m\u001b[0;34m)\u001b[0m\u001b[0;34m\u001b[0m\u001b[0;34m\u001b[0m\u001b[0m\n\u001b[0m",
            "\u001b[0;32m/usr/local/lib/python3.6/dist-packages/sklearn/metrics/pairwise.py\u001b[0m in \u001b[0;36m_parallel_pairwise\u001b[0;34m(X, Y, func, n_jobs, **kwds)\u001b[0m\n\u001b[1;32m   1346\u001b[0m \u001b[0;34m\u001b[0m\u001b[0m\n\u001b[1;32m   1347\u001b[0m     \u001b[0;32mif\u001b[0m \u001b[0meffective_n_jobs\u001b[0m\u001b[0;34m(\u001b[0m\u001b[0mn_jobs\u001b[0m\u001b[0;34m)\u001b[0m \u001b[0;34m==\u001b[0m \u001b[0;36m1\u001b[0m\u001b[0;34m:\u001b[0m\u001b[0;34m\u001b[0m\u001b[0;34m\u001b[0m\u001b[0m\n\u001b[0;32m-> 1348\u001b[0;31m         \u001b[0;32mreturn\u001b[0m \u001b[0mfunc\u001b[0m\u001b[0;34m(\u001b[0m\u001b[0mX\u001b[0m\u001b[0;34m,\u001b[0m \u001b[0mY\u001b[0m\u001b[0;34m,\u001b[0m \u001b[0;34m**\u001b[0m\u001b[0mkwds\u001b[0m\u001b[0;34m)\u001b[0m\u001b[0;34m\u001b[0m\u001b[0;34m\u001b[0m\u001b[0m\n\u001b[0m\u001b[1;32m   1349\u001b[0m \u001b[0;34m\u001b[0m\u001b[0m\n\u001b[1;32m   1350\u001b[0m     \u001b[0;31m# enforce a threading backend to prevent data communication overhead\u001b[0m\u001b[0;34m\u001b[0m\u001b[0;34m\u001b[0m\u001b[0;34m\u001b[0m\u001b[0m\n",
            "\u001b[0;32m/usr/local/lib/python3.6/dist-packages/sklearn/metrics/pairwise.py\u001b[0m in \u001b[0;36madditive_chi2_kernel\u001b[0;34m(X, Y)\u001b[0m\n\u001b[1;32m   1228\u001b[0m     \"\"\"\n\u001b[1;32m   1229\u001b[0m     \u001b[0;32mif\u001b[0m \u001b[0missparse\u001b[0m\u001b[0;34m(\u001b[0m\u001b[0mX\u001b[0m\u001b[0;34m)\u001b[0m \u001b[0;32mor\u001b[0m \u001b[0missparse\u001b[0m\u001b[0;34m(\u001b[0m\u001b[0mY\u001b[0m\u001b[0;34m)\u001b[0m\u001b[0;34m:\u001b[0m\u001b[0;34m\u001b[0m\u001b[0;34m\u001b[0m\u001b[0m\n\u001b[0;32m-> 1230\u001b[0;31m         \u001b[0;32mraise\u001b[0m \u001b[0mValueError\u001b[0m\u001b[0;34m(\u001b[0m\u001b[0;34m\"additive_chi2 does not support sparse matrices.\"\u001b[0m\u001b[0;34m)\u001b[0m\u001b[0;34m\u001b[0m\u001b[0;34m\u001b[0m\u001b[0m\n\u001b[0m\u001b[1;32m   1231\u001b[0m     \u001b[0mX\u001b[0m\u001b[0;34m,\u001b[0m \u001b[0mY\u001b[0m \u001b[0;34m=\u001b[0m \u001b[0mcheck_pairwise_arrays\u001b[0m\u001b[0;34m(\u001b[0m\u001b[0mX\u001b[0m\u001b[0;34m,\u001b[0m \u001b[0mY\u001b[0m\u001b[0;34m)\u001b[0m\u001b[0;34m\u001b[0m\u001b[0;34m\u001b[0m\u001b[0m\n\u001b[1;32m   1232\u001b[0m     \u001b[0;32mif\u001b[0m \u001b[0;34m(\u001b[0m\u001b[0mX\u001b[0m \u001b[0;34m<\u001b[0m \u001b[0;36m0\u001b[0m\u001b[0;34m)\u001b[0m\u001b[0;34m.\u001b[0m\u001b[0many\u001b[0m\u001b[0;34m(\u001b[0m\u001b[0;34m)\u001b[0m\u001b[0;34m:\u001b[0m\u001b[0;34m\u001b[0m\u001b[0;34m\u001b[0m\u001b[0m\n",
            "\u001b[0;31mValueError\u001b[0m: additive_chi2 does not support sparse matrices."
          ]
        }
      ]
    },
    {
      "cell_type": "code",
      "metadata": {
        "colab_type": "code",
        "id": "wHHAvwVajfY1",
        "colab": {}
      },
      "source": [
        "tfidf_train_X_extra_adc2.shape"
      ],
      "execution_count": 0,
      "outputs": []
    },
    {
      "cell_type": "code",
      "metadata": {
        "colab_type": "code",
        "id": "DzLqp4VgjfY4",
        "colab": {}
      },
      "source": [
        "# create SGDclassifier object\n",
        "sgd = SGDClassifier()\n",
        "\n",
        "# fit the model to our training data\n",
        "sgd.fit(tfidf_train_X_extra_adc2, train_y_ros_arr)"
      ],
      "execution_count": 0,
      "outputs": []
    },
    {
      "cell_type": "code",
      "metadata": {
        "colab_type": "code",
        "id": "OMXN6NYXjfY6",
        "colab": {}
      },
      "source": [
        "# predict the labels for our validation set\n",
        "val_pred = sgd.predict(tfidf_val_X_extra_adc2)\n",
        "# this returns a ndarray of shape (n_samples, )"
      ],
      "execution_count": 0,
      "outputs": []
    },
    {
      "cell_type": "code",
      "metadata": {
        "colab_type": "code",
        "id": "hJ-CCfxzjfY8",
        "colab": {}
      },
      "source": [
        "val_pred.shape"
      ],
      "execution_count": 0,
      "outputs": []
    },
    {
      "cell_type": "code",
      "metadata": {
        "colab_type": "code",
        "id": "er1wNB_sjfY_",
        "colab": {}
      },
      "source": [
        "get_results(val_y_arr, val_pred)"
      ],
      "execution_count": 0,
      "outputs": []
    },
    {
      "cell_type": "markdown",
      "metadata": {
        "colab_type": "text",
        "id": "asqISU1pkNVx"
      },
      "source": [
        "## chi2 kernel approx "
      ]
    },
    {
      "cell_type": "markdown",
      "metadata": {
        "colab_type": "text",
        "id": "YS2SNb-qkNVy"
      },
      "source": [
        "`chi2` does not support sparse matrices. But just converting the smaller validation data from sparse back to dense array representation crashed my session and exceeded all of my available RAM. Put a pin in it for now."
      ]
    },
    {
      "cell_type": "code",
      "metadata": {
        "colab_type": "code",
        "id": "KLzzNscdkNVy",
        "colab": {}
      },
      "source": [
        "# initialize kernel object for use \n",
        "c2_kernel = Nystroem(kernel = 'chi2',\n",
        "                     random_state=1,\n",
        "                     gamma = 1,\n",
        "                     n_components=540)"
      ],
      "execution_count": 0,
      "outputs": []
    },
    {
      "cell_type": "code",
      "metadata": {
        "colab_type": "code",
        "outputId": "6eedb178-5b69-4aca-c6d9-d528992dbeba",
        "id": "_1JXCpYqkNV2",
        "colab": {
          "base_uri": "https://localhost:8080/",
          "height": 341
        }
      },
      "source": [
        "# kernel transform our input data, so for both train and validation\n",
        "tfidf_train_X_extra_c2 = c2_kernel.fit_transform(tfidf_train_X_extra)\n",
        "tfidf_val_X_extra_c2 = c2_kernel.transform(tfidf_val_X_extra)"
      ],
      "execution_count": 42,
      "outputs": [
        {
          "output_type": "error",
          "ename": "ValueError",
          "evalue": "ignored",
          "traceback": [
            "\u001b[0;31m---------------------------------------------------------------------------\u001b[0m",
            "\u001b[0;31mValueError\u001b[0m                                Traceback (most recent call last)",
            "\u001b[0;32m<ipython-input-42-8eaaf248fbcb>\u001b[0m in \u001b[0;36m<module>\u001b[0;34m()\u001b[0m\n\u001b[1;32m      1\u001b[0m \u001b[0;31m# kernel transform our input data, so for both train and validation\u001b[0m\u001b[0;34m\u001b[0m\u001b[0;34m\u001b[0m\u001b[0;34m\u001b[0m\u001b[0m\n\u001b[0;32m----> 2\u001b[0;31m \u001b[0mtfidf_train_X_extra_c2\u001b[0m \u001b[0;34m=\u001b[0m \u001b[0mc2_kernel\u001b[0m\u001b[0;34m.\u001b[0m\u001b[0mfit_transform\u001b[0m\u001b[0;34m(\u001b[0m\u001b[0mtfidf_train_X_extra\u001b[0m\u001b[0;34m)\u001b[0m\u001b[0;34m\u001b[0m\u001b[0;34m\u001b[0m\u001b[0m\n\u001b[0m\u001b[1;32m      3\u001b[0m \u001b[0mtfidf_val_X_extra_c2\u001b[0m \u001b[0;34m=\u001b[0m \u001b[0mc2_kernel\u001b[0m\u001b[0;34m.\u001b[0m\u001b[0mtransform\u001b[0m\u001b[0;34m(\u001b[0m\u001b[0mtfidf_val_X_extra\u001b[0m\u001b[0;34m)\u001b[0m\u001b[0;34m\u001b[0m\u001b[0;34m\u001b[0m\u001b[0m\n",
            "\u001b[0;32m/usr/local/lib/python3.6/dist-packages/sklearn/base.py\u001b[0m in \u001b[0;36mfit_transform\u001b[0;34m(self, X, y, **fit_params)\u001b[0m\n\u001b[1;32m    569\u001b[0m         \u001b[0;32mif\u001b[0m \u001b[0my\u001b[0m \u001b[0;32mis\u001b[0m \u001b[0;32mNone\u001b[0m\u001b[0;34m:\u001b[0m\u001b[0;34m\u001b[0m\u001b[0;34m\u001b[0m\u001b[0m\n\u001b[1;32m    570\u001b[0m             \u001b[0;31m# fit method of arity 1 (unsupervised transformation)\u001b[0m\u001b[0;34m\u001b[0m\u001b[0;34m\u001b[0m\u001b[0;34m\u001b[0m\u001b[0m\n\u001b[0;32m--> 571\u001b[0;31m             \u001b[0;32mreturn\u001b[0m \u001b[0mself\u001b[0m\u001b[0;34m.\u001b[0m\u001b[0mfit\u001b[0m\u001b[0;34m(\u001b[0m\u001b[0mX\u001b[0m\u001b[0;34m,\u001b[0m \u001b[0;34m**\u001b[0m\u001b[0mfit_params\u001b[0m\u001b[0;34m)\u001b[0m\u001b[0;34m.\u001b[0m\u001b[0mtransform\u001b[0m\u001b[0;34m(\u001b[0m\u001b[0mX\u001b[0m\u001b[0;34m)\u001b[0m\u001b[0;34m\u001b[0m\u001b[0;34m\u001b[0m\u001b[0m\n\u001b[0m\u001b[1;32m    572\u001b[0m         \u001b[0;32melse\u001b[0m\u001b[0;34m:\u001b[0m\u001b[0;34m\u001b[0m\u001b[0;34m\u001b[0m\u001b[0m\n\u001b[1;32m    573\u001b[0m             \u001b[0;31m# fit method of arity 2 (supervised transformation)\u001b[0m\u001b[0;34m\u001b[0m\u001b[0;34m\u001b[0m\u001b[0;34m\u001b[0m\u001b[0m\n",
            "\u001b[0;32m/usr/local/lib/python3.6/dist-packages/sklearn/kernel_approximation.py\u001b[0m in \u001b[0;36mfit\u001b[0;34m(self, X, y)\u001b[0m\n\u001b[1;32m    564\u001b[0m         basis_kernel = pairwise_kernels(basis, metric=self.kernel,\n\u001b[1;32m    565\u001b[0m                                         \u001b[0mfilter_params\u001b[0m\u001b[0;34m=\u001b[0m\u001b[0;32mTrue\u001b[0m\u001b[0;34m,\u001b[0m\u001b[0;34m\u001b[0m\u001b[0;34m\u001b[0m\u001b[0m\n\u001b[0;32m--> 566\u001b[0;31m                                         **self._get_kernel_params())\n\u001b[0m\u001b[1;32m    567\u001b[0m \u001b[0;34m\u001b[0m\u001b[0m\n\u001b[1;32m    568\u001b[0m         \u001b[0;31m# sqrt of kernel matrix on basis vectors\u001b[0m\u001b[0;34m\u001b[0m\u001b[0;34m\u001b[0m\u001b[0;34m\u001b[0m\u001b[0m\n",
            "\u001b[0;32m/usr/local/lib/python3.6/dist-packages/sklearn/metrics/pairwise.py\u001b[0m in \u001b[0;36mpairwise_kernels\u001b[0;34m(X, Y, metric, filter_params, n_jobs, **kwds)\u001b[0m\n\u001b[1;32m   1910\u001b[0m         \u001b[0;32mraise\u001b[0m \u001b[0mValueError\u001b[0m\u001b[0;34m(\u001b[0m\u001b[0;34m\"Unknown kernel %r\"\u001b[0m \u001b[0;34m%\u001b[0m \u001b[0mmetric\u001b[0m\u001b[0;34m)\u001b[0m\u001b[0;34m\u001b[0m\u001b[0;34m\u001b[0m\u001b[0m\n\u001b[1;32m   1911\u001b[0m \u001b[0;34m\u001b[0m\u001b[0m\n\u001b[0;32m-> 1912\u001b[0;31m     \u001b[0;32mreturn\u001b[0m \u001b[0m_parallel_pairwise\u001b[0m\u001b[0;34m(\u001b[0m\u001b[0mX\u001b[0m\u001b[0;34m,\u001b[0m \u001b[0mY\u001b[0m\u001b[0;34m,\u001b[0m \u001b[0mfunc\u001b[0m\u001b[0;34m,\u001b[0m \u001b[0mn_jobs\u001b[0m\u001b[0;34m,\u001b[0m \u001b[0;34m**\u001b[0m\u001b[0mkwds\u001b[0m\u001b[0;34m)\u001b[0m\u001b[0;34m\u001b[0m\u001b[0;34m\u001b[0m\u001b[0m\n\u001b[0m",
            "\u001b[0;32m/usr/local/lib/python3.6/dist-packages/sklearn/metrics/pairwise.py\u001b[0m in \u001b[0;36m_parallel_pairwise\u001b[0;34m(X, Y, func, n_jobs, **kwds)\u001b[0m\n\u001b[1;32m   1346\u001b[0m \u001b[0;34m\u001b[0m\u001b[0m\n\u001b[1;32m   1347\u001b[0m     \u001b[0;32mif\u001b[0m \u001b[0meffective_n_jobs\u001b[0m\u001b[0;34m(\u001b[0m\u001b[0mn_jobs\u001b[0m\u001b[0;34m)\u001b[0m \u001b[0;34m==\u001b[0m \u001b[0;36m1\u001b[0m\u001b[0;34m:\u001b[0m\u001b[0;34m\u001b[0m\u001b[0;34m\u001b[0m\u001b[0m\n\u001b[0;32m-> 1348\u001b[0;31m         \u001b[0;32mreturn\u001b[0m \u001b[0mfunc\u001b[0m\u001b[0;34m(\u001b[0m\u001b[0mX\u001b[0m\u001b[0;34m,\u001b[0m \u001b[0mY\u001b[0m\u001b[0;34m,\u001b[0m \u001b[0;34m**\u001b[0m\u001b[0mkwds\u001b[0m\u001b[0;34m)\u001b[0m\u001b[0;34m\u001b[0m\u001b[0;34m\u001b[0m\u001b[0m\n\u001b[0m\u001b[1;32m   1349\u001b[0m \u001b[0;34m\u001b[0m\u001b[0m\n\u001b[1;32m   1350\u001b[0m     \u001b[0;31m# enforce a threading backend to prevent data communication overhead\u001b[0m\u001b[0;34m\u001b[0m\u001b[0;34m\u001b[0m\u001b[0;34m\u001b[0m\u001b[0m\n",
            "\u001b[0;32m/usr/local/lib/python3.6/dist-packages/sklearn/metrics/pairwise.py\u001b[0m in \u001b[0;36mchi2_kernel\u001b[0;34m(X, Y, gamma)\u001b[0m\n\u001b[1;32m   1283\u001b[0m         \u001b[0mto\u001b[0m \u001b[0mthe\u001b[0m \u001b[0madditive\u001b[0m \u001b[0mversion\u001b[0m \u001b[0mof\u001b[0m \u001b[0mthis\u001b[0m \u001b[0mkernel\u001b[0m\u001b[0;34m.\u001b[0m\u001b[0;34m\u001b[0m\u001b[0;34m\u001b[0m\u001b[0m\n\u001b[1;32m   1284\u001b[0m     \"\"\"\n\u001b[0;32m-> 1285\u001b[0;31m     \u001b[0mK\u001b[0m \u001b[0;34m=\u001b[0m \u001b[0madditive_chi2_kernel\u001b[0m\u001b[0;34m(\u001b[0m\u001b[0mX\u001b[0m\u001b[0;34m,\u001b[0m \u001b[0mY\u001b[0m\u001b[0;34m)\u001b[0m\u001b[0;34m\u001b[0m\u001b[0;34m\u001b[0m\u001b[0m\n\u001b[0m\u001b[1;32m   1286\u001b[0m     \u001b[0mK\u001b[0m \u001b[0;34m*=\u001b[0m \u001b[0mgamma\u001b[0m\u001b[0;34m\u001b[0m\u001b[0;34m\u001b[0m\u001b[0m\n\u001b[1;32m   1287\u001b[0m     \u001b[0;32mreturn\u001b[0m \u001b[0mnp\u001b[0m\u001b[0;34m.\u001b[0m\u001b[0mexp\u001b[0m\u001b[0;34m(\u001b[0m\u001b[0mK\u001b[0m\u001b[0;34m,\u001b[0m \u001b[0mK\u001b[0m\u001b[0;34m)\u001b[0m\u001b[0;34m\u001b[0m\u001b[0;34m\u001b[0m\u001b[0m\n",
            "\u001b[0;32m/usr/local/lib/python3.6/dist-packages/sklearn/metrics/pairwise.py\u001b[0m in \u001b[0;36madditive_chi2_kernel\u001b[0;34m(X, Y)\u001b[0m\n\u001b[1;32m   1228\u001b[0m     \"\"\"\n\u001b[1;32m   1229\u001b[0m     \u001b[0;32mif\u001b[0m \u001b[0missparse\u001b[0m\u001b[0;34m(\u001b[0m\u001b[0mX\u001b[0m\u001b[0;34m)\u001b[0m \u001b[0;32mor\u001b[0m \u001b[0missparse\u001b[0m\u001b[0;34m(\u001b[0m\u001b[0mY\u001b[0m\u001b[0;34m)\u001b[0m\u001b[0;34m:\u001b[0m\u001b[0;34m\u001b[0m\u001b[0;34m\u001b[0m\u001b[0m\n\u001b[0;32m-> 1230\u001b[0;31m         \u001b[0;32mraise\u001b[0m \u001b[0mValueError\u001b[0m\u001b[0;34m(\u001b[0m\u001b[0;34m\"additive_chi2 does not support sparse matrices.\"\u001b[0m\u001b[0;34m)\u001b[0m\u001b[0;34m\u001b[0m\u001b[0;34m\u001b[0m\u001b[0m\n\u001b[0m\u001b[1;32m   1231\u001b[0m     \u001b[0mX\u001b[0m\u001b[0;34m,\u001b[0m \u001b[0mY\u001b[0m \u001b[0;34m=\u001b[0m \u001b[0mcheck_pairwise_arrays\u001b[0m\u001b[0;34m(\u001b[0m\u001b[0mX\u001b[0m\u001b[0;34m,\u001b[0m \u001b[0mY\u001b[0m\u001b[0;34m)\u001b[0m\u001b[0;34m\u001b[0m\u001b[0;34m\u001b[0m\u001b[0m\n\u001b[1;32m   1232\u001b[0m     \u001b[0;32mif\u001b[0m \u001b[0;34m(\u001b[0m\u001b[0mX\u001b[0m \u001b[0;34m<\u001b[0m \u001b[0;36m0\u001b[0m\u001b[0;34m)\u001b[0m\u001b[0;34m.\u001b[0m\u001b[0many\u001b[0m\u001b[0;34m(\u001b[0m\u001b[0;34m)\u001b[0m\u001b[0;34m:\u001b[0m\u001b[0;34m\u001b[0m\u001b[0;34m\u001b[0m\u001b[0m\n",
            "\u001b[0;31mValueError\u001b[0m: additive_chi2 does not support sparse matrices."
          ]
        }
      ]
    },
    {
      "cell_type": "code",
      "metadata": {
        "colab_type": "code",
        "id": "HybWD2AOkNV5",
        "colab": {}
      },
      "source": [
        "tfidf_train_X_extra_c2.shape"
      ],
      "execution_count": 0,
      "outputs": []
    },
    {
      "cell_type": "code",
      "metadata": {
        "colab_type": "code",
        "id": "RzPfNQa1kNV7",
        "colab": {}
      },
      "source": [
        "# create SGDclassifier object\n",
        "sgd = SGDClassifier()\n",
        "\n",
        "# fit the model to our training data\n",
        "sgd.fit(tfidf_train_X_extra_c2, train_y_ros_arr)"
      ],
      "execution_count": 0,
      "outputs": []
    },
    {
      "cell_type": "code",
      "metadata": {
        "colab_type": "code",
        "id": "l6KqiOpWkNV9",
        "colab": {}
      },
      "source": [
        "# predict the labels for our validation set\n",
        "val_pred = sgd.predict(tfidf_val_X_extra_c2)\n",
        "# this returns a ndarray of shape (n_samples, )"
      ],
      "execution_count": 0,
      "outputs": []
    },
    {
      "cell_type": "code",
      "metadata": {
        "colab_type": "code",
        "id": "gmalfcNJkNV-",
        "colab": {}
      },
      "source": [
        "val_pred.shape"
      ],
      "execution_count": 0,
      "outputs": []
    },
    {
      "cell_type": "code",
      "metadata": {
        "colab_type": "code",
        "id": "_bZ5iyNykNWA",
        "colab": {}
      },
      "source": [
        "get_results(val_y_arr, val_pred)"
      ],
      "execution_count": 0,
      "outputs": []
    },
    {
      "cell_type": "markdown",
      "metadata": {
        "colab_type": "text",
        "id": "ZAMrwxvalDAG"
      },
      "source": [
        "## laplacian kernel approx "
      ]
    },
    {
      "cell_type": "code",
      "metadata": {
        "colab_type": "code",
        "id": "souaNbTDlDAI",
        "colab": {}
      },
      "source": [
        "# initialize kernel object for use \n",
        "lap_kernel = Nystroem(kernel = 'laplacian',\n",
        "                       random_state=1,\n",
        "                       gamma = 1,\n",
        "                       n_components=530)"
      ],
      "execution_count": 0,
      "outputs": []
    },
    {
      "cell_type": "code",
      "metadata": {
        "colab_type": "code",
        "id": "557Ili7jlDAK",
        "colab": {}
      },
      "source": [
        "# kernel transform our input data, so for both train and validation\n",
        "tfidf_train_X_extra_lap = lap_kernel.fit_transform(tfidf_train_X_extra)\n",
        "tfidf_val_X_extra_lap = lap_kernel.transform(tfidf_val_X_extra)"
      ],
      "execution_count": 0,
      "outputs": []
    },
    {
      "cell_type": "code",
      "metadata": {
        "colab_type": "code",
        "id": "kDWWuri7lDAO",
        "colab": {
          "base_uri": "https://localhost:8080/",
          "height": 34
        },
        "outputId": "2af93bd2-7ecc-49b2-a2b6-b79cba3fea42"
      },
      "source": [
        "tfidf_train_X_extra_lap.shape"
      ],
      "execution_count": 45,
      "outputs": [
        {
          "output_type": "execute_result",
          "data": {
            "text/plain": [
              "(450110, 530)"
            ]
          },
          "metadata": {
            "tags": []
          },
          "execution_count": 45
        }
      ]
    },
    {
      "cell_type": "code",
      "metadata": {
        "colab_type": "code",
        "id": "vs2Yl-rqlDAP",
        "colab": {
          "base_uri": "https://localhost:8080/",
          "height": 119
        },
        "outputId": "aaa6c348-7ee5-4582-96d7-4216ca943db0"
      },
      "source": [
        "# create SGDclassifier object\n",
        "sgd = SGDClassifier()\n",
        "\n",
        "# fit the model to our training data\n",
        "sgd.fit(tfidf_train_X_extra_lap, train_y_ros_arr)"
      ],
      "execution_count": 46,
      "outputs": [
        {
          "output_type": "execute_result",
          "data": {
            "text/plain": [
              "SGDClassifier(alpha=0.0001, average=False, class_weight=None,\n",
              "              early_stopping=False, epsilon=0.1, eta0=0.0, fit_intercept=True,\n",
              "              l1_ratio=0.15, learning_rate='optimal', loss='hinge',\n",
              "              max_iter=1000, n_iter_no_change=5, n_jobs=None, penalty='l2',\n",
              "              power_t=0.5, random_state=None, shuffle=True, tol=0.001,\n",
              "              validation_fraction=0.1, verbose=0, warm_start=False)"
            ]
          },
          "metadata": {
            "tags": []
          },
          "execution_count": 46
        }
      ]
    },
    {
      "cell_type": "code",
      "metadata": {
        "colab_type": "code",
        "id": "o8mJFiEUlDAR",
        "colab": {}
      },
      "source": [
        "# predict the labels for our validation set\n",
        "val_pred = sgd.predict(tfidf_val_X_extra_lap)\n",
        "# this returns a ndarray of shape (n_samples, )"
      ],
      "execution_count": 0,
      "outputs": []
    },
    {
      "cell_type": "code",
      "metadata": {
        "colab_type": "code",
        "id": "k9borYJwlDAT",
        "colab": {
          "base_uri": "https://localhost:8080/",
          "height": 34
        },
        "outputId": "225468d4-e33f-4474-c2e9-974158319b27"
      },
      "source": [
        "val_pred.shape"
      ],
      "execution_count": 48,
      "outputs": [
        {
          "output_type": "execute_result",
          "data": {
            "text/plain": [
              "(35918,)"
            ]
          },
          "metadata": {
            "tags": []
          },
          "execution_count": 48
        }
      ]
    },
    {
      "cell_type": "code",
      "metadata": {
        "colab_type": "code",
        "id": "V2yQlQYdlDAW",
        "colab": {
          "base_uri": "https://localhost:8080/",
          "height": 414
        },
        "outputId": "2bcdfc12-aa7e-4385-ebe0-0cdb9033bfd6"
      },
      "source": [
        "get_results(val_y_arr, val_pred)"
      ],
      "execution_count": 49,
      "outputs": [
        {
          "output_type": "stream",
          "text": [
            "au_roc score: 0.5363577819956615\n",
            "average precision score: 0.11804176884343738\n"
          ],
          "name": "stdout"
        },
        {
          "output_type": "display_data",
          "data": {
            "image/png": "[encoded data removed]",
            "text/plain": [
              "<Figure size 432x288 with 1 Axes>"
            ]
          },
          "metadata": {
            "tags": [],
            "needs_background": "light"
          }
        },
        {
          "output_type": "stream",
          "text": [
            "\n",
            "Confusion Matrix:\n",
            "                 predicted negative  predicted positive\n",
            "actual negative               31087                1183\n",
            "actual positive                3249                 399\n"
          ],
          "name": "stdout"
        }
      ]
    },
    {
      "cell_type": "markdown",
      "metadata": {
        "colab_type": "text",
        "id": "r8MVHvFLmeSE"
      },
      "source": [
        "## cosine kernel approx "
      ]
    },
    {
      "cell_type": "markdown",
      "metadata": {
        "colab_type": "text",
        "id": "zblIFA4bmeSF"
      },
      "source": [
        "`additive_chi2` does not support sparse matrices. But just converting the smaller validation data from sparse back to dense array representation crashed my session and exceeded all of my available RAM. Put a pin in it for now."
      ]
    },
    {
      "cell_type": "code",
      "metadata": {
        "colab_type": "code",
        "id": "ZLcwzwPHmeSF",
        "colab": {}
      },
      "source": [
        "# initialize kernel object for use \n",
        "cos_kernel = Nystroem(kernel = 'cosine',\n",
        "                       random_state=1,\n",
        "                       gamma = 1,\n",
        "                       n_components=560)"
      ],
      "execution_count": 0,
      "outputs": []
    },
    {
      "cell_type": "code",
      "metadata": {
        "colab_type": "code",
        "id": "RMrcJk2umeSI",
        "colab": {}
      },
      "source": [
        "# kernel transform our input data, so for both train and validation\n",
        "tfidf_train_X_extra_cos = cos_kernel.fit_transform(tfidf_train_X_extra)\n",
        "tfidf_val_X_extra_cos = cos_kernel.transform(tfidf_val_X_extra)"
      ],
      "execution_count": 0,
      "outputs": []
    },
    {
      "cell_type": "code",
      "metadata": {
        "colab_type": "code",
        "id": "iSpzUgwVmeSK",
        "colab": {
          "base_uri": "https://localhost:8080/",
          "height": 34
        },
        "outputId": "2807ac5d-ef3b-4e3b-b95e-57c258f4a563"
      },
      "source": [
        "tfidf_train_X_extra_cos.shape"
      ],
      "execution_count": 52,
      "outputs": [
        {
          "output_type": "execute_result",
          "data": {
            "text/plain": [
              "(450110, 560)"
            ]
          },
          "metadata": {
            "tags": []
          },
          "execution_count": 52
        }
      ]
    },
    {
      "cell_type": "code",
      "metadata": {
        "colab_type": "code",
        "id": "dPqwbYKNmeSM",
        "colab": {
          "base_uri": "https://localhost:8080/",
          "height": 119
        },
        "outputId": "d7b2231e-62c9-40ad-8ea8-d4cae7c70d6e"
      },
      "source": [
        "# create SGDclassifier object\n",
        "sgd = SGDClassifier()\n",
        "\n",
        "# fit the model to our training data\n",
        "sgd.fit(tfidf_train_X_extra_cos, train_y_ros_arr)"
      ],
      "execution_count": 54,
      "outputs": [
        {
          "output_type": "execute_result",
          "data": {
            "text/plain": [
              "SGDClassifier(alpha=0.0001, average=False, class_weight=None,\n",
              "              early_stopping=False, epsilon=0.1, eta0=0.0, fit_intercept=True,\n",
              "              l1_ratio=0.15, learning_rate='optimal', loss='hinge',\n",
              "              max_iter=1000, n_iter_no_change=5, n_jobs=None, penalty='l2',\n",
              "              power_t=0.5, random_state=None, shuffle=True, tol=0.001,\n",
              "              validation_fraction=0.1, verbose=0, warm_start=False)"
            ]
          },
          "metadata": {
            "tags": []
          },
          "execution_count": 54
        }
      ]
    },
    {
      "cell_type": "code",
      "metadata": {
        "colab_type": "code",
        "id": "EiRFxM2TmeSO",
        "colab": {}
      },
      "source": [
        "# predict the labels for our validation set\n",
        "val_pred = sgd.predict(tfidf_val_X_extra_cos)\n",
        "# this returns a ndarray of shape (n_samples, )"
      ],
      "execution_count": 0,
      "outputs": []
    },
    {
      "cell_type": "code",
      "metadata": {
        "colab_type": "code",
        "id": "x38S2cgDmeSQ",
        "colab": {
          "base_uri": "https://localhost:8080/",
          "height": 34
        },
        "outputId": "0726d495-0a93-4de4-94bf-305bf4ac50a4"
      },
      "source": [
        "val_pred.shape"
      ],
      "execution_count": 56,
      "outputs": [
        {
          "output_type": "execute_result",
          "data": {
            "text/plain": [
              "(35918,)"
            ]
          },
          "metadata": {
            "tags": []
          },
          "execution_count": 56
        }
      ]
    },
    {
      "cell_type": "code",
      "metadata": {
        "colab_type": "code",
        "id": "hm9UddrcmeST",
        "colab": {
          "base_uri": "https://localhost:8080/",
          "height": 414
        },
        "outputId": "2301f6eb-09d8-47e7-bfce-ddd025896ce5"
      },
      "source": [
        "get_results(val_y_arr, val_pred)"
      ],
      "execution_count": 57,
      "outputs": [
        {
          "output_type": "stream",
          "text": [
            "au_roc score: 0.64445404624631\n",
            "average precision score: 0.14021145827427015\n"
          ],
          "name": "stdout"
        },
        {
          "output_type": "display_data",
          "data": {
            "image/png": "[encoded data removed]",
            "text/plain": [
              "<Figure size 432x288 with 1 Axes>"
            ]
          },
          "metadata": {
            "tags": [],
            "needs_background": "light"
          }
        },
        {
          "output_type": "stream",
          "text": [
            "\n",
            "Confusion Matrix:\n",
            "                 predicted negative  predicted positive\n",
            "actual negative               15241               17029\n",
            "actual positive                 669                2979\n"
          ],
          "name": "stdout"
        }
      ]
    },
    {
      "cell_type": "markdown",
      "metadata": {
        "id": "qMJsBDwEixPG",
        "colab_type": "text"
      },
      "source": [
        "# Grid Search for SGD params"
      ]
    },
    {
      "cell_type": "code",
      "metadata": {
        "id": "5OLl9-Msi-aq",
        "colab_type": "code",
        "colab": {}
      },
      "source": [
        "from sklearn.model_selection import GridSearchCV"
      ],
      "execution_count": 0,
      "outputs": []
    },
    {
      "cell_type": "markdown",
      "metadata": {
        "id": "4F_J0Pjyk6MK",
        "colab_type": "text"
      },
      "source": [
        "## linear SVM with BoW_extra data"
      ]
    },
    {
      "cell_type": "code",
      "metadata": {
        "id": "hvoFrFoTkzTo",
        "colab_type": "code",
        "colab": {}
      },
      "source": [
        "# create SGDclassifier object\n",
        "sgd = SGDClassifier()\n",
        "\n",
        "# create a dict where keys are param names and values are a list of values to try for that param\n",
        "grid_values = {'loss':['hinge', 'log'], \n",
        "               'penalty':['l2', 'l1', 'elasticnet'],\n",
        "               'alpha':[10**(-i) for i in range(6)],\n",
        "               'tol':[10**(-i) for i in range(2,5)],\n",
        "               'early_stopping':[True]\n",
        "               }\n",
        "\n",
        "# create gridSearch object specifying model, params to search over, the scoring metric\n",
        "grid_sgd = GridSearchCV(sgd, param_grid = grid_values, scoring = 'roc_auc')\n",
        "\n",
        "# fit on data\n",
        "grid_sgd.fit(BoW_train_X_extra, train_y_ros_arr)"
      ],
      "execution_count": 0,
      "outputs": []
    },
    {
      "cell_type": "code",
      "metadata": {
        "id": "6bw2j9DuPTzw",
        "colab_type": "code",
        "outputId": "35d630bd-a95c-4b47-aa5e-b3d5531dd647",
        "colab": {
          "base_uri": "https://localhost:8080/",
          "height": 102
        }
      },
      "source": [
        "grid_sgd.best_params_"
      ],
      "execution_count": 0,
      "outputs": [
        {
          "output_type": "execute_result",
          "data": {
            "text/plain": [
              "{'alpha': 0.01,\n",
              " 'early_stopping': True,\n",
              " 'loss': 'log',\n",
              " 'penalty': 'l2',\n",
              " 'tol': 0.01}"
            ]
          },
          "metadata": {
            "tags": []
          },
          "execution_count": 45
        }
      ]
    },
    {
      "cell_type": "code",
      "metadata": {
        "id": "OCOQVHpwTxdk",
        "colab_type": "code",
        "outputId": "ee554852-4f7d-4b5a-eac7-b82061ee7eeb",
        "colab": {
          "base_uri": "https://localhost:8080/",
          "height": 34
        }
      },
      "source": [
        "grid_sgd.best_score_"
      ],
      "execution_count": 0,
      "outputs": [
        {
          "output_type": "execute_result",
          "data": {
            "text/plain": [
              "0.6915213426650267"
            ]
          },
          "metadata": {
            "tags": []
          },
          "execution_count": 46
        }
      ]
    },
    {
      "cell_type": "code",
      "metadata": {
        "id": "pOX2T6I18heA",
        "colab_type": "code",
        "colab": {}
      },
      "source": [
        "# evalute the best model on the actual validation set\n",
        "val_pred = grid_sgd.predict(BoW_val_X_extra)\n",
        "# this returns a ndarray of shape (n_samples, )"
      ],
      "execution_count": 0,
      "outputs": []
    },
    {
      "cell_type": "code",
      "metadata": {
        "id": "2iKsL1z9H2Cz",
        "colab_type": "code",
        "outputId": "c0495c08-d4dc-47aa-f3ba-2f98d039a28b",
        "colab": {
          "base_uri": "https://localhost:8080/",
          "height": 414
        }
      },
      "source": [
        "get_results(val_y_arr, val_pred)"
      ],
      "execution_count": 0,
      "outputs": [
        {
          "output_type": "stream",
          "text": [
            "au_roc score: 0.6638813597850375\n",
            "average precision score: 0.15187493506328248\n"
          ],
          "name": "stdout"
        },
        {
          "output_type": "display_data",
          "data": {
            "image/png": "[encoded data removed]",
            "text/plain": [
              "<Figure size 432x288 with 1 Axes>"
            ]
          },
          "metadata": {
            "tags": [],
            "needs_background": "light"
          }
        },
        {
          "output_type": "stream",
          "text": [
            "\n",
            "Confusion Matrix:\n",
            "                 predicted negative  predicted positive\n",
            "actual negative               19414               12856\n",
            "actual positive                 999                2649\n"
          ],
          "name": "stdout"
        }
      ]
    },
    {
      "cell_type": "markdown",
      "metadata": {
        "id": "8QaZMR_FIYkr",
        "colab_type": "text"
      },
      "source": [
        "Even after grid search, our `auc` is still very bad, as bad as the Naive Bayes baseline. This suggests that our data is not linearly separable in its current dimension of 73937 dimension-space. So linear SVM performs poorly."
      ]
    },
    {
      "cell_type": "markdown",
      "metadata": {
        "id": "8-0q_aSeK4nb",
        "colab_type": "text"
      },
      "source": [
        "# Grid Search for kernel params"
      ]
    },
    {
      "cell_type": "code",
      "metadata": {
        "id": "T4NATnSqXiKV",
        "colab_type": "code",
        "colab": {}
      },
      "source": [
        "def best_kernel(dict_params, tfidf_train_X_extra, tfidf_val_X_extra, train_y_ros_arr):\n",
        "  '''\n",
        "  Params:\n",
        "  -------------------------------------\n",
        "  dict_params: a dictionary of parameters, should have the following keys\n",
        "    'kernel': a list of strings where each string is a kernel function name\n",
        "    'n_components': a list of ints, Number of features to construct\n",
        "    'gamma': a list of floats, Gamma parameter used only for the RBF, laplacian, polynomial, exponential chi2 and sigmoid kernels.\n",
        "    'coef0': a list of floats, Zero coefficient used only for polynomial and sigmoid kernels.\n",
        "    'degree': a list of floats, Degree of the polynomial kernel used only for the polynomial kernel\n",
        "  '''\n",
        "\n",
        "  for kernel_ in dict_params['kernel']:\n",
        "    for n_ in dict_params['n_components']:\n",
        "      for gamma_ in dict_params['gamma']:\n",
        "        # initialize kernel object for use \n",
        "        kernel_func = Nystroem(kernel = kernel_,\n",
        "                               n_components=n_,\n",
        "                               gamma = gamma_,\n",
        "                               random_state = 1)\n",
        "        \n",
        "        # kernel transform our input data, so for both train and validation\n",
        "        tfidf_train_X_extra_ker = kernel_func.fit_transform(tfidf_train_X_extra)\n",
        "        tfidf_val_X_extra_ker = kernel_func.transform(tfidf_val_X_extra)\n",
        "\n",
        "        # create SGDclassifier object\n",
        "        sgd = SGDClassifier()\n",
        "\n",
        "        # fit the model to our training data\n",
        "        sgd.fit(tfidf_train_X_extra_ker, train_y_ros_arr)\n",
        "\n",
        "        # predict the labels for our validation set\n",
        "        val_pred = sgd.predict(tfidf_val_X_extra_cos)\n",
        "        # this returns a ndarray of shape (n_samples, )\n",
        "        \n",
        "        if kernel=='poly' or kernel =='sigmoid':\n",
        "          for coef0 in dict_params['coef0']:\n",
        "            if kernel\n"
      ],
      "execution_count": 0,
      "outputs": []
    },
    {
      "cell_type": "code",
      "metadata": {
        "id": "lRzXr8AVXtyM",
        "colab_type": "code",
        "colab": {
          "base_uri": "https://localhost:8080/",
          "height": 34
        },
        "outputId": "8e899e0a-66be-437f-cc99-be6b6769c9da"
      },
      "source": [
        "'ad'==('ad') or 'cc' ==\"c\""
      ],
      "execution_count": 61,
      "outputs": [
        {
          "output_type": "execute_result",
          "data": {
            "text/plain": [
              "True"
            ]
          },
          "metadata": {
            "tags": []
          },
          "execution_count": 61
        }
      ]
    },
    {
      "cell_type": "code",
      "metadata": {
        "id": "FasClfV8o-m1",
        "colab_type": "code",
        "colab": {}
      },
      "source": [
        ""
      ],
      "execution_count": 0,
      "outputs": []
    }
  ]
}