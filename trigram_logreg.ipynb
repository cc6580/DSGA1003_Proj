{
 "cells": [
  {
   "cell_type": "code",
   "execution_count": 1,
   "metadata": {},
   "outputs": [],
   "source": [
    "import pandas as pd"
   ]
  },
  {
   "cell_type": "code",
   "execution_count": 2,
   "metadata": {},
   "outputs": [],
   "source": [
    "data = pd.read_csv('train.csv', header = 0)"
   ]
  },
  {
   "cell_type": "code",
   "execution_count": 3,
   "metadata": {},
   "outputs": [],
   "source": [
    "dev = pd.read_csv('dev.csv', header = 0)"
   ]
  },
  {
   "cell_type": "code",
   "execution_count": 4,
   "metadata": {
    "colab": {},
    "colab_type": "code",
    "id": "IsMqIpFgl_OO"
   },
   "outputs": [],
   "source": [
    "# load the data into dataframes\n",
    "train_X = data.loc[:, data.columns != 'label']\n",
    "train_y = pd.DataFrame(data['label'])"
   ]
  },
  {
   "cell_type": "code",
   "execution_count": 5,
   "metadata": {},
   "outputs": [],
   "source": [
    "val_X = dev.loc[:, data.columns != 'label']\n",
    "val_y = pd.DataFrame(dev['label'])"
   ]
  },
  {
   "cell_type": "code",
   "execution_count": 6,
   "metadata": {},
   "outputs": [],
   "source": [
    "train_X['text length'] = train_X['review'].apply(len)\n",
    "train_X['word length'] = train_X['review'].apply(lambda x: len(x.split(\" \"))) \n",
    "\n",
    "val_X['text length'] = val_X['review'].apply(len)\n",
    "val_X['word length'] = val_X['review'].apply(lambda x: len(x.split(\" \"))) "
   ]
  },
  {
   "cell_type": "code",
   "execution_count": 7,
   "metadata": {
    "colab": {
     "base_uri": "https://localhost:8080/",
     "height": 402
    },
    "colab_type": "code",
    "id": "43QPEeHymmqX",
    "outputId": "c61a63ce-df01-44d6-d502-1cdc3cad4688"
   },
   "outputs": [
    {
     "data": {
      "text/html": [
       "<div>\n",
       "<style scoped>\n",
       "    .dataframe tbody tr th:only-of-type {\n",
       "        vertical-align: middle;\n",
       "    }\n",
       "\n",
       "    .dataframe tbody tr th {\n",
       "        vertical-align: top;\n",
       "    }\n",
       "\n",
       "    .dataframe thead th {\n",
       "        text-align: right;\n",
       "    }\n",
       "</style>\n",
       "<table border=\"1\" class=\"dataframe\">\n",
       "  <thead>\n",
       "    <tr style=\"text-align: right;\">\n",
       "      <th></th>\n",
       "      <th>ex_id</th>\n",
       "      <th>user_id</th>\n",
       "      <th>prod_id</th>\n",
       "      <th>rating</th>\n",
       "      <th>date</th>\n",
       "      <th>review</th>\n",
       "      <th>text length</th>\n",
       "      <th>word length</th>\n",
       "    </tr>\n",
       "  </thead>\n",
       "  <tbody>\n",
       "    <tr>\n",
       "      <th>0</th>\n",
       "      <td>0</td>\n",
       "      <td>923</td>\n",
       "      <td>0</td>\n",
       "      <td>3.0</td>\n",
       "      <td>2014-12-08</td>\n",
       "      <td>The food at snack is a selection of popular Gr...</td>\n",
       "      <td>215</td>\n",
       "      <td>40</td>\n",
       "    </tr>\n",
       "    <tr>\n",
       "      <th>1</th>\n",
       "      <td>1</td>\n",
       "      <td>924</td>\n",
       "      <td>0</td>\n",
       "      <td>3.0</td>\n",
       "      <td>2013-05-16</td>\n",
       "      <td>This little place in Soho is wonderful. I had ...</td>\n",
       "      <td>269</td>\n",
       "      <td>52</td>\n",
       "    </tr>\n",
       "    <tr>\n",
       "      <th>2</th>\n",
       "      <td>2</td>\n",
       "      <td>925</td>\n",
       "      <td>0</td>\n",
       "      <td>4.0</td>\n",
       "      <td>2013-07-01</td>\n",
       "      <td>ordered lunch for 15 from Snack last Friday.  ...</td>\n",
       "      <td>178</td>\n",
       "      <td>32</td>\n",
       "    </tr>\n",
       "    <tr>\n",
       "      <th>3</th>\n",
       "      <td>3</td>\n",
       "      <td>926</td>\n",
       "      <td>0</td>\n",
       "      <td>4.0</td>\n",
       "      <td>2011-07-28</td>\n",
       "      <td>This is a beautiful quaint little restaurant o...</td>\n",
       "      <td>491</td>\n",
       "      <td>90</td>\n",
       "    </tr>\n",
       "    <tr>\n",
       "      <th>4</th>\n",
       "      <td>4</td>\n",
       "      <td>927</td>\n",
       "      <td>0</td>\n",
       "      <td>4.0</td>\n",
       "      <td>2010-11-01</td>\n",
       "      <td>Snack is great place for a  casual sit down lu...</td>\n",
       "      <td>596</td>\n",
       "      <td>102</td>\n",
       "    </tr>\n",
       "  </tbody>\n",
       "</table>\n",
       "</div>"
      ],
      "text/plain": [
       "   ex_id  user_id  prod_id  rating        date  \\\n",
       "0      0      923        0     3.0  2014-12-08   \n",
       "1      1      924        0     3.0  2013-05-16   \n",
       "2      2      925        0     4.0  2013-07-01   \n",
       "3      3      926        0     4.0  2011-07-28   \n",
       "4      4      927        0     4.0  2010-11-01   \n",
       "\n",
       "                                              review  text length  word length  \n",
       "0  The food at snack is a selection of popular Gr...          215           40  \n",
       "1  This little place in Soho is wonderful. I had ...          269           52  \n",
       "2  ordered lunch for 15 from Snack last Friday.  ...          178           32  \n",
       "3  This is a beautiful quaint little restaurant o...          491           90  \n",
       "4  Snack is great place for a  casual sit down lu...          596          102  "
      ]
     },
     "execution_count": 7,
     "metadata": {},
     "output_type": "execute_result"
    }
   ],
   "source": [
    "train_X[0:5]"
   ]
  },
  {
   "cell_type": "code",
   "execution_count": 8,
   "metadata": {
    "colab": {},
    "colab_type": "code",
    "id": "sbT4b8yaqz2f"
   },
   "outputs": [],
   "source": [
    "#Functions for cleaning HTML tags and punctuation \n",
    "import re\n",
    "def clean_html(sentence):\n",
    "    cleanr = re.compile('<.*?>')\n",
    "    cleantext = re.sub(cleanr, ' ', sentence)\n",
    "    return cleantext\n",
    "def clean_punc(word):\n",
    "    cleaned = re.sub(r'[?|!|\\'|#]', r'', word)\n",
    "    cleaned = re.sub(r'[.|,|)|(|\\|/]', r' ', cleaned)\n",
    "    return cleaned"
   ]
  },
  {
   "cell_type": "code",
   "execution_count": 9,
   "metadata": {
    "colab": {
     "base_uri": "https://localhost:8080/",
     "height": 121
    },
    "colab_type": "code",
    "id": "nllNOEA2sDO4",
    "outputId": "4bd7c960-d2fe-4cee-9e80-6880980af4c7"
   },
   "outputs": [
    {
     "name": "stdout",
     "output_type": "stream",
     "text": [
      "[nltk_data] Downloading package stopwords to\n",
      "[nltk_data]     C:\\Users\\haha_\\AppData\\Roaming\\nltk_data...\n",
      "[nltk_data]   Package stopwords is already up-to-date!\n",
      "['i', 'me', 'my', 'myself', 'we', 'our', 'ours', 'ourselves', 'you', \"you're\", \"you've\", \"you'll\", \"you'd\", 'your', 'yours', 'yourself', 'yourselves', 'he', 'him', 'his', 'himself', 'she', \"she's\", 'her', 'hers', 'herself', 'it', \"it's\", 'its', 'itself', 'they', 'them', 'their', 'theirs', 'themselves', 'what', 'which', 'who', 'whom', 'this', 'that', \"that'll\", 'these', 'those', 'am', 'is', 'are', 'was', 'were', 'be', 'been', 'being', 'have', 'has', 'had', 'having', 'do', 'does', 'did', 'doing', 'a', 'an', 'the', 'and', 'but', 'if', 'or', 'because', 'as', 'until', 'while', 'of', 'at', 'by', 'for', 'with', 'about', 'against', 'between', 'into', 'through', 'during', 'before', 'after', 'above', 'below', 'to', 'from', 'up', 'down', 'in', 'out', 'on', 'off', 'over', 'under', 'again', 'further', 'then', 'once', 'here', 'there', 'when', 'where', 'why', 'how', 'all', 'any', 'both', 'each', 'few', 'more', 'most', 'other', 'some', 'such', 'no', 'nor', 'not', 'only', 'own', 'same', 'so', 'than', 'too', 'very', 's', 't', 'can', 'will', 'just', 'don', \"don't\", 'should', \"should've\", 'now', 'd', 'll', 'm', 'o', 're', 've', 'y', 'ain', 'aren', \"aren't\", 'couldn', \"couldn't\", 'didn', \"didn't\", 'doesn', \"doesn't\", 'hadn', \"hadn't\", 'hasn', \"hasn't\", 'haven', \"haven't\", 'isn', \"isn't\", 'ma', 'mightn', \"mightn't\", 'mustn', \"mustn't\", 'needn', \"needn't\", 'shan', \"shan't\", 'shouldn', \"shouldn't\", 'wasn', \"wasn't\", 'weren', \"weren't\", 'won', \"won't\", 'wouldn', \"wouldn't\"]\n",
      "***************************************\n",
      "tast\n"
     ]
    }
   ],
   "source": [
    "#Getting Stopwords \n",
    "import string\n",
    "import nltk\n",
    "nltk.download('stopwords')\n",
    "from nltk.corpus import stopwords\n",
    "from nltk.stem.snowball import SnowballStemmer\n",
    "from nltk.stem.wordnet import WordNetLemmatizer\n",
    "stop = stopwords.words('english') # list of stop words\n",
    "sno = SnowballStemmer('english') # object with methods to get root words\n",
    "print (stop)\n",
    "print('***************************************')\n",
    "print(sno.stem('tastful'))"
   ]
  },
  {
   "cell_type": "code",
   "execution_count": 10,
   "metadata": {
    "colab": {},
    "colab_type": "code",
    "id": "SP0YG8hCsHz4"
   },
   "outputs": [],
   "source": [
    "final_string = []\n",
    "s = ''\n",
    "for sentence in train_X['review'].values:\n",
    "    filtered_sentence = []\n",
    "    sentence = clean_html(sentence)\n",
    "    for word in sentence.split():\n",
    "        for cleaned_word in clean_punc(word).split():\n",
    "            if (cleaned_word.isalpha() and (len(cleaned_word) > 2) and cleaned_word not in stop):\n",
    "                s = (sno.stem(cleaned_word.lower())).encode('utf8')\n",
    "                filtered_sentence.append(s)\n",
    "            else:\n",
    "                continue\n",
    "                 \n",
    "    strl = b' '.join(filtered_sentence)\n",
    "    final_string.append(strl)\n",
    "\n",
    "train_X['cleaned review'] = final_string"
   ]
  },
  {
   "cell_type": "code",
   "execution_count": 11,
   "metadata": {
    "colab": {
     "base_uri": "https://localhost:8080/",
     "height": 54
    },
    "colab_type": "code",
    "id": "gh_6zm8wtaNI",
    "outputId": "6034b9bf-9f13-4a74-f973-9399469692dc"
   },
   "outputs": [
    {
     "data": {
      "text/plain": [
       "\"A solid 4 stars for this greek food spot. \\xa0If you're a fan of lamb like I am, you must come here and try the lamb sandwich. \\xa0Amazingly tender and juicy with onions and arugula. \\xa0Also had a good greek salad.\""
      ]
     },
     "execution_count": 11,
     "metadata": {},
     "output_type": "execute_result"
    }
   ],
   "source": [
    "train_X['review'][5]"
   ]
  },
  {
   "cell_type": "code",
   "execution_count": 12,
   "metadata": {
    "colab": {
     "base_uri": "https://localhost:8080/",
     "height": 34
    },
    "colab_type": "code",
    "id": "BWtEJp6C1hyM",
    "outputId": "19120006-3586-41f9-a44c-feb854240b6f"
   },
   "outputs": [
    {
     "data": {
      "text/plain": [
       "b'solid star greek food spot your fan lamb like must come tri lamb sandwich amaz tender juici onion arugula also good greek salad'"
      ]
     },
     "execution_count": 12,
     "metadata": {},
     "output_type": "execute_result"
    }
   ],
   "source": [
    "train_X['cleaned review'][5]\n",
    "# The b denotes a byte string."
   ]
  },
  {
   "cell_type": "markdown",
   "metadata": {
    "colab_type": "text",
    "id": "DNiMEaDMD4Q0"
   },
   "source": [
    "# upsampling fake review cases"
   ]
  },
  {
   "cell_type": "code",
   "execution_count": 13,
   "metadata": {
    "colab": {},
    "colab_type": "code",
    "id": "f_Zk_Jl6D-nR"
   },
   "outputs": [],
   "source": [
    "from imblearn.over_sampling import RandomOverSampler"
   ]
  },
  {
   "cell_type": "code",
   "execution_count": 14,
   "metadata": {
    "colab": {
     "base_uri": "https://localhost:8080/",
     "height": 104
    },
    "colab_type": "code",
    "id": "tnxUVJVOEgTN",
    "outputId": "ebb87417-5a25-42e3-9909-fba2e2ea18a8"
   },
   "outputs": [],
   "source": [
    "# ros random over sampler\n",
    "ros = RandomOverSampler()\n",
    "train_X_ros, train_y_ros = ros.fit_sample(train_X, train_y)"
   ]
  },
  {
   "cell_type": "code",
   "execution_count": 15,
   "metadata": {
    "colab": {
     "base_uri": "https://localhost:8080/",
     "height": 84
    },
    "colab_type": "code",
    "id": "1vciSbuQH8j4",
    "outputId": "97cb883c-a957-4fe9-e098-95b1ad4caac6"
   },
   "outputs": [
    {
     "name": "stdout",
     "output_type": "stream",
     "text": [
      "pre-upsampling genuine cases:  225055\n",
      "post-upsampling genuine cases:  225055\n",
      "pre-upsampling fake cases:  25819\n",
      "post-upsampling fake cases:  225055\n"
     ]
    }
   ],
   "source": [
    "print('pre-upsampling genuine cases: ',train_y[train_y['label'] == 0].shape[0])\n",
    "print('post-upsampling genuine cases: ',train_y_ros[train_y_ros['label'] == 0].shape[0])\n",
    "print('pre-upsampling fake cases: ',train_y[train_y['label'] == 1].shape[0])\n",
    "print('post-upsampling fake cases: ',train_y_ros[train_y_ros['label'] == 1].shape[0])"
   ]
  },
  {
   "cell_type": "code",
   "execution_count": 16,
   "metadata": {},
   "outputs": [
    {
     "data": {
      "text/html": [
       "<div>\n",
       "<style scoped>\n",
       "    .dataframe tbody tr th:only-of-type {\n",
       "        vertical-align: middle;\n",
       "    }\n",
       "\n",
       "    .dataframe tbody tr th {\n",
       "        vertical-align: top;\n",
       "    }\n",
       "\n",
       "    .dataframe thead th {\n",
       "        text-align: right;\n",
       "    }\n",
       "</style>\n",
       "<table border=\"1\" class=\"dataframe\">\n",
       "  <thead>\n",
       "    <tr style=\"text-align: right;\">\n",
       "      <th></th>\n",
       "      <th>ex_id</th>\n",
       "      <th>user_id</th>\n",
       "      <th>prod_id</th>\n",
       "      <th>rating</th>\n",
       "      <th>date</th>\n",
       "      <th>review</th>\n",
       "      <th>text length</th>\n",
       "      <th>word length</th>\n",
       "      <th>cleaned review</th>\n",
       "    </tr>\n",
       "  </thead>\n",
       "  <tbody>\n",
       "    <tr>\n",
       "      <th>0</th>\n",
       "      <td>0</td>\n",
       "      <td>923</td>\n",
       "      <td>0</td>\n",
       "      <td>3.0</td>\n",
       "      <td>2014-12-08</td>\n",
       "      <td>The food at snack is a selection of popular Gr...</td>\n",
       "      <td>215</td>\n",
       "      <td>40</td>\n",
       "      <td>b'the food snack select popular greek dish the...</td>\n",
       "    </tr>\n",
       "    <tr>\n",
       "      <th>1</th>\n",
       "      <td>1</td>\n",
       "      <td>924</td>\n",
       "      <td>0</td>\n",
       "      <td>3.0</td>\n",
       "      <td>2013-05-16</td>\n",
       "      <td>This little place in Soho is wonderful. I had ...</td>\n",
       "      <td>269</td>\n",
       "      <td>52</td>\n",
       "      <td>b'this littl place soho wonder lamb sandwich g...</td>\n",
       "    </tr>\n",
       "    <tr>\n",
       "      <th>2</th>\n",
       "      <td>2</td>\n",
       "      <td>925</td>\n",
       "      <td>0</td>\n",
       "      <td>4.0</td>\n",
       "      <td>2013-07-01</td>\n",
       "      <td>ordered lunch for 15 from Snack last Friday.  ...</td>\n",
       "      <td>178</td>\n",
       "      <td>32</td>\n",
       "      <td>b'order lunch snack last friday time noth miss...</td>\n",
       "    </tr>\n",
       "    <tr>\n",
       "      <th>3</th>\n",
       "      <td>3</td>\n",
       "      <td>926</td>\n",
       "      <td>0</td>\n",
       "      <td>4.0</td>\n",
       "      <td>2011-07-28</td>\n",
       "      <td>This is a beautiful quaint little restaurant o...</td>\n",
       "      <td>491</td>\n",
       "      <td>90</td>\n",
       "      <td>b'this beauti quaint littl restaur pretti stre...</td>\n",
       "    </tr>\n",
       "    <tr>\n",
       "      <th>4</th>\n",
       "      <td>4</td>\n",
       "      <td>927</td>\n",
       "      <td>0</td>\n",
       "      <td>4.0</td>\n",
       "      <td>2010-11-01</td>\n",
       "      <td>Snack is great place for a  casual sit down lu...</td>\n",
       "      <td>596</td>\n",
       "      <td>102</td>\n",
       "      <td>b'snack great place casual sit especi cold win...</td>\n",
       "    </tr>\n",
       "  </tbody>\n",
       "</table>\n",
       "</div>"
      ],
      "text/plain": [
       "   ex_id  user_id  prod_id  rating        date  \\\n",
       "0      0      923        0     3.0  2014-12-08   \n",
       "1      1      924        0     3.0  2013-05-16   \n",
       "2      2      925        0     4.0  2013-07-01   \n",
       "3      3      926        0     4.0  2011-07-28   \n",
       "4      4      927        0     4.0  2010-11-01   \n",
       "\n",
       "                                              review  text length  \\\n",
       "0  The food at snack is a selection of popular Gr...          215   \n",
       "1  This little place in Soho is wonderful. I had ...          269   \n",
       "2  ordered lunch for 15 from Snack last Friday.  ...          178   \n",
       "3  This is a beautiful quaint little restaurant o...          491   \n",
       "4  Snack is great place for a  casual sit down lu...          596   \n",
       "\n",
       "   word length                                     cleaned review  \n",
       "0           40  b'the food snack select popular greek dish the...  \n",
       "1           52  b'this littl place soho wonder lamb sandwich g...  \n",
       "2           32  b'order lunch snack last friday time noth miss...  \n",
       "3           90  b'this beauti quaint littl restaur pretti stre...  \n",
       "4          102  b'snack great place casual sit especi cold win...  "
      ]
     },
     "execution_count": 16,
     "metadata": {},
     "output_type": "execute_result"
    }
   ],
   "source": [
    "train_X_ros.head()"
   ]
  },
  {
   "cell_type": "markdown",
   "metadata": {
    "colab_type": "text",
    "id": "YgHKpl0E2JOc"
   },
   "source": [
    "# bag of words - ngram"
   ]
  },
  {
   "cell_type": "code",
   "execution_count": 17,
   "metadata": {
    "colab": {},
    "colab_type": "code",
    "id": "v5bL8XhN46S2"
   },
   "outputs": [],
   "source": [
    "from sklearn.feature_extraction.text import CountVectorizer\n",
    "count_vect = CountVectorizer(binary = False, ngram_range = (1,3))\n",
    "#BoW_data = count_vect.fit_transform(train_X['cleaned review'].values)"
   ]
  },
  {
   "cell_type": "code",
   "execution_count": 18,
   "metadata": {
    "colab": {
     "base_uri": "https://localhost:8080/",
     "height": 50
    },
    "colab_type": "code",
    "id": "qwolYR6M5F1E",
    "outputId": "8829aacc-566b-4a41-9235-10fdbdf35c5a"
   },
   "outputs": [],
   "source": [
    "BoW_mod = count_vect.fit(train_X_ros['cleaned review'])"
   ]
  },
  {
   "cell_type": "code",
   "execution_count": 19,
   "metadata": {},
   "outputs": [],
   "source": [
    "BoW_train_X = BoW_mod.transform(train_X_ros['cleaned review'])"
   ]
  },
  {
   "cell_type": "code",
   "execution_count": 20,
   "metadata": {},
   "outputs": [],
   "source": [
    "val_final_string = []\n",
    "s = ''\n",
    "for sentence in val_X['review'].values:\n",
    "    filtered_sentence = []\n",
    "    sentence = clean_html(sentence)\n",
    "    for word in sentence.split():\n",
    "        for cleaned_word in clean_punc(word).split():\n",
    "            if (cleaned_word.isalpha() and (len(cleaned_word) > 2) and cleaned_word not in stop):\n",
    "                s = (sno.stem(cleaned_word.lower())).encode('utf8')\n",
    "                filtered_sentence.append(s)\n",
    "            else:\n",
    "                continue\n",
    "                 \n",
    "    strl = b' '.join(filtered_sentence)\n",
    "    val_final_string.append(strl)\n",
    "\n",
    "val_X['cleaned review'] = val_final_string"
   ]
  },
  {
   "cell_type": "code",
   "execution_count": 21,
   "metadata": {},
   "outputs": [],
   "source": [
    "BoW_val_X = BoW_mod.transform(val_X['cleaned review'])"
   ]
  },
  {
   "cell_type": "code",
   "execution_count": 22,
   "metadata": {},
   "outputs": [],
   "source": [
    "import numpy as np\n",
    "from scipy.sparse import hstack"
   ]
  },
  {
   "cell_type": "code",
   "execution_count": 23,
   "metadata": {},
   "outputs": [],
   "source": [
    "train_extra = np.array(train_X_ros[['text length','word length','rating']])\n",
    "train_extra_min = train_extra.min(axis = 0)\n",
    "train_extra_max = train_extra.max(axis = 0)\n",
    "train_extra = (train_extra - train_extra_min)/(train_extra_max-train_extra_min)"
   ]
  },
  {
   "cell_type": "code",
   "execution_count": 24,
   "metadata": {},
   "outputs": [],
   "source": [
    "BoW_train_X = hstack((BoW_train_X, train_extra))"
   ]
  },
  {
   "cell_type": "code",
   "execution_count": 25,
   "metadata": {},
   "outputs": [],
   "source": [
    "val_extra = np.array(val_X[['text length','word length','rating']])\n",
    "val_extra_min = val_extra.min(axis = 0)\n",
    "val_extra_max = val_extra.max(axis = 0)\n",
    "val_extra = (val_extra - val_extra_min)/(val_extra_max-val_extra_min)"
   ]
  },
  {
   "cell_type": "code",
   "execution_count": 26,
   "metadata": {},
   "outputs": [],
   "source": [
    "BoW_val_X = hstack((BoW_val_X, val_extra))"
   ]
  },
  {
   "cell_type": "markdown",
   "metadata": {},
   "source": [
    "# Naive Bayes"
   ]
  },
  {
   "cell_type": "code",
   "execution_count": 27,
   "metadata": {},
   "outputs": [],
   "source": [
    "import matplotlib.pyplot as plt\n",
    "%matplotlib inline\n",
    "from sklearn import naive_bayes\n",
    "from sklearn.metrics import roc_curve, auc"
   ]
  },
  {
   "cell_type": "code",
   "execution_count": 28,
   "metadata": {},
   "outputs": [],
   "source": [
    "nb_bernoulli = naive_bayes.BernoulliNB()"
   ]
  },
  {
   "cell_type": "code",
   "execution_count": 29,
   "metadata": {},
   "outputs": [],
   "source": [
    "train_y_ros_arr = np.array(train_y_ros['label'])"
   ]
  },
  {
   "cell_type": "code",
   "execution_count": 30,
   "metadata": {},
   "outputs": [
    {
     "data": {
      "text/plain": [
       "BernoulliNB(alpha=1.0, binarize=0.0, class_prior=None, fit_prior=True)"
      ]
     },
     "execution_count": 30,
     "metadata": {},
     "output_type": "execute_result"
    }
   ],
   "source": [
    "nb_bernoulli.fit(BoW_train_X,train_y_ros_arr)"
   ]
  },
  {
   "cell_type": "code",
   "execution_count": 31,
   "metadata": {},
   "outputs": [],
   "source": [
    "preds_nb = nb_bernoulli.predict_proba(BoW_val_X)[:,1]"
   ]
  },
  {
   "cell_type": "code",
   "execution_count": 32,
   "metadata": {},
   "outputs": [
    {
     "data": {
      "image/png": "[encoded data removed]",
      "text/plain": [
       "<Figure size 432x288 with 1 Axes>"
      ]
     },
     "metadata": {},
     "output_type": "display_data"
    }
   ],
   "source": [
    "plt.plot([0, 1], [0, 1], 'k--')\n",
    "plt.xlim([0.0, 1.0])\n",
    "plt.ylim([0.0, 1.0])\n",
    "plt.xlabel('FPR')\n",
    "plt.ylabel('TPR')\n",
    "plt.title('ROC')\n",
    "\n",
    "nb_fpr, nb_tpr, nb_thresholds = roc_curve(val_y, preds_nb)\n",
    "nb_roc_auc = auc(nb_fpr, nb_tpr)\n",
    "nb_curve = plt.plot(nb_fpr, nb_tpr, label = 'BernoulliNB' + ' (AUC = %0.3f)' % nb_roc_auc)\n",
    "plt.legend(loc='center left', bbox_to_anchor=(1, 0.5))\n",
    "\n",
    "plt.show()"
   ]
  },
  {
   "cell_type": "code",
   "execution_count": 33,
   "metadata": {},
   "outputs": [],
   "source": [
    "pred_y = nb_bernoulli.predict(BoW_val_X)"
   ]
  },
  {
   "cell_type": "code",
   "execution_count": 34,
   "metadata": {},
   "outputs": [],
   "source": [
    "val_y_arr = np.array(val_y['label'])"
   ]
  },
  {
   "cell_type": "code",
   "execution_count": 35,
   "metadata": {},
   "outputs": [],
   "source": [
    "from sklearn.metrics import confusion_matrix"
   ]
  },
  {
   "cell_type": "code",
   "execution_count": 36,
   "metadata": {},
   "outputs": [
    {
     "data": {
      "text/plain": [
       "array([[15775, 16495],\n",
       "       [  868,  2780]], dtype=int64)"
      ]
     },
     "execution_count": 36,
     "metadata": {},
     "output_type": "execute_result"
    }
   ],
   "source": [
    "confusion_matrix(val_y_arr, pred_y)"
   ]
  },
  {
   "cell_type": "markdown",
   "metadata": {},
   "source": [
    "# Logistic Reg"
   ]
  },
  {
   "cell_type": "code",
   "execution_count": 37,
   "metadata": {},
   "outputs": [],
   "source": [
    "from sklearn.linear_model import LogisticRegression\n",
    "from sklearn.metrics import average_precision_score as ap"
   ]
  },
  {
   "cell_type": "code",
   "execution_count": 38,
   "metadata": {},
   "outputs": [],
   "source": [
    "def logreg_iter(lambda_set, result_dict):\n",
    "    for i in lambda_set:\n",
    "        C_input = 1/i\n",
    "        clf = LogisticRegression(C = C_input, max_iter = 2000, solver = 'liblinear', penalty = 'l1')\n",
    "        clf.fit(BoW_train_X, train_y_ros_arr)\n",
    "        preds = clf.predict_proba(BoW_val_X)[:,1]\n",
    "        fpr, tpr, thresholds = roc_curve(val_y, preds)\n",
    "        roc_auc = auc(fpr, tpr)\n",
    "        avep = ap(y_true = val_y_arr, y_score = preds)\n",
    "\n",
    "        result_dict[i] = [clf, preds, roc_auc, avep]\n",
    "        print('lambda={} finished, auc = {}, ap = {}'.format(i,roc_auc,avep))"
   ]
  },
  {
   "cell_type": "code",
   "execution_count": 39,
   "metadata": {},
   "outputs": [],
   "source": [
    "result_dict_l1 = {}"
   ]
  },
  {
   "cell_type": "code",
   "execution_count": 40,
   "metadata": {},
   "outputs": [
    {
     "name": "stdout",
     "output_type": "stream",
     "text": [
      "lambda=30 finished, auc = 0.7226737320184953, ap = 0.21002743035848395\n",
      "lambda=40 finished, auc = 0.7235693711638097, ap = 0.21120683569483745\n",
      "lambda=50 finished, auc = 0.7236225265237388, ap = 0.21175002374865934\n"
     ]
    }
   ],
   "source": [
    "logreg_iter([30,40,50],result_dict_l1)"
   ]
  },
  {
   "cell_type": "code",
   "execution_count": 41,
   "metadata": {},
   "outputs": [
    {
     "name": "stdout",
     "output_type": "stream",
     "text": [
      "lambda=60 finished, auc = 0.7232995678934321, ap = 0.211389746214928\n",
      "lambda=70 finished, auc = 0.7227953331335389, ap = 0.21073035289328435\n",
      "lambda=80 finished, auc = 0.7221373279660649, ap = 0.2100379152611036\n",
      "lambda=90 finished, auc = 0.7215543476709669, ap = 0.20961156455816077\n",
      "lambda=100 finished, auc = 0.7210259413446849, ap = 0.20937612061042488\n"
     ]
    }
   ],
   "source": [
    "logreg_iter([60,70,80,90,100],result_dict_l1)"
   ]
  },
  {
   "cell_type": "code",
   "execution_count": 43,
   "metadata": {},
   "outputs": [
    {
     "name": "stdout",
     "output_type": "stream",
     "text": [
      "lambda=45 finished, auc = 0.7236551842594556, ap = 0.2116746456187849\n",
      "lambda=46 finished, auc = 0.7236633391368877, ap = 0.21162904261501903\n",
      "lambda=47 finished, auc = 0.723662982361, ap = 0.21166729868551648\n",
      "lambda=48 finished, auc = 0.7236403823074496, ap = 0.21168984363919185\n",
      "lambda=49 finished, auc = 0.7236271561156145, ap = 0.21163653234686397\n",
      "lambda=50 finished, auc = 0.7236231721182023, ap = 0.21175181984470137\n",
      "lambda=51 finished, auc = 0.7236062507475305, ap = 0.21174335455151705\n",
      "lambda=52 finished, auc = 0.7235701484255651, ap = 0.21173887630413074\n",
      "lambda=53 finished, auc = 0.7235416573225363, ap = 0.21172057882734663\n",
      "lambda=54 finished, auc = 0.7235295439316838, ap = 0.21166618174049115\n",
      "lambda=55 finished, auc = 0.7234863655546132, ap = 0.21161023274429885\n"
     ]
    }
   ],
   "source": [
    "logreg_iter(np.arange(45,56,1),result_dict_l1)"
   ]
  },
  {
   "cell_type": "code",
   "execution_count": 44,
   "metadata": {},
   "outputs": [
    {
     "data": {
      "image/png": "[encoded data removed]",
      "text/plain": [
       "<Figure size 432x288 with 1 Axes>"
      ]
     },
     "metadata": {},
     "output_type": "display_data"
    }
   ],
   "source": [
    "plt.plot([0, 1], [0, 1], 'k--')\n",
    "plt.xlim([0.0, 1.0])\n",
    "plt.ylim([0.0, 1.0])\n",
    "plt.xlabel('FPR')\n",
    "plt.ylabel('TPR')\n",
    "plt.title('ROC')\n",
    "\n",
    "fpr, tpr, nb_thresholds = roc_curve(val_y, result_dict_l1[46][1])\n",
    "curve = plt.plot(fpr, tpr, label = 'LogReg' + ' (AUC = %0.3f)' % result_dict_l1[46][2])\n",
    "plt.legend(loc='center left', bbox_to_anchor=(1, 0.5))\n",
    "\n",
    "plt.show()"
   ]
  },
  {
   "cell_type": "code",
   "execution_count": 45,
   "metadata": {},
   "outputs": [
    {
     "name": "stdout",
     "output_type": "stream",
     "text": [
      "46\n",
      "0.7236633391368877\n",
      "[[19369 12901]\n",
      " [  956  2692]]\n",
      "---\n"
     ]
    }
   ],
   "source": [
    "lambda_set = [46]\n",
    "for i in lambda_set:\n",
    "    print(i)\n",
    "    print(result_dict_l1[i][2])\n",
    "    lr_pred_y = result_dict_l1[i][0].predict(BoW_val_X)\n",
    "    print(confusion_matrix(val_y_arr, lr_pred_y))\n",
    "    print('---')"
   ]
  }
 ],
 "metadata": {
  "colab": {
   "collapsed_sections": [],
   "name": "scratch.ipynb",
   "provenance": [],
   "toc_visible": true
  },
  "kernelspec": {
   "display_name": "Python 3",
   "language": "python",
   "name": "python3"
  },
  "language_info": {
   "codemirror_mode": {
    "name": "ipython",
    "version": 3
   },
   "file_extension": ".py",
   "mimetype": "text/x-python",
   "name": "python",
   "nbconvert_exporter": "python",
   "pygments_lexer": "ipython3",
   "version": "3.6.5"
  }
 },
 "nbformat": 4,
 "nbformat_minor": 1
}
