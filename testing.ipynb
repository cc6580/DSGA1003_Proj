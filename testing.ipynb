{
 "cells": [
  {
   "cell_type": "code",
   "execution_count": null,
   "metadata": {},
   "outputs": [],
   "source": [
    "test_X = pd.read_csv('test.csv', header = 0)\n",
    "test_X['text length'] = test_X['review'].apply(len)\n",
    "test_X['word length'] = test_X['review'].apply(lambda x: len(x.split(\" \"))) \n",
    "\n",
    "test_final_string = []\n",
    "s = ''\n",
    "for sentence in test_X['review'].values:\n",
    "    filtered_sentence = []\n",
    "    sentence = clean_html(sentence)\n",
    "    for word in sentence.split():\n",
    "        for cleaned_word in clean_punc(word).split():\n",
    "            if (cleaned_word.isalpha() and (len(cleaned_word) > 2) and cleaned_word not in stop):\n",
    "                s = (sno.stem(cleaned_word.lower())).encode('utf8')\n",
    "                filtered_sentence.append(s)\n",
    "            else:\n",
    "                continue\n",
    "                 \n",
    "    strl = b' '.join(filtered_sentence)\n",
    "    test_final_string.append(strl)\n",
    "\n",
    "test_X['cleaned review'] = test_final_string\n",
    "\n",
    "BoW_test_X = BoW_mod.transform(test_X['cleaned review'])\n",
    "\n",
    "test_extra = np.array(test_X[['text length','word length','rating']])\n",
    "test_extra_min = test_extra.min(axis = 0)\n",
    "test_extra_max = test_extra.max(axis = 0)\n",
    "test_extra = (test_extra - test_extra_min)/(test_extra_max-test_extra_min)\n",
    "\n",
    "BoW_test_X = hstack((BoW_test_X, test_extra))\n",
    "\n",
    "#preds = your_best_model.decision_function(BoW_test_X)"
   ]
  }
 ],
 "metadata": {
  "kernelspec": {
   "display_name": "Python 3",
   "language": "python",
   "name": "python3"
  },
  "language_info": {
   "codemirror_mode": {
    "name": "ipython",
    "version": 3
   },
   "file_extension": ".py",
   "mimetype": "text/x-python",
   "name": "python",
   "nbconvert_exporter": "python",
   "pygments_lexer": "ipython3",
   "version": "3.6.5"
  }
 },
 "nbformat": 4,
 "nbformat_minor": 2
}
