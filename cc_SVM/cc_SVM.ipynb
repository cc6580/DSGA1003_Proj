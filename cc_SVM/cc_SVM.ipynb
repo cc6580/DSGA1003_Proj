{
  "nbformat": 4,
  "nbformat_minor": 0,
  "metadata": {
    "kernelspec": {
      "display_name": "Python 3",
      "language": "python",
      "name": "python3"
    },
    "language_info": {
      "codemirror_mode": {
        "name": "ipython",
        "version": 3
      },
      "file_extension": ".py",
      "mimetype": "text/x-python",
      "name": "python",
      "nbconvert_exporter": "python",
      "pygments_lexer": "ipython3",
      "version": "3.7.4"
    },
    "colab": {
      "name": "cc_SVM.ipynb",
      "provenance": [],
      "collapsed_sections": [],
      "toc_visible": true
    }
  },
  "cells": [
    {
      "cell_type": "code",
      "metadata": {
        "id": "aVgpIdSR4mge",
        "colab_type": "code",
        "outputId": "51615581-9f24-4c81-9ac6-965de8734158",
        "colab": {
          "base_uri": "https://localhost:8080/",
          "height": 122
        }
      },
      "source": [
        "from google.colab import drive\n",
        "drive.mount('/content/drive')"
      ],
      "execution_count": 5,
      "outputs": [
        {
          "output_type": "stream",
          "text": [
            "Go to this URL in a browser: https://accounts.google.com/o/oauth2/auth?client_id=947318989803-6bn6qk8qdgf4n4g3pfee6491hc0brc4i.apps.googleusercontent.com&redirect_uri=urn%3aietf%3awg%3aoauth%3a2.0%3aoob&response_type=code&scope=email%20https%3a%2f%2fwww.googleapis.com%2fauth%2fdocs.test%20https%3a%2f%2fwww.googleapis.com%2fauth%2fdrive%20https%3a%2f%2fwww.googleapis.com%2fauth%2fdrive.photos.readonly%20https%3a%2f%2fwww.googleapis.com%2fauth%2fpeopleapi.readonly\n",
            "\n",
            "Enter your authorization code:\n",
            "··········\n",
            "Mounted at /content/drive\n"
          ],
          "name": "stdout"
        }
      ]
    },
    {
      "cell_type": "code",
      "metadata": {
        "id": "himCzV8M4kiM",
        "colab_type": "code",
        "colab": {}
      },
      "source": [
        "import os.path\n",
        "import numpy as np\n",
        "import pandas as pd\n",
        "import matplotlib.pyplot as plt\n",
        "from scipy import sparse\n",
        "import time"
      ],
      "execution_count": 0,
      "outputs": []
    },
    {
      "cell_type": "markdown",
      "metadata": {
        "id": "jnB6odKe4kic",
        "colab_type": "text"
      },
      "source": [
        "# load preprocessed data"
      ]
    },
    {
      "cell_type": "code",
      "metadata": {
        "id": "jr5yfBo34kie",
        "colab_type": "code",
        "colab": {}
      },
      "source": [
        "# load pre-processed data\n",
        "# replace with local file-path if you're running on local python shell\n",
        "train_X= pd.read_csv('/content/drive/My Drive/1003 project - Yelp fake review/train_X.csv')\n",
        "train_y= pd.read_csv('/content/drive/My Drive/1003 project - Yelp fake review/train_y.csv')\n",
        "val_X = pd.read_csv('/content/drive/My Drive/1003 project - Yelp fake review/val_X.csv')\n",
        "val_y = pd.read_csv('/content/drive/My Drive/1003 project - Yelp fake review/val_y.csv')\n"
      ],
      "execution_count": 0,
      "outputs": []
    },
    {
      "cell_type": "code",
      "metadata": {
        "id": "rDT48apZj9YE",
        "colab_type": "code",
        "colab": {
          "base_uri": "https://localhost:8080/",
          "height": 34
        },
        "outputId": "dac90dda-65fb-4648-af7d-83322e69c8a9"
      },
      "source": [
        "train_users = train_X['user_id'].unique() # a list of all unique users in train\n",
        "val_users = val_X['user_id'].unique() # a list of all unique users in val\n",
        "\n",
        "len(list(set(train_users) & set(val_users))) # count of unique users in both sets"
      ],
      "execution_count": 115,
      "outputs": [
        {
          "output_type": "execute_result",
          "data": {
            "text/plain": [
              "16027"
            ]
          },
          "metadata": {
            "tags": []
          },
          "execution_count": 115
        }
      ]
    },
    {
      "cell_type": "code",
      "metadata": {
        "id": "EMcJCc4N4kip",
        "colab_type": "code",
        "outputId": "9a269bd1-86e4-4be1-91ab-1241d5f89dfa",
        "colab": {
          "base_uri": "https://localhost:8080/",
          "height": 606
        }
      },
      "source": [
        "train_X"
      ],
      "execution_count": 25,
      "outputs": [
        {
          "output_type": "execute_result",
          "data": {
            "text/html": [
              "<div>\n",
              "<style scoped>\n",
              "    .dataframe tbody tr th:only-of-type {\n",
              "        vertical-align: middle;\n",
              "    }\n",
              "\n",
              "    .dataframe tbody tr th {\n",
              "        vertical-align: top;\n",
              "    }\n",
              "\n",
              "    .dataframe thead th {\n",
              "        text-align: right;\n",
              "    }\n",
              "</style>\n",
              "<table border=\"1\" class=\"dataframe\">\n",
              "  <thead>\n",
              "    <tr style=\"text-align: right;\">\n",
              "      <th></th>\n",
              "      <th>ex_id</th>\n",
              "      <th>user_id</th>\n",
              "      <th>prod_id</th>\n",
              "      <th>rating</th>\n",
              "      <th>date</th>\n",
              "      <th>review</th>\n",
              "      <th>cleaned review</th>\n",
              "      <th>text length</th>\n",
              "      <th>word length</th>\n",
              "    </tr>\n",
              "  </thead>\n",
              "  <tbody>\n",
              "    <tr>\n",
              "      <th>0</th>\n",
              "      <td>0</td>\n",
              "      <td>923</td>\n",
              "      <td>0</td>\n",
              "      <td>3.0</td>\n",
              "      <td>2014-12-08</td>\n",
              "      <td>The food at snack is a selection of popular Gr...</td>\n",
              "      <td>b'the food snack select popular greek dish the...</td>\n",
              "      <td>215</td>\n",
              "      <td>40</td>\n",
              "    </tr>\n",
              "    <tr>\n",
              "      <th>1</th>\n",
              "      <td>1</td>\n",
              "      <td>924</td>\n",
              "      <td>0</td>\n",
              "      <td>3.0</td>\n",
              "      <td>2013-05-16</td>\n",
              "      <td>This little place in Soho is wonderful. I had ...</td>\n",
              "      <td>b'this littl place soho wonder lamb sandwich g...</td>\n",
              "      <td>269</td>\n",
              "      <td>52</td>\n",
              "    </tr>\n",
              "    <tr>\n",
              "      <th>2</th>\n",
              "      <td>2</td>\n",
              "      <td>925</td>\n",
              "      <td>0</td>\n",
              "      <td>4.0</td>\n",
              "      <td>2013-07-01</td>\n",
              "      <td>ordered lunch for 15 from Snack last Friday.  ...</td>\n",
              "      <td>b'order lunch snack last friday time noth miss...</td>\n",
              "      <td>178</td>\n",
              "      <td>32</td>\n",
              "    </tr>\n",
              "    <tr>\n",
              "      <th>3</th>\n",
              "      <td>3</td>\n",
              "      <td>926</td>\n",
              "      <td>0</td>\n",
              "      <td>4.0</td>\n",
              "      <td>2011-07-28</td>\n",
              "      <td>This is a beautiful quaint little restaurant o...</td>\n",
              "      <td>b'this beauti quaint littl restaur pretti stre...</td>\n",
              "      <td>491</td>\n",
              "      <td>90</td>\n",
              "    </tr>\n",
              "    <tr>\n",
              "      <th>4</th>\n",
              "      <td>4</td>\n",
              "      <td>927</td>\n",
              "      <td>0</td>\n",
              "      <td>4.0</td>\n",
              "      <td>2010-11-01</td>\n",
              "      <td>Snack is great place for a  casual sit down lu...</td>\n",
              "      <td>b'snack great place casual sit especi cold win...</td>\n",
              "      <td>596</td>\n",
              "      <td>102</td>\n",
              "    </tr>\n",
              "    <tr>\n",
              "      <th>...</th>\n",
              "      <td>...</td>\n",
              "      <td>...</td>\n",
              "      <td>...</td>\n",
              "      <td>...</td>\n",
              "      <td>...</td>\n",
              "      <td>...</td>\n",
              "      <td>...</td>\n",
              "      <td>...</td>\n",
              "      <td>...</td>\n",
              "    </tr>\n",
              "    <tr>\n",
              "      <th>250869</th>\n",
              "      <td>358950</td>\n",
              "      <td>14671</td>\n",
              "      <td>349</td>\n",
              "      <td>5.0</td>\n",
              "      <td>2014-02-08</td>\n",
              "      <td>Made a reservation for an early dinner Saturda...</td>\n",
              "      <td>b'made reserv earli dinner saturday night luck...</td>\n",
              "      <td>1418</td>\n",
              "      <td>233</td>\n",
              "    </tr>\n",
              "    <tr>\n",
              "      <th>250870</th>\n",
              "      <td>358951</td>\n",
              "      <td>3356</td>\n",
              "      <td>349</td>\n",
              "      <td>5.0</td>\n",
              "      <td>2014-02-07</td>\n",
              "      <td>Emily is like Franny's Marco, but with warmth ...</td>\n",
              "      <td>b'emili like franni marco warmth valu emili ch...</td>\n",
              "      <td>763</td>\n",
              "      <td>134</td>\n",
              "    </tr>\n",
              "    <tr>\n",
              "      <th>250871</th>\n",
              "      <td>358953</td>\n",
              "      <td>116424</td>\n",
              "      <td>349</td>\n",
              "      <td>5.0</td>\n",
              "      <td>2014-01-31</td>\n",
              "      <td>Can't say enough good things about this place....</td>\n",
              "      <td>b'cant say enough good thing place stop last n...</td>\n",
              "      <td>475</td>\n",
              "      <td>80</td>\n",
              "    </tr>\n",
              "    <tr>\n",
              "      <th>250872</th>\n",
              "      <td>358954</td>\n",
              "      <td>161147</td>\n",
              "      <td>349</td>\n",
              "      <td>5.0</td>\n",
              "      <td>2014-01-30</td>\n",
              "      <td>Had a great dinner here- fantastic pizza, the ...</td>\n",
              "      <td>b'had great dinner fantast pizza smore pizza d...</td>\n",
              "      <td>268</td>\n",
              "      <td>51</td>\n",
              "    </tr>\n",
              "    <tr>\n",
              "      <th>250873</th>\n",
              "      <td>358956</td>\n",
              "      <td>5260</td>\n",
              "      <td>349</td>\n",
              "      <td>5.0</td>\n",
              "      <td>2014-01-25</td>\n",
              "      <td>Pizza Loves Emily and I love Emily's pizza. Th...</td>\n",
              "      <td>b'pizza love emili love emili pizza the emili ...</td>\n",
              "      <td>3856</td>\n",
              "      <td>701</td>\n",
              "    </tr>\n",
              "  </tbody>\n",
              "</table>\n",
              "<p>250874 rows × 9 columns</p>\n",
              "</div>"
            ],
            "text/plain": [
              "         ex_id  user_id  ...  text length  word length\n",
              "0            0      923  ...          215           40\n",
              "1            1      924  ...          269           52\n",
              "2            2      925  ...          178           32\n",
              "3            3      926  ...          491           90\n",
              "4            4      927  ...          596          102\n",
              "...        ...      ...  ...          ...          ...\n",
              "250869  358950    14671  ...         1418          233\n",
              "250870  358951     3356  ...          763          134\n",
              "250871  358953   116424  ...          475           80\n",
              "250872  358954   161147  ...          268           51\n",
              "250873  358956     5260  ...         3856          701\n",
              "\n",
              "[250874 rows x 9 columns]"
            ]
          },
          "metadata": {
            "tags": []
          },
          "execution_count": 25
        }
      ]
    },
    {
      "cell_type": "markdown",
      "metadata": {
        "id": "TgeP5qC1CBoC",
        "colab_type": "text"
      },
      "source": [
        "Note that right now, the cleaned reviews are byte strings instead of normal strings, hence the `b' '` enclosing the string.\n"
      ]
    },
    {
      "cell_type": "code",
      "metadata": {
        "id": "3bFd6yZr4kix",
        "colab_type": "code",
        "colab": {}
      },
      "source": [
        "#add 2 new features: text length and word length. These are probably be useful\n",
        "train_X['text length'] = train_X['review'].apply(len)\n",
        "train_X['word length'] = train_X['review'].apply(lambda x: len(x.split(\" \"))) \n",
        "\n",
        "val_X['text length'] = val_X['review'].apply(len)\n",
        "val_X['word length'] = val_X['review'].apply(lambda x: len(x.split(\" \")))\n",
        "\n",
        "# text length: the number of characters (including white spaces) in the string\n",
        "# word length: the number of words in the string"
      ],
      "execution_count": 0,
      "outputs": []
    },
    {
      "cell_type": "code",
      "metadata": {
        "id": "rrN-w8uT5Dpq",
        "colab_type": "code",
        "outputId": "9fbd10ef-3c9b-4f8c-e10a-36aeb9a96d54",
        "colab": {
          "base_uri": "https://localhost:8080/",
          "height": 306
        }
      },
      "source": [
        "train_X.head()"
      ],
      "execution_count": 11,
      "outputs": [
        {
          "output_type": "execute_result",
          "data": {
            "text/html": [
              "<div>\n",
              "<style scoped>\n",
              "    .dataframe tbody tr th:only-of-type {\n",
              "        vertical-align: middle;\n",
              "    }\n",
              "\n",
              "    .dataframe tbody tr th {\n",
              "        vertical-align: top;\n",
              "    }\n",
              "\n",
              "    .dataframe thead th {\n",
              "        text-align: right;\n",
              "    }\n",
              "</style>\n",
              "<table border=\"1\" class=\"dataframe\">\n",
              "  <thead>\n",
              "    <tr style=\"text-align: right;\">\n",
              "      <th></th>\n",
              "      <th>ex_id</th>\n",
              "      <th>user_id</th>\n",
              "      <th>prod_id</th>\n",
              "      <th>rating</th>\n",
              "      <th>date</th>\n",
              "      <th>review</th>\n",
              "      <th>cleaned review</th>\n",
              "      <th>text length</th>\n",
              "      <th>word length</th>\n",
              "    </tr>\n",
              "  </thead>\n",
              "  <tbody>\n",
              "    <tr>\n",
              "      <th>0</th>\n",
              "      <td>0</td>\n",
              "      <td>923</td>\n",
              "      <td>0</td>\n",
              "      <td>3.0</td>\n",
              "      <td>2014-12-08</td>\n",
              "      <td>The food at snack is a selection of popular Gr...</td>\n",
              "      <td>b'the food snack select popular greek dish the...</td>\n",
              "      <td>215</td>\n",
              "      <td>40</td>\n",
              "    </tr>\n",
              "    <tr>\n",
              "      <th>1</th>\n",
              "      <td>1</td>\n",
              "      <td>924</td>\n",
              "      <td>0</td>\n",
              "      <td>3.0</td>\n",
              "      <td>2013-05-16</td>\n",
              "      <td>This little place in Soho is wonderful. I had ...</td>\n",
              "      <td>b'this littl place soho wonder lamb sandwich g...</td>\n",
              "      <td>269</td>\n",
              "      <td>52</td>\n",
              "    </tr>\n",
              "    <tr>\n",
              "      <th>2</th>\n",
              "      <td>2</td>\n",
              "      <td>925</td>\n",
              "      <td>0</td>\n",
              "      <td>4.0</td>\n",
              "      <td>2013-07-01</td>\n",
              "      <td>ordered lunch for 15 from Snack last Friday.  ...</td>\n",
              "      <td>b'order lunch snack last friday time noth miss...</td>\n",
              "      <td>178</td>\n",
              "      <td>32</td>\n",
              "    </tr>\n",
              "    <tr>\n",
              "      <th>3</th>\n",
              "      <td>3</td>\n",
              "      <td>926</td>\n",
              "      <td>0</td>\n",
              "      <td>4.0</td>\n",
              "      <td>2011-07-28</td>\n",
              "      <td>This is a beautiful quaint little restaurant o...</td>\n",
              "      <td>b'this beauti quaint littl restaur pretti stre...</td>\n",
              "      <td>491</td>\n",
              "      <td>90</td>\n",
              "    </tr>\n",
              "    <tr>\n",
              "      <th>4</th>\n",
              "      <td>4</td>\n",
              "      <td>927</td>\n",
              "      <td>0</td>\n",
              "      <td>4.0</td>\n",
              "      <td>2010-11-01</td>\n",
              "      <td>Snack is great place for a  casual sit down lu...</td>\n",
              "      <td>b'snack great place casual sit especi cold win...</td>\n",
              "      <td>596</td>\n",
              "      <td>102</td>\n",
              "    </tr>\n",
              "  </tbody>\n",
              "</table>\n",
              "</div>"
            ],
            "text/plain": [
              "   ex_id  user_id  ...  text length  word length\n",
              "0      0      923  ...          215           40\n",
              "1      1      924  ...          269           52\n",
              "2      2      925  ...          178           32\n",
              "3      3      926  ...          491           90\n",
              "4      4      927  ...          596          102\n",
              "\n",
              "[5 rows x 9 columns]"
            ]
          },
          "metadata": {
            "tags": []
          },
          "execution_count": 11
        }
      ]
    },
    {
      "cell_type": "code",
      "metadata": {
        "id": "rXVBARaiAoe9",
        "colab_type": "code",
        "outputId": "facb04cb-ba95-475e-debf-14a9b35d4586",
        "colab": {
          "base_uri": "https://localhost:8080/",
          "height": 34
        }
      },
      "source": [
        "val_X.shape"
      ],
      "execution_count": 12,
      "outputs": [
        {
          "output_type": "execute_result",
          "data": {
            "text/plain": [
              "(35918, 9)"
            ]
          },
          "metadata": {
            "tags": []
          },
          "execution_count": 12
        }
      ]
    },
    {
      "cell_type": "markdown",
      "metadata": {
        "id": "9_e91-FhFcB-",
        "colab_type": "text"
      },
      "source": [
        "## create good and fake user sets"
      ]
    },
    {
      "cell_type": "code",
      "metadata": {
        "id": "NZa6KsaVFkuE",
        "colab_type": "code",
        "colab": {}
      },
      "source": [
        "# piece the X and label together\n",
        "train = pd.concat((train_X, train_y), axis=1)\n"
      ],
      "execution_count": 0,
      "outputs": []
    },
    {
      "cell_type": "code",
      "metadata": {
        "id": "8Wkkbqm3F9b_",
        "colab_type": "code",
        "colab": {}
      },
      "source": [
        "# create a dictionary where \n",
        "  # the key is each unique user_id in the trianing set\n",
        "  # the value is their average label score rounded to 3 digits\n",
        "user_dict = round(train.groupby('user_id')['label'].mean(), 3).to_dict()\n"
      ],
      "execution_count": 0,
      "outputs": []
    },
    {
      "cell_type": "code",
      "metadata": {
        "id": "sDrw3GNBGn7R",
        "colab_type": "code",
        "colab": {}
      },
      "source": [
        "# an average label value of 1 means the user always leaves fake reviews, and gets added to the fake_user list\n",
        "# an average label value of 0 means the user always leaves real revies, and gets added to the good_user list\n",
        "\n",
        "fake_user=[]\n",
        "good_user=[]\n",
        "\n",
        "for k in user_dict.keys():\n",
        "  if user_dict[k] == 1:\n",
        "    fake_user.append(k)\n",
        "  if user_dict[k] == 0:\n",
        "    good_user.append(k)\n"
      ],
      "execution_count": 0,
      "outputs": []
    },
    {
      "cell_type": "code",
      "metadata": {
        "id": "IgbVZOazHbh3",
        "colab_type": "code",
        "colab": {}
      },
      "source": [
        "# a list of row indices in the val set that corresponds to a review left by a fake user\n",
        "fake_rows = val_X['user_id'][val_X['user_id'].isin(fake_user)].index.tolist()\n",
        "\n",
        "# a list of row indices that corresponds to a review left by a good user\n",
        "good_rows = val_X['user_id'][val_X['user_id'].isin(good_user)].index.tolist()\n"
      ],
      "execution_count": 0,
      "outputs": []
    },
    {
      "cell_type": "markdown",
      "metadata": {
        "id": "TjwstAFs4ki4",
        "colab_type": "text"
      },
      "source": [
        "# resampling train set only"
      ]
    },
    {
      "cell_type": "code",
      "metadata": {
        "id": "ldYuVUqpxcF4",
        "colab_type": "code",
        "colab": {}
      },
      "source": [
        "from imblearn.over_sampling import RandomOverSampler, SMOTE, ADASYN"
      ],
      "execution_count": 0,
      "outputs": []
    },
    {
      "cell_type": "markdown",
      "metadata": {
        "id": "NoSEbwyyw_T8",
        "colab_type": "text"
      },
      "source": [
        "## ros upsample"
      ]
    },
    {
      "cell_type": "code",
      "metadata": {
        "id": "fV5PuJ0S5MRm",
        "colab_type": "code",
        "colab": {}
      },
      "source": [
        "# create a raondom sampler object from the class\n",
        "ros = RandomOverSampler(random_state=0)"
      ],
      "execution_count": 0,
      "outputs": []
    },
    {
      "cell_type": "code",
      "metadata": {
        "id": "Sqw4RzX35wD6",
        "colab_type": "code",
        "outputId": "bc72804b-59ca-4f19-e437-640b3f00c8da",
        "colab": {
          "base_uri": "https://localhost:8080/",
          "height": 105
        }
      },
      "source": [
        "# create re-sampled data from the original data\n",
        "# The augmented data set should be used instead of the original data set to train a classifier\n",
        "train_X_ros, train_y_ros = ros.fit_sample(train_X, train_y)"
      ],
      "execution_count": 28,
      "outputs": [
        {
          "output_type": "stream",
          "text": [
            "/usr/local/lib/python3.6/dist-packages/sklearn/utils/validation.py:760: DataConversionWarning: A column-vector y was passed when a 1d array was expected. Please change the shape of y to (n_samples, ), for example using ravel().\n",
            "  y = column_or_1d(y, warn=True)\n",
            "/usr/local/lib/python3.6/dist-packages/sklearn/utils/deprecation.py:87: FutureWarning: Function safe_indexing is deprecated; safe_indexing is deprecated in version 0.22 and will be removed in version 0.24.\n",
            "  warnings.warn(msg, category=FutureWarning)\n"
          ],
          "name": "stderr"
        }
      ]
    },
    {
      "cell_type": "code",
      "metadata": {
        "id": "zMlwxuG06iNu",
        "colab_type": "code",
        "colab": {}
      },
      "source": [
        "# on local python shell, the trian_X_ros after oversampling is still DataFrame\n",
        "# But on colab version it turned to array, so we need to change it back to a pd.df\n",
        "train_X_ros = pd.DataFrame(train_X_ros, columns = ['ex_id','user_id','prod_id','rating','date','review','cleaned review','text length','word length'])\n",
        "train_y_ros = pd.DataFrame(train_y_ros, columns = ['label'])"
      ],
      "execution_count": 0,
      "outputs": []
    },
    {
      "cell_type": "code",
      "metadata": {
        "id": "z4G-GQwi6OdO",
        "colab_type": "code",
        "outputId": "a5d3dd12-d38f-456e-f35a-32479cf43ada",
        "colab": {
          "base_uri": "https://localhost:8080/",
          "height": 102
        }
      },
      "source": [
        "print('pre-upsampling genuine cases: ',train_y[train_y['label'] == 0].shape[0])\n",
        "print('post-upsampling genuine cases: ',train_y_ros[train_y_ros['label'] == 0].shape[0])\n",
        "print()\n",
        "print('pre-upsampling fake cases: ',train_y[train_y['label'] == 1].shape[0])\n",
        "print('post-upsampling fake cases: ',train_y_ros[train_y_ros['label'] == 1].shape[0])"
      ],
      "execution_count": 30,
      "outputs": [
        {
          "output_type": "stream",
          "text": [
            "pre-upsampling genuine cases:  225055\n",
            "post-upsampling genuine cases:  225055\n",
            "\n",
            "pre-upsampling fake cases:  25819\n",
            "post-upsampling fake cases:  225055\n"
          ],
          "name": "stdout"
        }
      ]
    },
    {
      "cell_type": "markdown",
      "metadata": {
        "id": "DC6Ii70j6Ry9",
        "colab_type": "text"
      },
      "source": [
        "now, the number of fake reviews is the same as the number of genuine reviews. We have fixed the class-imbalance issue."
      ]
    },
    {
      "cell_type": "markdown",
      "metadata": {
        "id": "v3guUAfmxC2U",
        "colab_type": "text"
      },
      "source": [
        "## smote upsample"
      ]
    },
    {
      "cell_type": "markdown",
      "metadata": {
        "id": "gUKqzdhxxETY",
        "colab_type": "text"
      },
      "source": [
        "Random oversampling simply replicates randomly the minority class examples. Random oversampling is known to increase the likelihood of occurring overfitting. On the other hand, the major drawback of Random undersampling is that this method can discard useful data.\n",
        "\n",
        "To avoid the over-fitting problem, Chawla et al. (2002) propose the Synthetic Minority Over-sampling Technique (SMOTE). This method is considered a state-of-art technique and works well in various applications. This method generates synthetic data based on the feature space similarities between existing minority instances. In order to create a synthetic instance, it finds the K-nearest neighbors of each minority instance, randomly selects one of them, and then calculate linear interpolations to produce a new minority instance in the neighborhood."
      ]
    },
    {
      "cell_type": "markdown",
      "metadata": {
        "id": "sJCiHMLZ4IFz",
        "colab_type": "text"
      },
      "source": [
        "Since `SMOTE` only accepts floats for all features, we must convert to BoW representation first!. So go run the bag of words section then come back here.\n",
        "\n",
        "\n",
        "\n",
        "\n"
      ]
    },
    {
      "cell_type": "code",
      "metadata": {
        "id": "N6XdUegNyFn5",
        "colab_type": "code",
        "colab": {}
      },
      "source": [
        "# create a smote object\n",
        "smo = SMOTE(random_state=0)"
      ],
      "execution_count": 0,
      "outputs": []
    },
    {
      "cell_type": "code",
      "metadata": {
        "id": "IGe9B7ssyJ6T",
        "colab_type": "code",
        "colab": {
          "base_uri": "https://localhost:8080/",
          "height": 105
        },
        "outputId": "0fb8c756-c2f0-4f02-c6be-2e4cd5a2151c"
      },
      "source": [
        "# create re-sampled data from the original data\n",
        "# The augmented data set should be used instead of the original data set to train a classifier\n",
        "BoW_train_X_smo, train_y_smo = smo.fit_sample(BoW_train_X_og, train_y)\n",
        "# time: 243"
      ],
      "execution_count": 88,
      "outputs": [
        {
          "output_type": "stream",
          "text": [
            "/usr/local/lib/python3.6/dist-packages/sklearn/utils/validation.py:760: DataConversionWarning: A column-vector y was passed when a 1d array was expected. Please change the shape of y to (n_samples, ), for example using ravel().\n",
            "  y = column_or_1d(y, warn=True)\n",
            "/usr/local/lib/python3.6/dist-packages/sklearn/utils/deprecation.py:87: FutureWarning: Function safe_indexing is deprecated; safe_indexing is deprecated in version 0.22 and will be removed in version 0.24.\n",
            "  warnings.warn(msg, category=FutureWarning)\n"
          ],
          "name": "stderr"
        }
      ]
    },
    {
      "cell_type": "code",
      "metadata": {
        "id": "muik3gvG5BV_",
        "colab_type": "code",
        "colab": {
          "base_uri": "https://localhost:8080/",
          "height": 34
        },
        "outputId": "e1cfa2ee-ddf3-4237-d6ee-b8d646ec9571"
      },
      "source": [
        "type(BoW_train_X_smo)"
      ],
      "execution_count": 89,
      "outputs": [
        {
          "output_type": "execute_result",
          "data": {
            "text/plain": [
              "scipy.sparse.csr.csr_matrix"
            ]
          },
          "metadata": {
            "tags": []
          },
          "execution_count": 89
        }
      ]
    },
    {
      "cell_type": "code",
      "metadata": {
        "id": "9-erG6Us6S-c",
        "colab_type": "code",
        "colab": {
          "base_uri": "https://localhost:8080/",
          "height": 34
        },
        "outputId": "c4148bcb-0514-4961-b062-fa72fc48f5fc"
      },
      "source": [
        "BoW_train_X_smo.shape"
      ],
      "execution_count": 90,
      "outputs": [
        {
          "output_type": "execute_result",
          "data": {
            "text/plain": [
              "(450110, 73944)"
            ]
          },
          "metadata": {
            "tags": []
          },
          "execution_count": 90
        }
      ]
    },
    {
      "cell_type": "markdown",
      "metadata": {
        "colab_type": "text",
        "id": "6q0lfcEVZe3J"
      },
      "source": [
        "## adasyn upsample"
      ]
    },
    {
      "cell_type": "markdown",
      "metadata": {
        "colab_type": "text",
        "id": "grmorAMSZe3K"
      },
      "source": [
        "ADASYN generates samples of the minority class according to their density distributions. More synthetic data is generated for minority class samples that are harder to learn"
      ]
    },
    {
      "cell_type": "markdown",
      "metadata": {
        "id": "EmUuZTDC4YO2",
        "colab_type": "text"
      },
      "source": [
        "Since `ADASYN` only accepts floats for all features, we must convert to BoW representation first!. So go run the bag of words section then come back here."
      ]
    },
    {
      "cell_type": "code",
      "metadata": {
        "colab_type": "code",
        "id": "n-DRwIelZe3L",
        "colab": {}
      },
      "source": [
        "# create a smote object\n",
        "ada = ADASYN(random_state=0)"
      ],
      "execution_count": 0,
      "outputs": []
    },
    {
      "cell_type": "code",
      "metadata": {
        "colab_type": "code",
        "outputId": "2b15e975-94bf-44cf-a885-7f2057dec774",
        "id": "_syJV6hiZe3O",
        "colab": {
          "base_uri": "https://localhost:8080/",
          "height": 105
        }
      },
      "source": [
        "# create re-sampled data from the original data\n",
        "# The augmented data set should be used instead of the original data set to train a classifier\n",
        "BoW_train_X_ada, train_y_ada = ada.fit_sample(BoW_train_X_og, train_y)\n",
        "\n",
        "# time: 590 "
      ],
      "execution_count": 92,
      "outputs": [
        {
          "output_type": "stream",
          "text": [
            "/usr/local/lib/python3.6/dist-packages/sklearn/utils/validation.py:760: DataConversionWarning: A column-vector y was passed when a 1d array was expected. Please change the shape of y to (n_samples, ), for example using ravel().\n",
            "  y = column_or_1d(y, warn=True)\n",
            "/usr/local/lib/python3.6/dist-packages/sklearn/utils/deprecation.py:87: FutureWarning: Function safe_indexing is deprecated; safe_indexing is deprecated in version 0.22 and will be removed in version 0.24.\n",
            "  warnings.warn(msg, category=FutureWarning)\n"
          ],
          "name": "stderr"
        }
      ]
    },
    {
      "cell_type": "markdown",
      "metadata": {
        "id": "qJh0e-9e7esx",
        "colab_type": "text"
      },
      "source": [
        "# Text to vector conversion"
      ]
    },
    {
      "cell_type": "markdown",
      "metadata": {
        "id": "bXMPfVQhLPDX",
        "colab_type": "text"
      },
      "source": [
        "## 3 extra feature columns for train and validation"
      ]
    },
    {
      "cell_type": "code",
      "metadata": {
        "id": "OVptceIhd2BG",
        "colab_type": "code",
        "colab": {}
      },
      "source": [
        "# let's add the additional features to the training matrix\n",
        "train_extra = np.array(train_X_ros[['text length','word length','rating']], dtype=float)\n",
        "\n",
        "# normalize the extra features\n",
        "train_extra_min = train_extra.min(axis = 0) # get the min value for each column\n",
        "train_extra_max = train_extra.max(axis = 0) # get the max value for each column\n",
        "train_extra = (train_extra - train_extra_min)/(train_extra_max-train_extra_min) # normalize each column to be between 0~1\n"
      ],
      "execution_count": 0,
      "outputs": []
    },
    {
      "cell_type": "code",
      "metadata": {
        "id": "U_5-2WuDhCvj",
        "colab_type": "code",
        "colab": {}
      },
      "source": [
        "# do the same for the validation X data\n",
        "\n",
        "# let's add the additional features to the validation matrix\n",
        "val_extra = np.array(val_X[['text length','word length','rating']], dtype=float)\n",
        "\n",
        "# normalize the extra features\n",
        "val_extra_min = val_extra.min(axis = 0) # get the min value for each column\n",
        "val_extra_max = val_extra.max(axis = 0) # get the max value for each column\n",
        "val_extra = (val_extra - val_extra_min)/(val_extra_max-val_extra_min) # normalize each column to be between 0~1\n",
        "\n"
      ],
      "execution_count": 0,
      "outputs": []
    },
    {
      "cell_type": "markdown",
      "metadata": {
        "id": "8938KbERCAEj",
        "colab_type": "text"
      },
      "source": [
        "## bag of words"
      ]
    },
    {
      "cell_type": "markdown",
      "metadata": {
        "id": "fO0aZPJu7qjM",
        "colab_type": "text"
      },
      "source": [
        "Bag of Words basically creates a dictionary of `d` words (this is not a python dictionary) where `d` is the number of unique words in our text corpus. It then creates `d` dimensional vectors (consider it an array of length `d`) for each document (review) in our corpus (total set of reviews) and each dimension (cell) has value equal to number of times the corresponding word has occurred in that particular document (review)."
      ]
    },
    {
      "cell_type": "code",
      "metadata": {
        "id": "w9yerwe28DmZ",
        "colab_type": "code",
        "colab": {}
      },
      "source": [
        "from sklearn.feature_extraction.text import CountVectorizer"
      ],
      "execution_count": 0,
      "outputs": []
    },
    {
      "cell_type": "code",
      "metadata": {
        "id": "byoOKgic8uLk",
        "colab_type": "code",
        "colab": {}
      },
      "source": [
        "# create an object from class\n",
        "# by default, CountVectorizer uses ’utf-8’ as the encoding to decode byte texts, which is the encoding used in our processed text\n",
        "count_vect = CountVectorizer()\n",
        "\n",
        "# learn (fit) the vocab dictionry and vetorize (transform) each review\n",
        "BoW_train_X = count_vect.fit_transform(train_X_ros['cleaned review'])\n",
        "# this returns a sparse matrix where each row represent a review\n",
        "# this is no longer a dataframe!"
      ],
      "execution_count": 0,
      "outputs": []
    },
    {
      "cell_type": "code",
      "metadata": {
        "id": "5YqnQjdh-mjk",
        "colab_type": "code",
        "outputId": "f8e73f8c-9b6a-4cf3-b988-e0802d8a3f94",
        "colab": {
          "base_uri": "https://localhost:8080/",
          "height": 51
        }
      },
      "source": [
        "BoW_train_X"
      ],
      "execution_count": 19,
      "outputs": [
        {
          "output_type": "execute_result",
          "data": {
            "text/plain": [
              "<450110x73944 sparse matrix of type '<class 'numpy.int64'>'\n",
              "\twith 19957604 stored elements in Compressed Sparse Row format>"
            ]
          },
          "metadata": {
            "tags": []
          },
          "execution_count": 19
        }
      ]
    },
    {
      "cell_type": "markdown",
      "metadata": {
        "id": "fSFX6Ra78xl7",
        "colab_type": "text"
      },
      "source": [
        "We can see that the matrix has the number of reviews as rows and 73944 unique words in all reviews"
      ]
    },
    {
      "cell_type": "markdown",
      "metadata": {
        "id": "ZzH_tcXj_Hq3",
        "colab_type": "text"
      },
      "source": [
        "we also have to trasnform our validation set\n",
        "but be careful, we cannot train the vectorizer on the validation set, because after training, our model only knows how to classify inputs that has the same # of features. So if we had fit our vectorizer on the validation set, it might result in a matrix with different numbers of features."
      ]
    },
    {
      "cell_type": "code",
      "metadata": {
        "id": "SSIIsLMk_0an",
        "colab_type": "code",
        "colab": {}
      },
      "source": [
        "BoW_val_X = count_vect.transform(val_X['cleaned review'])"
      ],
      "execution_count": 0,
      "outputs": []
    },
    {
      "cell_type": "code",
      "metadata": {
        "id": "d0qtdmJjAZJH",
        "colab_type": "code",
        "outputId": "121113a2-1271-419c-a580-446adbaade2a",
        "colab": {
          "base_uri": "https://localhost:8080/",
          "height": 51
        }
      },
      "source": [
        "BoW_val_X"
      ],
      "execution_count": 21,
      "outputs": [
        {
          "output_type": "execute_result",
          "data": {
            "text/plain": [
              "<35918x73944 sparse matrix of type '<class 'numpy.int64'>'\n",
              "\twith 1814781 stored elements in Compressed Sparse Row format>"
            ]
          },
          "metadata": {
            "tags": []
          },
          "execution_count": 21
        }
      ]
    },
    {
      "cell_type": "markdown",
      "metadata": {
        "id": "AenQpmaGAb7Q",
        "colab_type": "text"
      },
      "source": [
        "Note how that although the number of rows changed (to equal to the same number of reviews in the validation set), the number of columns is the same as our training BoW set!"
      ]
    },
    {
      "cell_type": "markdown",
      "metadata": {
        "id": "krqhSOZRAkGu",
        "colab_type": "text"
      },
      "source": [
        "First, we can just use the BoW matrix, i.e., the unique-word features as our only features and start training the model. But later, we can also add in features such as rating, and text length to see if it betters our result! But if we add these other features, make sure to normalize them as they can be quite large numbers"
      ]
    },
    {
      "cell_type": "code",
      "metadata": {
        "id": "yWzFlL6EKsRh",
        "colab_type": "code",
        "colab": {}
      },
      "source": [
        "# add these columns to our BoW matrix, remember to keep the sparse format\n",
        "BoW_train_X_extra = sparse.hstack((BoW_train_X, train_extra))"
      ],
      "execution_count": 0,
      "outputs": []
    },
    {
      "cell_type": "code",
      "metadata": {
        "id": "ZhH2EDXEpdcJ",
        "colab_type": "code",
        "outputId": "0ca83b16-3bd0-4c98-ef95-5ff78bf44d88",
        "colab": {
          "base_uri": "https://localhost:8080/",
          "height": 34
        }
      },
      "source": [
        "train_extra.shape"
      ],
      "execution_count": 33,
      "outputs": [
        {
          "output_type": "execute_result",
          "data": {
            "text/plain": [
              "(450110, 3)"
            ]
          },
          "metadata": {
            "tags": []
          },
          "execution_count": 33
        }
      ]
    },
    {
      "cell_type": "code",
      "metadata": {
        "id": "gpK8YeEhKwav",
        "colab_type": "code",
        "colab": {}
      },
      "source": [
        "# add these columns to our BoW matrix, remember to keep the sparse format\n",
        "BoW_val_X_extra = sparse.hstack((BoW_val_X, val_extra))"
      ],
      "execution_count": 0,
      "outputs": []
    },
    {
      "cell_type": "code",
      "metadata": {
        "id": "oe6J-uP4phBt",
        "colab_type": "code",
        "outputId": "7c49ff71-3021-4a36-f4b7-a00c7ec42936",
        "colab": {
          "base_uri": "https://localhost:8080/",
          "height": 34
        }
      },
      "source": [
        "val_extra.shape"
      ],
      "execution_count": 35,
      "outputs": [
        {
          "output_type": "execute_result",
          "data": {
            "text/plain": [
              "(35918, 3)"
            ]
          },
          "metadata": {
            "tags": []
          },
          "execution_count": 35
        }
      ]
    },
    {
      "cell_type": "markdown",
      "metadata": {
        "id": "Gb7Ks7uobMYX",
        "colab_type": "text"
      },
      "source": [
        "### for smo and ada"
      ]
    },
    {
      "cell_type": "code",
      "metadata": {
        "id": "gBNem336zFvJ",
        "colab_type": "code",
        "colab": {}
      },
      "source": [
        "# create an object from class\n",
        "# by default, CountVectorizer uses ’utf-8’ as the encoding to decode byte texts, which is the encoding used in our processed text\n",
        "count_vect = CountVectorizer()\n",
        "\n",
        "# learn (fit) the vocab dictionry and vetorize (transform) each review\n",
        "BoW_train_X_og = count_vect.fit_transform(train_X['cleaned review'])\n",
        "# this returns a sparse matrix where each row represent a review\n",
        "# this is no longer a dataframe!"
      ],
      "execution_count": 0,
      "outputs": []
    },
    {
      "cell_type": "code",
      "metadata": {
        "id": "C6cz8kPkzaGl",
        "colab_type": "code",
        "colab": {
          "base_uri": "https://localhost:8080/",
          "height": 51
        },
        "outputId": "1f37e2df-92fa-482e-f999-e10d02318747"
      },
      "source": [
        "BoW_train_X_og # this is used to upsample SMOTE and ADASYN"
      ],
      "execution_count": 80,
      "outputs": [
        {
          "output_type": "execute_result",
          "data": {
            "text/plain": [
              "<250874x73944 sparse matrix of type '<class 'numpy.int64'>'\n",
              "\twith 12735728 stored elements in Compressed Sparse Row format>"
            ]
          },
          "metadata": {
            "tags": []
          },
          "execution_count": 80
        }
      ]
    },
    {
      "cell_type": "code",
      "metadata": {
        "id": "9UqrRNTw1O7f",
        "colab_type": "code",
        "colab": {}
      },
      "source": [
        "BoW_val_X_og = count_vect.transform(val_X['cleaned review'])"
      ],
      "execution_count": 0,
      "outputs": []
    },
    {
      "cell_type": "code",
      "metadata": {
        "id": "kdPZtQDh1nc7",
        "colab_type": "code",
        "colab": {
          "base_uri": "https://localhost:8080/",
          "height": 51
        },
        "outputId": "750522f8-76a4-419e-f519-2fc35121816e"
      },
      "source": [
        "BoW_val_X_og # this is used to validate SMOTE and ADASYN training data"
      ],
      "execution_count": 82,
      "outputs": [
        {
          "output_type": "execute_result",
          "data": {
            "text/plain": [
              "<35918x73944 sparse matrix of type '<class 'numpy.int64'>'\n",
              "\twith 1814781 stored elements in Compressed Sparse Row format>"
            ]
          },
          "metadata": {
            "tags": []
          },
          "execution_count": 82
        }
      ]
    },
    {
      "cell_type": "markdown",
      "metadata": {
        "id": "klJl21buxqD7",
        "colab_type": "text"
      },
      "source": [
        "## TF-IDF"
      ]
    },
    {
      "cell_type": "markdown",
      "metadata": {
        "id": "gCTVUO0FiUjI",
        "colab_type": "text"
      },
      "source": [
        "From the linear SVM implementation below, we can see that our `au_roc` score is very poor, almost the same as our Naive Bayes baseline model. We can guess that is because our word-vectors are not linearly separable in their 70000+ dimension space. Can we try to use TF-IDF and present them as vectors in a different way that makes the vectors more separable? This is why we want to try to use TF-IDF to represent our text. "
      ]
    },
    {
      "cell_type": "markdown",
      "metadata": {
        "id": "Hmisl-nkivpq",
        "colab_type": "text"
      },
      "source": [
        "TF-IDF is an acronym than stands for “Term Frequency — Inverse Document” Frequency which are the components of the resulting scores assigned to each word. \n",
        "\n",
        "Term Frequency: This summarizes how often a given word appears within a document.\n",
        "\n",
        "Inverse Document Frequency: This down scales words that appear a lot across documents."
      ]
    },
    {
      "cell_type": "code",
      "metadata": {
        "id": "-koVuewBmhJj",
        "colab_type": "code",
        "colab": {}
      },
      "source": [
        "from sklearn.feature_extraction.text import TfidfVectorizer"
      ],
      "execution_count": 0,
      "outputs": []
    },
    {
      "cell_type": "code",
      "metadata": {
        "id": "GEe-zguXlmcm",
        "colab_type": "code",
        "colab": {}
      },
      "source": [
        "# create an object from class\n",
        "# by default, TfidfVectorizer uses ’utf-8’ as the encoding to decode byte texts, which is the encoding used in our processed text\n",
        "tfidf_vect = TfidfVectorizer()"
      ],
      "execution_count": 0,
      "outputs": []
    },
    {
      "cell_type": "code",
      "metadata": {
        "id": "8NteSDG2wGBz",
        "colab_type": "code",
        "colab": {}
      },
      "source": [
        "# # learn (fit) the vocab dictionry from the entire data! not just the train!\n",
        "# tfidf_vect.fit(pd.concat([train_X_ros['cleaned review'], val_X['cleaned review']]))"
      ],
      "execution_count": 0,
      "outputs": []
    },
    {
      "cell_type": "code",
      "metadata": {
        "id": "eyRjxPMqmsQX",
        "colab_type": "code",
        "colab": {}
      },
      "source": [
        "# learn (fit) the vocab dictionry and vetorize (transform) each review\n",
        "tfidf_train_X = tfidf_vect.fit_transform(train_X_ros['cleaned review'])\n",
        "# this returns a sparse matrix where each row represent a review\n",
        "# this is no longer a dataframe!"
      ],
      "execution_count": 0,
      "outputs": []
    },
    {
      "cell_type": "code",
      "metadata": {
        "id": "3YapQrqRnlP1",
        "colab_type": "code",
        "outputId": "90307002-54ad-417c-c202-81d21a82c5ea",
        "colab": {
          "base_uri": "https://localhost:8080/",
          "height": 51
        }
      },
      "source": [
        "tfidf_train_X"
      ],
      "execution_count": 40,
      "outputs": [
        {
          "output_type": "execute_result",
          "data": {
            "text/plain": [
              "<450110x73944 sparse matrix of type '<class 'numpy.float64'>'\n",
              "\twith 19945603 stored elements in Compressed Sparse Row format>"
            ]
          },
          "metadata": {
            "tags": []
          },
          "execution_count": 40
        }
      ]
    },
    {
      "cell_type": "markdown",
      "metadata": {
        "id": "7d50V-aMns7r",
        "colab_type": "text"
      },
      "source": [
        "We can see that the matrix has the number of reviews as rows and 73944 unique words in all reviews, same as our BoW of course.\n",
        "\n",
        "we also have to trasnform our validation set but be careful, we cannot train the vectorizer on the validation set, because after training, our model only knows how to classify inputs that has the same # of features. So if we had fit our vectorizer on the validation set, it might result in a matrix with different numbers of features."
      ]
    },
    {
      "cell_type": "code",
      "metadata": {
        "id": "WH_8CWQxn1tt",
        "colab_type": "code",
        "colab": {}
      },
      "source": [
        "tfidf_val_X = tfidf_vect.transform(val_X['cleaned review'])"
      ],
      "execution_count": 0,
      "outputs": []
    },
    {
      "cell_type": "code",
      "metadata": {
        "id": "GoBMZLuFo_er",
        "colab_type": "code",
        "outputId": "4d050157-70a0-47d4-bda3-6cd627edfcb7",
        "colab": {
          "base_uri": "https://localhost:8080/",
          "height": 51
        }
      },
      "source": [
        "tfidf_val_X"
      ],
      "execution_count": 42,
      "outputs": [
        {
          "output_type": "execute_result",
          "data": {
            "text/plain": [
              "<35918x73944 sparse matrix of type '<class 'numpy.float64'>'\n",
              "\twith 1814781 stored elements in Compressed Sparse Row format>"
            ]
          },
          "metadata": {
            "tags": []
          },
          "execution_count": 42
        }
      ]
    },
    {
      "cell_type": "markdown",
      "metadata": {
        "id": "c0jO7BLvpBU8",
        "colab_type": "text"
      },
      "source": [
        "Similarly, add the 3 additioanl feature columns to the sparse matrix for both train and validation input."
      ]
    },
    {
      "cell_type": "code",
      "metadata": {
        "id": "S_MChQCpsCYE",
        "colab_type": "code",
        "outputId": "ae8bfe57-29f6-4085-ecc0-a49e43ae0dcb",
        "colab": {
          "base_uri": "https://localhost:8080/",
          "height": 51
        }
      },
      "source": [
        "# add these columns to our tfidf matrix, remember to keep the sparse format\n",
        "tfidf_train_X_extra = sparse.hstack((tfidf_train_X, train_extra))\n",
        "tfidf_train_X_extra"
      ],
      "execution_count": 43,
      "outputs": [
        {
          "output_type": "execute_result",
          "data": {
            "text/plain": [
              "<450110x73947 sparse matrix of type '<class 'numpy.float64'>'\n",
              "\twith 21264581 stored elements in COOrdinate format>"
            ]
          },
          "metadata": {
            "tags": []
          },
          "execution_count": 43
        }
      ]
    },
    {
      "cell_type": "code",
      "metadata": {
        "id": "ItLtF6zmsL4e",
        "colab_type": "code",
        "outputId": "58d86673-ed0f-41d3-c9da-141f7ab18909",
        "colab": {
          "base_uri": "https://localhost:8080/",
          "height": 51
        }
      },
      "source": [
        "# add these columns to our tfidf matrix, remember to keep the sparse format\n",
        "tfidf_val_X_extra = sparse.hstack((tfidf_val_X, val_extra))\n",
        "tfidf_val_X_extra"
      ],
      "execution_count": 44,
      "outputs": [
        {
          "output_type": "execute_result",
          "data": {
            "text/plain": [
              "<35918x73947 sparse matrix of type '<class 'numpy.float64'>'\n",
              "\twith 1921031 stored elements in COOrdinate format>"
            ]
          },
          "metadata": {
            "tags": []
          },
          "execution_count": 44
        }
      ]
    },
    {
      "cell_type": "markdown",
      "metadata": {
        "colab_type": "text",
        "id": "Uz0Uwi_8dHpQ"
      },
      "source": [
        "## TF-IDF (1,2)"
      ]
    },
    {
      "cell_type": "code",
      "metadata": {
        "colab_type": "code",
        "id": "_H6DnigvdHpS",
        "colab": {}
      },
      "source": [
        "from sklearn.feature_extraction.text import TfidfVectorizer"
      ],
      "execution_count": 0,
      "outputs": []
    },
    {
      "cell_type": "code",
      "metadata": {
        "colab_type": "code",
        "id": "m6jrxI1-dHpW",
        "colab": {}
      },
      "source": [
        "# create an object from class\n",
        "# by default, TfidfVectorizer uses ’utf-8’ as the encoding to decode byte texts, which is the encoding used in our processed text\n",
        "# (1, 2) means unigrams and bigrams\n",
        "tfidf_vect = TfidfVectorizer(ngram_range=(1,2))"
      ],
      "execution_count": 0,
      "outputs": []
    },
    {
      "cell_type": "code",
      "metadata": {
        "colab_type": "code",
        "id": "hoID-lpddHpa",
        "colab": {}
      },
      "source": [
        "# # learn (fit) the vocab dictionry from the entire data! not just the train!\n",
        "# tfidf_vect.fit(pd.concat([train_X_ros['cleaned review'], val_X['cleaned review']]))"
      ],
      "execution_count": 0,
      "outputs": []
    },
    {
      "cell_type": "code",
      "metadata": {
        "colab_type": "code",
        "id": "zvMv9x7ndHpc",
        "colab": {}
      },
      "source": [
        "# learn (fit) the vocab dictionry and vetorize (transform) each review\n",
        "tfidf12_train_X = tfidf_vect.fit_transform(train_X_ros['cleaned review'])\n",
        "# this returns a sparse matrix where each row represent a review\n",
        "# this is no longer a dataframe!"
      ],
      "execution_count": 0,
      "outputs": []
    },
    {
      "cell_type": "code",
      "metadata": {
        "colab_type": "code",
        "outputId": "09ef88f0-7aa2-4901-dd0b-84e604767b52",
        "id": "NuolmoOCdHpe",
        "colab": {
          "base_uri": "https://localhost:8080/",
          "height": 51
        }
      },
      "source": [
        "tfidf12_train_X"
      ],
      "execution_count": 43,
      "outputs": [
        {
          "output_type": "execute_result",
          "data": {
            "text/plain": [
              "<450110x3167368 sparse matrix of type '<class 'numpy.float64'>'\n",
              "\twith 42978102 stored elements in Compressed Sparse Row format>"
            ]
          },
          "metadata": {
            "tags": []
          },
          "execution_count": 43
        }
      ]
    },
    {
      "cell_type": "markdown",
      "metadata": {
        "colab_type": "text",
        "id": "cVrGoAMndHph"
      },
      "source": [
        "We can see that the matrix has the number of reviews as rows and 73944 unique words in all reviews, same as our BoW of course.\n",
        "\n",
        "we also have to trasnform our validation set but be careful, we cannot train the vectorizer on the validation set, because after training, our model only knows how to classify inputs that has the same # of features. So if we had fit our vectorizer on the validation set, it might result in a matrix with different numbers of features."
      ]
    },
    {
      "cell_type": "code",
      "metadata": {
        "colab_type": "code",
        "id": "q9VjCf_pdHph",
        "colab": {}
      },
      "source": [
        "tfidf12_val_X = tfidf_vect.transform(val_X['cleaned review'])"
      ],
      "execution_count": 0,
      "outputs": []
    },
    {
      "cell_type": "code",
      "metadata": {
        "colab_type": "code",
        "outputId": "d7b3edfe-6949-4ce2-db2c-931dd8e13ae9",
        "id": "xfz2upg6dHpk",
        "colab": {
          "base_uri": "https://localhost:8080/",
          "height": 51
        }
      },
      "source": [
        "tfidf12_val_X"
      ],
      "execution_count": 45,
      "outputs": [
        {
          "output_type": "execute_result",
          "data": {
            "text/plain": [
              "<35918x3167368 sparse matrix of type '<class 'numpy.float64'>'\n",
              "\twith 3653739 stored elements in Compressed Sparse Row format>"
            ]
          },
          "metadata": {
            "tags": []
          },
          "execution_count": 45
        }
      ]
    },
    {
      "cell_type": "markdown",
      "metadata": {
        "colab_type": "text",
        "id": "Qc_-IbSidHpl"
      },
      "source": [
        "Similarly, add the 3 additioanl feature columns to the sparse matrix for both train and validation input."
      ]
    },
    {
      "cell_type": "code",
      "metadata": {
        "colab_type": "code",
        "outputId": "cc514d1f-17a7-4507-c260-d3306696a520",
        "id": "s7qFEZq6dHpm",
        "colab": {
          "base_uri": "https://localhost:8080/",
          "height": 51
        }
      },
      "source": [
        "# add these columns to our tfidf matrix, remember to keep the sparse format\n",
        "tfidf12_train_X_extra = sparse.hstack((tfidf12_train_X, train_extra))\n",
        "tfidf12_train_X_extra"
      ],
      "execution_count": 46,
      "outputs": [
        {
          "output_type": "execute_result",
          "data": {
            "text/plain": [
              "<450110x3167371 sparse matrix of type '<class 'numpy.float64'>'\n",
              "\twith 44297299 stored elements in COOrdinate format>"
            ]
          },
          "metadata": {
            "tags": []
          },
          "execution_count": 46
        }
      ]
    },
    {
      "cell_type": "code",
      "metadata": {
        "colab_type": "code",
        "outputId": "2a48abcf-14ea-4885-f685-0c7580f1282e",
        "id": "EWjR1xHOdHpn",
        "colab": {
          "base_uri": "https://localhost:8080/",
          "height": 51
        }
      },
      "source": [
        "# add these columns to our tfidf matrix, remember to keep the sparse format\n",
        "tfidf12_val_X_extra = sparse.hstack((tfidf12_val_X, val_extra))\n",
        "tfidf12_val_X_extra"
      ],
      "execution_count": 47,
      "outputs": [
        {
          "output_type": "execute_result",
          "data": {
            "text/plain": [
              "<35918x3167371 sparse matrix of type '<class 'numpy.float64'>'\n",
              "\twith 3759989 stored elements in COOrdinate format>"
            ]
          },
          "metadata": {
            "tags": []
          },
          "execution_count": 47
        }
      ]
    },
    {
      "cell_type": "markdown",
      "metadata": {
        "id": "dqLhhjIoBffZ",
        "colab_type": "text"
      },
      "source": [
        "# Single linear model (SVM) training"
      ]
    },
    {
      "cell_type": "code",
      "metadata": {
        "id": "PfgqzC5RJP1M",
        "colab_type": "code",
        "colab": {}
      },
      "source": [
        "from sklearn.svm import SVC\n",
        "from sklearn.linear_model import SGDClassifier\n",
        "from sklearn.metrics import roc_curve, auc, roc_auc_score, average_precision_score, confusion_matrix\n",
        "from sklearn.kernel_approximation import Nystroem"
      ],
      "execution_count": 0,
      "outputs": []
    },
    {
      "cell_type": "code",
      "metadata": {
        "id": "AQHNqrSBXgHU",
        "colab_type": "code",
        "outputId": "16949e7a-1b01-481e-9440-f6ce08fc9217",
        "colab": {
          "base_uri": "https://localhost:8080/",
          "height": 51
        }
      },
      "source": [
        "# change the y-labels from dataframe to ndarray of shape (n_samples, ) for model inputs\n",
        "train_y_ros_arr = np.array(train_y_ros['label'])\n",
        "print(train_y_ros_arr.shape)\n",
        "\n",
        "val_y_arr = np.array(val_y['label'])\n",
        "print(val_y_arr.shape)"
      ],
      "execution_count": 47,
      "outputs": [
        {
          "output_type": "stream",
          "text": [
            "(450110,)\n",
            "(35918,)\n"
          ],
          "name": "stdout"
        }
      ]
    },
    {
      "cell_type": "code",
      "metadata": {
        "id": "iCiuZqinn9fr",
        "colab_type": "code",
        "colab": {}
      },
      "source": [
        "# create a function to print all the results in one place\n",
        "\n",
        "def get_results(y_true, y_pred, y_score):\n",
        "  '''\n",
        "  Params:\n",
        "  -------------------------------------\n",
        "  y_true: ndarray of shape (n_samples, ) of true class labels \\n\n",
        "  y_pred: ndarray of shape (n_samples, ) of predicted class labels used for confusion matrix \\n\n",
        "  y_score: ndarray of shape (n_samples, ) of predicted confidence scores used for au_ROC and AP \n",
        "  '''\n",
        "\n",
        "  print('au_roc score:', roc_auc_score(y_true, y_score))\n",
        "  print('average precision score:', average_precision_score(y_true, y_score))\n",
        "\n",
        "  plt.plot([0, 1], [0, 1], 'k--')\n",
        "  plt.xlim([0.0, 1.0])\n",
        "  plt.ylim([0.0, 1.0])\n",
        "  plt.xlabel('FPR')\n",
        "  plt.ylabel('TPR')\n",
        "  plt.title('ROC')\n",
        "\n",
        "  fpr, tpr, thresholds = roc_curve(y_true, y_score)\n",
        "  curve = plt.plot(fpr, tpr, label = 'SVM' + ' (AUC = %0.3f)' % roc_auc_score(y_true, y_score))\n",
        "  plt.legend(loc='center left', bbox_to_anchor=(1, 0.5))\n",
        "\n",
        "  plt.show()\n",
        "\n",
        "  print()\n",
        "  print('Confusion Matrix:')\n",
        "  print(pd.DataFrame(confusion_matrix(y_true, y_pred), index=['actual negative', 'actual positive'], \n",
        "             columns=['predicted negative', 'predicted positive']))\n",
        "  \n",
        "  return"
      ],
      "execution_count": 0,
      "outputs": []
    },
    {
      "cell_type": "code",
      "metadata": {
        "id": "jVLmvgGO1wvi",
        "colab_type": "code",
        "colab": {}
      },
      "source": [
        ""
      ],
      "execution_count": 0,
      "outputs": []
    },
    {
      "cell_type": "markdown",
      "metadata": {
        "colab_type": "text",
        "id": "nBKYX6-Q1xHq"
      },
      "source": [
        "## linear SVM with BoW_smo data"
      ]
    },
    {
      "cell_type": "code",
      "metadata": {
        "colab_type": "code",
        "id": "XQNp4y4V1xHr",
        "colab": {}
      },
      "source": [
        "# create the svc model object\n",
        "svclassifier = SVC(kernel='linear')"
      ],
      "execution_count": 0,
      "outputs": []
    },
    {
      "cell_type": "code",
      "metadata": {
        "colab_type": "code",
        "id": "e5UyhRco1xHx",
        "colab": {}
      },
      "source": [
        "# fit the model to our training data\n",
        "# !!! do not start running this if you're not prepared to wait for 3 hours\n",
        "svclassifier.fit(BoW_train_X_smo, np.array(train_y_smo['label'])"
      ],
      "execution_count": 0,
      "outputs": []
    },
    {
      "cell_type": "markdown",
      "metadata": {
        "colab_type": "text",
        "id": "EsKL5cSC1xH0"
      },
      "source": [
        "As stated by the API, `svc` does not handle large datasets (> 10,000 instances) well, and this fit took forever! For large datasets consider using `sklearn.svm.LinearSVC` or `sklearn.linear_model.SGDClassifier` instead. However, those are all linear kernel models and does not offer me the option of choosing kernels such as `sigmoid` or `poly`. Any work around?\n",
        "\n",
        "Look into [`sklearn.kernel_approximation.Nystroem`](https://scikit-learn.org/stable/modules/generated/sklearn.kernel_approximation.Nystroem.html#sklearn.kernel_approximation.Nystroem)"
      ]
    },
    {
      "cell_type": "code",
      "metadata": {
        "colab_type": "code",
        "id": "2v2sYUik1xH0",
        "colab": {}
      },
      "source": [
        "# create SGDclassifier object\n",
        "sgd = SGDClassifier(random_state=2)"
      ],
      "execution_count": 0,
      "outputs": []
    },
    {
      "cell_type": "code",
      "metadata": {
        "colab_type": "code",
        "outputId": "9d1170d6-b53e-483c-c079-a597844fc3f5",
        "id": "9nyVL8nl1xH1",
        "colab": {
          "base_uri": "https://localhost:8080/",
          "height": 119
        }
      },
      "source": [
        "# fit the model to our training data\n",
        "sgd.fit(BoW_train_X_smo, np.array(train_y_smo))"
      ],
      "execution_count": 116,
      "outputs": [
        {
          "output_type": "execute_result",
          "data": {
            "text/plain": [
              "SGDClassifier(alpha=0.0001, average=False, class_weight=None,\n",
              "              early_stopping=False, epsilon=0.1, eta0=0.0, fit_intercept=True,\n",
              "              l1_ratio=0.15, learning_rate='optimal', loss='hinge',\n",
              "              max_iter=1000, n_iter_no_change=5, n_jobs=None, penalty='l2',\n",
              "              power_t=0.5, random_state=2, shuffle=True, tol=0.001,\n",
              "              validation_fraction=0.1, verbose=0, warm_start=False)"
            ]
          },
          "metadata": {
            "tags": []
          },
          "execution_count": 116
        }
      ]
    },
    {
      "cell_type": "code",
      "metadata": {
        "colab_type": "code",
        "id": "EGnxzXyV1xH4",
        "colab": {}
      },
      "source": [
        "# predict the labels for our validation set\n",
        "val_pred = sgd.predict(BoW_val_X_og)\n",
        "# this returns a ndarray of shape (n_samples, )\n",
        "\n",
        "# predict the confidence score for our validation set\n",
        "val_score = sgd.decision_function(BoW_val_X_og)\n",
        "# this returns a ndarray of shape (n_samples, )"
      ],
      "execution_count": 0,
      "outputs": []
    },
    {
      "cell_type": "code",
      "metadata": {
        "colab_type": "code",
        "outputId": "0aeda2ad-5677-4580-e37a-8017fa70be41",
        "id": "ISJxT-iK1xH5",
        "colab": {
          "base_uri": "https://localhost:8080/",
          "height": 34
        }
      },
      "source": [
        "val_pred.shape"
      ],
      "execution_count": 118,
      "outputs": [
        {
          "output_type": "execute_result",
          "data": {
            "text/plain": [
              "(35918,)"
            ]
          },
          "metadata": {
            "tags": []
          },
          "execution_count": 118
        }
      ]
    },
    {
      "cell_type": "code",
      "metadata": {
        "colab_type": "code",
        "outputId": "7c43b91b-1737-43a7-96ef-cf52f393dbc9",
        "id": "YzUP7iXt1xH8",
        "colab": {
          "base_uri": "https://localhost:8080/",
          "height": 414
        }
      },
      "source": [
        "get_results(val_y_arr, val_pred, val_score)"
      ],
      "execution_count": 119,
      "outputs": [
        {
          "output_type": "stream",
          "text": [
            "au_roc score: 0.6778036256245277\n",
            "average precision score: 0.1865670228826518\n"
          ],
          "name": "stdout"
        },
        {
          "output_type": "display_data",
          "data": {
            "image/png": "[encoded data removed]",
            "text/plain": [
              "<Figure size 432x288 with 1 Axes>"
            ]
          },
          "metadata": {
            "tags": [],
            "needs_background": "light"
          }
        },
        {
          "output_type": "stream",
          "text": [
            "\n",
            "Confusion Matrix:\n",
            "                 predicted negative  predicted positive\n",
            "actual negative               27502                4768\n",
            "actual positive                2452                1196\n"
          ],
          "name": "stdout"
        }
      ]
    },
    {
      "cell_type": "code",
      "metadata": {
        "id": "-RJ-vNqadQQz",
        "colab_type": "code",
        "colab": {}
      },
      "source": [
        ""
      ],
      "execution_count": 0,
      "outputs": []
    },
    {
      "cell_type": "markdown",
      "metadata": {
        "colab_type": "text",
        "id": "xX26D7u8dQx9"
      },
      "source": [
        "## linear SVM with BoW_ada data"
      ]
    },
    {
      "cell_type": "code",
      "metadata": {
        "colab_type": "code",
        "id": "TUOc1yW1dQx-",
        "colab": {}
      },
      "source": [
        "# create the svc model object\n",
        "svclassifier = SVC(kernel='linear')"
      ],
      "execution_count": 0,
      "outputs": []
    },
    {
      "cell_type": "code",
      "metadata": {
        "colab_type": "code",
        "id": "bzUhkQJjdQyA",
        "colab": {}
      },
      "source": [
        "# fit the model to our training data\n",
        "# !!! do not start running this if you're not prepared to wait for 3 hours\n",
        "svclassifier.fit(BoW_train_X_smo, np.array(train_y_smo['label'])"
      ],
      "execution_count": 0,
      "outputs": []
    },
    {
      "cell_type": "markdown",
      "metadata": {
        "colab_type": "text",
        "id": "O7b63jC0dQyC"
      },
      "source": [
        "As stated by the API, `svc` does not handle large datasets (> 10,000 instances) well, and this fit took forever! For large datasets consider using `sklearn.svm.LinearSVC` or `sklearn.linear_model.SGDClassifier` instead. However, those are all linear kernel models and does not offer me the option of choosing kernels such as `sigmoid` or `poly`. Any work around?\n",
        "\n",
        "Look into [`sklearn.kernel_approximation.Nystroem`](https://scikit-learn.org/stable/modules/generated/sklearn.kernel_approximation.Nystroem.html#sklearn.kernel_approximation.Nystroem)"
      ]
    },
    {
      "cell_type": "code",
      "metadata": {
        "colab_type": "code",
        "id": "3sPO586DdQyD",
        "colab": {}
      },
      "source": [
        "# create SGDclassifier object\n",
        "sgd = SGDClassifier(random_state=2)"
      ],
      "execution_count": 0,
      "outputs": []
    },
    {
      "cell_type": "code",
      "metadata": {
        "colab_type": "code",
        "outputId": "14a20215-0f0c-4099-bad0-cbf68936ea06",
        "id": "xGwV0KladQyG",
        "colab": {
          "base_uri": "https://localhost:8080/",
          "height": 119
        }
      },
      "source": [
        "# fit the model to our training data\n",
        "sgd.fit(BoW_train_X_ada, np.array(train_y_ada))"
      ],
      "execution_count": 121,
      "outputs": [
        {
          "output_type": "execute_result",
          "data": {
            "text/plain": [
              "SGDClassifier(alpha=0.0001, average=False, class_weight=None,\n",
              "              early_stopping=False, epsilon=0.1, eta0=0.0, fit_intercept=True,\n",
              "              l1_ratio=0.15, learning_rate='optimal', loss='hinge',\n",
              "              max_iter=1000, n_iter_no_change=5, n_jobs=None, penalty='l2',\n",
              "              power_t=0.5, random_state=2, shuffle=True, tol=0.001,\n",
              "              validation_fraction=0.1, verbose=0, warm_start=False)"
            ]
          },
          "metadata": {
            "tags": []
          },
          "execution_count": 121
        }
      ]
    },
    {
      "cell_type": "code",
      "metadata": {
        "colab_type": "code",
        "id": "3kcyFEJddQyJ",
        "colab": {}
      },
      "source": [
        "# predict the labels for our validation set\n",
        "val_pred = sgd.predict(BoW_val_X_og)\n",
        "# this returns a ndarray of shape (n_samples, )\n",
        "\n",
        "# predict the confidence score for our validation set\n",
        "val_score = sgd.decision_function(BoW_val_X_og)\n",
        "# this returns a ndarray of shape (n_samples, )"
      ],
      "execution_count": 0,
      "outputs": []
    },
    {
      "cell_type": "code",
      "metadata": {
        "colab_type": "code",
        "outputId": "d674d626-05ea-448b-ca97-a02a272ec660",
        "id": "y1tn3U21dQyL",
        "colab": {
          "base_uri": "https://localhost:8080/",
          "height": 34
        }
      },
      "source": [
        "val_pred.shape"
      ],
      "execution_count": 123,
      "outputs": [
        {
          "output_type": "execute_result",
          "data": {
            "text/plain": [
              "(35918,)"
            ]
          },
          "metadata": {
            "tags": []
          },
          "execution_count": 123
        }
      ]
    },
    {
      "cell_type": "code",
      "metadata": {
        "colab_type": "code",
        "outputId": "f2f2ea62-9744-442d-8841-8b0215b0c41a",
        "id": "wYolDZ2pdQyN",
        "colab": {
          "base_uri": "https://localhost:8080/",
          "height": 414
        }
      },
      "source": [
        "get_results(val_y_arr, val_pred, val_score)"
      ],
      "execution_count": 124,
      "outputs": [
        {
          "output_type": "stream",
          "text": [
            "au_roc score: 0.6743473167395169\n",
            "average precision score: 0.18691222556159032\n"
          ],
          "name": "stdout"
        },
        {
          "output_type": "display_data",
          "data": {
            "image/png": "[encoded data removed]",
            "text/plain": [
              "<Figure size 432x288 with 1 Axes>"
            ]
          },
          "metadata": {
            "tags": [],
            "needs_background": "light"
          }
        },
        {
          "output_type": "stream",
          "text": [
            "\n",
            "Confusion Matrix:\n",
            "                 predicted negative  predicted positive\n",
            "actual negative               27902                4368\n",
            "actual positive                2551                1097\n"
          ],
          "name": "stdout"
        }
      ]
    },
    {
      "cell_type": "markdown",
      "metadata": {
        "id": "Pd8TUvm1JKk4",
        "colab_type": "text"
      },
      "source": [
        "## linear SVM with BoW data"
      ]
    },
    {
      "cell_type": "code",
      "metadata": {
        "id": "mS9kNVqGBjCU",
        "colab_type": "code",
        "colab": {}
      },
      "source": [
        "# create the svc model object\n",
        "svclassifier = SVC(kernel='linear')"
      ],
      "execution_count": 0,
      "outputs": []
    },
    {
      "cell_type": "code",
      "metadata": {
        "id": "RatYoe8SKdJi",
        "colab_type": "code",
        "colab": {}
      },
      "source": [
        "# fit the model to our training data\n",
        "# !!! do not start running this if you're not prepared to wait for 3 hours\n",
        "svclassifier.fit(BoW_train_X, train_y_ros)"
      ],
      "execution_count": 0,
      "outputs": []
    },
    {
      "cell_type": "markdown",
      "metadata": {
        "id": "G_tbvWR2MGdc",
        "colab_type": "text"
      },
      "source": [
        "As stated by the API, `svc` does not handle large datasets (> 10,000 instances) well, and this fit took forever! For large datasets consider using `sklearn.svm.LinearSVC` or `sklearn.linear_model.SGDClassifier` instead. However, those are all linear kernel models and does not offer me the option of choosing kernels such as `sigmoid` or `poly`. Any work around?\n",
        "\n",
        "Look into [`sklearn.kernel_approximation.Nystroem`](https://scikit-learn.org/stable/modules/generated/sklearn.kernel_approximation.Nystroem.html#sklearn.kernel_approximation.Nystroem)"
      ]
    },
    {
      "cell_type": "code",
      "metadata": {
        "id": "0jcV1MHZOVCc",
        "colab_type": "code",
        "colab": {}
      },
      "source": [
        "# create SGDclassifier object\n",
        "sgd = SGDClassifier(random_state=2)"
      ],
      "execution_count": 0,
      "outputs": []
    },
    {
      "cell_type": "code",
      "metadata": {
        "id": "y62ilBawXUVr",
        "colab_type": "code",
        "outputId": "05430cdb-6036-4649-d0a1-6d171ea9829c",
        "colab": {
          "base_uri": "https://localhost:8080/",
          "height": 119
        }
      },
      "source": [
        "# fit the model to our training data\n",
        "sgd.fit(BoW_train_X, train_y_ros_arr)"
      ],
      "execution_count": 166,
      "outputs": [
        {
          "output_type": "execute_result",
          "data": {
            "text/plain": [
              "SGDClassifier(alpha=0.0001, average=False, class_weight=None,\n",
              "              early_stopping=False, epsilon=0.1, eta0=0.0, fit_intercept=True,\n",
              "              l1_ratio=0.15, learning_rate='optimal', loss='hinge',\n",
              "              max_iter=1000, n_iter_no_change=5, n_jobs=None, penalty='l2',\n",
              "              power_t=0.5, random_state=2, shuffle=True, tol=0.001,\n",
              "              validation_fraction=0.1, verbose=0, warm_start=False)"
            ]
          },
          "metadata": {
            "tags": []
          },
          "execution_count": 166
        }
      ]
    },
    {
      "cell_type": "code",
      "metadata": {
        "id": "eVsta17_XxTD",
        "colab_type": "code",
        "colab": {}
      },
      "source": [
        "# predict the labels for our validation set\n",
        "val_pred = sgd.predict(BoW_val_X)\n",
        "# this returns a ndarray of shape (n_samples, )\n",
        "\n",
        "# predict the confidence score for our validation set\n",
        "val_score = sgd.decision_function(BoW_val_X)\n",
        "# this returns a ndarray of shape (n_samples, )"
      ],
      "execution_count": 0,
      "outputs": []
    },
    {
      "cell_type": "code",
      "metadata": {
        "id": "4SbZ8nvAYPI0",
        "colab_type": "code",
        "outputId": "07db0bf8-e4a1-41a6-e465-1e6219337c8d",
        "colab": {
          "base_uri": "https://localhost:8080/",
          "height": 34
        }
      },
      "source": [
        "val_pred.shape"
      ],
      "execution_count": 168,
      "outputs": [
        {
          "output_type": "execute_result",
          "data": {
            "text/plain": [
              "(35918,)"
            ]
          },
          "metadata": {
            "tags": []
          },
          "execution_count": 168
        }
      ]
    },
    {
      "cell_type": "code",
      "metadata": {
        "id": "LAjSIjed-SLI",
        "colab_type": "code",
        "colab": {
          "base_uri": "https://localhost:8080/",
          "height": 414
        },
        "outputId": "4112d92e-3855-4688-ba02-f53c572b6cb0"
      },
      "source": [
        "get_results(val_y_arr, val_pred, val_score)"
      ],
      "execution_count": 169,
      "outputs": [
        {
          "output_type": "stream",
          "text": [
            "au_roc score: 0.7106028781960323\n",
            "average precision score: 0.1954755480517305\n"
          ],
          "name": "stdout"
        },
        {
          "output_type": "display_data",
          "data": {
            "image/png": "[encoded data removed]",
            "text/plain": [
              "<Figure size 432x288 with 1 Axes>"
            ]
          },
          "metadata": {
            "tags": [],
            "needs_background": "light"
          }
        },
        {
          "output_type": "stream",
          "text": [
            "\n",
            "Confusion Matrix:\n",
            "                 predicted negative  predicted positive\n",
            "actual negative               17324               14946\n",
            "actual positive                 792                2856\n"
          ],
          "name": "stdout"
        }
      ]
    },
    {
      "cell_type": "code",
      "metadata": {
        "id": "lM8AqA8UcWzK",
        "colab_type": "code",
        "outputId": "301b5511-6c3e-4f3d-a574-db0b33998586",
        "colab": {
          "base_uri": "https://localhost:8080/",
          "height": 111
        }
      },
      "source": [
        "pd.DataFrame(confusion_matrix(val_y_arr, val_pred), index=['actual negative', 'actual positive'], \n",
        "             columns=['predicted negative', 'predicted positive'])"
      ],
      "execution_count": 170,
      "outputs": [
        {
          "output_type": "execute_result",
          "data": {
            "text/html": [
              "<div>\n",
              "<style scoped>\n",
              "    .dataframe tbody tr th:only-of-type {\n",
              "        vertical-align: middle;\n",
              "    }\n",
              "\n",
              "    .dataframe tbody tr th {\n",
              "        vertical-align: top;\n",
              "    }\n",
              "\n",
              "    .dataframe thead th {\n",
              "        text-align: right;\n",
              "    }\n",
              "</style>\n",
              "<table border=\"1\" class=\"dataframe\">\n",
              "  <thead>\n",
              "    <tr style=\"text-align: right;\">\n",
              "      <th></th>\n",
              "      <th>predicted negative</th>\n",
              "      <th>predicted positive</th>\n",
              "    </tr>\n",
              "  </thead>\n",
              "  <tbody>\n",
              "    <tr>\n",
              "      <th>actual negative</th>\n",
              "      <td>17324</td>\n",
              "      <td>14946</td>\n",
              "    </tr>\n",
              "    <tr>\n",
              "      <th>actual positive</th>\n",
              "      <td>792</td>\n",
              "      <td>2856</td>\n",
              "    </tr>\n",
              "  </tbody>\n",
              "</table>\n",
              "</div>"
            ],
            "text/plain": [
              "                 predicted negative  predicted positive\n",
              "actual negative               17324               14946\n",
              "actual positive                 792                2856"
            ]
          },
          "metadata": {
            "tags": []
          },
          "execution_count": 170
        }
      ]
    },
    {
      "cell_type": "markdown",
      "metadata": {
        "id": "QQV5n5UIdaBg",
        "colab_type": "text"
      },
      "source": [
        "## linear SVM BoW_extra data"
      ]
    },
    {
      "cell_type": "code",
      "metadata": {
        "id": "nr7H8CUAh-5v",
        "colab_type": "code",
        "colab": {}
      },
      "source": [
        "# create SGDclassifier object\n",
        "sgd = SGDClassifier(random_state=2)"
      ],
      "execution_count": 0,
      "outputs": []
    },
    {
      "cell_type": "code",
      "metadata": {
        "id": "028EhuKviDqL",
        "colab_type": "code",
        "outputId": "faab8ba4-79ab-49c4-bc96-c2dc97b90316",
        "colab": {
          "base_uri": "https://localhost:8080/",
          "height": 119
        }
      },
      "source": [
        "# fit the model to our training data with extra features\n",
        "sgd.fit(BoW_train_X_extra, train_y_ros_arr)"
      ],
      "execution_count": 172,
      "outputs": [
        {
          "output_type": "execute_result",
          "data": {
            "text/plain": [
              "SGDClassifier(alpha=0.0001, average=False, class_weight=None,\n",
              "              early_stopping=False, epsilon=0.1, eta0=0.0, fit_intercept=True,\n",
              "              l1_ratio=0.15, learning_rate='optimal', loss='hinge',\n",
              "              max_iter=1000, n_iter_no_change=5, n_jobs=None, penalty='l2',\n",
              "              power_t=0.5, random_state=2, shuffle=True, tol=0.001,\n",
              "              validation_fraction=0.1, verbose=0, warm_start=False)"
            ]
          },
          "metadata": {
            "tags": []
          },
          "execution_count": 172
        }
      ]
    },
    {
      "cell_type": "code",
      "metadata": {
        "id": "b_eAeqiJiJcg",
        "colab_type": "code",
        "colab": {}
      },
      "source": [
        "# predict the labels for our validation set\n",
        "val_pred = sgd.predict(BoW_val_X_extra)\n",
        "# this returns a ndarray of shape (n_samples, )\n",
        "\n",
        "# predict the confidence score for our validation set\n",
        "val_score = sgd.decision_function(BoW_val_X_extra)\n",
        "# this returns a ndarray of shape (n_samples, )"
      ],
      "execution_count": 0,
      "outputs": []
    },
    {
      "cell_type": "code",
      "metadata": {
        "id": "gNUGfEzTjLNK",
        "colab_type": "code",
        "outputId": "ef562191-4352-4b32-e0be-fe20e5352683",
        "colab": {
          "base_uri": "https://localhost:8080/",
          "height": 414
        }
      },
      "source": [
        "get_results(val_y_arr, val_pred, val_score)"
      ],
      "execution_count": 174,
      "outputs": [
        {
          "output_type": "stream",
          "text": [
            "au_roc score: 0.7126695067726257\n",
            "average precision score: 0.19843380359394686\n"
          ],
          "name": "stdout"
        },
        {
          "output_type": "display_data",
          "data": {
            "image/png": "[encoded data removed]",
            "text/plain": [
              "<Figure size 432x288 with 1 Axes>"
            ]
          },
          "metadata": {
            "tags": [],
            "needs_background": "light"
          }
        },
        {
          "output_type": "stream",
          "text": [
            "\n",
            "Confusion Matrix:\n",
            "                 predicted negative  predicted positive\n",
            "actual negative               17482               14788\n",
            "actual positive                 818                2830\n"
          ],
          "name": "stdout"
        }
      ]
    },
    {
      "cell_type": "markdown",
      "metadata": {
        "id": "Z4qi09pbiYaV",
        "colab_type": "text"
      },
      "source": [
        "Well, both metrics are a tiny bit better. So we will use the matrix that inludes these extra features from now on."
      ]
    },
    {
      "cell_type": "code",
      "metadata": {
        "id": "eFTlvjHJiXPu",
        "colab_type": "code",
        "outputId": "957f97ee-d955-469b-b969-38ccf7f96cad",
        "colab": {
          "base_uri": "https://localhost:8080/",
          "height": 111
        }
      },
      "source": [
        "pd.DataFrame(confusion_matrix(val_y_arr, val_pred), index=['actual negative', 'actual positive'], \n",
        "             columns=['predicted negative', 'predicted positive'])"
      ],
      "execution_count": 154,
      "outputs": [
        {
          "output_type": "execute_result",
          "data": {
            "text/html": [
              "<div>\n",
              "<style scoped>\n",
              "    .dataframe tbody tr th:only-of-type {\n",
              "        vertical-align: middle;\n",
              "    }\n",
              "\n",
              "    .dataframe tbody tr th {\n",
              "        vertical-align: top;\n",
              "    }\n",
              "\n",
              "    .dataframe thead th {\n",
              "        text-align: right;\n",
              "    }\n",
              "</style>\n",
              "<table border=\"1\" class=\"dataframe\">\n",
              "  <thead>\n",
              "    <tr style=\"text-align: right;\">\n",
              "      <th></th>\n",
              "      <th>predicted negative</th>\n",
              "      <th>predicted positive</th>\n",
              "    </tr>\n",
              "  </thead>\n",
              "  <tbody>\n",
              "    <tr>\n",
              "      <th>actual negative</th>\n",
              "      <td>18549</td>\n",
              "      <td>13721</td>\n",
              "    </tr>\n",
              "    <tr>\n",
              "      <th>actual positive</th>\n",
              "      <td>921</td>\n",
              "      <td>2727</td>\n",
              "    </tr>\n",
              "  </tbody>\n",
              "</table>\n",
              "</div>"
            ],
            "text/plain": [
              "                 predicted negative  predicted positive\n",
              "actual negative               18549               13721\n",
              "actual positive                 921                2727"
            ]
          },
          "metadata": {
            "tags": []
          },
          "execution_count": 154
        }
      ]
    },
    {
      "cell_type": "markdown",
      "metadata": {
        "colab_type": "text",
        "id": "JSTwNAwOeN9D"
      },
      "source": [
        "## linear SVM with tfidf_extra data"
      ]
    },
    {
      "cell_type": "code",
      "metadata": {
        "colab_type": "code",
        "id": "dvt8zw93eN9E",
        "colab": {}
      },
      "source": [
        "# create SGDclassifier object\n",
        "sgd = SGDClassifier(random_state=1)"
      ],
      "execution_count": 0,
      "outputs": []
    },
    {
      "cell_type": "code",
      "metadata": {
        "colab_type": "code",
        "outputId": "cff1ab5b-25f5-42b2-fa91-760f4fcde389",
        "id": "pNpI1xiHeN9G",
        "colab": {
          "base_uri": "https://localhost:8080/",
          "height": 119
        }
      },
      "source": [
        "# fit the model to our training data\n",
        "sgd.fit(tfidf_train_X_extra, train_y_ros_arr)"
      ],
      "execution_count": 156,
      "outputs": [
        {
          "output_type": "execute_result",
          "data": {
            "text/plain": [
              "SGDClassifier(alpha=0.0001, average=False, class_weight=None,\n",
              "              early_stopping=False, epsilon=0.1, eta0=0.0, fit_intercept=True,\n",
              "              l1_ratio=0.15, learning_rate='optimal', loss='hinge',\n",
              "              max_iter=1000, n_iter_no_change=5, n_jobs=None, penalty='l2',\n",
              "              power_t=0.5, random_state=1, shuffle=True, tol=0.001,\n",
              "              validation_fraction=0.1, verbose=0, warm_start=False)"
            ]
          },
          "metadata": {
            "tags": []
          },
          "execution_count": 156
        }
      ]
    },
    {
      "cell_type": "code",
      "metadata": {
        "colab_type": "code",
        "id": "Z_mPbvUbeN9J",
        "colab": {}
      },
      "source": [
        "# predict the labels for our validation set\n",
        "val_pred = sgd.predict(tfidf_val_X_extra)\n",
        "# this returns a ndarray of shape (n_samples, )\n",
        "\n",
        "# predict the confidence score for our validation set\n",
        "val_score = sgd.decision_function(tfidf_val_X_extra)\n",
        "# this returns a ndarray of shape (n_samples, )"
      ],
      "execution_count": 0,
      "outputs": []
    },
    {
      "cell_type": "code",
      "metadata": {
        "colab_type": "code",
        "outputId": "0c2e6080-0275-4184-ceaf-5186aec82faf",
        "id": "50dpZyJXeN9L",
        "colab": {
          "base_uri": "https://localhost:8080/",
          "height": 34
        }
      },
      "source": [
        "val_pred.shape"
      ],
      "execution_count": 158,
      "outputs": [
        {
          "output_type": "execute_result",
          "data": {
            "text/plain": [
              "(35918,)"
            ]
          },
          "metadata": {
            "tags": []
          },
          "execution_count": 158
        }
      ]
    },
    {
      "cell_type": "code",
      "metadata": {
        "colab_type": "code",
        "outputId": "79006dbf-6c5d-40bb-cf13-34c05d45c630",
        "id": "vBC6dYQgeN9N",
        "colab": {
          "base_uri": "https://localhost:8080/",
          "height": 414
        }
      },
      "source": [
        "get_results(val_y_arr, val_pred, val_score)"
      ],
      "execution_count": 159,
      "outputs": [
        {
          "output_type": "stream",
          "text": [
            "au_roc score: 0.7270731057578871\n",
            "average precision score: 0.21705176643914137\n"
          ],
          "name": "stdout"
        },
        {
          "output_type": "display_data",
          "data": {
            "image/png": "[encoded data removed]",
            "text/plain": [
              "<Figure size 432x288 with 1 Axes>"
            ]
          },
          "metadata": {
            "tags": [],
            "needs_background": "light"
          }
        },
        {
          "output_type": "stream",
          "text": [
            "\n",
            "Confusion Matrix:\n",
            "                 predicted negative  predicted positive\n",
            "actual negative               19179               13091\n",
            "actual positive                 932                2716\n"
          ],
          "name": "stdout"
        }
      ]
    },
    {
      "cell_type": "markdown",
      "metadata": {
        "id": "FzDP6mk9_dF3",
        "colab_type": "text"
      },
      "source": [
        "The `tfidf_extra` data performs better than BoW on the baseline `sgd` model."
      ]
    },
    {
      "cell_type": "markdown",
      "metadata": {
        "id": "XGMl44w9ufIm",
        "colab_type": "text"
      },
      "source": [
        "## linear SVM with tfidf12_extra data"
      ]
    },
    {
      "cell_type": "code",
      "metadata": {
        "colab_type": "code",
        "id": "NzAuNmIyutTA",
        "colab": {}
      },
      "source": [
        "# create SGDclassifier object \n",
        "# let's try the params from the linear BoW search\n",
        "sgd = SGDClassifier(random_state=1)"
      ],
      "execution_count": 0,
      "outputs": []
    },
    {
      "cell_type": "code",
      "metadata": {
        "colab_type": "code",
        "outputId": "bbec8fdb-2d4a-4ed2-f575-a56f7b5de179",
        "id": "W-mY0JMSutTE",
        "colab": {
          "base_uri": "https://localhost:8080/",
          "height": 119
        }
      },
      "source": [
        "# fit the model to our training data\n",
        "sgd.fit(tfidf12_train_X_extra, train_y_ros_arr)"
      ],
      "execution_count": 161,
      "outputs": [
        {
          "output_type": "execute_result",
          "data": {
            "text/plain": [
              "SGDClassifier(alpha=0.0001, average=False, class_weight=None,\n",
              "              early_stopping=False, epsilon=0.1, eta0=0.0, fit_intercept=True,\n",
              "              l1_ratio=0.15, learning_rate='optimal', loss='hinge',\n",
              "              max_iter=1000, n_iter_no_change=5, n_jobs=None, penalty='l2',\n",
              "              power_t=0.5, random_state=1, shuffle=True, tol=0.001,\n",
              "              validation_fraction=0.1, verbose=0, warm_start=False)"
            ]
          },
          "metadata": {
            "tags": []
          },
          "execution_count": 161
        }
      ]
    },
    {
      "cell_type": "code",
      "metadata": {
        "colab_type": "code",
        "id": "W6TMllCYutTH",
        "colab": {}
      },
      "source": [
        "# predict the labels for our validation set\n",
        "val_pred = sgd.predict(tfidf12_val_X_extra)\n",
        "# this returns a ndarray of shape (n_samples, )\n",
        "\n",
        "# predict the confidence score for our validation set\n",
        "val_score = sgd.decision_function(tfidf12_val_X_extra)\n",
        "# this returns a ndarray of shape (n_samples, )"
      ],
      "execution_count": 0,
      "outputs": []
    },
    {
      "cell_type": "code",
      "metadata": {
        "colab_type": "code",
        "outputId": "08cfe0e4-186d-4e1e-daab-61341d16a886",
        "id": "pbrDWo74utTK",
        "colab": {
          "base_uri": "https://localhost:8080/",
          "height": 34
        }
      },
      "source": [
        "val_pred.shape"
      ],
      "execution_count": 163,
      "outputs": [
        {
          "output_type": "execute_result",
          "data": {
            "text/plain": [
              "(35918,)"
            ]
          },
          "metadata": {
            "tags": []
          },
          "execution_count": 163
        }
      ]
    },
    {
      "cell_type": "code",
      "metadata": {
        "id": "KcA4sFYBvGHm",
        "colab_type": "code",
        "outputId": "18d76aaa-e3ca-4a92-8b3f-09eb4b2057fc",
        "colab": {
          "base_uri": "https://localhost:8080/",
          "height": 414
        }
      },
      "source": [
        "get_results(val_y_arr, val_pred, val_score)"
      ],
      "execution_count": 164,
      "outputs": [
        {
          "output_type": "stream",
          "text": [
            "au_roc score: 0.7182314347419524\n",
            "average precision score: 0.21454794277351705\n"
          ],
          "name": "stdout"
        },
        {
          "output_type": "display_data",
          "data": {
            "image/png": "[encoded data removed]",
            "text/plain": [
              "<Figure size 432x288 with 1 Axes>"
            ]
          },
          "metadata": {
            "tags": [],
            "needs_background": "light"
          }
        },
        {
          "output_type": "stream",
          "text": [
            "\n",
            "Confusion Matrix:\n",
            "                 predicted negative  predicted positive\n",
            "actual negative               14911               17359\n",
            "actual positive                 600                3048\n"
          ],
          "name": "stdout"
        }
      ]
    },
    {
      "cell_type": "markdown",
      "metadata": {
        "id": "rGIluWigvibg",
        "colab_type": "text"
      },
      "source": [
        "From this single implementation, it seems like that TF-IDF with `ngram_range = (1,2)` does even **worse** than unigram. This means that the only options we have left to try are possible different kernels. Trying the best linear BoW params is even worse..."
      ]
    },
    {
      "cell_type": "markdown",
      "metadata": {
        "id": "2-KlFyv9hk-U",
        "colab_type": "text"
      },
      "source": [
        "So, we will just be using `tfidf_extra` data, which uses unigram, from now on."
      ]
    },
    {
      "cell_type": "markdown",
      "metadata": {
        "id": "4oq6_YbEEoYa",
        "colab_type": "text"
      },
      "source": [
        "# Single model training with kernelized TF-IDF_extra data"
      ]
    },
    {
      "cell_type": "markdown",
      "metadata": {
        "id": "oDuO_66bPLLf",
        "colab_type": "text"
      },
      "source": [
        "[some basics about the kernel trick](https://towardsdatascience.com/the-kernel-trick-c98cdbcaeb3f)"
      ]
    },
    {
      "cell_type": "markdown",
      "metadata": {
        "id": "resQ6qCIEs7k",
        "colab_type": "text"
      },
      "source": [
        "Kernel feature functions perform non-linear transformations of the input vectors to 'transform' them into linearly separable data, which can serve as a basis for linear classification or other algorithms.\n",
        "\n"
      ]
    },
    {
      "cell_type": "markdown",
      "metadata": {
        "id": "4A-r12yQHSgR",
        "colab_type": "text"
      },
      "source": [
        "Since there has not been much empirical work using approximate embeddings, it is advisable to compare results against exact kernel methods when possible. However, since it will take about 55 hours to train an exact kernelized `svc` on our training data, we won't be able to compare results."
      ]
    },
    {
      "cell_type": "markdown",
      "metadata": {
        "id": "mTse4p4hHf5e",
        "colab_type": "text"
      },
      "source": [
        "The Nystroem method, as implemented in `Nystroem` is a general method for low-rank approximations of kernels. It achieves this by essentially **subsampling** the data on which the kernel is evaluated. By default `Nystroem` uses the `rbf` kernel, but it can use any kernel function or a precomputed kernel matrix. The number of samples used - which is also the dimensionality of the features computed - is given by the parameter `n_components`."
      ]
    },
    {
      "cell_type": "markdown",
      "metadata": {
        "id": "1SoHtP_ajVRS",
        "colab_type": "text"
      },
      "source": [
        "## rbf kernel approx"
      ]
    },
    {
      "cell_type": "code",
      "metadata": {
        "id": "mMBEa7hxQfKB",
        "colab_type": "code",
        "colab": {}
      },
      "source": [
        "# initialize kernel object for use \n",
        "rbf_kernel = Nystroem(kernel = 'rbf',\n",
        "                      random_state=1,\n",
        "                      gamma = 1,\n",
        "                      n_components=400)"
      ],
      "execution_count": 0,
      "outputs": []
    },
    {
      "cell_type": "code",
      "metadata": {
        "id": "gB2_kG6WQwsd",
        "colab_type": "code",
        "colab": {
          "base_uri": "https://localhost:8080/",
          "height": 34
        },
        "outputId": "d940918a-2f36-4b17-de67-3012c2c2c5fb"
      },
      "source": [
        "# kernel transform our input data, so for both train and validation\n",
        "start = time.time()\n",
        "tfidf_train_X_extra_rbf = rbf_kernel.fit_transform(tfidf_train_X_extra, train_y_ros_arr)\n",
        "tfidf_val_X_extra_rbf = rbf_kernel.transform(tfidf_val_X_extra)\n",
        "print('time:', time.time()-start)"
      ],
      "execution_count": 79,
      "outputs": [
        {
          "output_type": "stream",
          "text": [
            "time: 24.519733667373657\n"
          ],
          "name": "stdout"
        }
      ]
    },
    {
      "cell_type": "code",
      "metadata": {
        "id": "rAwWoXSGRWzP",
        "colab_type": "code",
        "outputId": "890ee7c8-2f64-4339-f760-24273bc2ad08",
        "colab": {
          "base_uri": "https://localhost:8080/",
          "height": 34
        }
      },
      "source": [
        "tfidf_train_X_extra_rbf.shape"
      ],
      "execution_count": 80,
      "outputs": [
        {
          "output_type": "execute_result",
          "data": {
            "text/plain": [
              "(450110, 400)"
            ]
          },
          "metadata": {
            "tags": []
          },
          "execution_count": 80
        }
      ]
    },
    {
      "cell_type": "code",
      "metadata": {
        "id": "8xHR9YeARgUn",
        "colab_type": "code",
        "outputId": "f72fe19a-d5b2-4ba0-c920-5e2d9640b335",
        "colab": {
          "base_uri": "https://localhost:8080/",
          "height": 119
        }
      },
      "source": [
        "# create SGDclassifier object\n",
        "sgd = SGDClassifier()\n",
        "\n",
        "# fit the model to our training data\n",
        "sgd.fit(tfidf_train_X_extra_rbf, train_y_ros_arr)"
      ],
      "execution_count": 81,
      "outputs": [
        {
          "output_type": "execute_result",
          "data": {
            "text/plain": [
              "SGDClassifier(alpha=0.0001, average=False, class_weight=None,\n",
              "              early_stopping=False, epsilon=0.1, eta0=0.0, fit_intercept=True,\n",
              "              l1_ratio=0.15, learning_rate='optimal', loss='hinge',\n",
              "              max_iter=1000, n_iter_no_change=5, n_jobs=None, penalty='l2',\n",
              "              power_t=0.5, random_state=None, shuffle=True, tol=0.001,\n",
              "              validation_fraction=0.1, verbose=0, warm_start=False)"
            ]
          },
          "metadata": {
            "tags": []
          },
          "execution_count": 81
        }
      ]
    },
    {
      "cell_type": "code",
      "metadata": {
        "id": "OA8j3dvvR0F5",
        "colab_type": "code",
        "colab": {}
      },
      "source": [
        "# predict the labels for our validation set\n",
        "val_pred = sgd.predict(tfidf_val_X_extra_rbf)\n",
        "# this returns a ndarray of shape (n_samples, )\n",
        "\n",
        "# predict the confidence score for our validation set\n",
        "val_score = sgd.decision_function(tfidf_val_X_extra_rbf)\n",
        "# this returns a ndarray of shape (n_samples, )"
      ],
      "execution_count": 0,
      "outputs": []
    },
    {
      "cell_type": "code",
      "metadata": {
        "id": "P98QUL7BR3yg",
        "colab_type": "code",
        "outputId": "b874166a-4eac-40a3-c78a-94afed65f9c5",
        "colab": {
          "base_uri": "https://localhost:8080/",
          "height": 34
        }
      },
      "source": [
        "val_pred.shape"
      ],
      "execution_count": 83,
      "outputs": [
        {
          "output_type": "execute_result",
          "data": {
            "text/plain": [
              "(35918,)"
            ]
          },
          "metadata": {
            "tags": []
          },
          "execution_count": 83
        }
      ]
    },
    {
      "cell_type": "code",
      "metadata": {
        "id": "vrZlhhHcR73f",
        "colab_type": "code",
        "outputId": "467929e8-d543-4730-9088-a7478aad8331",
        "colab": {
          "base_uri": "https://localhost:8080/",
          "height": 414
        }
      },
      "source": [
        "get_results(val_y_arr, val_pred, val_score)"
      ],
      "execution_count": 84,
      "outputs": [
        {
          "output_type": "stream",
          "text": [
            "au_roc score: 0.6938936022947826\n",
            "average precision score: 0.19457398925103314\n"
          ],
          "name": "stdout"
        },
        {
          "output_type": "display_data",
          "data": {
            "image/png": "[encoded data removed]",
            "text/plain": [
              "<Figure size 432x288 with 1 Axes>"
            ]
          },
          "metadata": {
            "tags": [],
            "needs_background": "light"
          }
        },
        {
          "output_type": "stream",
          "text": [
            "\n",
            "Confusion Matrix:\n",
            "                 predicted negative  predicted positive\n",
            "actual negative               15852               16418\n",
            "actual positive                 788                2860\n"
          ],
          "name": "stdout"
        }
      ]
    },
    {
      "cell_type": "markdown",
      "metadata": {
        "id": "A1Y4sZWrXsRq",
        "colab_type": "text"
      },
      "source": [
        "## sigmoid kernel approx"
      ]
    },
    {
      "cell_type": "code",
      "metadata": {
        "colab_type": "code",
        "id": "ex1IMRONX-QA",
        "colab": {}
      },
      "source": [
        "# initialize kernel object for use \n",
        "sigmoid_kernel = Nystroem(kernel='sigmoid',\n",
        "                          gamma=1,\n",
        "                          random_state=1,\n",
        "                          n_components=401)"
      ],
      "execution_count": 0,
      "outputs": []
    },
    {
      "cell_type": "code",
      "metadata": {
        "colab_type": "code",
        "id": "TxAPdHEoX-QF",
        "colab": {
          "base_uri": "https://localhost:8080/",
          "height": 34
        },
        "outputId": "25f278e9-008e-4af0-bfb7-d3f43c4139da"
      },
      "source": [
        "# kernel transform our input data, so for both train and validation\n",
        "start = time.time()\n",
        "tfidf_train_X_extra_sig = sigmoid_kernel.fit_transform(tfidf_train_X_extra)\n",
        "tfidf_val_X_extra_sig = sigmoid_kernel.transform(tfidf_val_X_extra)\n",
        "print(time.time() - start)"
      ],
      "execution_count": 86,
      "outputs": [
        {
          "output_type": "stream",
          "text": [
            "25.240594625473022\n"
          ],
          "name": "stdout"
        }
      ]
    },
    {
      "cell_type": "code",
      "metadata": {
        "colab_type": "code",
        "outputId": "306dfabe-68e9-4779-d821-e1595024c13f",
        "id": "oD80KbzHX-QI",
        "colab": {
          "base_uri": "https://localhost:8080/",
          "height": 34
        }
      },
      "source": [
        "tfidf_train_X_extra_sig.shape"
      ],
      "execution_count": 87,
      "outputs": [
        {
          "output_type": "execute_result",
          "data": {
            "text/plain": [
              "(450110, 401)"
            ]
          },
          "metadata": {
            "tags": []
          },
          "execution_count": 87
        }
      ]
    },
    {
      "cell_type": "code",
      "metadata": {
        "colab_type": "code",
        "outputId": "3c378c47-bc82-4328-d60b-18ebb3dd4587",
        "id": "ZyQ0Q7pLX-QM",
        "colab": {
          "base_uri": "https://localhost:8080/",
          "height": 119
        }
      },
      "source": [
        "# create SGDclassifier object\n",
        "sgd = SGDClassifier()\n",
        "\n",
        "# fit the model to our training data\n",
        "sgd.fit(tfidf_train_X_extra_sig, train_y_ros_arr)"
      ],
      "execution_count": 88,
      "outputs": [
        {
          "output_type": "execute_result",
          "data": {
            "text/plain": [
              "SGDClassifier(alpha=0.0001, average=False, class_weight=None,\n",
              "              early_stopping=False, epsilon=0.1, eta0=0.0, fit_intercept=True,\n",
              "              l1_ratio=0.15, learning_rate='optimal', loss='hinge',\n",
              "              max_iter=1000, n_iter_no_change=5, n_jobs=None, penalty='l2',\n",
              "              power_t=0.5, random_state=None, shuffle=True, tol=0.001,\n",
              "              validation_fraction=0.1, verbose=0, warm_start=False)"
            ]
          },
          "metadata": {
            "tags": []
          },
          "execution_count": 88
        }
      ]
    },
    {
      "cell_type": "code",
      "metadata": {
        "colab_type": "code",
        "id": "J7AWxziIX-QO",
        "colab": {}
      },
      "source": [
        "# predict the labels for our validation set\n",
        "val_pred = sgd.predict(tfidf_val_X_extra_sig)\n",
        "# this returns a ndarray of shape (n_samples, )\n",
        "\n",
        "# predict the confidence score for our validation set\n",
        "val_score = sgd.decision_function(tfidf_val_X_extra_sig)\n",
        "# this returns a ndarray of shape (n_samples, )"
      ],
      "execution_count": 0,
      "outputs": []
    },
    {
      "cell_type": "code",
      "metadata": {
        "colab_type": "code",
        "outputId": "490f9d3d-1270-4f9a-e8b5-2c3b7fe32797",
        "id": "EUKBYbW-X-QQ",
        "colab": {
          "base_uri": "https://localhost:8080/",
          "height": 34
        }
      },
      "source": [
        "val_pred.shape"
      ],
      "execution_count": 90,
      "outputs": [
        {
          "output_type": "execute_result",
          "data": {
            "text/plain": [
              "(35918,)"
            ]
          },
          "metadata": {
            "tags": []
          },
          "execution_count": 90
        }
      ]
    },
    {
      "cell_type": "code",
      "metadata": {
        "colab_type": "code",
        "outputId": "ef55c6d0-754c-4d2a-e940-3ea23e263d43",
        "id": "1I5bwNUtX-QR",
        "colab": {
          "base_uri": "https://localhost:8080/",
          "height": 414
        }
      },
      "source": [
        "get_results(val_y_arr, val_pred, val_score)"
      ],
      "execution_count": 91,
      "outputs": [
        {
          "output_type": "stream",
          "text": [
            "au_roc score: 0.6961842436555054\n",
            "average precision score: 0.19953884563685126\n"
          ],
          "name": "stdout"
        },
        {
          "output_type": "display_data",
          "data": {
            "image/png": "[encoded data removed]",
            "text/plain": [
              "<Figure size 432x288 with 1 Axes>"
            ]
          },
          "metadata": {
            "tags": [],
            "needs_background": "light"
          }
        },
        {
          "output_type": "stream",
          "text": [
            "\n",
            "Confusion Matrix:\n",
            "                 predicted negative  predicted positive\n",
            "actual negative               11618               20652\n",
            "actual positive                 449                3199\n"
          ],
          "name": "stdout"
        }
      ]
    },
    {
      "cell_type": "markdown",
      "metadata": {
        "colab_type": "text",
        "id": "nLCfDuIOad9e"
      },
      "source": [
        "## poly kernel approx"
      ]
    },
    {
      "cell_type": "code",
      "metadata": {
        "colab_type": "code",
        "id": "u-SNc02xad9f",
        "colab": {}
      },
      "source": [
        "# initialize kernel object for use \n",
        "poly_kernel = Nystroem(kernel='poly',\n",
        "                       gamma=1,\n",
        "                       degree = 3,\n",
        "                       random_state=1,\n",
        "                       n_components=402)"
      ],
      "execution_count": 0,
      "outputs": []
    },
    {
      "cell_type": "code",
      "metadata": {
        "colab_type": "code",
        "id": "C9gQOF5Dad9i",
        "colab": {
          "base_uri": "https://localhost:8080/",
          "height": 34
        },
        "outputId": "fa34ac94-2c1c-4c5f-ff43-4e47d1513d7d"
      },
      "source": [
        "# kernel transform our input data, so for both train and validation\n",
        "start = time.time()\n",
        "tfidf_train_X_extra_poly = poly_kernel.fit_transform(tfidf_train_X_extra)\n",
        "tfidf_val_X_extra_poly = poly_kernel.transform(tfidf_val_X_extra)\n",
        "print(time.time()-start)"
      ],
      "execution_count": 93,
      "outputs": [
        {
          "output_type": "stream",
          "text": [
            "32.45128870010376\n"
          ],
          "name": "stdout"
        }
      ]
    },
    {
      "cell_type": "code",
      "metadata": {
        "colab_type": "code",
        "outputId": "f245ba0a-8a4b-40de-b8cc-12a7079f6041",
        "id": "YZfCK5p2ad9j",
        "colab": {
          "base_uri": "https://localhost:8080/",
          "height": 34
        }
      },
      "source": [
        "tfidf_train_X_extra_poly.shape"
      ],
      "execution_count": 94,
      "outputs": [
        {
          "output_type": "execute_result",
          "data": {
            "text/plain": [
              "(450110, 402)"
            ]
          },
          "metadata": {
            "tags": []
          },
          "execution_count": 94
        }
      ]
    },
    {
      "cell_type": "code",
      "metadata": {
        "colab_type": "code",
        "outputId": "381c496d-6326-4693-f5e0-9668632d3126",
        "id": "GNUlRTarad9m",
        "colab": {
          "base_uri": "https://localhost:8080/",
          "height": 119
        }
      },
      "source": [
        "# create SGDclassifier object\n",
        "sgd = SGDClassifier()\n",
        "\n",
        "# fit the model to our training data\n",
        "sgd.fit(tfidf_train_X_extra_poly, train_y_ros_arr)"
      ],
      "execution_count": 95,
      "outputs": [
        {
          "output_type": "execute_result",
          "data": {
            "text/plain": [
              "SGDClassifier(alpha=0.0001, average=False, class_weight=None,\n",
              "              early_stopping=False, epsilon=0.1, eta0=0.0, fit_intercept=True,\n",
              "              l1_ratio=0.15, learning_rate='optimal', loss='hinge',\n",
              "              max_iter=1000, n_iter_no_change=5, n_jobs=None, penalty='l2',\n",
              "              power_t=0.5, random_state=None, shuffle=True, tol=0.001,\n",
              "              validation_fraction=0.1, verbose=0, warm_start=False)"
            ]
          },
          "metadata": {
            "tags": []
          },
          "execution_count": 95
        }
      ]
    },
    {
      "cell_type": "code",
      "metadata": {
        "colab_type": "code",
        "id": "RydLFmy0ad9n",
        "colab": {}
      },
      "source": [
        "# predict the labels for our validation set\n",
        "val_pred = sgd.predict(tfidf_val_X_extra_poly)\n",
        "# this returns a ndarray of shape (n_samples, )\n",
        "\n",
        "# predict the confidence score for our validation set\n",
        "val_score = sgd.decision_function(tfidf_val_X_extra_poly)\n",
        "# this returns a ndarray of shape (n_samples, )"
      ],
      "execution_count": 0,
      "outputs": []
    },
    {
      "cell_type": "code",
      "metadata": {
        "colab_type": "code",
        "outputId": "3977a0e9-b1f8-4148-a689-da9cdafce276",
        "id": "m3_iPeBQad9p",
        "colab": {
          "base_uri": "https://localhost:8080/",
          "height": 34
        }
      },
      "source": [
        "val_pred.shape"
      ],
      "execution_count": 97,
      "outputs": [
        {
          "output_type": "execute_result",
          "data": {
            "text/plain": [
              "(35918,)"
            ]
          },
          "metadata": {
            "tags": []
          },
          "execution_count": 97
        }
      ]
    },
    {
      "cell_type": "code",
      "metadata": {
        "colab_type": "code",
        "outputId": "1bbd5af1-f1e9-4511-c890-280e45086209",
        "id": "o-pUE8SWad9r",
        "colab": {
          "base_uri": "https://localhost:8080/",
          "height": 414
        }
      },
      "source": [
        "get_results(val_y_arr, val_pred, val_score)"
      ],
      "execution_count": 98,
      "outputs": [
        {
          "output_type": "stream",
          "text": [
            "au_roc score: 0.7121439673954408\n",
            "average precision score: 0.2015389000632624\n"
          ],
          "name": "stdout"
        },
        {
          "output_type": "display_data",
          "data": {
            "image/png": "[encoded data removed]",
            "text/plain": [
              "<Figure size 432x288 with 1 Axes>"
            ]
          },
          "metadata": {
            "tags": [],
            "needs_background": "light"
          }
        },
        {
          "output_type": "stream",
          "text": [
            "\n",
            "Confusion Matrix:\n",
            "                 predicted negative  predicted positive\n",
            "actual negative               18909               13361\n",
            "actual positive                1001                2647\n"
          ],
          "name": "stdout"
        }
      ]
    },
    {
      "cell_type": "markdown",
      "metadata": {
        "id": "l-shzqXwjfGo",
        "colab_type": "text"
      },
      "source": [
        "## additive_chi2 kernel approx "
      ]
    },
    {
      "cell_type": "markdown",
      "metadata": {
        "id": "z3r1jX86j8UG",
        "colab_type": "text"
      },
      "source": [
        "`additive_chi2` does not support sparse matrices. But just converting the smaller validation data from sparse back to dense array representation crashed my session and exceeded all of my available RAM. Put a pin in it for now."
      ]
    },
    {
      "cell_type": "code",
      "metadata": {
        "colab_type": "code",
        "id": "72pZ7hTjjfYw",
        "colab": {}
      },
      "source": [
        "# initialize kernel object for use \n",
        "adc2_kernel = Nystroem(kernel = 'additive_chi2',\n",
        "                       random_state=1,\n",
        "                       gamma = 1,\n",
        "                       n_components=530)"
      ],
      "execution_count": 0,
      "outputs": []
    },
    {
      "cell_type": "code",
      "metadata": {
        "colab_type": "code",
        "id": "ZWjmwlY0jfYz",
        "colab": {
          "base_uri": "https://localhost:8080/",
          "height": 341
        },
        "outputId": "39ce3499-cd08-4ed5-d401-89c009335bc5"
      },
      "source": [
        "# kernel transform our input data, so for both train and validation\n",
        "tfidf_train_X_extra_adc2 = adc2_kernel.fit_transform(tfidf_train_X_extra)\n",
        "tfidf_val_X_extra_adc2 = adc2_kernel.transform(tfidf_val_X_extra)"
      ],
      "execution_count": 53,
      "outputs": [
        {
          "output_type": "error",
          "ename": "ValueError",
          "evalue": "ignored",
          "traceback": [
            "\u001b[0;31m---------------------------------------------------------------------------\u001b[0m",
            "\u001b[0;31mValueError\u001b[0m                                Traceback (most recent call last)",
            "\u001b[0;32m<ipython-input-53-ff50591e0470>\u001b[0m in \u001b[0;36m<module>\u001b[0;34m()\u001b[0m\n\u001b[1;32m      1\u001b[0m \u001b[0;31m# kernel transform our input data, so for both train and validation\u001b[0m\u001b[0;34m\u001b[0m\u001b[0;34m\u001b[0m\u001b[0;34m\u001b[0m\u001b[0m\n\u001b[0;32m----> 2\u001b[0;31m \u001b[0mtfidf_train_X_extra_adc2\u001b[0m \u001b[0;34m=\u001b[0m \u001b[0madc2_kernel\u001b[0m\u001b[0;34m.\u001b[0m\u001b[0mfit_transform\u001b[0m\u001b[0;34m(\u001b[0m\u001b[0mtfidf_train_X_extra\u001b[0m\u001b[0;34m)\u001b[0m\u001b[0;34m\u001b[0m\u001b[0;34m\u001b[0m\u001b[0m\n\u001b[0m\u001b[1;32m      3\u001b[0m \u001b[0mtfidf_val_X_extra_adc2\u001b[0m \u001b[0;34m=\u001b[0m \u001b[0madc2_kernel\u001b[0m\u001b[0;34m.\u001b[0m\u001b[0mtransform\u001b[0m\u001b[0;34m(\u001b[0m\u001b[0mtfidf_val_X_extra\u001b[0m\u001b[0;34m)\u001b[0m\u001b[0;34m\u001b[0m\u001b[0;34m\u001b[0m\u001b[0m\n",
            "\u001b[0;32m/usr/local/lib/python3.6/dist-packages/sklearn/base.py\u001b[0m in \u001b[0;36mfit_transform\u001b[0;34m(self, X, y, **fit_params)\u001b[0m\n\u001b[1;32m    569\u001b[0m         \u001b[0;32mif\u001b[0m \u001b[0my\u001b[0m \u001b[0;32mis\u001b[0m \u001b[0;32mNone\u001b[0m\u001b[0;34m:\u001b[0m\u001b[0;34m\u001b[0m\u001b[0;34m\u001b[0m\u001b[0m\n\u001b[1;32m    570\u001b[0m             \u001b[0;31m# fit method of arity 1 (unsupervised transformation)\u001b[0m\u001b[0;34m\u001b[0m\u001b[0;34m\u001b[0m\u001b[0;34m\u001b[0m\u001b[0m\n\u001b[0;32m--> 571\u001b[0;31m             \u001b[0;32mreturn\u001b[0m \u001b[0mself\u001b[0m\u001b[0;34m.\u001b[0m\u001b[0mfit\u001b[0m\u001b[0;34m(\u001b[0m\u001b[0mX\u001b[0m\u001b[0;34m,\u001b[0m \u001b[0;34m**\u001b[0m\u001b[0mfit_params\u001b[0m\u001b[0;34m)\u001b[0m\u001b[0;34m.\u001b[0m\u001b[0mtransform\u001b[0m\u001b[0;34m(\u001b[0m\u001b[0mX\u001b[0m\u001b[0;34m)\u001b[0m\u001b[0;34m\u001b[0m\u001b[0;34m\u001b[0m\u001b[0m\n\u001b[0m\u001b[1;32m    572\u001b[0m         \u001b[0;32melse\u001b[0m\u001b[0;34m:\u001b[0m\u001b[0;34m\u001b[0m\u001b[0;34m\u001b[0m\u001b[0m\n\u001b[1;32m    573\u001b[0m             \u001b[0;31m# fit method of arity 2 (supervised transformation)\u001b[0m\u001b[0;34m\u001b[0m\u001b[0;34m\u001b[0m\u001b[0;34m\u001b[0m\u001b[0m\n",
            "\u001b[0;32m/usr/local/lib/python3.6/dist-packages/sklearn/kernel_approximation.py\u001b[0m in \u001b[0;36mfit\u001b[0;34m(self, X, y)\u001b[0m\n\u001b[1;32m    564\u001b[0m         basis_kernel = pairwise_kernels(basis, metric=self.kernel,\n\u001b[1;32m    565\u001b[0m                                         \u001b[0mfilter_params\u001b[0m\u001b[0;34m=\u001b[0m\u001b[0;32mTrue\u001b[0m\u001b[0;34m,\u001b[0m\u001b[0;34m\u001b[0m\u001b[0;34m\u001b[0m\u001b[0m\n\u001b[0;32m--> 566\u001b[0;31m                                         **self._get_kernel_params())\n\u001b[0m\u001b[1;32m    567\u001b[0m \u001b[0;34m\u001b[0m\u001b[0m\n\u001b[1;32m    568\u001b[0m         \u001b[0;31m# sqrt of kernel matrix on basis vectors\u001b[0m\u001b[0;34m\u001b[0m\u001b[0;34m\u001b[0m\u001b[0;34m\u001b[0m\u001b[0m\n",
            "\u001b[0;32m/usr/local/lib/python3.6/dist-packages/sklearn/metrics/pairwise.py\u001b[0m in \u001b[0;36mpairwise_kernels\u001b[0;34m(X, Y, metric, filter_params, n_jobs, **kwds)\u001b[0m\n\u001b[1;32m   1910\u001b[0m         \u001b[0;32mraise\u001b[0m \u001b[0mValueError\u001b[0m\u001b[0;34m(\u001b[0m\u001b[0;34m\"Unknown kernel %r\"\u001b[0m \u001b[0;34m%\u001b[0m \u001b[0mmetric\u001b[0m\u001b[0;34m)\u001b[0m\u001b[0;34m\u001b[0m\u001b[0;34m\u001b[0m\u001b[0m\n\u001b[1;32m   1911\u001b[0m \u001b[0;34m\u001b[0m\u001b[0m\n\u001b[0;32m-> 1912\u001b[0;31m     \u001b[0;32mreturn\u001b[0m \u001b[0m_parallel_pairwise\u001b[0m\u001b[0;34m(\u001b[0m\u001b[0mX\u001b[0m\u001b[0;34m,\u001b[0m \u001b[0mY\u001b[0m\u001b[0;34m,\u001b[0m \u001b[0mfunc\u001b[0m\u001b[0;34m,\u001b[0m \u001b[0mn_jobs\u001b[0m\u001b[0;34m,\u001b[0m \u001b[0;34m**\u001b[0m\u001b[0mkwds\u001b[0m\u001b[0;34m)\u001b[0m\u001b[0;34m\u001b[0m\u001b[0;34m\u001b[0m\u001b[0m\n\u001b[0m",
            "\u001b[0;32m/usr/local/lib/python3.6/dist-packages/sklearn/metrics/pairwise.py\u001b[0m in \u001b[0;36m_parallel_pairwise\u001b[0;34m(X, Y, func, n_jobs, **kwds)\u001b[0m\n\u001b[1;32m   1346\u001b[0m \u001b[0;34m\u001b[0m\u001b[0m\n\u001b[1;32m   1347\u001b[0m     \u001b[0;32mif\u001b[0m \u001b[0meffective_n_jobs\u001b[0m\u001b[0;34m(\u001b[0m\u001b[0mn_jobs\u001b[0m\u001b[0;34m)\u001b[0m \u001b[0;34m==\u001b[0m \u001b[0;36m1\u001b[0m\u001b[0;34m:\u001b[0m\u001b[0;34m\u001b[0m\u001b[0;34m\u001b[0m\u001b[0m\n\u001b[0;32m-> 1348\u001b[0;31m         \u001b[0;32mreturn\u001b[0m \u001b[0mfunc\u001b[0m\u001b[0;34m(\u001b[0m\u001b[0mX\u001b[0m\u001b[0;34m,\u001b[0m \u001b[0mY\u001b[0m\u001b[0;34m,\u001b[0m \u001b[0;34m**\u001b[0m\u001b[0mkwds\u001b[0m\u001b[0;34m)\u001b[0m\u001b[0;34m\u001b[0m\u001b[0;34m\u001b[0m\u001b[0m\n\u001b[0m\u001b[1;32m   1349\u001b[0m \u001b[0;34m\u001b[0m\u001b[0m\n\u001b[1;32m   1350\u001b[0m     \u001b[0;31m# enforce a threading backend to prevent data communication overhead\u001b[0m\u001b[0;34m\u001b[0m\u001b[0;34m\u001b[0m\u001b[0;34m\u001b[0m\u001b[0m\n",
            "\u001b[0;32m/usr/local/lib/python3.6/dist-packages/sklearn/metrics/pairwise.py\u001b[0m in \u001b[0;36madditive_chi2_kernel\u001b[0;34m(X, Y)\u001b[0m\n\u001b[1;32m   1228\u001b[0m     \"\"\"\n\u001b[1;32m   1229\u001b[0m     \u001b[0;32mif\u001b[0m \u001b[0missparse\u001b[0m\u001b[0;34m(\u001b[0m\u001b[0mX\u001b[0m\u001b[0;34m)\u001b[0m \u001b[0;32mor\u001b[0m \u001b[0missparse\u001b[0m\u001b[0;34m(\u001b[0m\u001b[0mY\u001b[0m\u001b[0;34m)\u001b[0m\u001b[0;34m:\u001b[0m\u001b[0;34m\u001b[0m\u001b[0;34m\u001b[0m\u001b[0m\n\u001b[0;32m-> 1230\u001b[0;31m         \u001b[0;32mraise\u001b[0m \u001b[0mValueError\u001b[0m\u001b[0;34m(\u001b[0m\u001b[0;34m\"additive_chi2 does not support sparse matrices.\"\u001b[0m\u001b[0;34m)\u001b[0m\u001b[0;34m\u001b[0m\u001b[0;34m\u001b[0m\u001b[0m\n\u001b[0m\u001b[1;32m   1231\u001b[0m     \u001b[0mX\u001b[0m\u001b[0;34m,\u001b[0m \u001b[0mY\u001b[0m \u001b[0;34m=\u001b[0m \u001b[0mcheck_pairwise_arrays\u001b[0m\u001b[0;34m(\u001b[0m\u001b[0mX\u001b[0m\u001b[0;34m,\u001b[0m \u001b[0mY\u001b[0m\u001b[0;34m)\u001b[0m\u001b[0;34m\u001b[0m\u001b[0;34m\u001b[0m\u001b[0m\n\u001b[1;32m   1232\u001b[0m     \u001b[0;32mif\u001b[0m \u001b[0;34m(\u001b[0m\u001b[0mX\u001b[0m \u001b[0;34m<\u001b[0m \u001b[0;36m0\u001b[0m\u001b[0;34m)\u001b[0m\u001b[0;34m.\u001b[0m\u001b[0many\u001b[0m\u001b[0;34m(\u001b[0m\u001b[0;34m)\u001b[0m\u001b[0;34m:\u001b[0m\u001b[0;34m\u001b[0m\u001b[0;34m\u001b[0m\u001b[0m\n",
            "\u001b[0;31mValueError\u001b[0m: additive_chi2 does not support sparse matrices."
          ]
        }
      ]
    },
    {
      "cell_type": "code",
      "metadata": {
        "colab_type": "code",
        "id": "wHHAvwVajfY1",
        "colab": {}
      },
      "source": [
        "tfidf_train_X_extra_adc2.shape"
      ],
      "execution_count": 0,
      "outputs": []
    },
    {
      "cell_type": "code",
      "metadata": {
        "colab_type": "code",
        "id": "DzLqp4VgjfY4",
        "colab": {}
      },
      "source": [
        "# create SGDclassifier object\n",
        "sgd = SGDClassifier()\n",
        "\n",
        "# fit the model to our training data\n",
        "sgd.fit(tfidf_train_X_extra_adc2, train_y_ros_arr)"
      ],
      "execution_count": 0,
      "outputs": []
    },
    {
      "cell_type": "code",
      "metadata": {
        "colab_type": "code",
        "id": "OMXN6NYXjfY6",
        "colab": {}
      },
      "source": [
        "# predict the labels for our validation set\n",
        "val_pred = sgd.predict(tfidf_val_X_extra_adc2)\n",
        "# this returns a ndarray of shape (n_samples, )"
      ],
      "execution_count": 0,
      "outputs": []
    },
    {
      "cell_type": "code",
      "metadata": {
        "colab_type": "code",
        "id": "hJ-CCfxzjfY8",
        "colab": {}
      },
      "source": [
        "val_pred.shape"
      ],
      "execution_count": 0,
      "outputs": []
    },
    {
      "cell_type": "code",
      "metadata": {
        "colab_type": "code",
        "id": "er1wNB_sjfY_",
        "colab": {}
      },
      "source": [
        "get_results(val_y_arr, val_pred)"
      ],
      "execution_count": 0,
      "outputs": []
    },
    {
      "cell_type": "markdown",
      "metadata": {
        "colab_type": "text",
        "id": "asqISU1pkNVx"
      },
      "source": [
        "## chi2 kernel approx "
      ]
    },
    {
      "cell_type": "markdown",
      "metadata": {
        "colab_type": "text",
        "id": "YS2SNb-qkNVy"
      },
      "source": [
        "`chi2` does not support sparse matrices. But just converting the smaller validation data from sparse back to dense array representation crashed my session and exceeded all of my available RAM. Put a pin in it for now."
      ]
    },
    {
      "cell_type": "code",
      "metadata": {
        "colab_type": "code",
        "id": "KLzzNscdkNVy",
        "colab": {}
      },
      "source": [
        "# initialize kernel object for use \n",
        "c2_kernel = Nystroem(kernel = 'chi2',\n",
        "                     random_state=1,\n",
        "                     gamma = 1,\n",
        "                     n_components=540)"
      ],
      "execution_count": 0,
      "outputs": []
    },
    {
      "cell_type": "code",
      "metadata": {
        "colab_type": "code",
        "outputId": "6eedb178-5b69-4aca-c6d9-d528992dbeba",
        "id": "_1JXCpYqkNV2",
        "colab": {
          "base_uri": "https://localhost:8080/",
          "height": 341
        }
      },
      "source": [
        "# kernel transform our input data, so for both train and validation\n",
        "tfidf_train_X_extra_c2 = c2_kernel.fit_transform(tfidf_train_X_extra)\n",
        "tfidf_val_X_extra_c2 = c2_kernel.transform(tfidf_val_X_extra)"
      ],
      "execution_count": 42,
      "outputs": [
        {
          "output_type": "error",
          "ename": "ValueError",
          "evalue": "ignored",
          "traceback": [
            "\u001b[0;31m---------------------------------------------------------------------------\u001b[0m",
            "\u001b[0;31mValueError\u001b[0m                                Traceback (most recent call last)",
            "\u001b[0;32m<ipython-input-42-8eaaf248fbcb>\u001b[0m in \u001b[0;36m<module>\u001b[0;34m()\u001b[0m\n\u001b[1;32m      1\u001b[0m \u001b[0;31m# kernel transform our input data, so for both train and validation\u001b[0m\u001b[0;34m\u001b[0m\u001b[0;34m\u001b[0m\u001b[0;34m\u001b[0m\u001b[0m\n\u001b[0;32m----> 2\u001b[0;31m \u001b[0mtfidf_train_X_extra_c2\u001b[0m \u001b[0;34m=\u001b[0m \u001b[0mc2_kernel\u001b[0m\u001b[0;34m.\u001b[0m\u001b[0mfit_transform\u001b[0m\u001b[0;34m(\u001b[0m\u001b[0mtfidf_train_X_extra\u001b[0m\u001b[0;34m)\u001b[0m\u001b[0;34m\u001b[0m\u001b[0;34m\u001b[0m\u001b[0m\n\u001b[0m\u001b[1;32m      3\u001b[0m \u001b[0mtfidf_val_X_extra_c2\u001b[0m \u001b[0;34m=\u001b[0m \u001b[0mc2_kernel\u001b[0m\u001b[0;34m.\u001b[0m\u001b[0mtransform\u001b[0m\u001b[0;34m(\u001b[0m\u001b[0mtfidf_val_X_extra\u001b[0m\u001b[0;34m)\u001b[0m\u001b[0;34m\u001b[0m\u001b[0;34m\u001b[0m\u001b[0m\n",
            "\u001b[0;32m/usr/local/lib/python3.6/dist-packages/sklearn/base.py\u001b[0m in \u001b[0;36mfit_transform\u001b[0;34m(self, X, y, **fit_params)\u001b[0m\n\u001b[1;32m    569\u001b[0m         \u001b[0;32mif\u001b[0m \u001b[0my\u001b[0m \u001b[0;32mis\u001b[0m \u001b[0;32mNone\u001b[0m\u001b[0;34m:\u001b[0m\u001b[0;34m\u001b[0m\u001b[0;34m\u001b[0m\u001b[0m\n\u001b[1;32m    570\u001b[0m             \u001b[0;31m# fit method of arity 1 (unsupervised transformation)\u001b[0m\u001b[0;34m\u001b[0m\u001b[0;34m\u001b[0m\u001b[0;34m\u001b[0m\u001b[0m\n\u001b[0;32m--> 571\u001b[0;31m             \u001b[0;32mreturn\u001b[0m \u001b[0mself\u001b[0m\u001b[0;34m.\u001b[0m\u001b[0mfit\u001b[0m\u001b[0;34m(\u001b[0m\u001b[0mX\u001b[0m\u001b[0;34m,\u001b[0m \u001b[0;34m**\u001b[0m\u001b[0mfit_params\u001b[0m\u001b[0;34m)\u001b[0m\u001b[0;34m.\u001b[0m\u001b[0mtransform\u001b[0m\u001b[0;34m(\u001b[0m\u001b[0mX\u001b[0m\u001b[0;34m)\u001b[0m\u001b[0;34m\u001b[0m\u001b[0;34m\u001b[0m\u001b[0m\n\u001b[0m\u001b[1;32m    572\u001b[0m         \u001b[0;32melse\u001b[0m\u001b[0;34m:\u001b[0m\u001b[0;34m\u001b[0m\u001b[0;34m\u001b[0m\u001b[0m\n\u001b[1;32m    573\u001b[0m             \u001b[0;31m# fit method of arity 2 (supervised transformation)\u001b[0m\u001b[0;34m\u001b[0m\u001b[0;34m\u001b[0m\u001b[0;34m\u001b[0m\u001b[0m\n",
            "\u001b[0;32m/usr/local/lib/python3.6/dist-packages/sklearn/kernel_approximation.py\u001b[0m in \u001b[0;36mfit\u001b[0;34m(self, X, y)\u001b[0m\n\u001b[1;32m    564\u001b[0m         basis_kernel = pairwise_kernels(basis, metric=self.kernel,\n\u001b[1;32m    565\u001b[0m                                         \u001b[0mfilter_params\u001b[0m\u001b[0;34m=\u001b[0m\u001b[0;32mTrue\u001b[0m\u001b[0;34m,\u001b[0m\u001b[0;34m\u001b[0m\u001b[0;34m\u001b[0m\u001b[0m\n\u001b[0;32m--> 566\u001b[0;31m                                         **self._get_kernel_params())\n\u001b[0m\u001b[1;32m    567\u001b[0m \u001b[0;34m\u001b[0m\u001b[0m\n\u001b[1;32m    568\u001b[0m         \u001b[0;31m# sqrt of kernel matrix on basis vectors\u001b[0m\u001b[0;34m\u001b[0m\u001b[0;34m\u001b[0m\u001b[0;34m\u001b[0m\u001b[0m\n",
            "\u001b[0;32m/usr/local/lib/python3.6/dist-packages/sklearn/metrics/pairwise.py\u001b[0m in \u001b[0;36mpairwise_kernels\u001b[0;34m(X, Y, metric, filter_params, n_jobs, **kwds)\u001b[0m\n\u001b[1;32m   1910\u001b[0m         \u001b[0;32mraise\u001b[0m \u001b[0mValueError\u001b[0m\u001b[0;34m(\u001b[0m\u001b[0;34m\"Unknown kernel %r\"\u001b[0m \u001b[0;34m%\u001b[0m \u001b[0mmetric\u001b[0m\u001b[0;34m)\u001b[0m\u001b[0;34m\u001b[0m\u001b[0;34m\u001b[0m\u001b[0m\n\u001b[1;32m   1911\u001b[0m \u001b[0;34m\u001b[0m\u001b[0m\n\u001b[0;32m-> 1912\u001b[0;31m     \u001b[0;32mreturn\u001b[0m \u001b[0m_parallel_pairwise\u001b[0m\u001b[0;34m(\u001b[0m\u001b[0mX\u001b[0m\u001b[0;34m,\u001b[0m \u001b[0mY\u001b[0m\u001b[0;34m,\u001b[0m \u001b[0mfunc\u001b[0m\u001b[0;34m,\u001b[0m \u001b[0mn_jobs\u001b[0m\u001b[0;34m,\u001b[0m \u001b[0;34m**\u001b[0m\u001b[0mkwds\u001b[0m\u001b[0;34m)\u001b[0m\u001b[0;34m\u001b[0m\u001b[0;34m\u001b[0m\u001b[0m\n\u001b[0m",
            "\u001b[0;32m/usr/local/lib/python3.6/dist-packages/sklearn/metrics/pairwise.py\u001b[0m in \u001b[0;36m_parallel_pairwise\u001b[0;34m(X, Y, func, n_jobs, **kwds)\u001b[0m\n\u001b[1;32m   1346\u001b[0m \u001b[0;34m\u001b[0m\u001b[0m\n\u001b[1;32m   1347\u001b[0m     \u001b[0;32mif\u001b[0m \u001b[0meffective_n_jobs\u001b[0m\u001b[0;34m(\u001b[0m\u001b[0mn_jobs\u001b[0m\u001b[0;34m)\u001b[0m \u001b[0;34m==\u001b[0m \u001b[0;36m1\u001b[0m\u001b[0;34m:\u001b[0m\u001b[0;34m\u001b[0m\u001b[0;34m\u001b[0m\u001b[0m\n\u001b[0;32m-> 1348\u001b[0;31m         \u001b[0;32mreturn\u001b[0m \u001b[0mfunc\u001b[0m\u001b[0;34m(\u001b[0m\u001b[0mX\u001b[0m\u001b[0;34m,\u001b[0m \u001b[0mY\u001b[0m\u001b[0;34m,\u001b[0m \u001b[0;34m**\u001b[0m\u001b[0mkwds\u001b[0m\u001b[0;34m)\u001b[0m\u001b[0;34m\u001b[0m\u001b[0;34m\u001b[0m\u001b[0m\n\u001b[0m\u001b[1;32m   1349\u001b[0m \u001b[0;34m\u001b[0m\u001b[0m\n\u001b[1;32m   1350\u001b[0m     \u001b[0;31m# enforce a threading backend to prevent data communication overhead\u001b[0m\u001b[0;34m\u001b[0m\u001b[0;34m\u001b[0m\u001b[0;34m\u001b[0m\u001b[0m\n",
            "\u001b[0;32m/usr/local/lib/python3.6/dist-packages/sklearn/metrics/pairwise.py\u001b[0m in \u001b[0;36mchi2_kernel\u001b[0;34m(X, Y, gamma)\u001b[0m\n\u001b[1;32m   1283\u001b[0m         \u001b[0mto\u001b[0m \u001b[0mthe\u001b[0m \u001b[0madditive\u001b[0m \u001b[0mversion\u001b[0m \u001b[0mof\u001b[0m \u001b[0mthis\u001b[0m \u001b[0mkernel\u001b[0m\u001b[0;34m.\u001b[0m\u001b[0;34m\u001b[0m\u001b[0;34m\u001b[0m\u001b[0m\n\u001b[1;32m   1284\u001b[0m     \"\"\"\n\u001b[0;32m-> 1285\u001b[0;31m     \u001b[0mK\u001b[0m \u001b[0;34m=\u001b[0m \u001b[0madditive_chi2_kernel\u001b[0m\u001b[0;34m(\u001b[0m\u001b[0mX\u001b[0m\u001b[0;34m,\u001b[0m \u001b[0mY\u001b[0m\u001b[0;34m)\u001b[0m\u001b[0;34m\u001b[0m\u001b[0;34m\u001b[0m\u001b[0m\n\u001b[0m\u001b[1;32m   1286\u001b[0m     \u001b[0mK\u001b[0m \u001b[0;34m*=\u001b[0m \u001b[0mgamma\u001b[0m\u001b[0;34m\u001b[0m\u001b[0;34m\u001b[0m\u001b[0m\n\u001b[1;32m   1287\u001b[0m     \u001b[0;32mreturn\u001b[0m \u001b[0mnp\u001b[0m\u001b[0;34m.\u001b[0m\u001b[0mexp\u001b[0m\u001b[0;34m(\u001b[0m\u001b[0mK\u001b[0m\u001b[0;34m,\u001b[0m \u001b[0mK\u001b[0m\u001b[0;34m)\u001b[0m\u001b[0;34m\u001b[0m\u001b[0;34m\u001b[0m\u001b[0m\n",
            "\u001b[0;32m/usr/local/lib/python3.6/dist-packages/sklearn/metrics/pairwise.py\u001b[0m in \u001b[0;36madditive_chi2_kernel\u001b[0;34m(X, Y)\u001b[0m\n\u001b[1;32m   1228\u001b[0m     \"\"\"\n\u001b[1;32m   1229\u001b[0m     \u001b[0;32mif\u001b[0m \u001b[0missparse\u001b[0m\u001b[0;34m(\u001b[0m\u001b[0mX\u001b[0m\u001b[0;34m)\u001b[0m \u001b[0;32mor\u001b[0m \u001b[0missparse\u001b[0m\u001b[0;34m(\u001b[0m\u001b[0mY\u001b[0m\u001b[0;34m)\u001b[0m\u001b[0;34m:\u001b[0m\u001b[0;34m\u001b[0m\u001b[0;34m\u001b[0m\u001b[0m\n\u001b[0;32m-> 1230\u001b[0;31m         \u001b[0;32mraise\u001b[0m \u001b[0mValueError\u001b[0m\u001b[0;34m(\u001b[0m\u001b[0;34m\"additive_chi2 does not support sparse matrices.\"\u001b[0m\u001b[0;34m)\u001b[0m\u001b[0;34m\u001b[0m\u001b[0;34m\u001b[0m\u001b[0m\n\u001b[0m\u001b[1;32m   1231\u001b[0m     \u001b[0mX\u001b[0m\u001b[0;34m,\u001b[0m \u001b[0mY\u001b[0m \u001b[0;34m=\u001b[0m \u001b[0mcheck_pairwise_arrays\u001b[0m\u001b[0;34m(\u001b[0m\u001b[0mX\u001b[0m\u001b[0;34m,\u001b[0m \u001b[0mY\u001b[0m\u001b[0;34m)\u001b[0m\u001b[0;34m\u001b[0m\u001b[0;34m\u001b[0m\u001b[0m\n\u001b[1;32m   1232\u001b[0m     \u001b[0;32mif\u001b[0m \u001b[0;34m(\u001b[0m\u001b[0mX\u001b[0m \u001b[0;34m<\u001b[0m \u001b[0;36m0\u001b[0m\u001b[0;34m)\u001b[0m\u001b[0;34m.\u001b[0m\u001b[0many\u001b[0m\u001b[0;34m(\u001b[0m\u001b[0;34m)\u001b[0m\u001b[0;34m:\u001b[0m\u001b[0;34m\u001b[0m\u001b[0;34m\u001b[0m\u001b[0m\n",
            "\u001b[0;31mValueError\u001b[0m: additive_chi2 does not support sparse matrices."
          ]
        }
      ]
    },
    {
      "cell_type": "code",
      "metadata": {
        "colab_type": "code",
        "id": "HybWD2AOkNV5",
        "colab": {}
      },
      "source": [
        "tfidf_train_X_extra_c2.shape"
      ],
      "execution_count": 0,
      "outputs": []
    },
    {
      "cell_type": "code",
      "metadata": {
        "colab_type": "code",
        "id": "RzPfNQa1kNV7",
        "colab": {}
      },
      "source": [
        "# create SGDclassifier object\n",
        "sgd = SGDClassifier()\n",
        "\n",
        "# fit the model to our training data\n",
        "sgd.fit(tfidf_train_X_extra_c2, train_y_ros_arr)"
      ],
      "execution_count": 0,
      "outputs": []
    },
    {
      "cell_type": "code",
      "metadata": {
        "colab_type": "code",
        "id": "l6KqiOpWkNV9",
        "colab": {}
      },
      "source": [
        "# predict the labels for our validation set\n",
        "val_pred = sgd.predict(tfidf_val_X_extra_c2)\n",
        "# this returns a ndarray of shape (n_samples, )"
      ],
      "execution_count": 0,
      "outputs": []
    },
    {
      "cell_type": "code",
      "metadata": {
        "colab_type": "code",
        "id": "gmalfcNJkNV-",
        "colab": {}
      },
      "source": [
        "val_pred.shape"
      ],
      "execution_count": 0,
      "outputs": []
    },
    {
      "cell_type": "code",
      "metadata": {
        "colab_type": "code",
        "id": "_bZ5iyNykNWA",
        "colab": {}
      },
      "source": [
        "get_results(val_y_arr, val_pred)"
      ],
      "execution_count": 0,
      "outputs": []
    },
    {
      "cell_type": "markdown",
      "metadata": {
        "colab_type": "text",
        "id": "ZAMrwxvalDAG"
      },
      "source": [
        "## laplacian kernel approx "
      ]
    },
    {
      "cell_type": "code",
      "metadata": {
        "colab_type": "code",
        "id": "souaNbTDlDAI",
        "colab": {}
      },
      "source": [
        "# initialize kernel object for use \n",
        "lap_kernel = Nystroem(kernel = 'laplacian',\n",
        "                       random_state=1,\n",
        "                       gamma = 1,\n",
        "                       n_components=403)"
      ],
      "execution_count": 0,
      "outputs": []
    },
    {
      "cell_type": "code",
      "metadata": {
        "colab_type": "code",
        "outputId": "a7acd032-1146-4b4e-dabe-909488e38665",
        "id": "557Ili7jlDAK",
        "colab": {
          "base_uri": "https://localhost:8080/",
          "height": 34
        }
      },
      "source": [
        "# kernel transform our input data, so for both train and validation\n",
        "start = time.time()\n",
        "tfidf_train_X_extra_lap = lap_kernel.fit_transform(tfidf_train_X_extra)\n",
        "tfidf_val_X_extra_lap = lap_kernel.transform(tfidf_val_X_extra)\n",
        "print(time.time()-start)"
      ],
      "execution_count": 100,
      "outputs": [
        {
          "output_type": "stream",
          "text": [
            "118.1267728805542\n"
          ],
          "name": "stdout"
        }
      ]
    },
    {
      "cell_type": "code",
      "metadata": {
        "colab_type": "code",
        "id": "kDWWuri7lDAO",
        "colab": {
          "base_uri": "https://localhost:8080/",
          "height": 34
        },
        "outputId": "2f2bafcc-eb4b-4c5f-bf3b-f037eb393a46"
      },
      "source": [
        "tfidf_train_X_extra_lap.shape"
      ],
      "execution_count": 101,
      "outputs": [
        {
          "output_type": "execute_result",
          "data": {
            "text/plain": [
              "(450110, 403)"
            ]
          },
          "metadata": {
            "tags": []
          },
          "execution_count": 101
        }
      ]
    },
    {
      "cell_type": "code",
      "metadata": {
        "colab_type": "code",
        "id": "vs2Yl-rqlDAP",
        "colab": {
          "base_uri": "https://localhost:8080/",
          "height": 119
        },
        "outputId": "4f08b1b1-5eef-4873-a92e-109bb5333b33"
      },
      "source": [
        "# create SGDclassifier object\n",
        "sgd = SGDClassifier()\n",
        "\n",
        "# fit the model to our training data\n",
        "sgd.fit(tfidf_train_X_extra_lap, train_y_ros_arr)"
      ],
      "execution_count": 102,
      "outputs": [
        {
          "output_type": "execute_result",
          "data": {
            "text/plain": [
              "SGDClassifier(alpha=0.0001, average=False, class_weight=None,\n",
              "              early_stopping=False, epsilon=0.1, eta0=0.0, fit_intercept=True,\n",
              "              l1_ratio=0.15, learning_rate='optimal', loss='hinge',\n",
              "              max_iter=1000, n_iter_no_change=5, n_jobs=None, penalty='l2',\n",
              "              power_t=0.5, random_state=None, shuffle=True, tol=0.001,\n",
              "              validation_fraction=0.1, verbose=0, warm_start=False)"
            ]
          },
          "metadata": {
            "tags": []
          },
          "execution_count": 102
        }
      ]
    },
    {
      "cell_type": "code",
      "metadata": {
        "colab_type": "code",
        "id": "o8mJFiEUlDAR",
        "colab": {}
      },
      "source": [
        "# predict the labels for our validation set\n",
        "val_pred = sgd.predict(tfidf_val_X_extra_lap)\n",
        "# this returns a ndarray of shape (n_samples, )\n",
        "\n",
        "# predict the confidence score for our validation set\n",
        "val_score = sgd.decision_function(tfidf_val_X_extra_lap)\n",
        "# this returns a ndarray of shape (n_samples, )"
      ],
      "execution_count": 0,
      "outputs": []
    },
    {
      "cell_type": "code",
      "metadata": {
        "colab_type": "code",
        "id": "k9borYJwlDAT",
        "colab": {
          "base_uri": "https://localhost:8080/",
          "height": 34
        },
        "outputId": "9efaae3a-071c-4590-f72a-d5bc905312da"
      },
      "source": [
        "val_pred.shape"
      ],
      "execution_count": 104,
      "outputs": [
        {
          "output_type": "execute_result",
          "data": {
            "text/plain": [
              "(35918,)"
            ]
          },
          "metadata": {
            "tags": []
          },
          "execution_count": 104
        }
      ]
    },
    {
      "cell_type": "code",
      "metadata": {
        "colab_type": "code",
        "id": "V2yQlQYdlDAW",
        "colab": {
          "base_uri": "https://localhost:8080/",
          "height": 414
        },
        "outputId": "1e0b7581-f363-4abe-d27d-7c134e94500e"
      },
      "source": [
        "get_results(val_y_arr, val_pred, val_score)"
      ],
      "execution_count": 105,
      "outputs": [
        {
          "output_type": "stream",
          "text": [
            "au_roc score: 0.6325375277265833\n",
            "average precision score: 0.16679894181716304\n"
          ],
          "name": "stdout"
        },
        {
          "output_type": "display_data",
          "data": {
            "image/png": "[encoded data removed]",
            "text/plain": [
              "<Figure size 432x288 with 1 Axes>"
            ]
          },
          "metadata": {
            "tags": [],
            "needs_background": "light"
          }
        },
        {
          "output_type": "stream",
          "text": [
            "\n",
            "Confusion Matrix:\n",
            "                 predicted negative  predicted positive\n",
            "actual negative               31051                1219\n",
            "actual positive                3241                 407\n"
          ],
          "name": "stdout"
        }
      ]
    },
    {
      "cell_type": "markdown",
      "metadata": {
        "colab_type": "text",
        "id": "r8MVHvFLmeSE"
      },
      "source": [
        "## cosine kernel approx "
      ]
    },
    {
      "cell_type": "code",
      "metadata": {
        "colab_type": "code",
        "id": "ZLcwzwPHmeSF",
        "colab": {}
      },
      "source": [
        "# initialize kernel object for use \n",
        "cos_kernel = Nystroem(kernel = 'cosine',\n",
        "                       random_state=1,\n",
        "                       gamma = 1,\n",
        "                       n_components=404)"
      ],
      "execution_count": 0,
      "outputs": []
    },
    {
      "cell_type": "code",
      "metadata": {
        "colab_type": "code",
        "outputId": "e36f66ff-542b-4ef9-95ed-1306b7437a09",
        "id": "RMrcJk2umeSI",
        "colab": {
          "base_uri": "https://localhost:8080/",
          "height": 34
        }
      },
      "source": [
        "# kernel transform our input data, so for both train and validation\n",
        "start=time.time()\n",
        "tfidf_train_X_extra_cos = cos_kernel.fit_transform(tfidf_train_X_extra)\n",
        "tfidf_val_X_extra_cos = cos_kernel.transform(tfidf_val_X_extra)\n",
        "print(time.time()-start)"
      ],
      "execution_count": 43,
      "outputs": [
        {
          "output_type": "stream",
          "text": [
            "18.319141626358032\n"
          ],
          "name": "stdout"
        }
      ]
    },
    {
      "cell_type": "code",
      "metadata": {
        "colab_type": "code",
        "id": "iSpzUgwVmeSK",
        "colab": {
          "base_uri": "https://localhost:8080/",
          "height": 34
        },
        "outputId": "510598a1-54b4-47d6-bbb1-0bcf747b615d"
      },
      "source": [
        "tfidf_train_X_extra_cos.shape"
      ],
      "execution_count": 44,
      "outputs": [
        {
          "output_type": "execute_result",
          "data": {
            "text/plain": [
              "(450110, 404)"
            ]
          },
          "metadata": {
            "tags": []
          },
          "execution_count": 44
        }
      ]
    },
    {
      "cell_type": "code",
      "metadata": {
        "colab_type": "code",
        "id": "dPqwbYKNmeSM",
        "colab": {
          "base_uri": "https://localhost:8080/",
          "height": 119
        },
        "outputId": "41877e4f-8917-4d2d-c517-2cf4904d3e82"
      },
      "source": [
        "# create SGDclassifier object\n",
        "sgd = SGDClassifier()\n",
        "\n",
        "# fit the model to our training data\n",
        "sgd.fit(tfidf_train_X_extra_cos, train_y_ros_arr)"
      ],
      "execution_count": 45,
      "outputs": [
        {
          "output_type": "execute_result",
          "data": {
            "text/plain": [
              "SGDClassifier(alpha=0.0001, average=False, class_weight=None,\n",
              "              early_stopping=False, epsilon=0.1, eta0=0.0, fit_intercept=True,\n",
              "              l1_ratio=0.15, learning_rate='optimal', loss='hinge',\n",
              "              max_iter=1000, n_iter_no_change=5, n_jobs=None, penalty='l2',\n",
              "              power_t=0.5, random_state=None, shuffle=True, tol=0.001,\n",
              "              validation_fraction=0.1, verbose=0, warm_start=False)"
            ]
          },
          "metadata": {
            "tags": []
          },
          "execution_count": 45
        }
      ]
    },
    {
      "cell_type": "code",
      "metadata": {
        "colab_type": "code",
        "id": "EiRFxM2TmeSO",
        "colab": {}
      },
      "source": [
        "# predict the labels for our validation set\n",
        "val_pred = sgd.predict(tfidf_val_X_extra_cos)\n",
        "# this returns a ndarray of shape (n_samples, )\n",
        "\n",
        "# predict the confidence score for our validation set\n",
        "val_score = sgd.decision_function(tfidf_val_X_extra_cos)\n",
        "# this returns a ndarray of shape (n_samples, )"
      ],
      "execution_count": 0,
      "outputs": []
    },
    {
      "cell_type": "code",
      "metadata": {
        "colab_type": "code",
        "id": "x38S2cgDmeSQ",
        "colab": {
          "base_uri": "https://localhost:8080/",
          "height": 34
        },
        "outputId": "f2a31606-0c9d-449b-9b5f-d22ad59f1687"
      },
      "source": [
        "val_pred.shape"
      ],
      "execution_count": 47,
      "outputs": [
        {
          "output_type": "execute_result",
          "data": {
            "text/plain": [
              "(35918,)"
            ]
          },
          "metadata": {
            "tags": []
          },
          "execution_count": 47
        }
      ]
    },
    {
      "cell_type": "code",
      "metadata": {
        "colab_type": "code",
        "id": "hm9UddrcmeST",
        "colab": {
          "base_uri": "https://localhost:8080/",
          "height": 414
        },
        "outputId": "d9f7e139-b451-423c-a361-442075f2c752"
      },
      "source": [
        "get_results(val_y_arr, val_pred, val_score)"
      ],
      "execution_count": 49,
      "outputs": [
        {
          "output_type": "stream",
          "text": [
            "au_roc score: 0.7055780126155953\n",
            "average precision score: 0.2070720019790555\n"
          ],
          "name": "stdout"
        },
        {
          "output_type": "display_data",
          "data": {
            "image/png": "[encoded data removed]",
            "text/plain": [
              "<Figure size 432x288 with 1 Axes>"
            ]
          },
          "metadata": {
            "tags": [],
            "needs_background": "light"
          }
        },
        {
          "output_type": "stream",
          "text": [
            "\n",
            "Confusion Matrix:\n",
            "                 predicted negative  predicted positive\n",
            "actual negative               15118               17152\n",
            "actual positive                 682                2966\n"
          ],
          "name": "stdout"
        }
      ]
    },
    {
      "cell_type": "markdown",
      "metadata": {
        "id": "9C0bCgQ3VF3h",
        "colab_type": "text"
      },
      "source": [
        "# GPU check"
      ]
    },
    {
      "cell_type": "code",
      "metadata": {
        "id": "H8BSBmfoVIK8",
        "colab_type": "code",
        "colab": {
          "base_uri": "https://localhost:8080/",
          "height": 105
        },
        "outputId": "2c6d6dbf-3378-4224-bad6-8845d1954994"
      },
      "source": [
        "!ps -aux|grep python"
      ],
      "execution_count": 67,
      "outputs": [
        {
          "output_type": "stream",
          "text": [
            "root          18  0.2  0.7 412244 102480 ?       Sl   10:34   0:09 /usr/bin/python2 /usr/local/bin/jupyter-notebook --ip=\"172.28.0.2\" --port=9000 --FileContentsManager.root_dir=\"/\" --MappingKernelManager.root_dir=\"/content\"\n",
            "root         120 69.7 40.4 6149556 5391232 ?     Ssl  10:44  30:08 /usr/bin/python3 -m ipykernel_launcher -f /root/.local/share/jupyter/runtime/kernel-a440e38d-010b-4265-8ac4-3af8bf50330c.json\n",
            "root         927  0.0  0.0  39196  6580 ?        S    11:27   0:00 /bin/bash -c ps -aux|grep python\n",
            "root         929  0.0  0.0  38568  5560 ?        S    11:27   0:00 grep python\n"
          ],
          "name": "stdout"
        }
      ]
    },
    {
      "cell_type": "code",
      "metadata": {
        "id": "ddmZvsP6cGvr",
        "colab_type": "code",
        "colab": {}
      },
      "source": [
        "!kill -9 id_1"
      ],
      "execution_count": 0,
      "outputs": []
    },
    {
      "cell_type": "markdown",
      "metadata": {
        "id": "8-0q_aSeK4nb",
        "colab_type": "text"
      },
      "source": [
        "# Grid Search for kernel params"
      ]
    },
    {
      "cell_type": "code",
      "metadata": {
        "id": "7_r2cgMi-0SM",
        "colab_type": "code",
        "colab": {}
      },
      "source": [
        "from sklearn.model_selection import GridSearchCV"
      ],
      "execution_count": 0,
      "outputs": []
    },
    {
      "cell_type": "markdown",
      "metadata": {
        "id": "TzkOMkYSisUf",
        "colab_type": "text"
      },
      "source": [
        "## rbf, laplacian, cosine"
      ]
    },
    {
      "cell_type": "code",
      "metadata": {
        "id": "T4NATnSqXiKV",
        "colab_type": "code",
        "colab": {}
      },
      "source": [
        "def best_kernel(dict_params, tfidf_train_X_extra, tfidf_val_X_extra, train_y_ros_arr, val_y_arr):\n",
        "  '''\n",
        "  Params:\n",
        "  -------------------------------------\n",
        "  dict_params: a dictionary of parameters, should have the following keys\n",
        "    'kernel': a list of strings where each string is a kernel function name\n",
        "    'n_components': a list of ints, Number of features to construct\n",
        "    'gamma': a list of floats, Gamma parameter used only for the RBF, laplacian, polynomial, exponential chi2 and sigmoid kernels.\n",
        "\n",
        "  Return:\n",
        "  -------\n",
        "  best_params: a dictionary of the best performing parameters for kernelization\n",
        "  '''\n",
        "\n",
        "  best_auc = 0\n",
        "  best_params = dict()\n",
        "\n",
        "  for kernel_ in dict_params['kernel']:\n",
        "    for n_ in dict_params['n_components']:\n",
        "      for gamma_ in dict_params['gamma']:\n",
        "        # initialize kernel object for use \n",
        "        kernel_func = Nystroem(kernel = kernel_,\n",
        "                               n_components=n_,\n",
        "                               gamma = gamma_,\n",
        "                               random_state = 1)\n",
        "        \n",
        "        # kernel transform our input data, so for both train and validation\n",
        "        tfidf_train_X_extra_ker = kernel_func.fit_transform(tfidf_train_X_extra)\n",
        "        tfidf_val_X_extra_ker = kernel_func.transform(tfidf_val_X_extra)\n",
        "\n",
        "        # create SGDclassifier object\n",
        "        sgd = SGDClassifier()\n",
        "\n",
        "        # fit the model to our training data\n",
        "        sgd.fit(tfidf_train_X_extra_ker, train_y_ros_arr)\n",
        "\n",
        "        # predict the decision for our validation set\n",
        "        val_score = sgd.decision_function(tfidf_val_X_extra_ker)\n",
        "        # this returns a ndarray of shape (n_samples, )\n",
        "\n",
        "        auc = roc_auc_score(val_y_arr, val_score)\n",
        "\n",
        "        if auc > best_auc: # update best params when we get a better / larger auc\n",
        "          best_params['kernel']=kernel_\n",
        "          best_params['n_components']=n_\n",
        "          best_params['gamma']=gamma_\n",
        "          best_params['auc']=auc\n",
        "          print('new best auc score:', auc)\n",
        "          print(best_params)\n",
        "          print()\n",
        "          best_auc = auc # update auc as the new best auc\n",
        "\n",
        "\n",
        "  return best_params"
      ],
      "execution_count": 0,
      "outputs": []
    },
    {
      "cell_type": "code",
      "metadata": {
        "id": "lRzXr8AVXtyM",
        "colab_type": "code",
        "colab": {}
      },
      "source": [
        "dict_params={'kernel':['rbf', 'laplacian', 'cosine'],\n",
        "             'n_components':[100, 300, 600],\n",
        "             'gamma':[10**i for i in range(-2,2)]}"
      ],
      "execution_count": 0,
      "outputs": []
    },
    {
      "cell_type": "code",
      "metadata": {
        "id": "KnTMSRSSvUB9",
        "colab_type": "code",
        "colab": {
          "base_uri": "https://localhost:8080/",
          "height": 289
        },
        "outputId": "2a1b2aa5-2beb-4078-bd76-dbfda613e8bd"
      },
      "source": [
        "start = time.time()\n",
        "best_params = best_kernel(dict_params, tfidf_train_X_extra, tfidf_val_X_extra, train_y_ros_arr, val_y_arr)\n",
        "print(time.time()-start)\n",
        "# time: 1860 secs"
      ],
      "execution_count": 71,
      "outputs": [
        {
          "output_type": "stream",
          "text": [
            "new best auc score: 0.6107590695828508\n",
            "{'kernel': 'rbf', 'n_components': 100, 'gamma': 0.01, 'auc': 0.6107590695828508}\n",
            "\n",
            "new best auc score: 0.6857482049076052\n",
            "{'kernel': 'rbf', 'n_components': 100, 'gamma': 0.1, 'auc': 0.6857482049076052}\n",
            "\n",
            "new best auc score: 0.7025010414458054\n",
            "{'kernel': 'rbf', 'n_components': 300, 'gamma': 0.1, 'auc': 0.7025010414458054}\n",
            "\n",
            "new best auc score: 0.7092696321878448\n",
            "{'kernel': 'rbf', 'n_components': 600, 'gamma': 0.1, 'auc': 0.7092696321878448}\n",
            "\n",
            "new best auc score: 0.7115395083424396\n",
            "{'kernel': 'laplacian', 'n_components': 600, 'gamma': 0.1, 'auc': 0.7115395083424396}\n",
            "\n",
            "1860.2003331184387\n"
          ],
          "name": "stdout"
        }
      ]
    },
    {
      "cell_type": "code",
      "metadata": {
        "id": "GwBP1njJu6az",
        "colab_type": "code",
        "colab": {
          "base_uri": "https://localhost:8080/",
          "height": 85
        },
        "outputId": "6a3712b9-1253-48bd-916a-2f699daf85d0"
      },
      "source": [
        "best_params"
      ],
      "execution_count": 72,
      "outputs": [
        {
          "output_type": "execute_result",
          "data": {
            "text/plain": [
              "{'auc': 0.7115395083424396,\n",
              " 'gamma': 0.1,\n",
              " 'kernel': 'laplacian',\n",
              " 'n_components': 600}"
            ]
          },
          "metadata": {
            "tags": []
          },
          "execution_count": 72
        }
      ]
    },
    {
      "cell_type": "markdown",
      "metadata": {
        "id": "vhLHU5b-ixIQ",
        "colab_type": "text"
      },
      "source": [
        "## poly"
      ]
    },
    {
      "cell_type": "code",
      "metadata": {
        "id": "_7C70Cw-vrTd",
        "colab_type": "code",
        "colab": {}
      },
      "source": [
        "def best_kernel2(dict_params, tfidf_train_X_extra, tfidf_val_X_extra, train_y_ros_arr, val_y_arr):\n",
        "  '''\n",
        "  Params:\n",
        "  -------------------------------------\n",
        "  dict_params: a dictionary of parameters, should have the following keys\n",
        "    'kernel': a list of strings where each string is a kernel function name\n",
        "    'n_components': a list of ints, Number of features to construct\n",
        "    'gamma': a list of floats, Gamma parameter used only for the RBF, laplacian, polynomial, exponential chi2 and sigmoid kernels.\n",
        "    'coef0': a list of floats, Zero coefficient used only for polynomial and sigmoid kernels.\n",
        "    'degree': a list of floats, Degree of the polynomial kernel used only for the polynomial kernel\n",
        "\n",
        "  Return:\n",
        "  --------------------------------------\n",
        "  best_params: a dictionary of the best performing parameters for kernelization\n",
        "  '''\n",
        "\n",
        "  best_auc = 0\n",
        "  best_params = dict()\n",
        "\n",
        "  for kernel_ in dict_params['kernel']:\n",
        "    for n_ in dict_params['n_components']:\n",
        "      for gamma_ in dict_params['gamma']:\n",
        "        for coef0_ in dict_params['coef0']:\n",
        "          for degree_ in dict_params['degree']:\n",
        "        \n",
        "            # initialize kernel object for use \n",
        "            kernel_func = Nystroem(kernel = kernel_,\n",
        "                                  n_components=n_,\n",
        "                                  gamma = gamma_,\n",
        "                                   coef0=coef0_,\n",
        "                                   degree=degree_,\n",
        "                                  random_state = 1)\n",
        "            \n",
        "            # kernel transform our input data, so for both train and validation\n",
        "            tfidf_train_X_extra_ker = kernel_func.fit_transform(tfidf_train_X_extra)\n",
        "            tfidf_val_X_extra_ker = kernel_func.transform(tfidf_val_X_extra)\n",
        "\n",
        "            # create SGDclassifier object\n",
        "            sgd = SGDClassifier()\n",
        "\n",
        "            # fit the model to our training data\n",
        "            sgd.fit(tfidf_train_X_extra_ker, train_y_ros_arr)\n",
        "\n",
        "            # predict the decision for our validation set\n",
        "            val_score = sgd.decision_function(tfidf_val_X_extra_ker)\n",
        "            # this returns a ndarray of shape (n_samples, )\n",
        "\n",
        "            auc = roc_auc_score(val_y_arr, val_score)\n",
        "\n",
        "            if auc > best_auc: # update best params when we get a better / larger auc\n",
        "              best_params['kernel']=kernel_\n",
        "              best_params['n_components']=n_\n",
        "              best_params['gamma']=gamma_\n",
        "              best_params['coef0']=coef0_\n",
        "              best_params['degree']=degree_\n",
        "              best_params['auc'] = auc\n",
        "              print('new best auc score:', auc)\n",
        "              print(best_params)\n",
        "              print()\n",
        "              best_auc = auc\n",
        "\n",
        "\n",
        "  return best_params"
      ],
      "execution_count": 0,
      "outputs": []
    },
    {
      "cell_type": "code",
      "metadata": {
        "id": "4qEWm_I0vLSr",
        "colab_type": "code",
        "colab": {}
      },
      "source": [
        "dict_params2={'kernel':['poly'],\n",
        "             'n_components':[300, 600],\n",
        "             'gamma':[10**i for i in range(-2,2)],\n",
        "             'coef0':[10**i for i in range(-1,3)],\n",
        "             'degree':[i for i in range(1,4)]}"
      ],
      "execution_count": 0,
      "outputs": []
    },
    {
      "cell_type": "code",
      "metadata": {
        "id": "8rkJodaqhJjJ",
        "colab_type": "code",
        "colab": {
          "base_uri": "https://localhost:8080/",
          "height": 785
        },
        "outputId": "83079806-db1e-407a-b67f-a2c8dec8e134"
      },
      "source": [
        "start = time.time()\n",
        "best_params2 = best_kernel2(dict_params2, tfidf_train_X_extra, tfidf_val_X_extra, train_y_ros_arr, val_y_arr)\n",
        "print(time.time()-start)\n",
        "# time: 12258 secs = 3.5 hrs"
      ],
      "execution_count": 54,
      "outputs": [
        {
          "output_type": "stream",
          "text": [
            "new best auc score: 0.6234861616826775\n",
            "{'kernel': 'poly', 'n_components': 300, 'gamma': 0.01, 'coef0': 0.1, 'degree': 1, 'auc': 0.6234861616826775}\n",
            "\n",
            "new best auc score: 0.6266680759314229\n",
            "{'kernel': 'poly', 'n_components': 300, 'gamma': 0.01, 'coef0': 1, 'degree': 1, 'auc': 0.6266680759314229}\n",
            "\n",
            "new best auc score: 0.6550588569784004\n",
            "{'kernel': 'poly', 'n_components': 300, 'gamma': 0.01, 'coef0': 1, 'degree': 2, 'auc': 0.6550588569784004}\n",
            "\n",
            "new best auc score: 0.6700309571039855\n",
            "{'kernel': 'poly', 'n_components': 300, 'gamma': 0.01, 'coef0': 1, 'degree': 3, 'auc': 0.6700309571039855}\n",
            "\n",
            "new best auc score: 0.6947334314976704\n",
            "{'kernel': 'poly', 'n_components': 300, 'gamma': 0.01, 'coef0': 10, 'degree': 2, 'auc': 0.6947334314976704}\n",
            "\n",
            "new best auc score: 0.7015816427253057\n",
            "{'kernel': 'poly', 'n_components': 300, 'gamma': 0.01, 'coef0': 10, 'degree': 3, 'auc': 0.7015816427253057}\n",
            "\n",
            "new best auc score: 0.7027325847495637\n",
            "{'kernel': 'poly', 'n_components': 300, 'gamma': 0.1, 'coef0': 1, 'degree': 3, 'auc': 0.7027325847495637}\n",
            "\n",
            "new best auc score: 0.7076407081627605\n",
            "{'kernel': 'poly', 'n_components': 300, 'gamma': 1, 'coef0': 0.1, 'degree': 2, 'auc': 0.7076407081627605}\n",
            "\n",
            "new best auc score: 0.7088520472480008\n",
            "{'kernel': 'poly', 'n_components': 300, 'gamma': 1, 'coef0': 1, 'degree': 2, 'auc': 0.7088520472480008}\n",
            "\n"
          ],
          "name": "stdout"
        },
        {
          "output_type": "stream",
          "text": [
            "/usr/local/lib/python3.6/dist-packages/sklearn/linear_model/_stochastic_gradient.py:557: ConvergenceWarning: Maximum number of iteration reached before convergence. Consider increasing max_iter to improve the fit.\n",
            "  ConvergenceWarning)\n"
          ],
          "name": "stderr"
        },
        {
          "output_type": "stream",
          "text": [
            "new best auc score: 0.7114600450081277\n",
            "{'kernel': 'poly', 'n_components': 600, 'gamma': 0.01, 'coef0': 10, 'degree': 3, 'auc': 0.7114600450081277}\n",
            "\n",
            "new best auc score: 0.7115708069319178\n",
            "{'kernel': 'poly', 'n_components': 600, 'gamma': 0.1, 'coef0': 10, 'degree': 2, 'auc': 0.7115708069319178}\n",
            "\n",
            "new best auc score: 0.7142315140821142\n",
            "{'kernel': 'poly', 'n_components': 600, 'gamma': 1, 'coef0': 0.1, 'degree': 2, 'auc': 0.7142315140821142}\n",
            "\n",
            "new best auc score: 0.7176280290272862\n",
            "{'kernel': 'poly', 'n_components': 600, 'gamma': 1, 'coef0': 1, 'degree': 2, 'auc': 0.7176280290272862}\n",
            "\n"
          ],
          "name": "stdout"
        },
        {
          "output_type": "stream",
          "text": [
            "/usr/local/lib/python3.6/dist-packages/sklearn/linear_model/_stochastic_gradient.py:557: ConvergenceWarning: Maximum number of iteration reached before convergence. Consider increasing max_iter to improve the fit.\n",
            "  ConvergenceWarning)\n"
          ],
          "name": "stderr"
        },
        {
          "output_type": "stream",
          "text": [
            "12258.018736124039\n"
          ],
          "name": "stdout"
        }
      ]
    },
    {
      "cell_type": "code",
      "metadata": {
        "id": "vPYZJUZXhPgt",
        "colab_type": "code",
        "colab": {
          "base_uri": "https://localhost:8080/",
          "height": 119
        },
        "outputId": "3522da02-d2cc-4326-b06b-35e9241d22fc"
      },
      "source": [
        "best_params2"
      ],
      "execution_count": 55,
      "outputs": [
        {
          "output_type": "execute_result",
          "data": {
            "text/plain": [
              "{'auc': 0.7176280290272862,\n",
              " 'coef0': 1,\n",
              " 'degree': 2,\n",
              " 'gamma': 1,\n",
              " 'kernel': 'poly',\n",
              " 'n_components': 600}"
            ]
          },
          "metadata": {
            "tags": []
          },
          "execution_count": 55
        }
      ]
    },
    {
      "cell_type": "markdown",
      "metadata": {
        "colab_type": "text",
        "id": "lFgi3Trjwlp5"
      },
      "source": [
        "## sigmoid"
      ]
    },
    {
      "cell_type": "code",
      "metadata": {
        "colab_type": "code",
        "id": "xLeZOa3mwlp6",
        "colab": {}
      },
      "source": [
        "def best_kernel3(dict_params, tfidf_train_X_extra, tfidf_val_X_extra, train_y_ros_arr, val_y_arr):\n",
        "  '''\n",
        "  Params:\n",
        "  -------------------------------------\n",
        "  dict_params: a dictionary of parameters, should have the following keys\n",
        "    'kernel': a list of strings where each string is a kernel function name\n",
        "    'n_components': a list of ints, Number of features to construct\n",
        "    'gamma': a list of floats, Gamma parameter used only for the RBF, laplacian, polynomial, and sigmoid kernels.\n",
        "    'coef0': a list of floats, Zero coefficient used only for polynomial and sigmoid kernels.\n",
        "\n",
        "  Return:\n",
        "  --------------------------------------\n",
        "  best_params: a dictionary of the best performing parameters for kernelization\n",
        "  '''\n",
        "\n",
        "  best_auc = 0\n",
        "  best_params = dict()\n",
        "\n",
        "  for kernel_ in dict_params['kernel']:\n",
        "    for n_ in dict_params['n_components']:\n",
        "      for gamma_ in dict_params['gamma']:\n",
        "        for coef0_ in dict_params['coef0']:\n",
        "        \n",
        "          # initialize kernel object for use \n",
        "          kernel_func = Nystroem(kernel = kernel_,\n",
        "                                n_components=n_,\n",
        "                                gamma = gamma_,\n",
        "                                  coef0=coef0_,\n",
        "                                random_state = 1)\n",
        "          \n",
        "          # kernel transform our input data, so for both train and validation\n",
        "          tfidf_train_X_extra_ker = kernel_func.fit_transform(tfidf_train_X_extra)\n",
        "          tfidf_val_X_extra_ker = kernel_func.transform(tfidf_val_X_extra)\n",
        "\n",
        "          # create SGDclassifier object\n",
        "          sgd = SGDClassifier()\n",
        "\n",
        "          # fit the model to our training data\n",
        "          sgd.fit(tfidf_train_X_extra_ker, train_y_ros_arr)\n",
        "\n",
        "          # predict the decision for our validation set\n",
        "          val_score = sgd.decision_function(tfidf_val_X_extra_ker)\n",
        "          # this returns a ndarray of shape (n_samples, )\n",
        "\n",
        "          auc = roc_auc_score(val_y_arr, val_score)\n",
        "\n",
        "          if auc > best_auc: # update best params when we get a better / larger auc\n",
        "            best_params['kernel']=kernel_\n",
        "            best_params['n_components']=n_\n",
        "            best_params['gamma']=gamma_\n",
        "            best_params['coef0']=coef0_\n",
        "            best_params['auc'] = auc\n",
        "            print('new best auc score:', auc)\n",
        "            print(best_params)\n",
        "            print()\n",
        "            best_auc = auc\n",
        "\n",
        "\n",
        "  return best_params"
      ],
      "execution_count": 0,
      "outputs": []
    },
    {
      "cell_type": "code",
      "metadata": {
        "colab_type": "code",
        "id": "CdbaHHbnwlp9",
        "colab": {}
      },
      "source": [
        "dict_params3={'kernel':['sigmoid'],\n",
        "             'n_components':[100, 300, 600],\n",
        "             'gamma':[10**i for i in range(-2,2)],\n",
        "             'coef0':[10**i for i in range(-1,3)]}"
      ],
      "execution_count": 0,
      "outputs": []
    },
    {
      "cell_type": "code",
      "metadata": {
        "colab_type": "code",
        "outputId": "7601636c-e146-48c3-d8c5-1aa26178605b",
        "id": "Ps_S24xZwlqA",
        "colab": {
          "base_uri": "https://localhost:8080/",
          "height": 391
        }
      },
      "source": [
        "start = time.time()\n",
        "best_params3 = best_kernel3(dict_params3, tfidf_train_X_extra, tfidf_val_X_extra, train_y_ros_arr, val_y_arr)\n",
        "print(time.time()-start)\n",
        "# time: 2885 secs = 48 sec"
      ],
      "execution_count": 58,
      "outputs": [
        {
          "output_type": "stream",
          "text": [
            "new best auc score: 0.5904080080556597\n",
            "{'kernel': 'sigmoid', 'n_components': 100, 'gamma': 0.01, 'coef0': 0.1, 'auc': 0.5904080080556597}\n",
            "\n",
            "new best auc score: 0.5908570274996059\n",
            "{'kernel': 'sigmoid', 'n_components': 100, 'gamma': 0.01, 'coef0': 1, 'auc': 0.5908570274996059}\n",
            "\n",
            "new best auc score: 0.6634090097464377\n",
            "{'kernel': 'sigmoid', 'n_components': 100, 'gamma': 0.1, 'coef0': 0.1, 'auc': 0.6634090097464377}\n",
            "\n",
            "new best auc score: 0.6766511290767592\n",
            "{'kernel': 'sigmoid', 'n_components': 100, 'gamma': 1, 'coef0': 0.1, 'auc': 0.6766511290767592}\n",
            "\n",
            "new best auc score: 0.6875851207805305\n",
            "{'kernel': 'sigmoid', 'n_components': 300, 'gamma': 0.1, 'coef0': 0.1, 'auc': 0.6875851207805305}\n",
            "\n",
            "new best auc score: 0.7015109416369012\n",
            "{'kernel': 'sigmoid', 'n_components': 300, 'gamma': 1, 'coef0': 0.1, 'auc': 0.7015109416369012}\n",
            "\n",
            "new best auc score: 0.7074690055194929\n",
            "{'kernel': 'sigmoid', 'n_components': 600, 'gamma': 1, 'coef0': 0.1, 'auc': 0.7074690055194929}\n",
            "\n",
            "2885.729292869568\n"
          ],
          "name": "stdout"
        }
      ]
    },
    {
      "cell_type": "code",
      "metadata": {
        "colab_type": "code",
        "outputId": "a6b6d8e5-b5d6-4db6-ce69-b658b5e16fef",
        "id": "zNfUoz29wlqH",
        "colab": {
          "base_uri": "https://localhost:8080/",
          "height": 102
        }
      },
      "source": [
        "best_params3"
      ],
      "execution_count": 59,
      "outputs": [
        {
          "output_type": "execute_result",
          "data": {
            "text/plain": [
              "{'auc': 0.7074690055194929,\n",
              " 'coef0': 0.1,\n",
              " 'gamma': 1,\n",
              " 'kernel': 'sigmoid',\n",
              " 'n_components': 600}"
            ]
          },
          "metadata": {
            "tags": []
          },
          "execution_count": 59
        }
      ]
    },
    {
      "cell_type": "markdown",
      "metadata": {
        "id": "qMJsBDwEixPG",
        "colab_type": "text"
      },
      "source": [
        "# Grid Search for SGD params"
      ]
    },
    {
      "cell_type": "code",
      "metadata": {
        "id": "5OLl9-Msi-aq",
        "colab_type": "code",
        "colab": {}
      },
      "source": [
        "from sklearn.model_selection import GridSearchCV"
      ],
      "execution_count": 0,
      "outputs": []
    },
    {
      "cell_type": "markdown",
      "metadata": {
        "colab_type": "text",
        "id": "msT9chWWchED"
      },
      "source": [
        "## linear SVM with BoW_extra data - early stopping - AP"
      ]
    },
    {
      "cell_type": "code",
      "metadata": {
        "colab_type": "code",
        "outputId": "197f620a-7be6-429f-eee9-eb744a8b1003",
        "id": "v2ABcyJCchEG",
        "colab": {
          "base_uri": "https://localhost:8080/",
          "height": 34
        }
      },
      "source": [
        "# create SGDclassifier object\n",
        "sgd = SGDClassifier()\n",
        "\n",
        "# create a dict where keys are param names and values are a list of values to try for that param\n",
        "grid_values = {'loss':['hinge', 'log'], \n",
        "               'penalty':['l2', 'l1', 'elasticnet'],\n",
        "               'alpha':[10**(-i) for i in range(6)],\n",
        "               'tol':[10**(-i) for i in range(2,5)],\n",
        "               'early_stopping':[True]\n",
        "               }\n",
        "\n",
        "# create gridSearch object specifying model, params to search over, the scoring metric\n",
        "grid_sgd = GridSearchCV(sgd, param_grid = grid_values, scoring = 'average_precision')\n",
        "\n",
        "# fit on data\n",
        "start = time.time()\n",
        "grid_sgd.fit(BoW_train_X_extra, train_y_ros_arr)\n",
        "print(time.time()-start)\n",
        "\n",
        "# time: 1569"
      ],
      "execution_count": 57,
      "outputs": [
        {
          "output_type": "stream",
          "text": [
            "1569.418023109436\n"
          ],
          "name": "stdout"
        }
      ]
    },
    {
      "cell_type": "code",
      "metadata": {
        "colab_type": "code",
        "outputId": "d0c12d30-bc15-477d-c7d8-c946b72fa55c",
        "id": "x11m4wl4chEK",
        "colab": {
          "base_uri": "https://localhost:8080/",
          "height": 102
        }
      },
      "source": [
        "grid_sgd.best_params_"
      ],
      "execution_count": 58,
      "outputs": [
        {
          "output_type": "execute_result",
          "data": {
            "text/plain": [
              "{'alpha': 0.01,\n",
              " 'early_stopping': True,\n",
              " 'loss': 'log',\n",
              " 'penalty': 'l2',\n",
              " 'tol': 0.01}"
            ]
          },
          "metadata": {
            "tags": []
          },
          "execution_count": 58
        }
      ]
    },
    {
      "cell_type": "markdown",
      "metadata": {
        "id": "srA47-uXr43j",
        "colab_type": "text"
      },
      "source": [
        "### in-sample score"
      ]
    },
    {
      "cell_type": "code",
      "metadata": {
        "colab_type": "code",
        "outputId": "892de34b-d479-4189-9263-eccbc6666da1",
        "id": "c7UEHwDQchEN",
        "colab": {
          "base_uri": "https://localhost:8080/",
          "height": 34
        }
      },
      "source": [
        "# Mean cross-validated score of the best_estimator\n",
        "grid_sgd.best_score_"
      ],
      "execution_count": 59,
      "outputs": [
        {
          "output_type": "execute_result",
          "data": {
            "text/plain": [
              "0.653446128540424"
            ]
          },
          "metadata": {
            "tags": []
          },
          "execution_count": 59
        }
      ]
    },
    {
      "cell_type": "code",
      "metadata": {
        "colab_type": "code",
        "outputId": "22941871-5d9a-471c-e01a-629a9014b36d",
        "id": "rf3IZgMKchEO",
        "colab": {
          "base_uri": "https://localhost:8080/",
          "height": 34
        }
      },
      "source": [
        "# this is the same as the following\n",
        "# which proves that grid score does use y_score to calculate and return auROC score\n",
        "# and that it does use this correct auROC score to select the best model\n",
        "print('this is the trianing AUC! not the validation:',grid_sgd.score(BoW_train_X_extra, train_y_ros_arr))"
      ],
      "execution_count": 61,
      "outputs": [
        {
          "output_type": "stream",
          "text": [
            "this is the trianing AUC! not the validation: 0.6944337256655556\n"
          ],
          "name": "stdout"
        }
      ]
    },
    {
      "cell_type": "code",
      "metadata": {
        "colab_type": "code",
        "id": "SdaflTGZchEQ",
        "colab": {
          "base_uri": "https://localhost:8080/",
          "height": 414
        },
        "outputId": "62286a20-1641-428a-96b2-c2e202b0c905"
      },
      "source": [
        "# evalute the best model on the actual validation set\n",
        "train_pred = grid_sgd.predict(BoW_train_X_extra)\n",
        "# this returns a ndarray of shape (n_samples, )\n",
        "\n",
        "# predict the confidence score for our validation set\n",
        "train_score = grid_sgd.decision_function(BoW_train_X_extra)\n",
        "# this returns a ndarray of shape (n_samples, )\n",
        "\n",
        "get_results(train_y_ros_arr, train_pred, train_score)"
      ],
      "execution_count": 63,
      "outputs": [
        {
          "output_type": "stream",
          "text": [
            "au_roc score: 0.7277828933006925\n",
            "average precision score: 0.6944337256655556\n"
          ],
          "name": "stdout"
        },
        {
          "output_type": "display_data",
          "data": {
            "image/png": "[encoded data removed]",
            "text/plain": [
              "<Figure size 432x288 with 1 Axes>"
            ]
          },
          "metadata": {
            "tags": [],
            "needs_background": "light"
          }
        },
        {
          "output_type": "stream",
          "text": [
            "\n",
            "Confusion Matrix:\n",
            "                 predicted negative  predicted positive\n",
            "actual negative              134489               90566\n",
            "actual positive               57662              167393\n"
          ],
          "name": "stdout"
        }
      ]
    },
    {
      "cell_type": "markdown",
      "metadata": {
        "id": "P3vM06bTr73N",
        "colab_type": "text"
      },
      "source": [
        "### out-of-sample validation score"
      ]
    },
    {
      "cell_type": "code",
      "metadata": {
        "colab_type": "code",
        "outputId": "fa66f23a-4a6d-4f72-9d37-3b9721cbd754",
        "id": "FKSduWIuchEV",
        "colab": {
          "base_uri": "https://localhost:8080/",
          "height": 34
        }
      },
      "source": [
        "grid_sgd.score(BoW_val_X_extra, val_y_arr)"
      ],
      "execution_count": 64,
      "outputs": [
        {
          "output_type": "execute_result",
          "data": {
            "text/plain": [
              "0.2047170132661991"
            ]
          },
          "metadata": {
            "tags": []
          },
          "execution_count": 64
        }
      ]
    },
    {
      "cell_type": "code",
      "metadata": {
        "colab_type": "code",
        "id": "QbaNoMoUchEX",
        "colab": {}
      },
      "source": [
        "# evalute the best model on the actual validation set\n",
        "val_pred = grid_sgd.predict(BoW_val_X_extra)\n",
        "# this returns a ndarray of shape (n_samples, )\n",
        "\n",
        "# predict the confidence score for our validation set\n",
        "val_score = grid_sgd.decision_function(BoW_val_X_extra)\n",
        "# this returns a ndarray of shape (n_samples, )"
      ],
      "execution_count": 0,
      "outputs": []
    },
    {
      "cell_type": "code",
      "metadata": {
        "colab_type": "code",
        "outputId": "bc497fd7-f2cb-4dc0-cabe-3d1b55c60e1e",
        "id": "zkadMyaichEa",
        "colab": {
          "base_uri": "https://localhost:8080/",
          "height": 414
        }
      },
      "source": [
        "get_results(val_y_arr, val_pred, val_score)"
      ],
      "execution_count": 0,
      "outputs": [
        {
          "output_type": "stream",
          "text": [
            "au_roc score: 0.7173404379305097\n",
            "average precision score: 0.2047170132661991\n"
          ],
          "name": "stdout"
        },
        {
          "output_type": "display_data",
          "data": {
            "image/png": "[encoded data removed]",
            "text/plain": [
              "<Figure size 432x288 with 1 Axes>"
            ]
          },
          "metadata": {
            "tags": [],
            "needs_background": "light"
          }
        },
        {
          "output_type": "stream",
          "text": [
            "\n",
            "Confusion Matrix:\n",
            "                 predicted negative  predicted positive\n",
            "actual negative               19200               13070\n",
            "actual positive                 963                2685\n"
          ],
          "name": "stdout"
        }
      ]
    },
    {
      "cell_type": "markdown",
      "metadata": {
        "id": "Bn5OZIZtrmVR",
        "colab_type": "text"
      },
      "source": [
        "Notice that no matter if you chose `roc_auc` or `average_precision` as your scorer, their optimal value yeild the same model."
      ]
    },
    {
      "cell_type": "markdown",
      "metadata": {
        "colab_type": "text",
        "id": "5m46_7BsCzXD"
      },
      "source": [
        "## linear SVM with BoW_extra data - early stopping"
      ]
    },
    {
      "cell_type": "code",
      "metadata": {
        "colab_type": "code",
        "outputId": "3041eba8-2ec1-4c21-e14c-fbd5e832a701",
        "id": "Gb4-sjknCzXE",
        "colab": {
          "base_uri": "https://localhost:8080/",
          "height": 34
        }
      },
      "source": [
        "# create SGDclassifier object\n",
        "sgd = SGDClassifier()\n",
        "\n",
        "# create a dict where keys are param names and values are a list of values to try for that param\n",
        "grid_values = {'loss':['hinge', 'log'], \n",
        "               'penalty':['l2', 'l1', 'elasticnet'],\n",
        "               'alpha':[10**(-i) for i in range(6)],\n",
        "               'tol':[10**(-i) for i in range(2,5)],\n",
        "               'early_stopping':[True]\n",
        "               }\n",
        "\n",
        "# create gridSearch object specifying model, params to search over, the scoring metric\n",
        "grid_sgd = GridSearchCV(sgd, param_grid = grid_values, scoring = 'roc_auc')\n",
        "\n",
        "# fit on data\n",
        "start = time.time()\n",
        "grid_sgd.fit(BoW_train_X_extra, train_y_ros_arr)\n",
        "print(time.time()-start)\n",
        "\n",
        "#time: 1343"
      ],
      "execution_count": 101,
      "outputs": [
        {
          "output_type": "stream",
          "text": [
            "1343.3497869968414\n"
          ],
          "name": "stdout"
        }
      ]
    },
    {
      "cell_type": "code",
      "metadata": {
        "colab_type": "code",
        "outputId": "ede34f76-b111-4f69-ca7c-b29b9e85b28b",
        "id": "R5-1KKk2CzXI",
        "colab": {
          "base_uri": "https://localhost:8080/",
          "height": 102
        }
      },
      "source": [
        "grid_sgd.best_params_"
      ],
      "execution_count": 102,
      "outputs": [
        {
          "output_type": "execute_result",
          "data": {
            "text/plain": [
              "{'alpha': 0.01,\n",
              " 'early_stopping': True,\n",
              " 'loss': 'log',\n",
              " 'penalty': 'l2',\n",
              " 'tol': 0.001}"
            ]
          },
          "metadata": {
            "tags": []
          },
          "execution_count": 102
        }
      ]
    },
    {
      "cell_type": "markdown",
      "metadata": {
        "id": "aSCMKvDfh6wx",
        "colab_type": "text"
      },
      "source": [
        "### in-sample score"
      ]
    },
    {
      "cell_type": "code",
      "metadata": {
        "colab_type": "code",
        "outputId": "3f03954a-cb50-499d-a265-147f849d83f1",
        "id": "vG5Xx6z8CzXL",
        "colab": {
          "base_uri": "https://localhost:8080/",
          "height": 34
        }
      },
      "source": [
        "# Mean cross-validated score of the best_estimator\n",
        "grid_sgd.best_score_"
      ],
      "execution_count": 103,
      "outputs": [
        {
          "output_type": "execute_result",
          "data": {
            "text/plain": [
              "0.6909675278224123"
            ]
          },
          "metadata": {
            "tags": []
          },
          "execution_count": 103
        }
      ]
    },
    {
      "cell_type": "code",
      "metadata": {
        "colab_type": "code",
        "outputId": "f059e8f4-e937-4b89-b441-6c3cb94ec1f2",
        "id": "Y-bNLA4UCzXN",
        "colab": {
          "base_uri": "https://localhost:8080/",
          "height": 34
        }
      },
      "source": [
        "# this is the same as the following\n",
        "# which proves that grid score does use y_score to calculate and return auROC score\n",
        "# and that it does use this correct auROC score to select the best model\n",
        "print('this is the trianing AUC! not the validation:',grid_sgd.score(BoW_train_X_extra, train_y_ros_arr))"
      ],
      "execution_count": 104,
      "outputs": [
        {
          "output_type": "stream",
          "text": [
            "this is the trianing AUC! not the validation: 0.7276945719322192\n"
          ],
          "name": "stdout"
        }
      ]
    },
    {
      "cell_type": "code",
      "metadata": {
        "colab_type": "code",
        "id": "rlZlx3MiCzXP",
        "colab": {}
      },
      "source": [
        "# evalute the best model on the actual validation set\n",
        "train_pred = grid_sgd.predict(BoW_train_X_extra)\n",
        "# this returns a ndarray of shape (n_samples, )\n",
        "\n",
        "# predict the confidence score for our validation set\n",
        "train_score = grid_sgd.decision_function(BoW_train_X_extra)\n",
        "# this returns a ndarray of shape (n_samples, )"
      ],
      "execution_count": 0,
      "outputs": []
    },
    {
      "cell_type": "code",
      "metadata": {
        "colab_type": "code",
        "outputId": "5ea8c869-1dd3-4a7a-89b6-40bb3feac7f4",
        "id": "FvayMFmFCzXQ",
        "colab": {
          "base_uri": "https://localhost:8080/",
          "height": 414
        }
      },
      "source": [
        "get_results(train_y_ros_arr, train_pred, train_score)"
      ],
      "execution_count": 106,
      "outputs": [
        {
          "output_type": "stream",
          "text": [
            "au_roc score: 0.7276945719322192\n",
            "average precision score: 0.6946605571681767\n"
          ],
          "name": "stdout"
        },
        {
          "output_type": "display_data",
          "data": {
            "image/png": "[encoded data removed]",
            "text/plain": [
              "<Figure size 432x288 with 1 Axes>"
            ]
          },
          "metadata": {
            "tags": [],
            "needs_background": "light"
          }
        },
        {
          "output_type": "stream",
          "text": [
            "\n",
            "Confusion Matrix:\n",
            "                 predicted negative  predicted positive\n",
            "actual negative              133499               91556\n",
            "actual positive               56956              168099\n"
          ],
          "name": "stdout"
        }
      ]
    },
    {
      "cell_type": "markdown",
      "metadata": {
        "id": "eRGKs7V2h_5E",
        "colab_type": "text"
      },
      "source": [
        "### out-of-sample validation score"
      ]
    },
    {
      "cell_type": "code",
      "metadata": {
        "colab_type": "code",
        "outputId": "87a139f7-106e-4d6c-b27a-cd82ad30b2ad",
        "id": "tAVJ0YABCzXS",
        "colab": {
          "base_uri": "https://localhost:8080/",
          "height": 34
        }
      },
      "source": [
        "grid_sgd.score(BoW_val_X_extra, val_y_arr)"
      ],
      "execution_count": 107,
      "outputs": [
        {
          "output_type": "execute_result",
          "data": {
            "text/plain": [
              "0.717569861815602"
            ]
          },
          "metadata": {
            "tags": []
          },
          "execution_count": 107
        }
      ]
    },
    {
      "cell_type": "code",
      "metadata": {
        "colab_type": "code",
        "id": "h1odadUTCzXU",
        "colab": {}
      },
      "source": [
        "# evalute the best model on the actual validation set\n",
        "val_pred = grid_sgd.predict(BoW_val_X_extra)\n",
        "# this returns a ndarray of shape (n_samples, )\n",
        "\n",
        "# predict the confidence score for our validation set\n",
        "val_score = grid_sgd.decision_function(BoW_val_X_extra)\n",
        "# this returns a ndarray of shape (n_samples, )"
      ],
      "execution_count": 0,
      "outputs": []
    },
    {
      "cell_type": "code",
      "metadata": {
        "colab_type": "code",
        "outputId": "c67dd8f5-74fd-48c2-86fd-1e53606507e0",
        "id": "dBZg-9gBCzXV",
        "colab": {
          "base_uri": "https://localhost:8080/",
          "height": 414
        }
      },
      "source": [
        "get_results(val_y_arr, val_pred, val_score)"
      ],
      "execution_count": 109,
      "outputs": [
        {
          "output_type": "stream",
          "text": [
            "au_roc score: 0.717569861815602\n",
            "average precision score: 0.20462315475919085\n"
          ],
          "name": "stdout"
        },
        {
          "output_type": "display_data",
          "data": {
            "image/png": "[encoded data removed]",
            "text/plain": [
              "<Figure size 432x288 with 1 Axes>"
            ]
          },
          "metadata": {
            "tags": [],
            "needs_background": "light"
          }
        },
        {
          "output_type": "stream",
          "text": [
            "\n",
            "Confusion Matrix:\n",
            "                 predicted negative  predicted positive\n",
            "actual negative               19047               13223\n",
            "actual positive                 951                2697\n"
          ],
          "name": "stdout"
        }
      ]
    },
    {
      "cell_type": "markdown",
      "metadata": {
        "id": "4F_J0Pjyk6MK",
        "colab_type": "text"
      },
      "source": [
        "## linear SVM with BoW_extra data - no early stopping"
      ]
    },
    {
      "cell_type": "code",
      "metadata": {
        "id": "hvoFrFoTkzTo",
        "colab_type": "code",
        "colab": {
          "base_uri": "https://localhost:8080/",
          "height": 34
        },
        "outputId": "702345ee-3c44-440e-a0ca-7b2f93926acd"
      },
      "source": [
        "# create SGDclassifier object\n",
        "sgd = SGDClassifier()\n",
        "\n",
        "# create a dict where keys are param names and values are a list of values to try for that param\n",
        "grid_values = {'loss':['hinge', 'log'], \n",
        "               'penalty':['l2', 'l1', 'elasticnet'],\n",
        "               'alpha':[10**(-i) for i in range(6)],\n",
        "               'tol':[10**(-i) for i in range(2,5)],\n",
        "               'early_stopping':[False]\n",
        "               }\n",
        "\n",
        "# create gridSearch object specifying model, params to search over, the scoring metric\n",
        "grid_sgd = GridSearchCV(sgd, param_grid = grid_values, scoring = 'roc_auc')\n",
        "\n",
        "# fit on data\n",
        "start = time.time()\n",
        "grid_sgd.fit(BoW_train_X_extra, train_y_ros_arr)\n",
        "print(time.time()-start)\n",
        "\n",
        "# time: 4741"
      ],
      "execution_count": 90,
      "outputs": [
        {
          "output_type": "stream",
          "text": [
            "4741.603350400925\n"
          ],
          "name": "stdout"
        }
      ]
    },
    {
      "cell_type": "code",
      "metadata": {
        "id": "6bw2j9DuPTzw",
        "colab_type": "code",
        "outputId": "bcf22218-9e03-4e2b-a9ce-12c6f6a5ec9f",
        "colab": {
          "base_uri": "https://localhost:8080/",
          "height": 102
        }
      },
      "source": [
        "grid_sgd.best_params_"
      ],
      "execution_count": 91,
      "outputs": [
        {
          "output_type": "execute_result",
          "data": {
            "text/plain": [
              "{'alpha': 1e-05,\n",
              " 'early_stopping': False,\n",
              " 'loss': 'hinge',\n",
              " 'penalty': 'l2',\n",
              " 'tol': 0.0001}"
            ]
          },
          "metadata": {
            "tags": []
          },
          "execution_count": 91
        }
      ]
    },
    {
      "cell_type": "markdown",
      "metadata": {
        "id": "o2bVLUWgiF7X",
        "colab_type": "text"
      },
      "source": [
        "### in-sample score"
      ]
    },
    {
      "cell_type": "code",
      "metadata": {
        "id": "OCOQVHpwTxdk",
        "colab_type": "code",
        "outputId": "9420698a-b022-489a-bc50-137ba9d0b949",
        "colab": {
          "base_uri": "https://localhost:8080/",
          "height": 34
        }
      },
      "source": [
        "# Mean cross-validated score of the best_estimator\n",
        "grid_sgd.best_score_"
      ],
      "execution_count": 92,
      "outputs": [
        {
          "output_type": "execute_result",
          "data": {
            "text/plain": [
              "0.71652904698443"
            ]
          },
          "metadata": {
            "tags": []
          },
          "execution_count": 92
        }
      ]
    },
    {
      "cell_type": "code",
      "metadata": {
        "id": "fFzHrxvQlJzk",
        "colab_type": "code",
        "colab": {
          "base_uri": "https://localhost:8080/",
          "height": 34
        },
        "outputId": "2bda4bd6-eb4e-4832-90db-451eb8352aec"
      },
      "source": [
        "# this is the same as the following\n",
        "# which proves that grid score does use y_score to calculate and return auROC score\n",
        "# and that it does use this correct auROC score to select the best model\n",
        "print('this is the trianing AUC! not the validation:',grid_sgd.score(BoW_train_X_extra, train_y_ros_arr))"
      ],
      "execution_count": 95,
      "outputs": [
        {
          "output_type": "stream",
          "text": [
            "this is the trianing AUC! not the validation 0.8591245083568697\n"
          ],
          "name": "stdout"
        }
      ]
    },
    {
      "cell_type": "code",
      "metadata": {
        "id": "vyGsRXDhkqUz",
        "colab_type": "code",
        "colab": {}
      },
      "source": [
        "# evalute the best model on the actual validation set\n",
        "train_pred = grid_sgd.predict(BoW_train_X_extra)\n",
        "# this returns a ndarray of shape (n_samples, )\n",
        "\n",
        "# predict the confidence score for our validation set\n",
        "train_score = grid_sgd.decision_function(BoW_train_X_extra)\n",
        "# this returns a ndarray of shape (n_samples, )"
      ],
      "execution_count": 0,
      "outputs": []
    },
    {
      "cell_type": "code",
      "metadata": {
        "id": "tXOrmtF8kw05",
        "colab_type": "code",
        "colab": {
          "base_uri": "https://localhost:8080/",
          "height": 414
        },
        "outputId": "411e4594-ce23-45c5-a371-d1e7627bcbf2"
      },
      "source": [
        "get_results(train_y_ros_arr, train_pred, train_score)"
      ],
      "execution_count": 97,
      "outputs": [
        {
          "output_type": "stream",
          "text": [
            "au_roc score: 0.8591245083568697\n",
            "average precision score: 0.8093522448265416\n"
          ],
          "name": "stdout"
        },
        {
          "output_type": "display_data",
          "data": {
            "image/png": "[encoded data removed]",
            "text/plain": [
              "<Figure size 432x288 with 1 Axes>"
            ]
          },
          "metadata": {
            "tags": [],
            "needs_background": "light"
          }
        },
        {
          "output_type": "stream",
          "text": [
            "\n",
            "Confusion Matrix:\n",
            "                 predicted negative  predicted positive\n",
            "actual negative              146687               78368\n",
            "actual positive               21533              203522\n"
          ],
          "name": "stdout"
        }
      ]
    },
    {
      "cell_type": "markdown",
      "metadata": {
        "id": "iwH9Nfc0iJMi",
        "colab_type": "text"
      },
      "source": [
        "### out-of-sample validation score"
      ]
    },
    {
      "cell_type": "code",
      "metadata": {
        "id": "PWp_T_ccnQA_",
        "colab_type": "code",
        "colab": {
          "base_uri": "https://localhost:8080/",
          "height": 34
        },
        "outputId": "292e5fea-3ba3-492f-8ac1-116bd2405c75"
      },
      "source": [
        "grid_sgd.score(BoW_val_X_extra, val_y_arr)"
      ],
      "execution_count": 98,
      "outputs": [
        {
          "output_type": "execute_result",
          "data": {
            "text/plain": [
              "0.6934386450807062"
            ]
          },
          "metadata": {
            "tags": []
          },
          "execution_count": 98
        }
      ]
    },
    {
      "cell_type": "code",
      "metadata": {
        "id": "pOX2T6I18heA",
        "colab_type": "code",
        "colab": {}
      },
      "source": [
        "# evalute the best model on the actual validation set\n",
        "val_pred = grid_sgd.predict(BoW_val_X_extra)\n",
        "# this returns a ndarray of shape (n_samples, )\n",
        "\n",
        "# predict the confidence score for our validation set\n",
        "val_score = grid_sgd.decision_function(BoW_val_X_extra)\n",
        "# this returns a ndarray of shape (n_samples, )"
      ],
      "execution_count": 0,
      "outputs": []
    },
    {
      "cell_type": "code",
      "metadata": {
        "id": "2iKsL1z9H2Cz",
        "colab_type": "code",
        "outputId": "791575e7-ebcb-470a-f457-cdce57b49438",
        "colab": {
          "base_uri": "https://localhost:8080/",
          "height": 414
        }
      },
      "source": [
        "get_results(val_y_arr, val_pred, val_score)"
      ],
      "execution_count": 100,
      "outputs": [
        {
          "output_type": "stream",
          "text": [
            "au_roc score: 0.6934386450807062\n",
            "average precision score: 0.18094190895232182\n"
          ],
          "name": "stdout"
        },
        {
          "output_type": "display_data",
          "data": {
            "image/png": "[encoded data removed]",
            "text/plain": [
              "<Figure size 432x288 with 1 Axes>"
            ]
          },
          "metadata": {
            "tags": [],
            "needs_background": "light"
          }
        },
        {
          "output_type": "stream",
          "text": [
            "\n",
            "Confusion Matrix:\n",
            "                 predicted negative  predicted positive\n",
            "actual negative               18834               13436\n",
            "actual positive                1068                2580\n"
          ],
          "name": "stdout"
        }
      ]
    },
    {
      "cell_type": "markdown",
      "metadata": {
        "id": "8QaZMR_FIYkr",
        "colab_type": "text"
      },
      "source": [
        "Even after grid search, our `auc` is still very bad, as bad as the Naive Bayes baseline. This suggests that our data is not linearly separable in its current dimension of 73937 dimension-space. So linear SVM performs poorly."
      ]
    },
    {
      "cell_type": "code",
      "metadata": {
        "id": "ziegfDcGR9m9",
        "colab_type": "code",
        "colab": {}
      },
      "source": [
        ""
      ],
      "execution_count": 0,
      "outputs": []
    },
    {
      "cell_type": "markdown",
      "metadata": {
        "colab_type": "text",
        "id": "z7M4tOnoR97H"
      },
      "source": [
        "## linear SVM with tfidf_extra data - early stopping"
      ]
    },
    {
      "cell_type": "code",
      "metadata": {
        "colab_type": "code",
        "id": "qz1oZUJKR97I",
        "colab": {
          "base_uri": "https://localhost:8080/",
          "height": 34
        },
        "outputId": "b048c778-da72-46ff-c016-1bd4c686fdaf"
      },
      "source": [
        "# create SGDclassifier object\n",
        "sgd = SGDClassifier()\n",
        "\n",
        "# create a dict where keys are param names and values are a list of values to try for that param\n",
        "grid_values = {'loss':['hinge', 'log'], \n",
        "               'penalty':['l2', 'l1', 'elasticnet'],\n",
        "               'alpha':[10**(-i) for i in range(6)],\n",
        "               'tol':[10**(-i) for i in range(2,5)],\n",
        "               'early_stopping':[True]\n",
        "               }\n",
        "\n",
        "# create gridSearch object specifying model, params to search over, the scoring metric\n",
        "grid_sgd = GridSearchCV(sgd, param_grid = grid_values, scoring = 'roc_auc')\n",
        "\n",
        "# fit on data\n",
        "start = time.time()\n",
        "grid_sgd.fit(tfidf_train_X_extra, train_y_ros_arr)\n",
        "print(time.time()-start)\n"
      ],
      "execution_count": 181,
      "outputs": [
        {
          "output_type": "stream",
          "text": [
            "1295.5717129707336\n"
          ],
          "name": "stdout"
        }
      ]
    },
    {
      "cell_type": "code",
      "metadata": {
        "colab_type": "code",
        "outputId": "2019c7a1-b64d-4f1d-b8ba-44321d738ad4",
        "id": "rVW2xAWzR97K",
        "colab": {
          "base_uri": "https://localhost:8080/",
          "height": 102
        }
      },
      "source": [
        "grid_sgd.best_params_"
      ],
      "execution_count": 182,
      "outputs": [
        {
          "output_type": "execute_result",
          "data": {
            "text/plain": [
              "{'alpha': 1e-05,\n",
              " 'early_stopping': True,\n",
              " 'loss': 'hinge',\n",
              " 'penalty': 'l2',\n",
              " 'tol': 0.01}"
            ]
          },
          "metadata": {
            "tags": []
          },
          "execution_count": 182
        }
      ]
    },
    {
      "cell_type": "code",
      "metadata": {
        "colab_type": "code",
        "outputId": "3f8551f2-ef47-4d38-9f11-d30d3336bf61",
        "id": "oiUfwRHzR97N",
        "colab": {
          "base_uri": "https://localhost:8080/",
          "height": 34
        }
      },
      "source": [
        "# Mean cross-validated score of the best_estimator\n",
        "grid_sgd.best_score_"
      ],
      "execution_count": 183,
      "outputs": [
        {
          "output_type": "execute_result",
          "data": {
            "text/plain": [
              "0.6998614621082844"
            ]
          },
          "metadata": {
            "tags": []
          },
          "execution_count": 183
        }
      ]
    },
    {
      "cell_type": "code",
      "metadata": {
        "colab_type": "code",
        "id": "7KEhczixR97Q",
        "colab": {}
      },
      "source": [
        "# evalute the best model on the actual validation set\n",
        "val_pred = grid_sgd.predict(tfidf_val_X_extra)\n",
        "# this returns a ndarray of shape (n_samples, )\n",
        "\n",
        "# predict the confidence score for our validation set\n",
        "val_score = grid_sgd.decision_function(tfidf_val_X_extra)\n",
        "# this returns a ndarray of shape (n_samples, )"
      ],
      "execution_count": 0,
      "outputs": []
    },
    {
      "cell_type": "code",
      "metadata": {
        "colab_type": "code",
        "outputId": "f16e5edb-8043-4980-b040-b378e2989dce",
        "id": "RD0AIdxsR97S",
        "colab": {
          "base_uri": "https://localhost:8080/",
          "height": 34
        }
      },
      "source": [
        "grid_sgd.score(tfidf_val_X_extra, val_y_arr)"
      ],
      "execution_count": 185,
      "outputs": [
        {
          "output_type": "execute_result",
          "data": {
            "text/plain": [
              "0.7208321101017185"
            ]
          },
          "metadata": {
            "tags": []
          },
          "execution_count": 185
        }
      ]
    },
    {
      "cell_type": "code",
      "metadata": {
        "colab_type": "code",
        "outputId": "3b6eb84c-49d2-46a9-cb6f-e09b7dc1a14a",
        "id": "IBd7d2HHR97U",
        "colab": {
          "base_uri": "https://localhost:8080/",
          "height": 414
        }
      },
      "source": [
        "get_results(val_y_arr, val_pred, val_score)"
      ],
      "execution_count": 186,
      "outputs": [
        {
          "output_type": "stream",
          "text": [
            "au_roc score: 0.7208321101017185\n",
            "average precision score: 0.2104445473795132\n"
          ],
          "name": "stdout"
        },
        {
          "output_type": "display_data",
          "data": {
            "image/png": "[encoded data removed]",
            "text/plain": [
              "<Figure size 432x288 with 1 Axes>"
            ]
          },
          "metadata": {
            "tags": [],
            "needs_background": "light"
          }
        },
        {
          "output_type": "stream",
          "text": [
            "\n",
            "Confusion Matrix:\n",
            "                 predicted negative  predicted positive\n",
            "actual negative               20758               11512\n",
            "actual positive                1144                2504\n"
          ],
          "name": "stdout"
        }
      ]
    },
    {
      "cell_type": "markdown",
      "metadata": {
        "colab_type": "text",
        "id": "Y153-z4enimt"
      },
      "source": [
        "## linear SVM with tfidf_extra data - no early stopping"
      ]
    },
    {
      "cell_type": "code",
      "metadata": {
        "colab_type": "code",
        "id": "IHzu3OiAnimu",
        "colab": {}
      },
      "source": [
        "# create SGDclassifier object\n",
        "sgd = SGDClassifier()\n",
        "\n",
        "# create a dict where keys are param names and values are a list of values to try for that param\n",
        "grid_values = {'loss':['hinge', 'log'], \n",
        "               'penalty':['l2', 'l1', 'elasticnet'],\n",
        "               'alpha':[10**(-i) for i in range(6)],\n",
        "               'tol':[10**(-i) for i in range(2,5)],\n",
        "               'early_stopping':[False]\n",
        "               }\n",
        "\n",
        "# create gridSearch object specifying model, params to search over, the scoring metric\n",
        "grid_sgd = GridSearchCV(sgd, param_grid = grid_values, scoring = 'roc_auc')\n",
        "\n",
        "# fit on data\n",
        "start = time.time()\n",
        "grid_sgd.fit(tfidf_train_X_extra, train_y_ros_arr)\n",
        "print(time.time()-start)"
      ],
      "execution_count": 0,
      "outputs": []
    },
    {
      "cell_type": "code",
      "metadata": {
        "colab_type": "code",
        "outputId": "837892aa-dd0b-4595-ebbd-609558c641e7",
        "id": "oN9qiF76nimw",
        "colab": {
          "base_uri": "https://localhost:8080/",
          "height": 102
        }
      },
      "source": [
        "grid_sgd.best_params_"
      ],
      "execution_count": 84,
      "outputs": [
        {
          "output_type": "execute_result",
          "data": {
            "text/plain": [
              "{'alpha': 1e-05,\n",
              " 'early_stopping': False,\n",
              " 'loss': 'hinge',\n",
              " 'penalty': 'l2',\n",
              " 'tol': 0.0001}"
            ]
          },
          "metadata": {
            "tags": []
          },
          "execution_count": 84
        }
      ]
    },
    {
      "cell_type": "code",
      "metadata": {
        "colab_type": "code",
        "outputId": "12510495-65f0-4906-c48b-eb0a0ca66994",
        "id": "OvPXqAsVnimz",
        "colab": {
          "base_uri": "https://localhost:8080/",
          "height": 34
        }
      },
      "source": [
        "# Mean cross-validated score of the best_estimator\n",
        "grid_sgd.best_score_"
      ],
      "execution_count": 85,
      "outputs": [
        {
          "output_type": "execute_result",
          "data": {
            "text/plain": [
              "0.7022842707632334"
            ]
          },
          "metadata": {
            "tags": []
          },
          "execution_count": 85
        }
      ]
    },
    {
      "cell_type": "code",
      "metadata": {
        "colab_type": "code",
        "id": "gwu2MdNXnim2",
        "colab": {}
      },
      "source": [
        "# evalute the best model on the actual validation set\n",
        "val_pred = grid_sgd.predict(tfidf_val_X_extra)\n",
        "# this returns a ndarray of shape (n_samples, )\n",
        "\n",
        "# predict the confidence score for our validation set\n",
        "val_score = grid_sgd.decision_function(tfidf_val_X_extra)\n",
        "# this returns a ndarray of shape (n_samples, )"
      ],
      "execution_count": 0,
      "outputs": []
    },
    {
      "cell_type": "code",
      "metadata": {
        "id": "tcP3-IXGo1R1",
        "colab_type": "code",
        "colab": {
          "base_uri": "https://localhost:8080/",
          "height": 34
        },
        "outputId": "07e95411-7d45-4109-cc14-1d451785e474"
      },
      "source": [
        "grid_sgd.score(tfidf_val_X_extra, val_y_arr)"
      ],
      "execution_count": 87,
      "outputs": [
        {
          "output_type": "execute_result",
          "data": {
            "text/plain": [
              "0.7212520777948125"
            ]
          },
          "metadata": {
            "tags": []
          },
          "execution_count": 87
        }
      ]
    },
    {
      "cell_type": "code",
      "metadata": {
        "colab_type": "code",
        "outputId": "c5d1ed58-6419-45fb-f165-5b0b39a49d5b",
        "id": "j59Y7sbjnim3",
        "colab": {
          "base_uri": "https://localhost:8080/",
          "height": 414
        }
      },
      "source": [
        "get_results(val_y_arr, val_pred, val_score)"
      ],
      "execution_count": 89,
      "outputs": [
        {
          "output_type": "stream",
          "text": [
            "au_roc score: 0.7212520777948125\n",
            "average precision score: 0.21040369066123873\n"
          ],
          "name": "stdout"
        },
        {
          "output_type": "display_data",
          "data": {
            "image/png": "[encoded data removed]",
            "text/plain": [
              "<Figure size 432x288 with 1 Axes>"
            ]
          },
          "metadata": {
            "tags": [],
            "needs_background": "light"
          }
        },
        {
          "output_type": "stream",
          "text": [
            "\n",
            "Confusion Matrix:\n",
            "                 predicted negative  predicted positive\n",
            "actual negative               20992               11278\n",
            "actual positive                1180                2468\n"
          ],
          "name": "stdout"
        }
      ]
    },
    {
      "cell_type": "markdown",
      "metadata": {
        "colab_type": "text",
        "id": "KiLa7HAK9fKa"
      },
      "source": [
        "## poly SVM with tfidf_extra data - early stopping"
      ]
    },
    {
      "cell_type": "code",
      "metadata": {
        "id": "NeTIUk4DNxYf",
        "colab_type": "code",
        "colab": {
          "base_uri": "https://localhost:8080/",
          "height": 119
        },
        "outputId": "8317bb58-94f0-4265-e9f2-966c911c8c10"
      },
      "source": [
        "best_params2"
      ],
      "execution_count": 60,
      "outputs": [
        {
          "output_type": "execute_result",
          "data": {
            "text/plain": [
              "{'auc': 0.7176280290272862,\n",
              " 'coef0': 1,\n",
              " 'degree': 2,\n",
              " 'gamma': 1,\n",
              " 'kernel': 'poly',\n",
              " 'n_components': 600}"
            ]
          },
          "metadata": {
            "tags": []
          },
          "execution_count": 60
        }
      ]
    },
    {
      "cell_type": "markdown",
      "metadata": {
        "id": "RNb1d7Zm9vyX",
        "colab_type": "text"
      },
      "source": [
        "`best_param2 = {'auc': 0.7176280290272862,\n",
        " 'coef0': 1,\n",
        " 'degree': 2,\n",
        " 'gamma': 1,\n",
        " 'kernel': 'poly',\n",
        " 'n_components': 600}`"
      ]
    },
    {
      "cell_type": "code",
      "metadata": {
        "colab_type": "code",
        "id": "Luqzesuf9rq7",
        "colab": {}
      },
      "source": [
        "# initialize kernel object for use \n",
        "poly_kernel = Nystroem(kernel='poly',\n",
        "                       coef0=1,\n",
        "                       gamma=1,\n",
        "                       degree = 2,\n",
        "                       random_state=1,\n",
        "                       n_components=600)"
      ],
      "execution_count": 0,
      "outputs": []
    },
    {
      "cell_type": "code",
      "metadata": {
        "colab_type": "code",
        "id": "uCsynA5G9rq9",
        "colab": {
          "base_uri": "https://localhost:8080/",
          "height": 34
        },
        "outputId": "4ffe1ea9-9e84-419b-d64b-d8d4d57efbc8"
      },
      "source": [
        "# kernel transform our input data, so for both train and validation\n",
        "start = time.time()\n",
        "tfidf_train_X_extra_poly = poly_kernel.fit_transform(tfidf_train_X_extra)\n",
        "tfidf_val_X_extra_poly = poly_kernel.transform(tfidf_val_X_extra)\n",
        "print(time.time()-start)"
      ],
      "execution_count": 64,
      "outputs": [
        {
          "output_type": "stream",
          "text": [
            "33.023457527160645\n"
          ],
          "name": "stdout"
        }
      ]
    },
    {
      "cell_type": "code",
      "metadata": {
        "colab_type": "code",
        "outputId": "08da5db8-411a-4cda-cf78-6831fc9e12c2",
        "id": "HPjEnpXJ9rrB",
        "colab": {
          "base_uri": "https://localhost:8080/",
          "height": 34
        }
      },
      "source": [
        "tfidf_train_X_extra_poly.shape"
      ],
      "execution_count": 65,
      "outputs": [
        {
          "output_type": "execute_result",
          "data": {
            "text/plain": [
              "(450110, 600)"
            ]
          },
          "metadata": {
            "tags": []
          },
          "execution_count": 65
        }
      ]
    },
    {
      "cell_type": "code",
      "metadata": {
        "colab_type": "code",
        "id": "p_jCWNbK9fKb",
        "colab": {
          "base_uri": "https://localhost:8080/",
          "height": 34
        },
        "outputId": "b661efba-ae45-43b5-f764-0b75179a9ba1"
      },
      "source": [
        "# create SGDclassifier object\n",
        "sgd = SGDClassifier()\n",
        "\n",
        "# create a dict where keys are param names and values are a list of values to try for that param\n",
        "grid_values = {'loss':['hinge', 'log'], \n",
        "               'penalty':['l2', 'l1', 'elasticnet'],\n",
        "               'alpha':[10**(-i) for i in range(6)],\n",
        "               'tol':[10**(-i) for i in range(2,5)],\n",
        "               'early_stopping':[True]\n",
        "               }\n",
        "\n",
        "# create gridSearch object specifying model, params to search over, the scoring metric\n",
        "grid_sgd = GridSearchCV(sgd, param_grid = grid_values, scoring = 'roc_auc')\n",
        "\n",
        "start = time.time()\n",
        "# fit on data\n",
        "grid_sgd.fit(tfidf_train_X_extra_poly, train_y_ros_arr)\n",
        "\n",
        "print('time:',time.time()-start)\n",
        "\n",
        "# time: 7827"
      ],
      "execution_count": 66,
      "outputs": [
        {
          "output_type": "stream",
          "text": [
            "time: 7826.69792842865\n"
          ],
          "name": "stdout"
        }
      ]
    },
    {
      "cell_type": "code",
      "metadata": {
        "colab_type": "code",
        "outputId": "003ffd15-3299-4ba4-a24c-acb05ae8ae9f",
        "id": "18hI8AL_9fKe",
        "colab": {
          "base_uri": "https://localhost:8080/",
          "height": 102
        }
      },
      "source": [
        "grid_sgd.best_params_"
      ],
      "execution_count": 67,
      "outputs": [
        {
          "output_type": "execute_result",
          "data": {
            "text/plain": [
              "{'alpha': 0.001,\n",
              " 'early_stopping': True,\n",
              " 'loss': 'hinge',\n",
              " 'penalty': 'l2',\n",
              " 'tol': 0.01}"
            ]
          },
          "metadata": {
            "tags": []
          },
          "execution_count": 67
        }
      ]
    },
    {
      "cell_type": "code",
      "metadata": {
        "id": "YjwiWVVK_x1n",
        "colab_type": "code",
        "colab": {}
      },
      "source": [
        ""
      ],
      "execution_count": 0,
      "outputs": []
    },
    {
      "cell_type": "markdown",
      "metadata": {
        "colab_type": "text",
        "id": "jkuUQqg6_yGe"
      },
      "source": [
        "### in-sample score"
      ]
    },
    {
      "cell_type": "code",
      "metadata": {
        "colab_type": "code",
        "outputId": "c91aa3b0-76bc-4446-d97d-d8a1ca30f57c",
        "id": "kWrInLIB_yGf",
        "colab": {
          "base_uri": "https://localhost:8080/",
          "height": 34
        }
      },
      "source": [
        "# Mean cross-validated score of the best_estimator\n",
        "grid_sgd.best_score_"
      ],
      "execution_count": 96,
      "outputs": [
        {
          "output_type": "execute_result",
          "data": {
            "text/plain": [
              "0.7009612785273793"
            ]
          },
          "metadata": {
            "tags": []
          },
          "execution_count": 96
        }
      ]
    },
    {
      "cell_type": "code",
      "metadata": {
        "colab_type": "code",
        "outputId": "9f1ff377-9198-4801-a8d5-b8de5e785376",
        "id": "0yfGxqDV_yGj",
        "colab": {
          "base_uri": "https://localhost:8080/",
          "height": 34
        }
      },
      "source": [
        "# this is the same as the following\n",
        "# which proves that grid score does use y_score to calculate and return auROC score\n",
        "# and that it does use this correct auROC score to select the best model\n",
        "print('this is the training AUC! not the validation:',grid_sgd.score(tfidf_train_X_extra_poly, train_y_ros_arr))"
      ],
      "execution_count": 98,
      "outputs": [
        {
          "output_type": "stream",
          "text": [
            "this is the training AUC! not the validation: 0.7200914329927277\n"
          ],
          "name": "stdout"
        }
      ]
    },
    {
      "cell_type": "code",
      "metadata": {
        "colab_type": "code",
        "outputId": "411ffe69-8620-4f1f-b865-33f9a420cffa",
        "id": "EkxN9neX_yGl",
        "colab": {
          "base_uri": "https://localhost:8080/",
          "height": 414
        }
      },
      "source": [
        "# evalute the best model on the actual validation set\n",
        "train_pred = grid_sgd.predict(tfidf_train_X_extra_poly)\n",
        "# this returns a ndarray of shape (n_samples, )\n",
        "\n",
        "# predict the confidence score for our validation set\n",
        "train_score = grid_sgd.decision_function(tfidf_train_X_extra_poly)\n",
        "# this returns a ndarray of shape (n_samples, )\n",
        "\n",
        "get_results(train_y_ros_arr, train_pred, train_score)"
      ],
      "execution_count": 99,
      "outputs": [
        {
          "output_type": "stream",
          "text": [
            "au_roc score: 0.7200914329927277\n",
            "average precision score: 0.6954322016579289\n"
          ],
          "name": "stdout"
        },
        {
          "output_type": "display_data",
          "data": {
            "image/png": "[encoded data removed]",
            "text/plain": [
              "<Figure size 432x288 with 1 Axes>"
            ]
          },
          "metadata": {
            "tags": [],
            "needs_background": "light"
          }
        },
        {
          "output_type": "stream",
          "text": [
            "\n",
            "Confusion Matrix:\n",
            "                 predicted negative  predicted positive\n",
            "actual negative              139873               85182\n",
            "actual positive               66666              158389\n"
          ],
          "name": "stdout"
        }
      ]
    },
    {
      "cell_type": "code",
      "metadata": {
        "id": "gtBiO0oRAUA6",
        "colab_type": "code",
        "colab": {
          "base_uri": "https://localhost:8080/",
          "height": 34
        },
        "outputId": "37edbd37-9261-457e-d30b-d1deed514efd"
      },
      "source": [
        "train_score.min()"
      ],
      "execution_count": 100,
      "outputs": [
        {
          "output_type": "execute_result",
          "data": {
            "text/plain": [
              "-6.655746523095762"
            ]
          },
          "metadata": {
            "tags": []
          },
          "execution_count": 100
        }
      ]
    },
    {
      "cell_type": "code",
      "metadata": {
        "id": "RbCkwUwIAWzQ",
        "colab_type": "code",
        "colab": {
          "base_uri": "https://localhost:8080/",
          "height": 34
        },
        "outputId": "605cd0a0-ff72-4d96-d297-14460f59102d"
      },
      "source": [
        "train_score.max()"
      ],
      "execution_count": 101,
      "outputs": [
        {
          "output_type": "execute_result",
          "data": {
            "text/plain": [
              "3.1000317526562124"
            ]
          },
          "metadata": {
            "tags": []
          },
          "execution_count": 101
        }
      ]
    },
    {
      "cell_type": "markdown",
      "metadata": {
        "id": "sEDFTkCMAYzR",
        "colab_type": "text"
      },
      "source": [
        "From this, we can see that the most confident negative classes (real reviews) gets a score of about -6, and the most confident positive classes (fake reviews) gets a score of about 3."
      ]
    },
    {
      "cell_type": "markdown",
      "metadata": {
        "id": "LJA0DEcK_7DZ",
        "colab_type": "text"
      },
      "source": [
        "### out-of-sample validation score"
      ]
    },
    {
      "cell_type": "code",
      "metadata": {
        "id": "9y05XwjOGBlp",
        "colab_type": "code",
        "colab": {
          "base_uri": "https://localhost:8080/",
          "height": 34
        },
        "outputId": "b9158e06-c834-4418-e71d-1487faffd9f4"
      },
      "source": [
        "grid_sgd.score(tfidf_val_X_extra_poly, val_y_arr)"
      ],
      "execution_count": 93,
      "outputs": [
        {
          "output_type": "execute_result",
          "data": {
            "text/plain": [
              "0.7128204059837772"
            ]
          },
          "metadata": {
            "tags": []
          },
          "execution_count": 93
        }
      ]
    },
    {
      "cell_type": "code",
      "metadata": {
        "colab_type": "code",
        "id": "nypS4qER9fKk",
        "colab": {}
      },
      "source": [
        "# evalute the best model on the actual validation set\n",
        "val_pred = grid_sgd.predict(tfidf_val_X_extra_poly)\n",
        "# this returns a ndarray of shape (n_samples, )\n",
        "\n",
        "val_score = grid_sgd.decision_function(tfidf_val_X_extra_poly)"
      ],
      "execution_count": 0,
      "outputs": []
    },
    {
      "cell_type": "code",
      "metadata": {
        "id": "TlL57v6k6VI9",
        "colab_type": "code",
        "colab": {
          "base_uri": "https://localhost:8080/",
          "height": 414
        },
        "outputId": "40cf2763-bd7e-4ab4-fe18-7d7a9a0722d0"
      },
      "source": [
        "get_results(val_y_arr, val_pred, val_score)"
      ],
      "execution_count": 71,
      "outputs": [
        {
          "output_type": "stream",
          "text": [
            "au_roc score: 0.7128204059837772\n",
            "average precision score: 0.20649173448703173\n"
          ],
          "name": "stdout"
        },
        {
          "output_type": "display_data",
          "data": {
            "image/png": "[encoded data removed]",
            "text/plain": [
              "<Figure size 432x288 with 1 Axes>"
            ]
          },
          "metadata": {
            "tags": [],
            "needs_background": "light"
          }
        },
        {
          "output_type": "stream",
          "text": [
            "\n",
            "Confusion Matrix:\n",
            "                 predicted negative  predicted positive\n",
            "actual negative               16503               15767\n",
            "actual positive                 770                2878\n"
          ],
          "name": "stdout"
        }
      ]
    },
    {
      "cell_type": "code",
      "metadata": {
        "id": "N57FrDX40WAI",
        "colab_type": "code",
        "colab": {
          "base_uri": "https://localhost:8080/",
          "height": 34
        },
        "outputId": "6f2fd167-ecd0-4c25-a69f-3a6b41667ee7"
      },
      "source": [
        "val_score.min()"
      ],
      "execution_count": 94,
      "outputs": [
        {
          "output_type": "execute_result",
          "data": {
            "text/plain": [
              "-6.731194620429169"
            ]
          },
          "metadata": {
            "tags": []
          },
          "execution_count": 94
        }
      ]
    },
    {
      "cell_type": "code",
      "metadata": {
        "id": "ABNrIp9s5kpu",
        "colab_type": "code",
        "colab": {
          "base_uri": "https://localhost:8080/",
          "height": 34
        },
        "outputId": "f8e4e3e9-ab49-42d1-e23a-0d52f2f4da6a"
      },
      "source": [
        "val_score.max()"
      ],
      "execution_count": 95,
      "outputs": [
        {
          "output_type": "execute_result",
          "data": {
            "text/plain": [
              "3.0629565067229017"
            ]
          },
          "metadata": {
            "tags": []
          },
          "execution_count": 95
        }
      ]
    },
    {
      "cell_type": "markdown",
      "metadata": {
        "id": "XmWfsRmw-uOa",
        "colab_type": "text"
      },
      "source": [
        "Based on this, we see that the `decision_score` ranges varies and is not a probability."
      ]
    },
    {
      "cell_type": "markdown",
      "metadata": {
        "id": "H5MZkhyP_Mqn",
        "colab_type": "text"
      },
      "source": [
        "# Best model re-fit"
      ]
    },
    {
      "cell_type": "code",
      "metadata": {
        "colab_type": "code",
        "id": "nlwS1vBKLz5R",
        "colab": {}
      },
      "source": [
        "# create SGDclassifier object using the best model\n",
        "sgd = SGDClassifier(random_state=1,\n",
        "                    alpha = 1e-05,\n",
        "                    early_stopping = True,\n",
        "                    loss = 'hinge',\n",
        "                    penalty = 'l2',\n",
        "                    tol = 0.01)"
      ],
      "execution_count": 0,
      "outputs": []
    },
    {
      "cell_type": "code",
      "metadata": {
        "colab_type": "code",
        "outputId": "b2679d64-89ef-4e21-9250-87b6e45cb32d",
        "id": "4Uu6UwMELz5T",
        "colab": {
          "base_uri": "https://localhost:8080/",
          "height": 119
        }
      },
      "source": [
        "# fit the model to our training data\n",
        "sgd.fit(tfidf_train_X_extra, train_y_ros_arr)"
      ],
      "execution_count": 50,
      "outputs": [
        {
          "output_type": "execute_result",
          "data": {
            "text/plain": [
              "SGDClassifier(alpha=1e-05, average=False, class_weight=None,\n",
              "              early_stopping=True, epsilon=0.1, eta0=0.0, fit_intercept=True,\n",
              "              l1_ratio=0.15, learning_rate='optimal', loss='hinge',\n",
              "              max_iter=1000, n_iter_no_change=5, n_jobs=None, penalty='l2',\n",
              "              power_t=0.5, random_state=1, shuffle=True, tol=0.01,\n",
              "              validation_fraction=0.1, verbose=0, warm_start=False)"
            ]
          },
          "metadata": {
            "tags": []
          },
          "execution_count": 50
        }
      ]
    },
    {
      "cell_type": "markdown",
      "metadata": {
        "colab_type": "text",
        "id": "_wW3rxCzN8IB"
      },
      "source": [
        "### in-sample score"
      ]
    },
    {
      "cell_type": "code",
      "metadata": {
        "colab_type": "code",
        "outputId": "e135bdb4-6060-4797-f836-e80c2c629786",
        "id": "efAVtEhgN8II",
        "colab": {
          "base_uri": "https://localhost:8080/",
          "height": 414
        }
      },
      "source": [
        "# evalute the best model on the actual validation set\n",
        "train_pred = sgd.predict(tfidf_train_X_extra)\n",
        "# this returns a ndarray of shape (n_samples, )\n",
        "\n",
        "# predict the confidence score for our validation set\n",
        "train_score = sgd.decision_function(tfidf_train_X_extra)\n",
        "# this returns a ndarray of shape (n_samples, )\n",
        "\n",
        "get_results(train_y_ros_arr, train_pred, train_score)"
      ],
      "execution_count": 54,
      "outputs": [
        {
          "output_type": "stream",
          "text": [
            "au_roc score: 0.8023525107307272\n",
            "average precision score: 0.7677805388621346\n"
          ],
          "name": "stdout"
        },
        {
          "output_type": "display_data",
          "data": {
            "image/png": "[encoded data removed]",
            "text/plain": [
              "<Figure size 432x288 with 1 Axes>"
            ]
          },
          "metadata": {
            "tags": [],
            "needs_background": "light"
          }
        },
        {
          "output_type": "stream",
          "text": [
            "\n",
            "Confusion Matrix:\n",
            "                 predicted negative  predicted positive\n",
            "actual negative              152825               72230\n",
            "actual positive               47910              177145\n"
          ],
          "name": "stdout"
        }
      ]
    },
    {
      "cell_type": "code",
      "metadata": {
        "colab_type": "code",
        "outputId": "c1e6ab6a-33d0-4332-a00d-ec60688b9284",
        "id": "atA15NvaN8IL",
        "colab": {
          "base_uri": "https://localhost:8080/",
          "height": 34
        }
      },
      "source": [
        "train_score.min()"
      ],
      "execution_count": 55,
      "outputs": [
        {
          "output_type": "execute_result",
          "data": {
            "text/plain": [
              "-4.909897584901556"
            ]
          },
          "metadata": {
            "tags": []
          },
          "execution_count": 55
        }
      ]
    },
    {
      "cell_type": "code",
      "metadata": {
        "colab_type": "code",
        "outputId": "d66572ce-e1c8-45e9-8446-0cdaf92bbe1e",
        "id": "SbeLwWWyN8IN",
        "colab": {
          "base_uri": "https://localhost:8080/",
          "height": 34
        }
      },
      "source": [
        "train_score.max()"
      ],
      "execution_count": 56,
      "outputs": [
        {
          "output_type": "execute_result",
          "data": {
            "text/plain": [
              "3.8197461965827713"
            ]
          },
          "metadata": {
            "tags": []
          },
          "execution_count": 56
        }
      ]
    },
    {
      "cell_type": "markdown",
      "metadata": {
        "colab_type": "text",
        "id": "IDD5LqgON8IP"
      },
      "source": [
        "From this, we can see that the most confident negative classes (real reviews) gets a score of about -5, and the most confident positive classes (fake reviews) gets a score of about 3."
      ]
    },
    {
      "cell_type": "markdown",
      "metadata": {
        "id": "SZ9VjtexOGaR",
        "colab_type": "text"
      },
      "source": [
        "## out-of-sample validation score"
      ]
    },
    {
      "cell_type": "code",
      "metadata": {
        "colab_type": "code",
        "id": "sqfuCdhoLz5W",
        "colab": {}
      },
      "source": [
        "# predict the labels for our validation set\n",
        "val_pred = sgd.predict(tfidf_val_X_extra)\n",
        "# this returns a ndarray of shape (n_samples, )\n",
        "\n",
        "# predict the confidence score for our validation set\n",
        "val_score = sgd.decision_function(tfidf_val_X_extra)\n",
        "# this returns a ndarray of shape (n_samples, )"
      ],
      "execution_count": 0,
      "outputs": []
    },
    {
      "cell_type": "code",
      "metadata": {
        "colab_type": "code",
        "outputId": "880bf79e-2479-4b02-85aa-3adb19253f9f",
        "id": "s5xe_v48Lz5c",
        "colab": {
          "base_uri": "https://localhost:8080/",
          "height": 414
        }
      },
      "source": [
        "get_results(val_y_arr, val_pred, val_score)"
      ],
      "execution_count": 57,
      "outputs": [
        {
          "output_type": "stream",
          "text": [
            "au_roc score: 0.7199134631589821\n",
            "average precision score: 0.20832265867692162\n"
          ],
          "name": "stdout"
        },
        {
          "output_type": "display_data",
          "data": {
            "image/png": "[encoded data removed]",
            "text/plain": [
              "<Figure size 432x288 with 1 Axes>"
            ]
          },
          "metadata": {
            "tags": [],
            "needs_background": "light"
          }
        },
        {
          "output_type": "stream",
          "text": [
            "\n",
            "Confusion Matrix:\n",
            "                 predicted negative  predicted positive\n",
            "actual negative               21156               11114\n",
            "actual positive                1222                2426\n"
          ],
          "name": "stdout"
        }
      ]
    },
    {
      "cell_type": "markdown",
      "metadata": {
        "id": "aO3-5lp8M4-v",
        "colab_type": "text"
      },
      "source": [
        "## reinforced validation score"
      ]
    },
    {
      "cell_type": "code",
      "metadata": {
        "id": "V21IitbHOTq5",
        "colab_type": "code",
        "colab": {}
      },
      "source": [
        "# reinforce the decision function score using dummy classifier\n",
        "val_score[fake_rows] = 4\n",
        "val_score[good_rows] = -6"
      ],
      "execution_count": 0,
      "outputs": []
    },
    {
      "cell_type": "code",
      "metadata": {
        "id": "eeCijlwzO46d",
        "colab_type": "code",
        "colab": {
          "base_uri": "https://localhost:8080/",
          "height": 414
        },
        "outputId": "2e5e9e3c-7f92-4aa8-dbc1-2f25c5604db4"
      },
      "source": [
        "get_results(val_y_arr, val_pred, val_score)"
      ],
      "execution_count": 68,
      "outputs": [
        {
          "output_type": "stream",
          "text": [
            "au_roc score: 0.9122019434771855\n",
            "average precision score: 0.6085882870103728\n"
          ],
          "name": "stdout"
        },
        {
          "output_type": "display_data",
          "data": {
            "image/png": "[encoded data removed]",
            "text/plain": [
              "<Figure size 432x288 with 1 Axes>"
            ]
          },
          "metadata": {
            "tags": [],
            "needs_background": "light"
          }
        },
        {
          "output_type": "stream",
          "text": [
            "\n",
            "Confusion Matrix:\n",
            "                 predicted negative  predicted positive\n",
            "actual negative               21156               11114\n",
            "actual positive                1222                2426\n"
          ],
          "name": "stdout"
        }
      ]
    },
    {
      "cell_type": "code",
      "metadata": {
        "id": "Def3ilddXdhp",
        "colab_type": "code",
        "colab": {}
      },
      "source": [
        ""
      ],
      "execution_count": 0,
      "outputs": []
    }
  ]
}