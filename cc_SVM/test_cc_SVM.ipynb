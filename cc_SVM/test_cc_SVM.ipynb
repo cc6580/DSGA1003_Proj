{
  "nbformat": 4,
  "nbformat_minor": 0,
  "metadata": {
    "kernelspec": {
      "display_name": "Python 3",
      "language": "python",
      "name": "python3"
    },
    "language_info": {
      "codemirror_mode": {
        "name": "ipython",
        "version": 3
      },
      "file_extension": ".py",
      "mimetype": "text/x-python",
      "name": "python",
      "nbconvert_exporter": "python",
      "pygments_lexer": "ipython3",
      "version": "3.7.4"
    },
    "colab": {
      "name": "test_cc_SVM.ipynb",
      "provenance": [],
      "collapsed_sections": [],
      "toc_visible": true
    }
  },
  "cells": [
    {
      "cell_type": "code",
      "metadata": {
        "id": "aVgpIdSR4mge",
        "colab_type": "code",
        "outputId": "f00cf5ee-af3d-44de-9035-40b6d544b671",
        "colab": {
          "base_uri": "https://localhost:8080/",
          "height": 122
        }
      },
      "source": [
        "from google.colab import drive\n",
        "drive.mount('/content/drive')"
      ],
      "execution_count": 1,
      "outputs": [
        {
          "output_type": "stream",
          "text": [
            "Go to this URL in a browser: https://accounts.google.com/o/oauth2/auth?client_id=947318989803-6bn6qk8qdgf4n4g3pfee6491hc0brc4i.apps.googleusercontent.com&redirect_uri=urn%3aietf%3awg%3aoauth%3a2.0%3aoob&response_type=code&scope=email%20https%3a%2f%2fwww.googleapis.com%2fauth%2fdocs.test%20https%3a%2f%2fwww.googleapis.com%2fauth%2fdrive%20https%3a%2f%2fwww.googleapis.com%2fauth%2fdrive.photos.readonly%20https%3a%2f%2fwww.googleapis.com%2fauth%2fpeopleapi.readonly\n",
            "\n",
            "Enter your authorization code:\n",
            "··········\n",
            "Mounted at /content/drive\n"
          ],
          "name": "stdout"
        }
      ]
    },
    {
      "cell_type": "code",
      "metadata": {
        "id": "himCzV8M4kiM",
        "colab_type": "code",
        "colab": {}
      },
      "source": [
        "import os.path\n",
        "import numpy as np\n",
        "import pandas as pd\n",
        "import matplotlib.pyplot as plt\n",
        "from scipy import sparse\n",
        "import time"
      ],
      "execution_count": 0,
      "outputs": []
    },
    {
      "cell_type": "markdown",
      "metadata": {
        "id": "jnB6odKe4kic",
        "colab_type": "text"
      },
      "source": [
        "# load preprocessed data"
      ]
    },
    {
      "cell_type": "code",
      "metadata": {
        "id": "jr5yfBo34kie",
        "colab_type": "code",
        "colab": {}
      },
      "source": [
        "# load pre-processed data\n",
        "# replace with local file-path if you're running on local python shell\n",
        "train_X= pd.read_csv('/content/drive/My Drive/1003 project - Yelp fake review/train_X.csv')\n",
        "train_y= pd.read_csv('/content/drive/My Drive/1003 project - Yelp fake review/train_y.csv')\n",
        "val_X = pd.read_csv('/content/drive/My Drive/1003 project - Yelp fake review/val_X.csv')\n",
        "val_y = pd.read_csv('/content/drive/My Drive/1003 project - Yelp fake review/val_y.csv')\n"
      ],
      "execution_count": 0,
      "outputs": []
    },
    {
      "cell_type": "markdown",
      "metadata": {
        "id": "k2FCwrb-YIzz",
        "colab_type": "text"
      },
      "source": [
        "**remember, for the final test, train_val is our train, and test is our val**"
      ]
    },
    {
      "cell_type": "code",
      "metadata": {
        "id": "EMcJCc4N4kip",
        "colab_type": "code",
        "colab": {}
      },
      "source": [
        "train_X = pd.concat((train_X, val_X), axis=0).reset_index(drop=True)\n",
        "train_y = pd.concat((train_y, val_y), axis=0).reset_index(drop=True)\n",
        "\n",
        "val_X = pd.read_csv('/content/drive/My Drive/1003 project - Yelp fake review/test_X.csv')"
      ],
      "execution_count": 0,
      "outputs": []
    },
    {
      "cell_type": "markdown",
      "metadata": {
        "id": "TgeP5qC1CBoC",
        "colab_type": "text"
      },
      "source": [
        "Note that right now, the cleaned reviews are byte strings instead of normal strings, hence the `b' '` enclosing the string.\n"
      ]
    },
    {
      "cell_type": "code",
      "metadata": {
        "id": "3bFd6yZr4kix",
        "colab_type": "code",
        "colab": {}
      },
      "source": [
        "#add 2 new features: text length and word length. These are probably be useful\n",
        "train_X['text length'] = train_X['review'].apply(len)\n",
        "train_X['word length'] = train_X['review'].apply(lambda x: len(x.split(\" \"))) \n",
        "\n",
        "val_X['text length'] = val_X['review'].apply(len)\n",
        "val_X['word length'] = val_X['review'].apply(lambda x: len(x.split(\" \")))\n",
        "\n",
        "# text length: the number of characters (including white spaces) in the string\n",
        "# word length: the number of words in the string"
      ],
      "execution_count": 0,
      "outputs": []
    },
    {
      "cell_type": "code",
      "metadata": {
        "id": "rrN-w8uT5Dpq",
        "colab_type": "code",
        "outputId": "9742b2d0-270a-4093-aaa3-b099c100a9d9",
        "colab": {
          "base_uri": "https://localhost:8080/",
          "height": 306
        }
      },
      "source": [
        "train_X.head()"
      ],
      "execution_count": 25,
      "outputs": [
        {
          "output_type": "execute_result",
          "data": {
            "text/html": [
              "<div>\n",
              "<style scoped>\n",
              "    .dataframe tbody tr th:only-of-type {\n",
              "        vertical-align: middle;\n",
              "    }\n",
              "\n",
              "    .dataframe tbody tr th {\n",
              "        vertical-align: top;\n",
              "    }\n",
              "\n",
              "    .dataframe thead th {\n",
              "        text-align: right;\n",
              "    }\n",
              "</style>\n",
              "<table border=\"1\" class=\"dataframe\">\n",
              "  <thead>\n",
              "    <tr style=\"text-align: right;\">\n",
              "      <th></th>\n",
              "      <th>ex_id</th>\n",
              "      <th>user_id</th>\n",
              "      <th>prod_id</th>\n",
              "      <th>rating</th>\n",
              "      <th>date</th>\n",
              "      <th>review</th>\n",
              "      <th>cleaned review</th>\n",
              "      <th>text length</th>\n",
              "      <th>word length</th>\n",
              "    </tr>\n",
              "  </thead>\n",
              "  <tbody>\n",
              "    <tr>\n",
              "      <th>0</th>\n",
              "      <td>0</td>\n",
              "      <td>923</td>\n",
              "      <td>0</td>\n",
              "      <td>3.0</td>\n",
              "      <td>2014-12-08</td>\n",
              "      <td>The food at snack is a selection of popular Gr...</td>\n",
              "      <td>b'the food snack select popular greek dish the...</td>\n",
              "      <td>215</td>\n",
              "      <td>40</td>\n",
              "    </tr>\n",
              "    <tr>\n",
              "      <th>1</th>\n",
              "      <td>1</td>\n",
              "      <td>924</td>\n",
              "      <td>0</td>\n",
              "      <td>3.0</td>\n",
              "      <td>2013-05-16</td>\n",
              "      <td>This little place in Soho is wonderful. I had ...</td>\n",
              "      <td>b'this littl place soho wonder lamb sandwich g...</td>\n",
              "      <td>269</td>\n",
              "      <td>52</td>\n",
              "    </tr>\n",
              "    <tr>\n",
              "      <th>2</th>\n",
              "      <td>2</td>\n",
              "      <td>925</td>\n",
              "      <td>0</td>\n",
              "      <td>4.0</td>\n",
              "      <td>2013-07-01</td>\n",
              "      <td>ordered lunch for 15 from Snack last Friday.  ...</td>\n",
              "      <td>b'order lunch snack last friday time noth miss...</td>\n",
              "      <td>178</td>\n",
              "      <td>32</td>\n",
              "    </tr>\n",
              "    <tr>\n",
              "      <th>3</th>\n",
              "      <td>3</td>\n",
              "      <td>926</td>\n",
              "      <td>0</td>\n",
              "      <td>4.0</td>\n",
              "      <td>2011-07-28</td>\n",
              "      <td>This is a beautiful quaint little restaurant o...</td>\n",
              "      <td>b'this beauti quaint littl restaur pretti stre...</td>\n",
              "      <td>491</td>\n",
              "      <td>90</td>\n",
              "    </tr>\n",
              "    <tr>\n",
              "      <th>4</th>\n",
              "      <td>4</td>\n",
              "      <td>927</td>\n",
              "      <td>0</td>\n",
              "      <td>4.0</td>\n",
              "      <td>2010-11-01</td>\n",
              "      <td>Snack is great place for a  casual sit down lu...</td>\n",
              "      <td>b'snack great place casual sit especi cold win...</td>\n",
              "      <td>596</td>\n",
              "      <td>102</td>\n",
              "    </tr>\n",
              "  </tbody>\n",
              "</table>\n",
              "</div>"
            ],
            "text/plain": [
              "   ex_id  user_id  ...  text length  word length\n",
              "0      0      923  ...          215           40\n",
              "1      1      924  ...          269           52\n",
              "2      2      925  ...          178           32\n",
              "3      3      926  ...          491           90\n",
              "4      4      927  ...          596          102\n",
              "\n",
              "[5 rows x 9 columns]"
            ]
          },
          "metadata": {
            "tags": []
          },
          "execution_count": 25
        }
      ]
    },
    {
      "cell_type": "code",
      "metadata": {
        "id": "rXVBARaiAoe9",
        "colab_type": "code",
        "outputId": "cd1bd116-9d4f-4c0a-d9be-a72e16ffcae1",
        "colab": {
          "base_uri": "https://localhost:8080/",
          "height": 34
        }
      },
      "source": [
        "val_X.shape"
      ],
      "execution_count": 26,
      "outputs": [
        {
          "output_type": "execute_result",
          "data": {
            "text/plain": [
              "(72165, 10)"
            ]
          },
          "metadata": {
            "tags": []
          },
          "execution_count": 26
        }
      ]
    },
    {
      "cell_type": "code",
      "metadata": {
        "id": "7aWeGoYvZN1D",
        "colab_type": "code",
        "colab": {
          "base_uri": "https://localhost:8080/",
          "height": 34
        },
        "outputId": "9defbe19-7a91-49a0-a530-f6aa7af828e6"
      },
      "source": [
        "train_X.shape"
      ],
      "execution_count": 27,
      "outputs": [
        {
          "output_type": "execute_result",
          "data": {
            "text/plain": [
              "(286792, 9)"
            ]
          },
          "metadata": {
            "tags": []
          },
          "execution_count": 27
        }
      ]
    },
    {
      "cell_type": "code",
      "metadata": {
        "id": "HyUnvRDIZP9u",
        "colab_type": "code",
        "colab": {
          "base_uri": "https://localhost:8080/",
          "height": 34
        },
        "outputId": "bdf23a7c-a5e3-499f-d7d8-7f682db25950"
      },
      "source": [
        "train_y.shape"
      ],
      "execution_count": 28,
      "outputs": [
        {
          "output_type": "execute_result",
          "data": {
            "text/plain": [
              "(286792, 1)"
            ]
          },
          "metadata": {
            "tags": []
          },
          "execution_count": 28
        }
      ]
    },
    {
      "cell_type": "markdown",
      "metadata": {
        "id": "9_e91-FhFcB-",
        "colab_type": "text"
      },
      "source": [
        "## create good and fake user sets"
      ]
    },
    {
      "cell_type": "code",
      "metadata": {
        "id": "NZa6KsaVFkuE",
        "colab_type": "code",
        "colab": {}
      },
      "source": [
        "# piece the X and label together\n",
        "train = pd.concat((train_X, train_y), axis=1)\n"
      ],
      "execution_count": 0,
      "outputs": []
    },
    {
      "cell_type": "code",
      "metadata": {
        "id": "8Wkkbqm3F9b_",
        "colab_type": "code",
        "colab": {}
      },
      "source": [
        "# create a dictionary where \n",
        "  # the key is each unique user_id in the trianing set\n",
        "  # the value is their average label score rounded to 3 digits\n",
        "user_dict = round(train.groupby('user_id')['label'].mean(), 3).to_dict()\n"
      ],
      "execution_count": 0,
      "outputs": []
    },
    {
      "cell_type": "code",
      "metadata": {
        "id": "sDrw3GNBGn7R",
        "colab_type": "code",
        "colab": {}
      },
      "source": [
        "# an average label value of 1 means the user always leaves fake reviews, and gets added to the fake_user list\n",
        "# an average label value of 0 means the user always leaves real revies, and gets added to the good_user list\n",
        "\n",
        "fake_user=[]\n",
        "good_user=[]\n",
        "\n",
        "for k in user_dict.keys():\n",
        "  if user_dict[k] == 1:\n",
        "    fake_user.append(k)\n",
        "  if user_dict[k] == 0:\n",
        "    good_user.append(k)\n"
      ],
      "execution_count": 0,
      "outputs": []
    },
    {
      "cell_type": "code",
      "metadata": {
        "id": "IgbVZOazHbh3",
        "colab_type": "code",
        "colab": {}
      },
      "source": [
        "# a list of row indices in the val set that corresponds to a review left by a fake user\n",
        "fake_rows = val_X['user_id'][val_X['user_id'].isin(fake_user)].index.tolist()\n",
        "\n",
        "# a list of row indices that corresponds to a review left by a good user\n",
        "good_rows = val_X['user_id'][val_X['user_id'].isin(good_user)].index.tolist()\n"
      ],
      "execution_count": 0,
      "outputs": []
    },
    {
      "cell_type": "markdown",
      "metadata": {
        "id": "TjwstAFs4ki4",
        "colab_type": "text"
      },
      "source": [
        "# resampling train set only"
      ]
    },
    {
      "cell_type": "code",
      "metadata": {
        "id": "ldYuVUqpxcF4",
        "colab_type": "code",
        "colab": {}
      },
      "source": [
        "from imblearn.over_sampling import RandomOverSampler, SMOTE, ADASYN"
      ],
      "execution_count": 0,
      "outputs": []
    },
    {
      "cell_type": "markdown",
      "metadata": {
        "id": "NoSEbwyyw_T8",
        "colab_type": "text"
      },
      "source": [
        "## ros upsample"
      ]
    },
    {
      "cell_type": "code",
      "metadata": {
        "id": "fV5PuJ0S5MRm",
        "colab_type": "code",
        "colab": {}
      },
      "source": [
        "# create a raondom sampler object from the class\n",
        "ros = RandomOverSampler(random_state=0)"
      ],
      "execution_count": 0,
      "outputs": []
    },
    {
      "cell_type": "code",
      "metadata": {
        "id": "Sqw4RzX35wD6",
        "colab_type": "code",
        "outputId": "4a2a5c2a-5c01-4e5f-bfc4-da25bf8b5d8c",
        "colab": {
          "base_uri": "https://localhost:8080/",
          "height": 105
        }
      },
      "source": [
        "# create re-sampled data from the original data\n",
        "# The augmented data set should be used instead of the original data set to train a classifier\n",
        "train_X_ros, train_y_ros = ros.fit_sample(train_X, train_y)"
      ],
      "execution_count": 35,
      "outputs": [
        {
          "output_type": "stream",
          "text": [
            "/usr/local/lib/python3.6/dist-packages/sklearn/utils/validation.py:760: DataConversionWarning: A column-vector y was passed when a 1d array was expected. Please change the shape of y to (n_samples, ), for example using ravel().\n",
            "  y = column_or_1d(y, warn=True)\n",
            "/usr/local/lib/python3.6/dist-packages/sklearn/utils/deprecation.py:87: FutureWarning: Function safe_indexing is deprecated; safe_indexing is deprecated in version 0.22 and will be removed in version 0.24.\n",
            "  warnings.warn(msg, category=FutureWarning)\n"
          ],
          "name": "stderr"
        }
      ]
    },
    {
      "cell_type": "code",
      "metadata": {
        "id": "zMlwxuG06iNu",
        "colab_type": "code",
        "colab": {}
      },
      "source": [
        "# on local python shell, the trian_X_ros after oversampling is still DataFrame\n",
        "# But on colab version it turned to array, so we need to change it back to a pd.df\n",
        "train_X_ros = pd.DataFrame(train_X_ros, columns = ['ex_id','user_id','prod_id','rating','date','review','cleaned review','text length','word length'])\n",
        "train_y_ros = pd.DataFrame(train_y_ros, columns = ['label'])"
      ],
      "execution_count": 0,
      "outputs": []
    },
    {
      "cell_type": "code",
      "metadata": {
        "id": "z4G-GQwi6OdO",
        "colab_type": "code",
        "outputId": "7e8fe839-4d8a-4b4d-afb7-9ae8d8ecc485",
        "colab": {
          "base_uri": "https://localhost:8080/",
          "height": 102
        }
      },
      "source": [
        "print('pre-upsampling genuine cases: ',train_y[train_y['label'] == 0].shape[0])\n",
        "print('post-upsampling genuine cases: ',train_y_ros[train_y_ros['label'] == 0].shape[0])\n",
        "print()\n",
        "print('pre-upsampling fake cases: ',train_y[train_y['label'] == 1].shape[0])\n",
        "print('post-upsampling fake cases: ',train_y_ros[train_y_ros['label'] == 1].shape[0])"
      ],
      "execution_count": 37,
      "outputs": [
        {
          "output_type": "stream",
          "text": [
            "pre-upsampling genuine cases:  257325\n",
            "post-upsampling genuine cases:  257325\n",
            "\n",
            "pre-upsampling fake cases:  29467\n",
            "post-upsampling fake cases:  257325\n"
          ],
          "name": "stdout"
        }
      ]
    },
    {
      "cell_type": "markdown",
      "metadata": {
        "id": "DC6Ii70j6Ry9",
        "colab_type": "text"
      },
      "source": [
        "now, the number of fake reviews is the same as the number of genuine reviews. We have fixed the class-imbalance issue."
      ]
    },
    {
      "cell_type": "markdown",
      "metadata": {
        "id": "qJh0e-9e7esx",
        "colab_type": "text"
      },
      "source": [
        "# Text to vector conversion"
      ]
    },
    {
      "cell_type": "markdown",
      "metadata": {
        "id": "bXMPfVQhLPDX",
        "colab_type": "text"
      },
      "source": [
        "## 3 extra feature columns for train and validation"
      ]
    },
    {
      "cell_type": "code",
      "metadata": {
        "id": "OVptceIhd2BG",
        "colab_type": "code",
        "colab": {}
      },
      "source": [
        "# let's add the additional features to the training matrix\n",
        "train_extra = np.array(train_X_ros[['text length','word length','rating']], dtype=float)\n",
        "\n",
        "# normalize the extra features\n",
        "train_extra_min = train_extra.min(axis = 0) # get the min value for each column\n",
        "train_extra_max = train_extra.max(axis = 0) # get the max value for each column\n",
        "train_extra = (train_extra - train_extra_min)/(train_extra_max-train_extra_min) # normalize each column to be between 0~1\n"
      ],
      "execution_count": 0,
      "outputs": []
    },
    {
      "cell_type": "code",
      "metadata": {
        "id": "U_5-2WuDhCvj",
        "colab_type": "code",
        "colab": {}
      },
      "source": [
        "# do the same for the validation X data\n",
        "\n",
        "# let's add the additional features to the validation matrix\n",
        "val_extra = np.array(val_X[['text length','word length','rating']], dtype=float)\n",
        "\n",
        "# normalize the extra features\n",
        "val_extra_min = val_extra.min(axis = 0) # get the min value for each column\n",
        "val_extra_max = val_extra.max(axis = 0) # get the max value for each column\n",
        "val_extra = (val_extra - val_extra_min)/(val_extra_max-val_extra_min) # normalize each column to be between 0~1\n",
        "\n"
      ],
      "execution_count": 0,
      "outputs": []
    },
    {
      "cell_type": "markdown",
      "metadata": {
        "id": "klJl21buxqD7",
        "colab_type": "text"
      },
      "source": [
        "## TF-IDF"
      ]
    },
    {
      "cell_type": "markdown",
      "metadata": {
        "id": "gCTVUO0FiUjI",
        "colab_type": "text"
      },
      "source": [
        "From the linear SVM implementation below, we can see that our `au_roc` score is very poor, almost the same as our Naive Bayes baseline model. We can guess that is because our word-vectors are not linearly separable in their 70000+ dimension space. Can we try to use TF-IDF and present them as vectors in a different way that makes the vectors more separable? This is why we want to try to use TF-IDF to represent our text. "
      ]
    },
    {
      "cell_type": "markdown",
      "metadata": {
        "id": "Hmisl-nkivpq",
        "colab_type": "text"
      },
      "source": [
        "TF-IDF is an acronym than stands for “Term Frequency — Inverse Document” Frequency which are the components of the resulting scores assigned to each word. \n",
        "\n",
        "Term Frequency: This summarizes how often a given word appears within a document.\n",
        "\n",
        "Inverse Document Frequency: This down scales words that appear a lot across documents."
      ]
    },
    {
      "cell_type": "code",
      "metadata": {
        "id": "-koVuewBmhJj",
        "colab_type": "code",
        "colab": {}
      },
      "source": [
        "from sklearn.feature_extraction.text import TfidfVectorizer"
      ],
      "execution_count": 0,
      "outputs": []
    },
    {
      "cell_type": "code",
      "metadata": {
        "id": "GEe-zguXlmcm",
        "colab_type": "code",
        "colab": {}
      },
      "source": [
        "# create an object from class\n",
        "# by default, TfidfVectorizer uses ’utf-8’ as the encoding to decode byte texts, which is the encoding used in our processed text\n",
        "tfidf_vect = TfidfVectorizer()"
      ],
      "execution_count": 0,
      "outputs": []
    },
    {
      "cell_type": "code",
      "metadata": {
        "id": "8NteSDG2wGBz",
        "colab_type": "code",
        "colab": {}
      },
      "source": [
        "# # learn (fit) the vocab dictionry from the entire data! not just the train!\n",
        "# tfidf_vect.fit(pd.concat([train_X_ros['cleaned review'], val_X['cleaned review']]))"
      ],
      "execution_count": 0,
      "outputs": []
    },
    {
      "cell_type": "code",
      "metadata": {
        "id": "eyRjxPMqmsQX",
        "colab_type": "code",
        "colab": {}
      },
      "source": [
        "# learn (fit) the vocab dictionry and vetorize (transform) each review\n",
        "tfidf_train_X = tfidf_vect.fit_transform(train_X_ros['cleaned review'])\n",
        "# this returns a sparse matrix where each row represent a review\n",
        "# this is no longer a dataframe!"
      ],
      "execution_count": 0,
      "outputs": []
    },
    {
      "cell_type": "code",
      "metadata": {
        "id": "3YapQrqRnlP1",
        "colab_type": "code",
        "outputId": "ee6164ae-bd79-497a-bd6b-eac9bed33be3",
        "colab": {
          "base_uri": "https://localhost:8080/",
          "height": 51
        }
      },
      "source": [
        "tfidf_train_X"
      ],
      "execution_count": 44,
      "outputs": [
        {
          "output_type": "execute_result",
          "data": {
            "text/plain": [
              "<514650x78888 sparse matrix of type '<class 'numpy.float64'>'\n",
              "\twith 22808222 stored elements in Compressed Sparse Row format>"
            ]
          },
          "metadata": {
            "tags": []
          },
          "execution_count": 44
        }
      ]
    },
    {
      "cell_type": "markdown",
      "metadata": {
        "id": "7d50V-aMns7r",
        "colab_type": "text"
      },
      "source": [
        "We can see that the matrix has the number of reviews as rows and 73944 unique words in all reviews, same as our BoW of course.\n",
        "\n",
        "we also have to trasnform our validation set but be careful, we cannot train the vectorizer on the validation set, because after training, our model only knows how to classify inputs that has the same # of features. So if we had fit our vectorizer on the validation set, it might result in a matrix with different numbers of features."
      ]
    },
    {
      "cell_type": "code",
      "metadata": {
        "id": "WH_8CWQxn1tt",
        "colab_type": "code",
        "colab": {}
      },
      "source": [
        "tfidf_val_X = tfidf_vect.transform(val_X['cleaned review'])"
      ],
      "execution_count": 0,
      "outputs": []
    },
    {
      "cell_type": "code",
      "metadata": {
        "id": "GoBMZLuFo_er",
        "colab_type": "code",
        "outputId": "807c140a-03ec-4e18-87b5-c183c849a735",
        "colab": {
          "base_uri": "https://localhost:8080/",
          "height": 51
        }
      },
      "source": [
        "tfidf_val_X"
      ],
      "execution_count": 46,
      "outputs": [
        {
          "output_type": "execute_result",
          "data": {
            "text/plain": [
              "<72165x78888 sparse matrix of type '<class 'numpy.float64'>'\n",
              "\twith 3654958 stored elements in Compressed Sparse Row format>"
            ]
          },
          "metadata": {
            "tags": []
          },
          "execution_count": 46
        }
      ]
    },
    {
      "cell_type": "markdown",
      "metadata": {
        "id": "c0jO7BLvpBU8",
        "colab_type": "text"
      },
      "source": [
        "Similarly, add the 3 additioanl feature columns to the sparse matrix for both train and validation input."
      ]
    },
    {
      "cell_type": "code",
      "metadata": {
        "id": "S_MChQCpsCYE",
        "colab_type": "code",
        "outputId": "dcc30d3f-8fb9-4f97-ae34-e4454b83bd47",
        "colab": {
          "base_uri": "https://localhost:8080/",
          "height": 51
        }
      },
      "source": [
        "# add these columns to our tfidf matrix, remember to keep the sparse format\n",
        "tfidf_train_X_extra = sparse.hstack((tfidf_train_X, train_extra))\n",
        "tfidf_train_X_extra"
      ],
      "execution_count": 47,
      "outputs": [
        {
          "output_type": "execute_result",
          "data": {
            "text/plain": [
              "<514650x78891 sparse matrix of type '<class 'numpy.float64'>'\n",
              "\twith 24316659 stored elements in COOrdinate format>"
            ]
          },
          "metadata": {
            "tags": []
          },
          "execution_count": 47
        }
      ]
    },
    {
      "cell_type": "code",
      "metadata": {
        "id": "ItLtF6zmsL4e",
        "colab_type": "code",
        "outputId": "def394f9-fce6-4d90-f44c-d1c5271747ea",
        "colab": {
          "base_uri": "https://localhost:8080/",
          "height": 51
        }
      },
      "source": [
        "# add these columns to our tfidf matrix, remember to keep the sparse format\n",
        "tfidf_val_X_extra = sparse.hstack((tfidf_val_X, val_extra))\n",
        "tfidf_val_X_extra"
      ],
      "execution_count": 48,
      "outputs": [
        {
          "output_type": "execute_result",
          "data": {
            "text/plain": [
              "<72165x78891 sparse matrix of type '<class 'numpy.float64'>'\n",
              "\twith 3868576 stored elements in COOrdinate format>"
            ]
          },
          "metadata": {
            "tags": []
          },
          "execution_count": 48
        }
      ]
    },
    {
      "cell_type": "markdown",
      "metadata": {
        "id": "dqLhhjIoBffZ",
        "colab_type": "text"
      },
      "source": [
        "# Best linear model (SVM) training"
      ]
    },
    {
      "cell_type": "code",
      "metadata": {
        "id": "PfgqzC5RJP1M",
        "colab_type": "code",
        "colab": {}
      },
      "source": [
        "from sklearn.svm import SVC\n",
        "from sklearn.linear_model import SGDClassifier\n",
        "from sklearn.metrics import roc_curve, auc, roc_auc_score, average_precision_score, confusion_matrix\n",
        "from sklearn.kernel_approximation import Nystroem"
      ],
      "execution_count": 0,
      "outputs": []
    },
    {
      "cell_type": "code",
      "metadata": {
        "id": "AQHNqrSBXgHU",
        "colab_type": "code",
        "outputId": "a5f15dbc-9db2-42f2-cf1a-66db8ffa58d5",
        "colab": {
          "base_uri": "https://localhost:8080/",
          "height": 51
        }
      },
      "source": [
        "# change the y-labels from dataframe to ndarray of shape (n_samples, ) for model inputs\n",
        "train_y_ros_arr = np.array(train_y_ros['label'])\n",
        "print(train_y_ros_arr.shape)\n",
        "\n",
        "val_y_arr = np.array(val_y['label'])\n",
        "print(val_y_arr.shape)"
      ],
      "execution_count": 50,
      "outputs": [
        {
          "output_type": "stream",
          "text": [
            "(514650,)\n",
            "(35918,)\n"
          ],
          "name": "stdout"
        }
      ]
    },
    {
      "cell_type": "code",
      "metadata": {
        "id": "iCiuZqinn9fr",
        "colab_type": "code",
        "colab": {}
      },
      "source": [
        "# create a function to print all the results in one place\n",
        "\n",
        "def get_results(y_true, y_pred, y_score):\n",
        "  '''\n",
        "  Params:\n",
        "  -------------------------------------\n",
        "  y_true: ndarray of shape (n_samples, ) of true class labels \\n\n",
        "  y_pred: ndarray of shape (n_samples, ) of predicted class labels used for confusion matrix \\n\n",
        "  y_score: ndarray of shape (n_samples, ) of predicted confidence scores used for au_ROC and AP \n",
        "  '''\n",
        "\n",
        "  print('au_roc score:', roc_auc_score(y_true, y_score))\n",
        "  print('average precision score:', average_precision_score(y_true, y_score))\n",
        "\n",
        "  plt.plot([0, 1], [0, 1], 'k--')\n",
        "  plt.xlim([0.0, 1.0])\n",
        "  plt.ylim([0.0, 1.0])\n",
        "  plt.xlabel('FPR')\n",
        "  plt.ylabel('TPR')\n",
        "  plt.title('ROC')\n",
        "\n",
        "  fpr, tpr, thresholds = roc_curve(y_true, y_score)\n",
        "  curve = plt.plot(fpr, tpr, label = 'SVM' + ' (AUC = %0.3f)' % roc_auc_score(y_true, y_score))\n",
        "  plt.legend(loc='center left', bbox_to_anchor=(1, 0.5))\n",
        "\n",
        "  plt.show()\n",
        "\n",
        "  print()\n",
        "  print('Confusion Matrix:')\n",
        "  print(pd.DataFrame(confusion_matrix(y_true, y_pred), index=['actual negative', 'actual positive'], \n",
        "             columns=['predicted negative', 'predicted positive']))\n",
        "  \n",
        "  return"
      ],
      "execution_count": 0,
      "outputs": []
    },
    {
      "cell_type": "code",
      "metadata": {
        "colab_type": "code",
        "id": "nlwS1vBKLz5R",
        "colab": {}
      },
      "source": [
        "# create SGDclassifier object using the best model\n",
        "sgd = SGDClassifier(random_state=1,\n",
        "                    alpha = 1e-05,\n",
        "                    early_stopping = True,\n",
        "                    loss = 'hinge',\n",
        "                    penalty = 'l2',\n",
        "                    tol = 0.01)"
      ],
      "execution_count": 0,
      "outputs": []
    },
    {
      "cell_type": "code",
      "metadata": {
        "colab_type": "code",
        "outputId": "a01e2cb5-eab8-4b15-89bb-8f7942fa32a1",
        "id": "4Uu6UwMELz5T",
        "colab": {
          "base_uri": "https://localhost:8080/",
          "height": 119
        }
      },
      "source": [
        "# fit the model to our training data\n",
        "sgd.fit(tfidf_train_X_extra, train_y_ros_arr)"
      ],
      "execution_count": 53,
      "outputs": [
        {
          "output_type": "execute_result",
          "data": {
            "text/plain": [
              "SGDClassifier(alpha=1e-05, average=False, class_weight=None,\n",
              "              early_stopping=True, epsilon=0.1, eta0=0.0, fit_intercept=True,\n",
              "              l1_ratio=0.15, learning_rate='optimal', loss='hinge',\n",
              "              max_iter=1000, n_iter_no_change=5, n_jobs=None, penalty='l2',\n",
              "              power_t=0.5, random_state=1, shuffle=True, tol=0.01,\n",
              "              validation_fraction=0.1, verbose=0, warm_start=False)"
            ]
          },
          "metadata": {
            "tags": []
          },
          "execution_count": 53
        }
      ]
    },
    {
      "cell_type": "markdown",
      "metadata": {
        "colab_type": "text",
        "id": "_wW3rxCzN8IB"
      },
      "source": [
        "### in-sample score"
      ]
    },
    {
      "cell_type": "code",
      "metadata": {
        "colab_type": "code",
        "outputId": "e4312feb-e924-45b7-f996-38defc9587e5",
        "id": "efAVtEhgN8II",
        "colab": {
          "base_uri": "https://localhost:8080/",
          "height": 414
        }
      },
      "source": [
        "# evalute the best model on the actual validation set\n",
        "train_pred = sgd.predict(tfidf_train_X_extra)\n",
        "# this returns a ndarray of shape (n_samples, )\n",
        "\n",
        "# predict the confidence score for our validation set\n",
        "train_score = sgd.decision_function(tfidf_train_X_extra)\n",
        "# this returns a ndarray of shape (n_samples, )\n",
        "\n",
        "get_results(train_y_ros_arr, train_pred, train_score)"
      ],
      "execution_count": 54,
      "outputs": [
        {
          "output_type": "stream",
          "text": [
            "au_roc score: 0.7967371591953546\n",
            "average precision score: 0.7631734804122228\n"
          ],
          "name": "stdout"
        },
        {
          "output_type": "display_data",
          "data": {
            "image/png": "[encoded data removed]",
            "text/plain": [
              "<Figure size 432x288 with 1 Axes>"
            ]
          },
          "metadata": {
            "tags": [],
            "needs_background": "light"
          }
        },
        {
          "output_type": "stream",
          "text": [
            "\n",
            "Confusion Matrix:\n",
            "                 predicted negative  predicted positive\n",
            "actual negative              180918               76407\n",
            "actual positive               63235              194090\n"
          ],
          "name": "stdout"
        }
      ]
    },
    {
      "cell_type": "code",
      "metadata": {
        "colab_type": "code",
        "outputId": "2908f26e-0840-4ab1-b902-ef721c76ee77",
        "id": "atA15NvaN8IL",
        "colab": {
          "base_uri": "https://localhost:8080/",
          "height": 34
        }
      },
      "source": [
        "train_score.min()"
      ],
      "execution_count": 55,
      "outputs": [
        {
          "output_type": "execute_result",
          "data": {
            "text/plain": [
              "-5.005579303592162"
            ]
          },
          "metadata": {
            "tags": []
          },
          "execution_count": 55
        }
      ]
    },
    {
      "cell_type": "code",
      "metadata": {
        "colab_type": "code",
        "outputId": "e75ac648-095d-4716-ffe2-849a2e63f13b",
        "id": "SbeLwWWyN8IN",
        "colab": {
          "base_uri": "https://localhost:8080/",
          "height": 34
        }
      },
      "source": [
        "train_score.max()"
      ],
      "execution_count": 56,
      "outputs": [
        {
          "output_type": "execute_result",
          "data": {
            "text/plain": [
              "3.4172370620524637"
            ]
          },
          "metadata": {
            "tags": []
          },
          "execution_count": 56
        }
      ]
    },
    {
      "cell_type": "markdown",
      "metadata": {
        "colab_type": "text",
        "id": "IDD5LqgON8IP"
      },
      "source": [
        "From this, we can see that the most confident negative classes (real reviews) gets a score of about -5, and the most confident positive classes (fake reviews) gets a score of about 3."
      ]
    },
    {
      "cell_type": "markdown",
      "metadata": {
        "id": "SZ9VjtexOGaR",
        "colab_type": "text"
      },
      "source": [
        "## out-of-sample decision score"
      ]
    },
    {
      "cell_type": "code",
      "metadata": {
        "colab_type": "code",
        "id": "sqfuCdhoLz5W",
        "colab": {}
      },
      "source": [
        "# predict the labels for our validation set\n",
        "val_pred = sgd.predict(tfidf_val_X_extra)\n",
        "# this returns a ndarray of shape (n_samples, )\n",
        "\n",
        "# predict the confidence score for our validation set\n",
        "val_score = sgd.decision_function(tfidf_val_X_extra)\n",
        "# this returns a ndarray of shape (n_samples, )"
      ],
      "execution_count": 0,
      "outputs": []
    },
    {
      "cell_type": "markdown",
      "metadata": {
        "id": "s5xe_v48Lz5c",
        "colab_type": "text"
      },
      "source": [
        "can't get validation evaluations b/c we don't have the tru labels now."
      ]
    },
    {
      "cell_type": "markdown",
      "metadata": {
        "id": "aO3-5lp8M4-v",
        "colab_type": "text"
      },
      "source": [
        "## reinforced validation score"
      ]
    },
    {
      "cell_type": "code",
      "metadata": {
        "id": "V21IitbHOTq5",
        "colab_type": "code",
        "colab": {}
      },
      "source": [
        "# reinforce the decision function score using dummy classifier\n",
        "val_score[fake_rows] = 4\n",
        "val_score[good_rows] = -6"
      ],
      "execution_count": 0,
      "outputs": []
    },
    {
      "cell_type": "code",
      "metadata": {
        "id": "eeCijlwzO46d",
        "colab_type": "code",
        "outputId": "d11ff3d3-0a46-4f57-de4a-4677ff06b854",
        "colab": {
          "base_uri": "https://localhost:8080/",
          "height": 51
        }
      },
      "source": [
        "val_score"
      ],
      "execution_count": 64,
      "outputs": [
        {
          "output_type": "execute_result",
          "data": {
            "text/plain": [
              "array([-0.87664237, -0.26399454, -6.        , ..., -6.        ,\n",
              "        0.05258996, -6.        ])"
            ]
          },
          "metadata": {
            "tags": []
          },
          "execution_count": 64
        }
      ]
    },
    {
      "cell_type": "code",
      "metadata": {
        "id": "WNb3aeZDblcT",
        "colab_type": "code",
        "colab": {
          "base_uri": "https://localhost:8080/",
          "height": 34
        },
        "outputId": "8ffbc786-727b-47d7-91d4-b0f300a64d33"
      },
      "source": [
        "val_score.shape"
      ],
      "execution_count": 72,
      "outputs": [
        {
          "output_type": "execute_result",
          "data": {
            "text/plain": [
              "(72165,)"
            ]
          },
          "metadata": {
            "tags": []
          },
          "execution_count": 72
        }
      ]
    },
    {
      "cell_type": "code",
      "metadata": {
        "id": "Def3ilddXdhp",
        "colab_type": "code",
        "colab": {}
      },
      "source": [
        "np.savetxt('/content/drive/My Drive/1003 project - Yelp fake review/cc_score.csv', val_score, \n",
        "           delimiter=\",\", header = ' ')"
      ],
      "execution_count": 0,
      "outputs": []
    },
    {
      "cell_type": "code",
      "metadata": {
        "id": "ZSf4h8h3bPuF",
        "colab_type": "code",
        "colab": {
          "base_uri": "https://localhost:8080/",
          "height": 419
        },
        "outputId": "990288a7-7068-49e0-a97f-4c5626a82b7b"
      },
      "source": [
        "final_score = pd.read_csv('/content/drive/My Drive/1003 project - Yelp fake review/cc_score.csv')\n",
        "final_score"
      ],
      "execution_count": 78,
      "outputs": [
        {
          "output_type": "execute_result",
          "data": {
            "text/html": [
              "<div>\n",
              "<style scoped>\n",
              "    .dataframe tbody tr th:only-of-type {\n",
              "        vertical-align: middle;\n",
              "    }\n",
              "\n",
              "    .dataframe tbody tr th {\n",
              "        vertical-align: top;\n",
              "    }\n",
              "\n",
              "    .dataframe thead th {\n",
              "        text-align: right;\n",
              "    }\n",
              "</style>\n",
              "<table border=\"1\" class=\"dataframe\">\n",
              "  <thead>\n",
              "    <tr style=\"text-align: right;\">\n",
              "      <th></th>\n",
              "      <th>#</th>\n",
              "    </tr>\n",
              "  </thead>\n",
              "  <tbody>\n",
              "    <tr>\n",
              "      <th>0</th>\n",
              "      <td>-0.876642</td>\n",
              "    </tr>\n",
              "    <tr>\n",
              "      <th>1</th>\n",
              "      <td>-0.263995</td>\n",
              "    </tr>\n",
              "    <tr>\n",
              "      <th>2</th>\n",
              "      <td>-6.000000</td>\n",
              "    </tr>\n",
              "    <tr>\n",
              "      <th>3</th>\n",
              "      <td>0.017421</td>\n",
              "    </tr>\n",
              "    <tr>\n",
              "      <th>4</th>\n",
              "      <td>-6.000000</td>\n",
              "    </tr>\n",
              "    <tr>\n",
              "      <th>...</th>\n",
              "      <td>...</td>\n",
              "    </tr>\n",
              "    <tr>\n",
              "      <th>72160</th>\n",
              "      <td>-6.000000</td>\n",
              "    </tr>\n",
              "    <tr>\n",
              "      <th>72161</th>\n",
              "      <td>-0.850368</td>\n",
              "    </tr>\n",
              "    <tr>\n",
              "      <th>72162</th>\n",
              "      <td>-6.000000</td>\n",
              "    </tr>\n",
              "    <tr>\n",
              "      <th>72163</th>\n",
              "      <td>0.052590</td>\n",
              "    </tr>\n",
              "    <tr>\n",
              "      <th>72164</th>\n",
              "      <td>-6.000000</td>\n",
              "    </tr>\n",
              "  </tbody>\n",
              "</table>\n",
              "<p>72165 rows × 1 columns</p>\n",
              "</div>"
            ],
            "text/plain": [
              "            #  \n",
              "0     -0.876642\n",
              "1     -0.263995\n",
              "2     -6.000000\n",
              "3      0.017421\n",
              "4     -6.000000\n",
              "...         ...\n",
              "72160 -6.000000\n",
              "72161 -0.850368\n",
              "72162 -6.000000\n",
              "72163  0.052590\n",
              "72164 -6.000000\n",
              "\n",
              "[72165 rows x 1 columns]"
            ]
          },
          "metadata": {
            "tags": []
          },
          "execution_count": 78
        }
      ]
    },
    {
      "cell_type": "code",
      "metadata": {
        "id": "NJfllkVobWnm",
        "colab_type": "code",
        "colab": {}
      },
      "source": [
        ""
      ],
      "execution_count": 0,
      "outputs": []
    }
  ]
}