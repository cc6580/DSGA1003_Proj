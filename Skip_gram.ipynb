{
  "nbformat": 4,
  "nbformat_minor": 0,
  "metadata": {
    "kernelspec": {
      "display_name": "Python 3",
      "language": "python",
      "name": "python3"
    },
    "language_info": {
      "codemirror_mode": {
        "name": "ipython",
        "version": 3
      },
      "file_extension": ".py",
      "mimetype": "text/x-python",
      "name": "python",
      "nbconvert_exporter": "python",
      "pygments_lexer": "ipython3",
      "version": "3.6.6"
    },
    "colab": {
      "name": "Skip-gram.ipynb",
      "provenance": [],
      "collapsed_sections": []
    }
  },
  "cells": [
    {
      "cell_type": "code",
      "metadata": {
        "id": "D8U7eU2mau1g",
        "colab_type": "code",
        "colab": {}
      },
      "source": [
        "import numpy as np\n",
        "import pandas as pd\n",
        "\n",
        "#import torch\n",
        "#import torch.nn as nn\n",
        "#import torch.nn.functional as F\n",
        "#import torchvision.models as models\n",
        "#from torchvision import transforms\n",
        "#from torch.utils.data import Dataset, DataLoader\n",
        "#import torch.optim as optim\n",
        "\n",
        "from sklearn import metrics\n",
        "\n",
        "from skimage import io, color\n",
        "\n",
        "import time\n",
        "import os\n",
        "import pickle\n",
        "\n",
        "import matplotlib.pyplot as plt\n",
        "#import scikitplot as skplt"
      ],
      "execution_count": 0,
      "outputs": []
    },
    {
      "cell_type": "code",
      "metadata": {
        "scrolled": true,
        "id": "w29-_b0Lau2A",
        "colab_type": "code",
        "colab": {}
      },
      "source": [
        "train_X = pd.read_csv('train_X.csv')\n",
        "train_y = pd.read_csv('train_y.csv')\n",
        "val_X = pd.read_csv('val_X.csv')\n",
        "val_y = pd.read_csv('val_y.csv')\n",
        "train = pd.read_csv('train.csv')\n",
        "val = pd.read_csv('dev.csv')"
      ],
      "execution_count": 0,
      "outputs": []
    },
    {
      "cell_type": "code",
      "metadata": {
        "id": "lcsdTrdKau4U",
        "colab_type": "code",
        "colab": {}
      },
      "source": [
        "from gensim.models import Word2Vec\n",
        "from gensim.models.phrases import Phrases, Phraser"
      ],
      "execution_count": 0,
      "outputs": []
    },
    {
      "cell_type": "code",
      "metadata": {
        "id": "tQ1GiZcVau4h",
        "colab_type": "code",
        "colab": {}
      },
      "source": [
        "sent = [row.split() for row in train_X['cleaned review']]\n",
        "phrases = Phrases(sent, min_count=30, progress_per=10000)\n",
        "sentences = phrases[sent]"
      ],
      "execution_count": 0,
      "outputs": []
    },
    {
      "cell_type": "code",
      "metadata": {
        "id": "xqVmCV8Eau4t",
        "colab_type": "code",
        "colab": {}
      },
      "source": [
        "import multiprocessing\n",
        "from gensim.models import Word2Vec"
      ],
      "execution_count": 0,
      "outputs": []
    },
    {
      "cell_type": "code",
      "metadata": {
        "id": "y7knZFVgau4z",
        "colab_type": "code",
        "colab": {}
      },
      "source": [
        "cores = multiprocessing.cpu_count()"
      ],
      "execution_count": 0,
      "outputs": []
    },
    {
      "cell_type": "code",
      "metadata": {
        "id": "QUG6mC28au45",
        "colab_type": "code",
        "outputId": "ab343541-cad3-4067-d6b2-ad736e427459",
        "colab": {}
      },
      "source": [
        "print(cores)"
      ],
      "execution_count": 0,
      "outputs": [
        {
          "output_type": "stream",
          "text": [
            "8\n"
          ],
          "name": "stdout"
        }
      ]
    },
    {
      "cell_type": "code",
      "metadata": {
        "id": "cGRYcVqTau5D",
        "colab_type": "code",
        "colab": {}
      },
      "source": [
        "w2v_model = Word2Vec(min_count=20,\n",
        "                     window=2,\n",
        "                     size=300,\n",
        "                     sample=6e-5, \n",
        "                     alpha=0.03, \n",
        "                     min_alpha=0.0007, \n",
        "                     negative=20,\n",
        "                     workers=cores-1,sg = 1)"
      ],
      "execution_count": 0,
      "outputs": []
    },
    {
      "cell_type": "code",
      "metadata": {
        "id": "4KtKxxk_au5J",
        "colab_type": "code",
        "colab": {}
      },
      "source": [
        "w2v_model.build_vocab(sentences, progress_per=10000)"
      ],
      "execution_count": 0,
      "outputs": []
    },
    {
      "cell_type": "code",
      "metadata": {
        "id": "zWR1Qyfaau5M",
        "colab_type": "code",
        "outputId": "7cae899f-bf4a-4422-e68a-98fc7f9490d9",
        "colab": {}
      },
      "source": [
        "w2v_model.train(sentences, total_examples=w2v_model.corpus_count, epochs=30, report_delay=1)"
      ],
      "execution_count": 0,
      "outputs": [
        {
          "output_type": "execute_result",
          "data": {
            "text/plain": [
              "(206254166, 431357850)"
            ]
          },
          "metadata": {
            "tags": []
          },
          "execution_count": 77
        }
      ]
    },
    {
      "cell_type": "code",
      "metadata": {
        "id": "HvanyGvuau5Q",
        "colab_type": "code",
        "colab": {}
      },
      "source": [
        "from gensim.models import KeyedVectors"
      ],
      "execution_count": 0,
      "outputs": []
    },
    {
      "cell_type": "code",
      "metadata": {
        "id": "NkIks3ONau5U",
        "colab_type": "code",
        "colab": {}
      },
      "source": [
        "#from gensim.test.utils import get_tmpfile\n",
        "#path = get_tmpfile(\"wordvectors.kv\")\n",
        "#w2v_model.wv.save(path)"
      ],
      "execution_count": 0,
      "outputs": []
    },
    {
      "cell_type": "code",
      "metadata": {
        "id": "-2of-jcBau5Y",
        "colab_type": "code",
        "colab": {}
      },
      "source": [
        "w2v_model.save(\"word2vec.model\")"
      ],
      "execution_count": 0,
      "outputs": []
    },
    {
      "cell_type": "code",
      "metadata": {
        "id": "QWqiaxVuau5c",
        "colab_type": "code",
        "colab": {}
      },
      "source": [
        "w2v_model.wv.save(\"model.wv\")"
      ],
      "execution_count": 0,
      "outputs": []
    },
    {
      "cell_type": "code",
      "metadata": {
        "id": "wTMV4a3nau5h",
        "colab_type": "code",
        "colab": {}
      },
      "source": [
        "wv = KeyedVectors.load(\"model.wv\", mmap='r')"
      ],
      "execution_count": 0,
      "outputs": []
    },
    {
      "cell_type": "code",
      "metadata": {
        "id": "gfsjZBSGau6I",
        "colab_type": "code",
        "colab": {}
      },
      "source": [
        "from imblearn.over_sampling import RandomOverSampler\n",
        "import numpy as np\n",
        "ros = RandomOverSampler()\n",
        "train_X_ros, train_y_ros = ros.fit_sample(train_X, np.array(train_y['label']))\n",
        "train_X_up = pd.DataFrame(train_X_ros, columns = ['ex_id','user_id','prod_id','rating','date','review','cleaned review'])\n",
        "train_y_up = pd.DataFrame(train_y_ros)\n",
        "from sklearn.feature_extraction.text import TfidfVectorizer\n",
        "vectorizer = TfidfVectorizer(max_features=10000,ngram_range=(1,2))\n",
        "vectorizer.fit(train_X_up['cleaned review'])\n",
        "features = vectorizer.get_feature_names()\n",
        "BoW_train_X = vectorizer.transform(train_X_up['cleaned review'])\n",
        "BoW_val_X = vectorizer.transform(val_X['cleaned review'])"
      ],
      "execution_count": 0,
      "outputs": []
    },
    {
      "cell_type": "code",
      "metadata": {
        "id": "At6HXvdTau5l",
        "colab_type": "code",
        "colab": {}
      },
      "source": [
        "sent = [row.split() for row in train_X_up['cleaned review']]\n",
        "phrases = Phrases(sent, min_count=30, progress_per=10000)\n",
        "sentences = phrases[sent]"
      ],
      "execution_count": 0,
      "outputs": []
    },
    {
      "cell_type": "code",
      "metadata": {
        "id": "hCvOQLzNau5p",
        "colab_type": "code",
        "colab": {}
      },
      "source": [
        "w2v_feature = []\n",
        "for s in sentences:\n",
        "    avg_embedding = np.zeros(300)\n",
        "    n = 0\n",
        "    for w in s:\n",
        "        if w in wv:\n",
        "            n=n+1\n",
        "            avg_embedding = avg_embedding+np.array(wv[w])\n",
        "    if n!=0:\n",
        "        avg_embedding = avg_embedding/n\n",
        "    w2v_feature.append(avg_embedding)"
      ],
      "execution_count": 0,
      "outputs": []
    },
    {
      "cell_type": "code",
      "metadata": {
        "id": "1hCi3Qh_au5v",
        "colab_type": "code",
        "colab": {}
      },
      "source": [
        "w2v_feature = np.array(w2v_feature)"
      ],
      "execution_count": 0,
      "outputs": []
    },
    {
      "cell_type": "code",
      "metadata": {
        "id": "P1Wu2sYaau5y",
        "colab_type": "code",
        "outputId": "de67583f-5ac4-46a8-d3ce-5078020ce7aa",
        "colab": {}
      },
      "source": [
        "w2v_feature.shape"
      ],
      "execution_count": 0,
      "outputs": [
        {
          "output_type": "execute_result",
          "data": {
            "text/plain": [
              "(450110, 300)"
            ]
          },
          "metadata": {
            "tags": []
          },
          "execution_count": 54
        }
      ]
    },
    {
      "cell_type": "code",
      "metadata": {
        "id": "jQVK-5BHau52",
        "colab_type": "code",
        "colab": {}
      },
      "source": [
        "sentval = [row.split() for row in val_X['cleaned review']]\n",
        "phrases = Phrases(sentval, min_count=30, progress_per=10000)\n",
        "sentencesval = phrases[sentval]"
      ],
      "execution_count": 0,
      "outputs": []
    },
    {
      "cell_type": "code",
      "metadata": {
        "id": "8ani9B2Uau56",
        "colab_type": "code",
        "colab": {}
      },
      "source": [
        "w2v_feature_val = []\n",
        "for s in sentencesval:\n",
        "    avg_embedding = np.zeros(300)\n",
        "    n=0\n",
        "    for w in s:\n",
        "        if w in wv:\n",
        "            n=n+1\n",
        "            avg_embedding = avg_embedding+np.array(wv[w])\n",
        "    if n!=0:\n",
        "        avg_embedding = avg_embedding/n\n",
        "    w2v_feature_val.append(avg_embedding)"
      ],
      "execution_count": 0,
      "outputs": []
    },
    {
      "cell_type": "code",
      "metadata": {
        "id": "d4WiKuKSau5-",
        "colab_type": "code",
        "outputId": "151f4116-f502-4f9a-a17a-24cf43bbc38c",
        "colab": {}
      },
      "source": [
        "w2v_feature_val = np.array(w2v_feature_val)\n",
        "w2v_feature_val.shape"
      ],
      "execution_count": 0,
      "outputs": [
        {
          "output_type": "execute_result",
          "data": {
            "text/plain": [
              "(35918, 300)"
            ]
          },
          "metadata": {
            "tags": []
          },
          "execution_count": 18
        }
      ]
    },
    {
      "cell_type": "code",
      "metadata": {
        "id": "qVSsYbPEau6E",
        "colab_type": "code",
        "colab": {}
      },
      "source": [
        "from scipy.sparse import csr_matrix\n",
        "w2v_feature_s = csr_matrix(w2v_feature)\n",
        "sparse.save_npz(\"w2v_feature_train.npz\", w2v_feature_s)\n",
        "w2v_feature_val_s = csr_matrix(w2v_feature_val)\n",
        "sparse.save_npz(\"w2v_feature_val.npz\", w2v_feature_val_s)"
      ],
      "execution_count": 0,
      "outputs": []
    },
    {
      "cell_type": "code",
      "metadata": {
        "id": "2AKKCg7Kau6f",
        "colab_type": "code",
        "colab": {}
      },
      "source": [
        "from sklearn.linear_model import LogisticRegression\n",
        "from sklearn import naive_bayes\n",
        "from sklearn.metrics import average_precision_score\n",
        "from sklearn.metrics import roc_curve, auc,roc_auc_score\n",
        "import matplotlib.pyplot as plt\n",
        "def trainlr(BoW_train_X,train_y,BoW_val_X,val_y):\n",
        "    lr = LogisticRegression(max_iter=20,C=0.15)\n",
        "\n",
        "    lr.fit(BoW_train_X, train_y)\n",
        "    preds_nb = lr.predict_proba(BoW_val_X)[:,1]\n",
        "    plt.plot([0, 1], [0, 1], 'k--')\n",
        "    plt.xlim([0.0, 1.0])\n",
        "    plt.ylim([0.0, 1.0])\n",
        "    plt.xlabel('FPR')\n",
        "    plt.ylabel('TPR')\n",
        "    plt.title('ROC')\n",
        "\n",
        "    nb_fpr, nb_tpr, nb_thresholds = roc_curve(val_y, preds_nb)\n",
        "    nb_roc_auc = auc(nb_fpr, nb_tpr)\n",
        "    ap = average_precision_score(val_y, preds_nb)\n",
        "    nb_curve = plt.plot(nb_fpr, nb_tpr, label = 'LR' + ' (AUC = %0.3f)' % \n",
        "                        roc_auc_score(val_y, preds_nb)+', (AP = %0.3f)' % ap)\n",
        "    plt.legend(loc='center left', bbox_to_anchor=(1, 0.5))\n",
        "\n",
        "    plt.show()\n",
        "    return ap,nb_roc_auc"
      ],
      "execution_count": 0,
      "outputs": []
    },
    {
      "cell_type": "code",
      "metadata": {
        "id": "rb5Pngo5au6p",
        "colab_type": "code",
        "outputId": "c7e5a3f9-215d-4be2-e21a-6d670fbfc2a2",
        "colab": {}
      },
      "source": [
        "trainlr(BoW_train_X,train_y_up,BoW_val_X,val_y)"
      ],
      "execution_count": 0,
      "outputs": [
        {
          "output_type": "stream",
          "text": [
            "C:\\Users\\xinme\\Anaconda2\\envs\\py3.6\\lib\\site-packages\\sklearn\\utils\\validation.py:760: DataConversionWarning: A column-vector y was passed when a 1d array was expected. Please change the shape of y to (n_samples, ), for example using ravel().\n",
            "  y = column_or_1d(y, warn=True)\n"
          ],
          "name": "stderr"
        },
        {
          "output_type": "display_data",
          "data": {
            "image/png": "[encoded data removed]",
            "text/plain": [
              "<Figure size 432x288 with 1 Axes>"
            ]
          },
          "metadata": {
            "tags": [],
            "needs_background": "light"
          }
        },
        {
          "output_type": "execute_result",
          "data": {
            "text/plain": [
              "(0.2174017916633686, 0.7295204481852681)"
            ]
          },
          "metadata": {
            "tags": []
          },
          "execution_count": 48
        }
      ]
    },
    {
      "cell_type": "code",
      "metadata": {
        "id": "IFqilow9au6t",
        "colab_type": "code",
        "outputId": "2a3733f8-6960-44f8-db02-a5b4134fe25b",
        "colab": {}
      },
      "source": [
        "trainlr(w2v_feature,train_y,w2v_feature_val,val_y)"
      ],
      "execution_count": 0,
      "outputs": [
        {
          "output_type": "stream",
          "text": [
            "C:\\Users\\xinme\\Anaconda2\\envs\\py3.6\\lib\\site-packages\\sklearn\\utils\\validation.py:760: DataConversionWarning: A column-vector y was passed when a 1d array was expected. Please change the shape of y to (n_samples, ), for example using ravel().\n",
            "  y = column_or_1d(y, warn=True)\n"
          ],
          "name": "stderr"
        },
        {
          "output_type": "display_data",
          "data": {
            "image/png": "[encoded data removed]",
            "text/plain": [
              "<Figure size 432x288 with 1 Axes>"
            ]
          },
          "metadata": {
            "tags": [],
            "needs_background": "light"
          }
        },
        {
          "output_type": "execute_result",
          "data": {
            "text/plain": [
              "(0.20188168298476056, 0.713936188593773)"
            ]
          },
          "metadata": {
            "tags": []
          },
          "execution_count": 141
        }
      ]
    }
  ]
}