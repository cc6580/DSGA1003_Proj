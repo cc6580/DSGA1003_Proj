{
 "cells": [
  {
   "cell_type": "code",
   "execution_count": 1,
   "metadata": {},
   "outputs": [],
   "source": [
    "import os.path\n",
    "import pandas as pd\n",
    "from pathlib import Path\n",
    "\n",
    "def read_data(debug=False):\n",
    "    '''Helper procedure to load dataset.\n",
    "    \n",
    "    Returns\n",
    "    -------\n",
    "    Four pandas dataframes:\n",
    "        train_X, val_X, train_y, val_y\n",
    "    '''\n",
    "#     train = \"/content/drive/My Drive/1003 project/train.csv\"\n",
    "#     val = \"/content/drive/My Drive/1003 project/dev.csv\"\n",
    "    train = 'train.csv'\n",
    "    val = 'dev.csv'\n",
    "    \n",
    "    if debug:\n",
    "        print(\"inside read_data\")\n",
    "    \n",
    "    try:\n",
    "        train_df = pd.read_csv(train)\n",
    "        val_df = pd.read_csv(val)\n",
    "    except:\n",
    "        try:\n",
    "            if debug:\n",
    "                print(\"try\")\n",
    "            data_folder = Path(os.path.dirname(__file__).replace('src', 'data'))\n",
    "        except:\n",
    "            if debug:\n",
    "                print(\"except\")\n",
    "            data_folder = Path(os.path.abspath('').replace('src', 'data'))\n",
    "        finally:\n",
    "            if debug: \n",
    "                print(\"finally\")\n",
    "            train = data_folder / \"train.csv\"\n",
    "            val = data_folder / \"dev.csv\"\n",
    "            train_df = pd.read_csv(train)\n",
    "            val_df = pd.read_csv(val)\n",
    "    \n",
    "    if debug:\n",
    "        print(\"past try-except\")\n",
    "    \n",
    "    X_col = ['ex_id', 'user_id', 'prod_id', 'rating', 'date', 'review']\n",
    "    y_col = ['label']\n",
    "    \n",
    "    train_X = train_df.filter(X_col, axis='columns')\n",
    "    val_X = val_df.filter(X_col, axis='columns')\n",
    "    train_y = train_df.filter(y_col, axis='columns')\n",
    "    val_y = val_df.filter(y_col, axis='columns')\n",
    "    \n",
    "    if debug:\n",
    "        print(\"return\")\n",
    "    \n",
    "    return train_X, val_X, train_y, val_y"
   ]
  },
  {
   "cell_type": "code",
   "execution_count": 2,
   "metadata": {},
   "outputs": [],
   "source": [
    "# load the data into dataframes\n",
    "train_X, val_X, train_y, val_y = read_data()"
   ]
  },
  {
   "cell_type": "code",
   "execution_count": 3,
   "metadata": {},
   "outputs": [
    {
     "data": {
      "text/plain": [
       "0"
      ]
     },
     "execution_count": 3,
     "metadata": {},
     "output_type": "execute_result"
    }
   ],
   "source": [
    "# what is ex_id? why does it not match row id? can it be removed due to no significance?\n",
    "train_X['ex_id'][0]"
   ]
  },
  {
   "cell_type": "code",
   "execution_count": 4,
   "metadata": {},
   "outputs": [],
   "source": [
    "#Functions for cleaning HTML tags and punctuation \n",
    "import re\n",
    "def clean_html(sentence):\n",
    "    cleanr = re.compile('<.*?>')\n",
    "    cleantext = re.sub(cleanr, ' ', sentence)\n",
    "    return cleantext\n",
    "def clean_punc(word):\n",
    "    cleaned = re.sub(r'[?|!|\\'|#]', r'', word)\n",
    "    cleaned = re.sub(r'[.|,|)|(|\\|/]', r' ', cleaned)\n",
    "    return cleaned"
   ]
  },
  {
   "cell_type": "code",
   "execution_count": 5,
   "metadata": {},
   "outputs": [
    {
     "name": "stdout",
     "output_type": "stream",
     "text": [
      "['i', 'me', 'my', 'myself', 'we', 'our', 'ours', 'ourselves', 'you', \"you're\", \"you've\", \"you'll\", \"you'd\", 'your', 'yours', 'yourself', 'yourselves', 'he', 'him', 'his', 'himself', 'she', \"she's\", 'her', 'hers', 'herself', 'it', \"it's\", 'its', 'itself', 'they', 'them', 'their', 'theirs', 'themselves', 'what', 'which', 'who', 'whom', 'this', 'that', \"that'll\", 'these', 'those', 'am', 'is', 'are', 'was', 'were', 'be', 'been', 'being', 'have', 'has', 'had', 'having', 'do', 'does', 'did', 'doing', 'a', 'an', 'the', 'and', 'but', 'if', 'or', 'because', 'as', 'until', 'while', 'of', 'at', 'by', 'for', 'with', 'about', 'against', 'between', 'into', 'through', 'during', 'before', 'after', 'above', 'below', 'to', 'from', 'up', 'down', 'in', 'out', 'on', 'off', 'over', 'under', 'again', 'further', 'then', 'once', 'here', 'there', 'when', 'where', 'why', 'how', 'all', 'any', 'both', 'each', 'few', 'more', 'most', 'other', 'some', 'such', 'no', 'nor', 'not', 'only', 'own', 'same', 'so', 'than', 'too', 'very', 's', 't', 'can', 'will', 'just', 'don', \"don't\", 'should', \"should've\", 'now', 'd', 'll', 'm', 'o', 're', 've', 'y', 'ain', 'aren', \"aren't\", 'couldn', \"couldn't\", 'didn', \"didn't\", 'doesn', \"doesn't\", 'hadn', \"hadn't\", 'hasn', \"hasn't\", 'haven', \"haven't\", 'isn', \"isn't\", 'ma', 'mightn', \"mightn't\", 'mustn', \"mustn't\", 'needn', \"needn't\", 'shan', \"shan't\", 'shouldn', \"shouldn't\", 'wasn', \"wasn't\", 'weren', \"weren't\", 'won', \"won't\", 'wouldn', \"wouldn't\"]\n",
      "***************************************\n",
      "tast\n"
     ]
    },
    {
     "name": "stderr",
     "output_type": "stream",
     "text": [
      "[nltk_data] Downloading package stopwords to\n",
      "[nltk_data]     /Users/isabelzhou/nltk_data...\n",
      "[nltk_data]   Package stopwords is already up-to-date!\n"
     ]
    }
   ],
   "source": [
    "#Getting Stopwords \n",
    "import string\n",
    "import nltk\n",
    "nltk.download('stopwords')\n",
    "from nltk.corpus import stopwords\n",
    "from nltk.stem.snowball import SnowballStemmer\n",
    "from nltk.stem.wordnet import WordNetLemmatizer\n",
    "stop = stopwords.words('english') # list of stop words\n",
    "sno = SnowballStemmer('english') # object with methods to get root words\n",
    "print (stop)\n",
    "print('***************************************')\n",
    "print(sno.stem('tastful'))"
   ]
  },
  {
   "cell_type": "code",
   "execution_count": 13,
   "metadata": {},
   "outputs": [],
   "source": [
    "final_string = []\n",
    "s = ''\n",
    "for sentence in train_X['review'].values:\n",
    "    filtered_sentence = []\n",
    "    sentence = clean_html(sentence)\n",
    "    for word in sentence.split():\n",
    "        for cleaned_word in clean_punc(word).split():\n",
    "            if (cleaned_word.isalpha() and (len(cleaned_word) > 2) and cleaned_word not in stop):\n",
    "                s = (sno.stem(cleaned_word.lower())).encode('utf8')\n",
    "                filtered_sentence.append(s)\n",
    "            else:\n",
    "                continue\n",
    "                 \n",
    "    strl = b' '.join(filtered_sentence)\n",
    "    final_string.append(strl)\n",
    "\n",
    "train_X['cleaned review'] = final_string"
   ]
  },
  {
   "cell_type": "code",
   "execution_count": 14,
   "metadata": {},
   "outputs": [],
   "source": [
    "val_final_string = []\n",
    "s = ''\n",
    "for sentence in val_X['review'].values:\n",
    "    filtered_sentence = []\n",
    "    sentence = clean_html(sentence)\n",
    "    for word in sentence.split():\n",
    "        for cleaned_word in clean_punc(word).split():\n",
    "            if (cleaned_word.isalpha() and (len(cleaned_word) > 2) and cleaned_word not in stop):\n",
    "                s = (sno.stem(cleaned_word.lower())).encode('utf8')\n",
    "                filtered_sentence.append(s)\n",
    "            else:\n",
    "                continue\n",
    "                 \n",
    "    strl = b' '.join(filtered_sentence)\n",
    "    val_final_string.append(strl)\n",
    "\n",
    "val_X['cleaned review'] = val_final_string"
   ]
  },
  {
   "cell_type": "code",
   "execution_count": 15,
   "metadata": {},
   "outputs": [],
   "source": [
    "# # save results\n",
    "# train_X.to_csv('train_X.csv', index=False)\n",
    "# train_y.to_csv('train_y.csv', index=False)\n",
    "# val_X.to_csv('val_X.csv', index=False)\n",
    "# val_y.to_csv('val_y.csv', index=False)"
   ]
  },
  {
   "cell_type": "code",
   "execution_count": null,
   "metadata": {},
   "outputs": [],
   "source": []
  }
 ],
 "metadata": {
  "kernelspec": {
   "display_name": "Python 3",
   "language": "python",
   "name": "python3"
  },
  "language_info": {
   "codemirror_mode": {
    "name": "ipython",
    "version": 3
   },
   "file_extension": ".py",
   "mimetype": "text/x-python",
   "name": "python",
   "nbconvert_exporter": "python",
   "pygments_lexer": "ipython3",
   "version": "3.7.4"
  }
 },
 "nbformat": 4,
 "nbformat_minor": 2
}
